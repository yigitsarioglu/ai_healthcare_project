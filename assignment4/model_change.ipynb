{
  "cells": [
    {
      "cell_type": "markdown",
      "metadata": {
        "id": "HUzFO3Za-AU4"
      },
      "source": [
        "### 1. Download the Data from Kaggle and Unzip\n"
      ]
    },
    {
      "cell_type": "code",
      "execution_count": null,
      "metadata": {
        "id": "_g1YiJKHK5M8"
      },
      "outputs": [],
      "source": [
        "!pip install -q kaggle"
      ]
    },
    {
      "cell_type": "code",
      "execution_count": null,
      "metadata": {
        "id": "YTnECrlJK7UP"
      },
      "outputs": [],
      "source": [
        "from google.colab import files\n",
        "files.upload()"
      ]
    },
    {
      "cell_type": "code",
      "execution_count": null,
      "metadata": {
        "id": "RPS6a8XtLY1t"
      },
      "outputs": [],
      "source": [
        "!mkdir ~/.kaggle\n",
        "!cp kaggle.json ~/.kaggle/\n",
        "!chmod 600 ~/.kaggle/kaggle.json\n",
        "!kaggle datasets download -d 'maedemaftouni/large-covid19-ct-slice-dataset'"
      ]
    },
    {
      "cell_type": "code",
      "execution_count": null,
      "metadata": {
        "colab": {
          "base_uri": "https://localhost:8080/"
        },
        "id": "P5ghbm_EsCVK",
        "outputId": "9831dc7f-f2b5-4281-f944-18efadc2101c"
      },
      "outputs": [
        {
          "output_type": "stream",
          "name": "stdout",
          "text": [
            "Mounted at /content/gdrive\n"
          ]
        }
      ],
      "source": [
        "import shutil\n",
        "from google.colab import drive\n",
        "\n",
        "drive.mount(\"/content/gdrive\")\n",
        "# Change the code below if the path to the dataset is different for you.\n",
        "shutil.unpack_archive(\"/content/gdrive/MyDrive/archive.zip\", \"/tmp/\")"
      ]
    },
    {
      "cell_type": "markdown",
      "metadata": {
        "id": "QMKxclhvd9fz"
      },
      "source": [
        "### 2. Splitting"
      ]
    },
    {
      "cell_type": "code",
      "execution_count": null,
      "metadata": {
        "colab": {
          "base_uri": "https://localhost:8080/"
        },
        "id": "a6sKDOT9lO4P",
        "outputId": "cd18424b-1bc1-4ec9-edd7-25061d71b6a0"
      },
      "outputs": [
        {
          "output_type": "stream",
          "name": "stdout",
          "text": [
            "Normal\n",
            "Number of patient:  604\n",
            "Number of image:  6893\n",
            "\n",
            "Covid\n",
            "Number of patient:  464\n",
            "Number of image:  7593\n",
            "\n",
            "CAP\n",
            "Number of patient:  54\n",
            "Number of image:  2618\n"
          ]
        }
      ],
      "source": [
        "import pandas as pd\n",
        "\n",
        "meta_normal = pd.read_csv(\"/tmp/meta_data_normal.csv\")\n",
        "meta_covid = pd.read_csv(\"/tmp/meta_data_covid.csv\", encoding='windows-1252')\n",
        "meta_cap = pd.read_csv(\"/tmp/meta_data_cap.csv\")\n",
        "\n",
        "# Define the variables below using meta dataframes\n",
        "\n",
        "normal_pt_nb = len(pd.unique(meta_normal[\"Patient ID\"])) ##### INSERT YOUR CODE HERE ##### # Number of patients in normal group\n",
        "covid_pt_nb = len(pd.unique(meta_covid[\"Patient ID\"])) ##### INSERT YOUR CODE HERE ##### # Number of patients in covid group\n",
        "cap_pt_nb = len(pd.unique(meta_cap[\"Patient ID\"])) ##### INSERT YOUR CODE HERE ##### # Number of patients in CAP group\n",
        "\n",
        "normal_img_nb = len(meta_normal) ##### INSERT YOUR CODE HERE ##### # Number of images in normal group\n",
        "covid_img_nb = len(meta_covid) ##### INSERT YOUR CODE HERE ##### # Number of images in covid group\n",
        "cap_img_nb = len(meta_cap) ##### INSERT YOUR CODE HERE ##### # Number of images in CAP group\n",
        "\n",
        "print(\"Normal\")\n",
        "print(\"Number of patient: \", normal_pt_nb)\n",
        "print(\"Number of image: \", normal_img_nb)\n",
        "\n",
        "print(\"\\nCovid\")\n",
        "print(\"Number of patient: \", covid_pt_nb)\n",
        "print(\"Number of image: \", covid_img_nb)\n",
        "\n",
        "print(\"\\nCAP\")\n",
        "print(\"Number of patient: \", cap_pt_nb)\n",
        "print(\"Number of image: \", cap_img_nb)"
      ]
    },
    {
      "cell_type": "code",
      "execution_count": null,
      "metadata": {
        "colab": {
          "base_uri": "https://localhost:8080/"
        },
        "id": "CBbpEW_6qVHJ",
        "outputId": "fefbfa7f-5557-444a-e6ff-b9ddfe61333a"
      },
      "outputs": [
        {
          "output_type": "stream",
          "name": "stdout",
          "text": [
            "Slice-based val size: \n",
            "Normal:  0.21\n",
            "Covid:  0.18\n",
            "\n",
            "Slice-based test size: \n",
            "Normal:  0.51\n",
            "Covid:  0.5\n"
          ]
        }
      ],
      "source": [
        "import numpy as np\n",
        "\n",
        "# Set seed to get the same result (I specifically chose this seed after a couple of tries so that we'll have approximately same split ratios on slice level as well)\n",
        "np.random.seed(58)\n",
        "val_split_size = .2\n",
        "test_split_size = .5\n",
        "\n",
        "normal_val_file_list, normal_test_file_list = [], []\n",
        "covid_val_file_list, covid_test_file_list = [], []\n",
        "##### START OF YOUR CODE #####\n",
        "normal_pt_list = np.array(pd.unique(meta_normal[\"Patient ID\"]))\n",
        "np.random.shuffle(normal_pt_list)\n",
        "normal_val_pts = normal_pt_list[:int(normal_pt_nb * val_split_size)]\n",
        "normal_test_pts = normal_pt_list[int(normal_pt_nb * val_split_size): int(normal_pt_nb * (val_split_size+test_split_size))]\n",
        "\n",
        "normal_val_file_list = []\n",
        "for pt in normal_val_pts:\n",
        "  for i in meta_normal[\"File name\"][meta_normal[\"Patient ID\"] == pt].values:\n",
        "    normal_val_file_list.append(i)\n",
        "\n",
        "normal_test_file_list = []\n",
        "for pt in normal_test_pts:\n",
        "  for i in meta_normal[\"File name\"][meta_normal[\"Patient ID\"] == pt].values:\n",
        "    normal_test_file_list.append(i)\n",
        "\n",
        "covid_pt_list = np.array(pd.unique(meta_covid[\"Patient ID\"]))\n",
        "np.random.shuffle(covid_pt_list)\n",
        "covid_val_pts = covid_pt_list[:int(covid_pt_nb * val_split_size)]\n",
        "covid_test_pts = covid_pt_list[int(covid_pt_nb * val_split_size): int(covid_pt_nb * (val_split_size+test_split_size))]\n",
        "\n",
        "covid_val_file_list = []\n",
        "for pt in covid_val_pts:\n",
        "  for i in meta_covid[\"File name\"][meta_covid[\"Patient ID\"] == pt].values:\n",
        "    covid_val_file_list.append(i)\n",
        "\n",
        "covid_test_file_list = []\n",
        "for pt in covid_test_pts:\n",
        "  for i in meta_covid[\"File name\"][meta_covid[\"Patient ID\"] == pt].values:\n",
        "    covid_test_file_list.append(i)\n",
        "\n",
        "##### END OF YOUR CODE #####\n",
        "\n",
        "print(\"Slice-based val size: \")\n",
        "print(\"Normal: \", round(len(normal_val_file_list)/normal_img_nb, 2))\n",
        "print(\"Covid: \", round(len(covid_val_file_list)/covid_img_nb, 2))\n",
        "\n",
        "print(\"\\nSlice-based test size: \")\n",
        "print(\"Normal: \", round(len(normal_test_file_list)/normal_img_nb, 2))\n",
        "print(\"Covid: \", round(len(covid_test_file_list)/covid_img_nb, 2))"
      ]
    },
    {
      "cell_type": "code",
      "execution_count": null,
      "metadata": {
        "colab": {
          "base_uri": "https://localhost:8080/"
        },
        "id": "EdYip6S1qZh_",
        "outputId": "4ef5726e-4994-4c6b-f112-ebf34f9224df"
      },
      "outputs": [
        {
          "output_type": "stream",
          "name": "stdout",
          "text": [
            "\n",
            "Percentage of train set: 0.30\n",
            "Percentage of Covid + slices in train set is: 0.55\n",
            "\n",
            "Percentage of val set: 0.19\n",
            "Percentage of Covid + slices in val set is: 0.49\n",
            "\n",
            "Percentage of test set: 0.51\n",
            "Percentage of Covid + slices in test set is: 0.52\n"
          ]
        }
      ],
      "source": [
        "import os\n",
        "\n",
        "##### START OF YOUR CODE #####\n",
        "# Create train and test directories and move the files accordingly\n",
        "[os.makedirs(\"/tmp/curated_data/data/\"+x+y, exist_ok=True) for x in [\"train/\", \"val/\", \"test/\"] for y in [\"normal/\", \"covid/\"]]\n",
        "\n",
        "# Normal group\n",
        "for pt in os.listdir(\"/tmp/curated_data/curated_data/1NonCOVID/\"):\n",
        "  # validation\n",
        "  if pt in normal_val_file_list:\n",
        "    shutil.move(\"/tmp/curated_data/curated_data/1NonCOVID/\"+pt, \"/tmp/curated_data/data/val/normal/\")\n",
        "  # test\n",
        "  elif pt in normal_test_file_list:\n",
        "    shutil.move(\"/tmp/curated_data/curated_data/1NonCOVID/\"+pt, \"/tmp/curated_data/data/test/normal/\")\n",
        "  # train\n",
        "  else:\n",
        "    shutil.move(\"/tmp/curated_data/curated_data/1NonCOVID/\"+pt, \"/tmp/curated_data/data/train/normal/\")\n",
        "\n",
        "# Covid group\n",
        "for pt in os.listdir(\"/tmp/curated_data/curated_data/2COVID/\"):\n",
        "  # validation\n",
        "  if pt in covid_val_file_list:\n",
        "    shutil.move(\"/tmp/curated_data/curated_data/2COVID/\"+pt, \"/tmp/curated_data/data/val/covid/\")\n",
        "  # test\n",
        "  elif pt in covid_test_file_list:\n",
        "    shutil.move(\"/tmp/curated_data/curated_data/2COVID/\"+pt, \"/tmp/curated_data/data/test/covid/\")\n",
        "  # train\n",
        "  else:\n",
        "    shutil.move(\"/tmp/curated_data/curated_data/2COVID/\"+pt, \"/tmp/curated_data/data/train/covid/\")\n",
        "\n",
        "##### END OF YOUR CODE #####\n",
        "\n",
        "data_counts = {x+y: len(os.listdir(\"/tmp/curated_data/data/\"+x+y)) for x in [\"train/\", \"val/\", \"test/\"] for y in [\"normal/\", \"covid/\"]}\n",
        "for i in [\"train\", \"val\", \"test\"]:\n",
        "  print(\"\\nPercentage of {} set: {:.2f}\" .format(i, (data_counts[i+\"/normal/\"]+data_counts[i+\"/covid/\"])/sum(data_counts.values())))\n",
        "  print(\"Percentage of Covid + slices in {} set is: {:.2f}\" .format(i, data_counts[i+\"/covid/\"]/(data_counts[i+\"/normal/\"]+data_counts[i+\"/covid/\"])))"
      ]
    },
    {
      "cell_type": "markdown",
      "metadata": {
        "id": "j1LyhJcvl70h"
      },
      "source": [
        "### 3. Dataloader"
      ]
    },
    {
      "cell_type": "code",
      "execution_count": null,
      "metadata": {
        "colab": {
          "base_uri": "https://localhost:8080/"
        },
        "id": "jtsYoaUfAN3i",
        "outputId": "dc1f5967-55e2-4ab8-93f8-177842a53d4e"
      },
      "outputs": [
        {
          "output_type": "stream",
          "name": "stdout",
          "text": [
            "\u001b[2K     \u001b[90m━━━━━━━━━━━━━━━━━━━━━━━━━━━━━━━━━━━━━━━━\u001b[0m \u001b[32m173.0/173.0 kB\u001b[0m \u001b[31m4.4 MB/s\u001b[0m eta \u001b[36m0:00:00\u001b[0m\n",
            "\u001b[2K     \u001b[90m━━━━━━━━━━━━━━━━━━━━━━━━━━━━━━━━━━━━━━━━\u001b[0m \u001b[32m52.7/52.7 MB\u001b[0m \u001b[31m15.9 MB/s\u001b[0m eta \u001b[36m0:00:00\u001b[0m\n",
            "\u001b[?25h"
          ]
        }
      ],
      "source": [
        "!pip install -q torchio"
      ]
    },
    {
      "cell_type": "code",
      "execution_count": null,
      "metadata": {
        "id": "HT7wX3DxgxP-"
      },
      "outputs": [],
      "source": [
        "import os\n",
        "import numpy as np\n",
        "import torch\n",
        "from PIL import Image\n",
        "import torchio as tio\n",
        "import torchvision.transforms as T\n",
        "\n",
        "\n",
        "class CustomDataset(torch.utils.data.Dataset):\n",
        "  def __init__(self, image_size, data_folder, partition):\n",
        "    ##### START OF YOUR CODE #####\n",
        "    self.image_size = image_size\n",
        "    self.partition = partition\n",
        "    self.data_folder = data_folder\n",
        "    self.paths = self.img_paths()\n",
        "    ##### END OF YOUR CODE #####\n",
        "\n",
        "  def __len__(self):\n",
        "    ##### START OF YOUR CODE #####\n",
        "    return len(self.paths)\n",
        "    ##### END OF YOUR CODE #####\n",
        "\n",
        "  def __getitem__(self, idx):\n",
        "\n",
        "    ##### START OF YOUR CODE #####\n",
        "    img = self.read_and_resize_img(self.paths[idx])\n",
        "    label = int(self.paths[idx].rsplit(\"/\", 2)[1] == \"covid\")\n",
        "    label = np.array(label)[np.newaxis]\n",
        "\n",
        "    if self.partition == \"train\":\n",
        "        img = self.augmentation(img)\n",
        "    return (img, label)\n",
        "    ##### END OF YOUR CODE #####\n",
        "\n",
        "  def img_paths(self):\n",
        "    ##### START OF YOUR CODE #####\n",
        "    normal_paths = [os.path.join(self.data_folder, self.partition, \"normal\", i) for i in os.listdir(os.path.join(self.data_folder, self.partition, \"normal\"))]\n",
        "    covid_paths = [os.path.join(self.data_folder, self.partition, \"covid\", i) for i in os.listdir(os.path.join(self.data_folder, self.partition, \"covid\"))]\n",
        "    paths = normal_paths + covid_paths\n",
        "    np.random.shuffle(paths)\n",
        "    return paths\n",
        "    ##### END OF YOUR CODE #####\n",
        "\n",
        "  def read_and_resize_img(self, path):\n",
        "    ##### START OF YOUR CODE #####\n",
        "    img = Image.open(path).convert('L')\n",
        "    img = np.array(img)[np.newaxis]/255.\n",
        "\n",
        "    if (self.image_size, self.image_size) != img.shape[1:]:\n",
        "      resizing = T.Resize((self.image_size, self.image_size), antialias=False)\n",
        "      resized_img = resizing(torch.Tensor(img))\n",
        "      return resized_img\n",
        "    return torch.Tensor(img)\n",
        "    ##### END OF YOUR CODE #####\n",
        "\n",
        "  def augmentation(self, data):\n",
        "    ##### START OF YOUR CODE #####\n",
        "    transform = tio.transforms.OneOf({\n",
        "        tio.transforms.OneOf({\n",
        "            tio.transforms.RandomNoise(): .25,\n",
        "            tio.transforms.RandomBiasField(): .25,\n",
        "            tio.transforms.RandomGhosting(): .25,\n",
        "            tio.transforms.RandomSpike(): .25,\n",
        "            tio.transforms.RandomAffine(degrees=10, scales=0., translation=0.): .25\n",
        "        }): .8\n",
        "    })\n",
        "    aug_data = torch.squeeze(transform(torch.unsqueeze(data, -1)), -1)\n",
        "    return aug_data\n",
        "    ##### END OF YOUR CODE #####\n"
      ]
    },
    {
      "cell_type": "markdown",
      "metadata": {
        "id": "wEN_w6q3tbZM"
      },
      "source": [
        "### 4. ResNet-18"
      ]
    },
    {
      "cell_type": "code",
      "execution_count": null,
      "metadata": {
        "id": "w4zlwn3H8ZUR"
      },
      "outputs": [],
      "source": [
        "import torch\n",
        "from torch import nn\n",
        "from torch.nn import functional as F\n",
        "\n",
        "class ConvBlock(nn.Module):\n",
        "    def __init__(self, ch_in, ch_out, s, act):\n",
        "      super(ConvBlock,self).__init__()\n",
        "      # Initialize layers\n",
        "      if act == \"relu\":\n",
        "          self.act_layer = nn.ReLU()\n",
        "      elif act == \"leaky_relu\":\n",
        "          self.act_layer = nn.LeakyReLU()\n",
        "      elif act == \"gelu\":\n",
        "          self.act_layer = nn.GELU()\n",
        "\n",
        "      self.conv1 = nn.Conv2d(ch_in, ch_in, kernel_size=3, stride=s, padding=1)\n",
        "      self.bn1 = nn.BatchNorm2d(ch_in)\n",
        "      self.conv2 = nn.Conv2d(ch_in, ch_out, kernel_size=3, stride=1, padding=1)\n",
        "      self.bn2 = nn.BatchNorm2d(ch_out)\n",
        "\n",
        "      self.conv_sc = nn.Conv2d(ch_in, ch_out, kernel_size=1, stride=s)\n",
        "      self.bn_sc = nn.BatchNorm2d(ch_out)\n",
        "\n",
        "    def forward(self, X):\n",
        "      X_shortcut = X\n",
        "      X = self.bn1(self.conv1(X))\n",
        "      X = self.act_layer(X)\n",
        "      X = self.bn2(self.conv2(X))\n",
        "\n",
        "      X_shortcut = self.bn_sc(self.conv_sc(X_shortcut))\n",
        "      X = self.act_layer(X + X_shortcut)\n",
        "      return X\n",
        "\n",
        "# Experiment with a slightly different architecture while keeping the basic structure similar to ResNet18, we can make some modifications.\n",
        "# For example, we could increase the number of filters in each layer, add more convolutional blocks, or adjust the dropout rate. Here's an example where I've increased the number of filters\n",
        "\n",
        "## This modification increases the number of filters in each convolutional layer, potentially allowing the model to capture\n",
        "# more complex patterns in the data.\n",
        "class ResNet18(nn.Module) :\n",
        "    def __init__(self, act, drop_rate, image_size):\n",
        "        super(ResNet18, self).__init__()\n",
        "        if act == \"relu\":\n",
        "            self.act_layer = nn.ReLU()\n",
        "        elif act == \"leaky_relu\":\n",
        "            self.act_layer = nn.LeakyReLU()\n",
        "        elif act == \"gelu\":\n",
        "            self.act_layer = nn.GELU()\n",
        "\n",
        "        self.image_size = image_size\n",
        "\n",
        "        self.conv1 = nn.Conv2d(1, 128, kernel_size=7, stride=2, padding=3)  # 128 x N/2 x N/2\n",
        "        self.bn1 = nn.BatchNorm2d(128)\n",
        "\n",
        "        self.mp = nn.MaxPool2d((3, 3), stride=2, padding=1)  # 128 x N/4 x N/4\n",
        "        self.conv2a = ConvBlock(128, 128, 1, act)\n",
        "        self.conv2b = ConvBlock(128, 128, 1, act)  # 128 x N/4 x N/4\n",
        "\n",
        "        self.conv3a = ConvBlock(128, 256, 2, act)\n",
        "        self.conv3b = ConvBlock(256, 256, 1, act)  # 256 x N/8 x N/8\n",
        "\n",
        "        self.conv4a = ConvBlock(256, 512, 2, act)\n",
        "        self.conv4b = ConvBlock(512, 512, 1, act)  # 512 x N/16 x N/16\n",
        "\n",
        "        self.conv5a = ConvBlock(512, 1024, 2, act)\n",
        "        self.conv5b = ConvBlock(1024, 1024, 1, act)  # 1024 x N/32 x N/32\n",
        "\n",
        "        kernel_size = self.image_size / (2 ** 5)\n",
        "        self.avgpool = nn.AvgPool2d((int(kernel_size), int(kernel_size)))\n",
        "        self.flat = nn.Flatten()\n",
        "        self.dropout = nn.Dropout(drop_rate)\n",
        "        self.fc = nn.Linear(1024, 1)\n",
        "\n",
        "    def forward(self, X):\n",
        "        batch_size = X.size(0)\n",
        "        image_size = X.size(2)\n",
        "\n",
        "        X = self.conv1(X)\n",
        "        X = self.bn1(X)\n",
        "        X = self.act_layer(X)\n",
        "\n",
        "        X = self.mp(X)\n",
        "        X = self.conv2a(X)\n",
        "        X = self.conv2b(X)\n",
        "\n",
        "        X = self.conv3a(X)\n",
        "        X = self.conv3b(X)\n",
        "\n",
        "        X = self.conv4a(X)\n",
        "        X = self.conv4b(X)\n",
        "\n",
        "        X = self.conv5a(X)\n",
        "        X = self.conv5b(X)\n",
        "\n",
        "        X = self.avgpool(X)\n",
        "        X = self.flat(X)\n",
        "        X = self.fc(self.dropout(X))\n",
        "        X = torch.sigmoid(X)\n",
        "        return X"
      ]
    },
    {
      "cell_type": "markdown",
      "metadata": {
        "id": "BmljrzaQfZ2s"
      },
      "source": [
        "# Assignment 3\n",
        "<p>In this assignment you will\n",
        "\n",
        "* write helper functions\n",
        "* train the model\n",
        "* hyperparameter search using W&B\n",
        "\n",
        "Read the comments carefully and insert your code where you see: <br><br><b>##### START OF YOUR CODE #####</b><br><br><b>##### END OF YOUR CODE #####</b><br><br>or for the inline codes you will see<br><br><b>##### INSERT YOUR CODE HERE #####</b>"
      ]
    },
    {
      "cell_type": "markdown",
      "metadata": {
        "id": "iUnVIVdtY3x0"
      },
      "source": [
        "#### I. AverageMeter\n",
        "First we will write a helper function. AverageMeter is to calculate the mean of the running loss and accuracy.\n",
        "\n",
        "*   It will have 2 functions which are reset and update.\n",
        "*   reset will be called on initialization and set the attributes to 0.\n",
        "*   update takes 2 arguments for the value and the size. It will add the value to the sum and the size to the count. Attribute \"avg\" (use this name) will also be updated as sum/count."
      ]
    },
    {
      "cell_type": "code",
      "execution_count": null,
      "metadata": {
        "id": "A38OLNLbYwfa"
      },
      "outputs": [],
      "source": [
        "class AverageMeter:\n",
        "    \"\"\"Computes and stores the average and current value\"\"\"\n",
        "\n",
        "    def __init__(self):\n",
        "      ##### START OF YOUR CODE #####\n",
        "        self.reset()\n",
        "\n",
        "    def reset(self):\n",
        "        self.val = 0\n",
        "        self.avg = 0\n",
        "        self.sum = 0\n",
        "        self.count = 0\n",
        "\n",
        "    def update(self, val, n=1):\n",
        "        self.val = val\n",
        "        self.sum += val * n\n",
        "        self.count += n\n",
        "        self.avg = self.sum / self.count\n",
        "      ##### END OF YOUR CODE #####"
      ]
    },
    {
      "cell_type": "code",
      "execution_count": null,
      "metadata": {
        "colab": {
          "base_uri": "https://localhost:8080/"
        },
        "id": "eCFUuYR7agXr",
        "outputId": "784f1603-eb32-4239-8c2d-880c72860f14"
      },
      "outputs": [
        {
          "output_type": "stream",
          "name": "stdout",
          "text": [
            "75.0 10\n"
          ]
        }
      ],
      "source": [
        "avg_meter = AverageMeter()\n",
        "avg_meter.update(100, 5)\n",
        "avg_meter.update(50, 5)\n",
        "print(avg_meter.avg, avg_meter.count)"
      ]
    },
    {
      "cell_type": "markdown",
      "metadata": {
        "id": "pk3vHad6dhhf"
      },
      "source": [
        "#### II. Train Loop\n",
        "Now we will write the training and validation loops. Detailed instructions are given within the code."
      ]
    },
    {
      "cell_type": "code",
      "execution_count": null,
      "metadata": {
        "id": "NqmEhWg6befh"
      },
      "outputs": [],
      "source": [
        "from tqdm import tqdm\n",
        "\n",
        "device = torch.device('cuda')\n",
        "\n",
        "def training(train_loader, model, criterion, optimizer):\n",
        "  # Let's start by initializing our AverageMeters.\n",
        "  avg_meters = {'loss': AverageMeter(),\n",
        "                'acc': AverageMeter()}\n",
        "\n",
        "  # We will go through the train_loader.\n",
        "  # Zero the gradients.\n",
        "  # Make prediction.\n",
        "  # Calculate the loss and the accuracy using prediction and labels.\n",
        "  # Update the average meters.\n",
        "  # Compute gradients and adjust learning weights.\n",
        "\n",
        "  ##### START OF YOUR CODE #####\n",
        "  model.train()\n",
        "  for image, label in tqdm(train_loader):\n",
        "    image = image.to(device)\n",
        "    label = label.to(device)\n",
        "    optimizer.zero_grad()\n",
        "    output = model(image)\n",
        "    loss = criterion(output, label.float())\n",
        "    loss.backward()\n",
        "\n",
        "    optimizer.step()\n",
        "\n",
        "    output = output > .5\n",
        "    acc = (label == output).float().sum().item() / label.size(0)\n",
        "    avg_meters['loss'].update(loss.item(), image.size(0))\n",
        "    avg_meters['acc'].update(acc, image.size(0))\n",
        "\n",
        "  ##### END OF YOUR CODE #####\n",
        "\n",
        "  return dict([('loss', avg_meters['loss'].avg),\n",
        "                ('acc', avg_meters['acc'].avg)])\n",
        "\n",
        "def validation(val_loader, model, criterion):\n",
        "  avg_meters = {'loss': AverageMeter(),\n",
        "                'acc': AverageMeter()}\n",
        "\n",
        "  # Validation is almost the same but don't forget to turn the eval mode of the model and with torch no_grad.\n",
        "  # You don't need to compute gradients or adjust learning weights for evaluation.\n",
        "\n",
        "  ##### START OF YOUR CODE #####\n",
        "  model.to(device)\n",
        "  model.eval()\n",
        "  with torch.no_grad():\n",
        "    for image, label in tqdm(val_loader):\n",
        "      image =image.to(device)\n",
        "      label = label.to(device)\n",
        "      output = model(image)\n",
        "      loss = criterion(output, label.float())\n",
        "\n",
        "      output = output > .5\n",
        "      acc = (label == output).float().sum().item() / label.size(0)\n",
        "      avg_meters['loss'].update(loss.item(), image.size(0))\n",
        "      avg_meters['acc'].update(acc, image.size(0))\n",
        "\n",
        "  ##### END OF YOUR CODE #####\n",
        "\n",
        "  return dict([('loss', avg_meters['loss'].avg),\n",
        "              ('acc', avg_meters['acc'].avg)])"
      ]
    },
    {
      "cell_type": "markdown",
      "metadata": {
        "id": "P1ZChNtVfyRw"
      },
      "source": [
        "We will use Weights & Biases for hyperparameter search. This will only be an introduction and we highly recommend you to read the <a href=\"https://docs.wandb.ai/?_gl=1*1xon9b*_ga*NDg5OTYzNTM3LjE2NzUwNjYzNjk.*_ga_JH1SJHJQXJ*MTY3Njc0MDEyNi4xMi4xLjE2NzY3NDAxMjguNTguMC4w\">documentation</a> for more information."
      ]
    },
    {
      "cell_type": "code",
      "execution_count": null,
      "metadata": {
        "colab": {
          "base_uri": "https://localhost:8080/"
        },
        "id": "H4uhE_s3cRvo",
        "outputId": "9fa3ba3e-44c5-44f4-ffcd-1d8057f5d68d"
      },
      "outputs": [
        {
          "output_type": "stream",
          "name": "stdout",
          "text": [
            "\u001b[2K     \u001b[90m━━━━━━━━━━━━━━━━━━━━━━━━━━━━━━━━━━━━━━━━\u001b[0m \u001b[32m2.1/2.1 MB\u001b[0m \u001b[31m16.4 MB/s\u001b[0m eta \u001b[36m0:00:00\u001b[0m\n",
            "\u001b[2K     \u001b[90m━━━━━━━━━━━━━━━━━━━━━━━━━━━━━━━━━━━━━━━━\u001b[0m \u001b[32m190.6/190.6 kB\u001b[0m \u001b[31m21.2 MB/s\u001b[0m eta \u001b[36m0:00:00\u001b[0m\n",
            "\u001b[2K     \u001b[90m━━━━━━━━━━━━━━━━━━━━━━━━━━━━━━━━━━━━━━━━\u001b[0m \u001b[32m252.8/252.8 kB\u001b[0m \u001b[31m15.6 MB/s\u001b[0m eta \u001b[36m0:00:00\u001b[0m\n",
            "\u001b[2K     \u001b[90m━━━━━━━━━━━━━━━━━━━━━━━━━━━━━━━━━━━━━━━━\u001b[0m \u001b[32m62.7/62.7 kB\u001b[0m \u001b[31m7.2 MB/s\u001b[0m eta \u001b[36m0:00:00\u001b[0m\n",
            "\u001b[?25h"
          ]
        }
      ],
      "source": [
        "!pip install -q wandb"
      ]
    },
    {
      "cell_type": "code",
      "execution_count": null,
      "metadata": {
        "id": "rWk9ArIm_hoQ"
      },
      "outputs": [],
      "source": [
        "from torch import optim\n",
        "import wandb\n",
        "from torch.utils.data import DataLoader\n",
        "from torch.optim.lr_scheduler import ReduceLROnPlateau\n",
        "\n",
        "def main():\n",
        "  # Set the initial configuration\n",
        "  initial_config = {\n",
        "      \"data_dir\": \"/tmp/curated_data/data/\",\n",
        "      \"image_size\": 128,\n",
        "      \"train_batch_size\": 64,\n",
        "      \"val_batch_size\": 32,\n",
        "      \"test_batch_size\": 1,\n",
        "      \"activation\": \"relu\",\n",
        "      \"drop_rate\": .2,\n",
        "      \"optimizer\": \"Adam\",\n",
        "      \"learning_rate\": 1e-3,\n",
        "      \"l2_reg\": 1e-4, # Weight decay\n",
        "      \"nb_epoch\": 50,\n",
        "      \"early_stopping\": 15, # trigger value for early stopping\n",
        "\n",
        "  }\n",
        "\n",
        "  # Using this configuration dictionary:\n",
        "  # initialize wandb\n",
        "  # Create a run directory in your drive (\"/content/drive/MyDrive/CMPE_runs/\" + the current run name that you'll get from wandb)\n",
        "  # Create the model\n",
        "  # Create dataloader dictionary with \"train\", \"val\", \"test\" keys\n",
        "  # Define binary cross entropy loss\n",
        "  # Define optimizer with weight decay\n",
        "  # Set lr scheduler to ReduceLROnPlateau:\n",
        "    # It will decrease the lr by .1 if the val_loss did not decrease > .01. The minimum lr value can be 1e-9.\n",
        "  # Print train and val results and log them to wandb at the end of each epoch\n",
        "  # Save best model weights to your run directory when the val accuracy is at least .01 better than the best val accuracy.\n",
        "  # Set early stopping with the trigger in config[\"early_stopping\"], monitoring val accuracy. config[\"early_stopping\"] = -1 means no early stopping.\n",
        "  # Print when a new model is saved or early stopping trigger is reached.\n",
        "  # After the final epoch (or early stopping), load the best model weights and log the test results to wandb\n",
        "\n",
        "  ##### START OF YOUR CODE #####\n",
        "  wandb.init(config=initial_config)\n",
        "  config = wandb.config\n",
        "\n",
        "  run_dir = os.path.join(\"/content/drive/MyDrive/CMPE_runs/\", wandb.run.name)\n",
        "  os.makedirs(run_dir, exist_ok=True)\n",
        "\n",
        "  model = ResNet18(config[\"activation\"], config[\"drop_rate\"], config[\"image_size\"])\n",
        "  model.to(device)\n",
        "\n",
        "  data_dict = {x: CustomDataset(config[\"image_size\"], config[\"data_dir\"], x) for x in [\"train\", \"val\", \"test\"]}\n",
        "  dataloader_dict = {x: DataLoader(data_dict[x], config[x+\"_batch_size\"]) for x in [\"train\", \"val\", \"test\"]}\n",
        "  criterion =  nn.BCELoss()\n",
        "\n",
        "\n",
        "  params =  filter(lambda p: p.requires_grad, model.parameters())\n",
        "  if config['optimizer'] == 'Adam':\n",
        "      optimizer =  optim.Adam(params, lr=config['learning_rate'], weight_decay=config[\"l2_reg\"])\n",
        "  elif config['optimizer'] == 'SGD':\n",
        "      optimizer =  optim.SGD(params, lr=config['learning_rate'], weight_decay=config[\"l2_reg\"],)\n",
        "  elif config['optimizer'] == 'RMSprop':\n",
        "      optimizer =  optim.RMSprop(params, lr=config['learning_rate'], weight_decay=config[\"l2_reg\"])\n",
        "\n",
        "  scheduler =  optim.lr_scheduler.ReduceLROnPlateau(optimizer, factor=.1, patience=10, threshold_mode=\"abs\", threshold=0.01, verbose=1, min_lr=1e-9)\n",
        "\n",
        "  best_acc, trigger = 0, 0\n",
        "  for e in range(config[\"nb_epoch\"]):\n",
        "    print('Epoch [%d/%d]' % (e+1, config['nb_epoch']))\n",
        "\n",
        "    train_log = training(dataloader_dict[\"train\"], model, criterion, optimizer)\n",
        "    val_log = validation(dataloader_dict[\"val\"], model, criterion)\n",
        "\n",
        "\n",
        "    scheduler.step(val_log['loss'])\n",
        "\n",
        "    print('loss %.4f - acc %.4f - val_loss %.4f - val_acc %.4f' % (train_log['loss'], train_log['acc'], val_log['loss'], val_log['acc']))\n",
        "    wandb.log({\"train_\"+x: train_log[x] for x in train_log.keys()})\n",
        "    wandb.log({\"val_\"+x: val_log[x] for x in val_log.keys()})\n",
        "\n",
        "    trigger += 1\n",
        "    if val_log['acc'] - best_acc > .01:\n",
        "        torch.save(model.state_dict(), os.path.join(run_dir, \"best_model.pth\"))\n",
        "        best_acc = val_log['acc']\n",
        "        print(\"=> saved best model\")\n",
        "        trigger = 0\n",
        "\n",
        "    # early stopping\n",
        "    if config['early_stopping'] >= 0 and trigger >= config['early_stopping']:\n",
        "        print(\"=> early stopping\")\n",
        "        break\n",
        "  model.load_state_dict(torch.load(os.path.join(run_dir, \"best_model.pth\")))\n",
        "  test_log = validation(dataloader_dict[\"test\"], model, criterion)\n",
        "  wandb.log({\"test_\"+x: x for x in test_log.keys()})\n",
        "  ##### END OF YOUR CODE #####"
      ]
    },
    {
      "cell_type": "code",
      "execution_count": null,
      "metadata": {
        "colab": {
          "base_uri": "https://localhost:8080/",
          "height": 139
        },
        "id": "Wwcd18kWfcTT",
        "outputId": "7f0f335a-c2c6-4954-d3de-ae46729f8e44"
      },
      "outputs": [
        {
          "output_type": "display_data",
          "data": {
            "text/plain": [
              "<IPython.core.display.Javascript object>"
            ],
            "application/javascript": [
              "\n",
              "        window._wandbApiKey = new Promise((resolve, reject) => {\n",
              "            function loadScript(url) {\n",
              "            return new Promise(function(resolve, reject) {\n",
              "                let newScript = document.createElement(\"script\");\n",
              "                newScript.onerror = reject;\n",
              "                newScript.onload = resolve;\n",
              "                document.body.appendChild(newScript);\n",
              "                newScript.src = url;\n",
              "            });\n",
              "            }\n",
              "            loadScript(\"https://cdn.jsdelivr.net/npm/postmate/build/postmate.min.js\").then(() => {\n",
              "            const iframe = document.createElement('iframe')\n",
              "            iframe.style.cssText = \"width:0;height:0;border:none\"\n",
              "            document.body.appendChild(iframe)\n",
              "            const handshake = new Postmate({\n",
              "                container: iframe,\n",
              "                url: 'https://wandb.ai/authorize'\n",
              "            });\n",
              "            const timeout = setTimeout(() => reject(\"Couldn't auto authenticate\"), 5000)\n",
              "            handshake.then(function(child) {\n",
              "                child.on('authorize', data => {\n",
              "                    clearTimeout(timeout)\n",
              "                    resolve(data)\n",
              "                });\n",
              "            });\n",
              "            })\n",
              "        });\n",
              "    "
            ]
          },
          "metadata": {}
        },
        {
          "output_type": "stream",
          "name": "stderr",
          "text": [
            "\u001b[34m\u001b[1mwandb\u001b[0m: Logging into wandb.ai. (Learn how to deploy a W&B server locally: https://wandb.me/wandb-server)\n",
            "\u001b[34m\u001b[1mwandb\u001b[0m: You can find your API key in your browser here: https://wandb.ai/authorize\n",
            "wandb: Paste an API key from your profile and hit enter, or press ctrl+c to quit:"
          ]
        },
        {
          "name": "stdout",
          "output_type": "stream",
          "text": [
            " ··········\n"
          ]
        },
        {
          "output_type": "stream",
          "name": "stderr",
          "text": [
            "\u001b[34m\u001b[1mwandb\u001b[0m: Appending key for api.wandb.ai to your netrc file: /root/.netrc\n"
          ]
        },
        {
          "output_type": "stream",
          "name": "stdout",
          "text": [
            "Create sweep with ID: 6c7j83ps\n",
            "Sweep URL: https://wandb.ai/bounteam/CMPE49T/sweeps/6c7j83ps\n"
          ]
        }
      ],
      "source": [
        "# Define the parameters that we will fine tune with, which are:\n",
        "  # Activation function\n",
        "  # Optimizer\n",
        "  # Drop rate: should be chosen randomly from a uniform distribution between [0., 0.9]\n",
        "  # Weight decay: should be chosen randomly from a uniform distribution between [0., 0.1]\n",
        "  # Learning rate: should be chosen randomly from a uniform distribution between [0.0001, 0.1]\n",
        "\n",
        "parameter_dict = {\n",
        "    ##### START OF YOUR CODE #####\n",
        "    'activation': {\n",
        "        'values': ['relu', 'leaky_relu', \"gelu\"]\n",
        "    },\n",
        "    'optimizer': {\n",
        "        'values': ['Adam', 'SGD', \"RMSprop\"]\n",
        "    },\n",
        "    'drop_rate': {\n",
        "        'distribution': 'uniform',\n",
        "        'min': 0,\n",
        "        'max': 0.9\n",
        "    },\n",
        "    'l2_reg': {\n",
        "        'distribution': 'uniform',\n",
        "        'min': 0,\n",
        "        'max': 0.1\n",
        "    },\n",
        "    'learning_rate': {\n",
        "        'distribution': 'uniform',\n",
        "        'min': 1e-4,\n",
        "        'max': 1e-1\n",
        "    }\n",
        "    ##### END OF YOUR CODE #####\n",
        "}\n",
        "\n",
        "# Define a sweep configuration tells wandb that it will randomly choose from parameter dict and the purpose is to maximize val_accuracy\n",
        "sweep_config = {\n",
        "    ##### START OF YOUR CODE #####\n",
        "    'method': 'random',\n",
        "    'metric': {\n",
        "        'name': 'val_accuracy',\n",
        "        'goal': 'maximize'\n",
        "    }\n",
        "    ##### END OF YOUR CODE #####\n",
        "}\n",
        "sweep_config['parameters'] = parameter_dict\n",
        "\n",
        "# Start the sweep\n",
        "sweep_id = wandb.sweep(sweep_config, project='CMPE49T') ##### INSERT YOUR CODE HERE #####"
      ]
    },
    {
      "cell_type": "code",
      "execution_count": null,
      "metadata": {
        "colab": {
          "base_uri": "https://localhost:8080/",
          "height": 1000,
          "referenced_widgets": [
            "47df587da9bd4ddc9ee6157b7d527b07",
            "f0543ecb65404043b4d8157d263f2414",
            "963baf7521af4b35995afa321e4e3072",
            "fd34793342034dea98a15dabe9d26c8d",
            "550884cdfb234602830a4d776149a41c",
            "baca7553dae9422dbf04ec4025bafdec",
            "a343c821a85e4f228318a4e99f4e0ec0",
            "03e5bb3fd0534b1494bb87fdb062538e",
            "12a2fb6fbf344947a963e8c5021241d4",
            "fc878790c0974e4497bfc3f6727c34ad",
            "c9dc6313976e4a36947457ea9e5deeb8",
            "1f5301348af442dc904e21bde7571a02",
            "fe9001b440df4b4d82f493375eefefd5",
            "ba0428c5dfb6408c8d71f65f6c0d56b8",
            "534c9b67dbe34a04a2ee4053a42315b1",
            "65b461d49b3d4fc39e20e6eb03eb2e3c",
            "a0300a59ac6247a681ff7474ab7d0f8a",
            "37e36756b3d34b49b4b8883571f64e58",
            "488850c68d714e259d4228045055bd13",
            "7760811008254eb1a63975dc66477ed0",
            "c31e240140b0496a921f0d4cd5e0cee7",
            "e505bb5c951d4e78b650312f799ae605",
            "aca52c0191c54e428520f6f948ed8504",
            "d38611d45f044d868781b139e7179b0a",
            "fd6b9f691dbc4a17b007d175f4b40fe5",
            "165ebe3c99154aa49688e2e8a6c09bb8",
            "f1a095ea5b7a4136890e5a42b990affc",
            "eac034b6b80b4ec9b9e22db1e7d4ce20",
            "ec9e427066f24e5fbc89f2e5d16ae5bb",
            "5eec3b4953ea40588c41950d983c4662",
            "d7135ae839ab4fd6ad3a4b8ac3918bb8",
            "a12ddffb27bd427185b0566524ec082d"
          ]
        },
        "id": "Vb5ydeudBDSK",
        "outputId": "2ce72c8c-f6c1-4db6-9c68-26157fbe3ccf"
      },
      "outputs": [
        {
          "output_type": "stream",
          "name": "stderr",
          "text": [
            "\u001b[34m\u001b[1mwandb\u001b[0m: Agent Starting Run: 5uke2158 with config:\n",
            "\u001b[34m\u001b[1mwandb\u001b[0m: \tactivation: gelu\n",
            "\u001b[34m\u001b[1mwandb\u001b[0m: \tdrop_rate: 0.06333694745069696\n",
            "\u001b[34m\u001b[1mwandb\u001b[0m: \tl2_reg: 0.06408797268631862\n",
            "\u001b[34m\u001b[1mwandb\u001b[0m: \tlearning_rate: 0.0932601364288474\n",
            "\u001b[34m\u001b[1mwandb\u001b[0m: \toptimizer: Adam\n",
            "\u001b[34m\u001b[1mwandb\u001b[0m: Currently logged in as: \u001b[33myigitsarioglu\u001b[0m (\u001b[33mbounteam\u001b[0m). Use \u001b[1m`wandb login --relogin`\u001b[0m to force relogin\n"
          ]
        },
        {
          "output_type": "display_data",
          "data": {
            "text/plain": [
              "<IPython.core.display.HTML object>"
            ],
            "text/html": [
              "Tracking run with wandb version 0.16.1"
            ]
          },
          "metadata": {}
        },
        {
          "output_type": "display_data",
          "data": {
            "text/plain": [
              "<IPython.core.display.HTML object>"
            ],
            "text/html": [
              "Run data is saved locally in <code>/content/wandb/run-20231208_170148-5uke2158</code>"
            ]
          },
          "metadata": {}
        },
        {
          "output_type": "display_data",
          "data": {
            "text/plain": [
              "<IPython.core.display.HTML object>"
            ],
            "text/html": [
              "Syncing run <strong><a href='https://wandb.ai/bounteam/CMPE49T/runs/5uke2158' target=\"_blank\">quiet-sweep-1</a></strong> to <a href='https://wandb.ai/bounteam/CMPE49T' target=\"_blank\">Weights & Biases</a> (<a href='https://wandb.me/run' target=\"_blank\">docs</a>)<br/>Sweep page: <a href='https://wandb.ai/bounteam/CMPE49T/sweeps/6c7j83ps' target=\"_blank\">https://wandb.ai/bounteam/CMPE49T/sweeps/6c7j83ps</a>"
            ]
          },
          "metadata": {}
        },
        {
          "output_type": "display_data",
          "data": {
            "text/plain": [
              "<IPython.core.display.HTML object>"
            ],
            "text/html": [
              " View project at <a href='https://wandb.ai/bounteam/CMPE49T' target=\"_blank\">https://wandb.ai/bounteam/CMPE49T</a>"
            ]
          },
          "metadata": {}
        },
        {
          "output_type": "display_data",
          "data": {
            "text/plain": [
              "<IPython.core.display.HTML object>"
            ],
            "text/html": [
              " View sweep at <a href='https://wandb.ai/bounteam/CMPE49T/sweeps/6c7j83ps' target=\"_blank\">https://wandb.ai/bounteam/CMPE49T/sweeps/6c7j83ps</a>"
            ]
          },
          "metadata": {}
        },
        {
          "output_type": "display_data",
          "data": {
            "text/plain": [
              "<IPython.core.display.HTML object>"
            ],
            "text/html": [
              " View run at <a href='https://wandb.ai/bounteam/CMPE49T/runs/5uke2158' target=\"_blank\">https://wandb.ai/bounteam/CMPE49T/runs/5uke2158</a>"
            ]
          },
          "metadata": {}
        },
        {
          "output_type": "stream",
          "name": "stdout",
          "text": [
            "Epoch [1/50]\n"
          ]
        },
        {
          "output_type": "stream",
          "name": "stderr",
          "text": [
            "100%|██████████| 69/69 [00:44<00:00,  1.54it/s]\n",
            "100%|██████████| 88/88 [00:18<00:00,  4.75it/s]\n"
          ]
        },
        {
          "output_type": "stream",
          "name": "stdout",
          "text": [
            "loss 1.3979 - acc 0.4987 - val_loss 0.6979 - val_acc 0.4887\n",
            "=> saved best model\n",
            "Epoch [2/50]\n"
          ]
        },
        {
          "output_type": "stream",
          "name": "stderr",
          "text": [
            "100%|██████████| 69/69 [00:40<00:00,  1.70it/s]\n",
            "100%|██████████| 88/88 [00:17<00:00,  5.09it/s]\n"
          ]
        },
        {
          "output_type": "stream",
          "name": "stdout",
          "text": [
            "loss 0.6893 - acc 0.5490 - val_loss 0.6954 - val_acc 0.4887\n",
            "Epoch [3/50]\n"
          ]
        },
        {
          "output_type": "stream",
          "name": "stderr",
          "text": [
            "100%|██████████| 69/69 [00:38<00:00,  1.78it/s]\n",
            "100%|██████████| 88/88 [00:17<00:00,  5.06it/s]\n"
          ]
        },
        {
          "output_type": "stream",
          "name": "stdout",
          "text": [
            "loss 0.6893 - acc 0.5488 - val_loss 0.6954 - val_acc 0.4887\n",
            "Epoch [4/50]\n"
          ]
        },
        {
          "output_type": "stream",
          "name": "stderr",
          "text": [
            "100%|██████████| 69/69 [00:40<00:00,  1.72it/s]\n",
            "100%|██████████| 88/88 [00:17<00:00,  5.12it/s]\n"
          ]
        },
        {
          "output_type": "stream",
          "name": "stdout",
          "text": [
            "loss 0.6894 - acc 0.5488 - val_loss 0.6955 - val_acc 0.4887\n",
            "Epoch [5/50]\n"
          ]
        },
        {
          "output_type": "stream",
          "name": "stderr",
          "text": [
            "100%|██████████| 69/69 [00:38<00:00,  1.78it/s]\n",
            "100%|██████████| 88/88 [00:18<00:00,  4.84it/s]\n"
          ]
        },
        {
          "output_type": "stream",
          "name": "stdout",
          "text": [
            "loss 0.6895 - acc 0.5488 - val_loss 0.6956 - val_acc 0.4887\n",
            "Epoch [6/50]\n"
          ]
        },
        {
          "output_type": "stream",
          "name": "stderr",
          "text": [
            "100%|██████████| 69/69 [00:40<00:00,  1.70it/s]\n",
            "100%|██████████| 88/88 [00:16<00:00,  5.18it/s]\n"
          ]
        },
        {
          "output_type": "stream",
          "name": "stdout",
          "text": [
            "loss 0.6896 - acc 0.5488 - val_loss 0.6957 - val_acc 0.4887\n",
            "Epoch [7/50]\n"
          ]
        },
        {
          "output_type": "stream",
          "name": "stderr",
          "text": [
            "100%|██████████| 69/69 [00:38<00:00,  1.79it/s]\n",
            "100%|██████████| 88/88 [00:17<00:00,  5.10it/s]\n"
          ]
        },
        {
          "output_type": "stream",
          "name": "stdout",
          "text": [
            "loss 0.6897 - acc 0.5488 - val_loss 0.6958 - val_acc 0.4887\n",
            "Epoch [8/50]\n"
          ]
        },
        {
          "output_type": "stream",
          "name": "stderr",
          "text": [
            "100%|██████████| 69/69 [00:39<00:00,  1.74it/s]\n",
            "100%|██████████| 88/88 [00:17<00:00,  5.15it/s]\n"
          ]
        },
        {
          "output_type": "stream",
          "name": "stdout",
          "text": [
            "loss 0.6897 - acc 0.5488 - val_loss 0.6959 - val_acc 0.4887\n",
            "Epoch [9/50]\n"
          ]
        },
        {
          "output_type": "stream",
          "name": "stderr",
          "text": [
            "100%|██████████| 69/69 [00:38<00:00,  1.78it/s]\n",
            "100%|██████████| 88/88 [00:17<00:00,  5.09it/s]\n"
          ]
        },
        {
          "output_type": "stream",
          "name": "stdout",
          "text": [
            "loss 0.6898 - acc 0.5488 - val_loss 0.6960 - val_acc 0.4887\n",
            "Epoch [10/50]\n"
          ]
        },
        {
          "output_type": "stream",
          "name": "stderr",
          "text": [
            "100%|██████████| 69/69 [00:40<00:00,  1.72it/s]\n",
            "100%|██████████| 88/88 [00:17<00:00,  5.16it/s]\n"
          ]
        },
        {
          "output_type": "stream",
          "name": "stdout",
          "text": [
            "loss 0.6898 - acc 0.5488 - val_loss 0.6960 - val_acc 0.4887\n",
            "Epoch [11/50]\n"
          ]
        },
        {
          "output_type": "stream",
          "name": "stderr",
          "text": [
            "100%|██████████| 69/69 [00:38<00:00,  1.79it/s]\n",
            "100%|██████████| 88/88 [00:17<00:00,  5.04it/s]\n"
          ]
        },
        {
          "output_type": "stream",
          "name": "stdout",
          "text": [
            "loss 0.6899 - acc 0.5488 - val_loss 0.6961 - val_acc 0.4887\n",
            "Epoch [12/50]\n"
          ]
        },
        {
          "output_type": "stream",
          "name": "stderr",
          "text": [
            "100%|██████████| 69/69 [00:41<00:00,  1.67it/s]\n",
            "100%|██████████| 88/88 [00:17<00:00,  5.12it/s]\n"
          ]
        },
        {
          "output_type": "stream",
          "name": "stdout",
          "text": [
            "Epoch 00012: reducing learning rate of group 0 to 9.3260e-03.\n",
            "loss 0.6899 - acc 0.5488 - val_loss 0.6962 - val_acc 0.4887\n",
            "Epoch [13/50]\n"
          ]
        },
        {
          "output_type": "stream",
          "name": "stderr",
          "text": [
            "100%|██████████| 69/69 [00:38<00:00,  1.78it/s]\n",
            "100%|██████████| 88/88 [00:16<00:00,  5.19it/s]\n"
          ]
        },
        {
          "output_type": "stream",
          "name": "stdout",
          "text": [
            "loss 0.6888 - acc 0.5488 - val_loss 0.6976 - val_acc 0.4887\n",
            "Epoch [14/50]\n"
          ]
        },
        {
          "output_type": "stream",
          "name": "stderr",
          "text": [
            "100%|██████████| 69/69 [00:40<00:00,  1.71it/s]\n",
            "100%|██████████| 88/88 [00:17<00:00,  5.12it/s]\n"
          ]
        },
        {
          "output_type": "stream",
          "name": "stdout",
          "text": [
            "loss 0.6887 - acc 0.5488 - val_loss 0.6976 - val_acc 0.4887\n",
            "Epoch [15/50]\n"
          ]
        },
        {
          "output_type": "stream",
          "name": "stderr",
          "text": [
            "100%|██████████| 69/69 [00:39<00:00,  1.75it/s]\n",
            "100%|██████████| 88/88 [00:17<00:00,  4.99it/s]\n"
          ]
        },
        {
          "output_type": "stream",
          "name": "stdout",
          "text": [
            "loss 0.6887 - acc 0.5488 - val_loss 0.6975 - val_acc 0.4887\n",
            "Epoch [16/50]\n"
          ]
        },
        {
          "output_type": "stream",
          "name": "stderr",
          "text": [
            "100%|██████████| 69/69 [00:41<00:00,  1.67it/s]\n",
            "100%|██████████| 88/88 [00:17<00:00,  5.06it/s]\n"
          ]
        },
        {
          "output_type": "stream",
          "name": "stdout",
          "text": [
            "loss 0.6887 - acc 0.5488 - val_loss 0.6975 - val_acc 0.4887\n",
            "=> early stopping\n"
          ]
        },
        {
          "output_type": "stream",
          "name": "stderr",
          "text": [
            "100%|██████████| 7318/7318 [01:26<00:00, 84.90it/s]\n"
          ]
        },
        {
          "output_type": "display_data",
          "data": {
            "text/plain": [
              "VBox(children=(Label(value='0.001 MB of 0.001 MB uploaded\\r'), FloatProgress(value=1.0, max=1.0)))"
            ],
            "application/vnd.jupyter.widget-view+json": {
              "version_major": 2,
              "version_minor": 0,
              "model_id": "47df587da9bd4ddc9ee6157b7d527b07"
            }
          },
          "metadata": {}
        },
        {
          "output_type": "display_data",
          "data": {
            "text/plain": [
              "<IPython.core.display.HTML object>"
            ],
            "text/html": [
              "<style>\n",
              "    table.wandb td:nth-child(1) { padding: 0 10px; text-align: left ; width: auto;} td:nth-child(2) {text-align: left ; width: 100%}\n",
              "    .wandb-row { display: flex; flex-direction: row; flex-wrap: wrap; justify-content: flex-start; width: 100% }\n",
              "    .wandb-col { display: flex; flex-direction: column; flex-basis: 100%; flex: 1; padding: 10px; }\n",
              "    </style>\n",
              "<div class=\"wandb-row\"><div class=\"wandb-col\"><h3>Run history:</h3><br/><table class=\"wandb\"><tr><td>train_acc</td><td>▁███████████████</td></tr><tr><td>train_loss</td><td>█▁▁▁▁▁▁▁▁▁▁▁▁▁▁▁</td></tr><tr><td>val_acc</td><td>▁▁▁▁▁▁▁▁▁▁▁▁▁▁▁▁</td></tr><tr><td>val_loss</td><td>█▁▁▁▂▂▂▂▃▃▃▃▇▇▇▇</td></tr></table><br/></div><div class=\"wandb-col\"><h3>Run summary:</h3><br/><table class=\"wandb\"><tr><td>test_acc</td><td>acc</td></tr><tr><td>test_loss</td><td>loss</td></tr><tr><td>train_acc</td><td>0.54878</td></tr><tr><td>train_loss</td><td>0.68873</td></tr><tr><td>val_acc</td><td>0.48871</td></tr><tr><td>val_loss</td><td>0.69754</td></tr></table><br/></div></div>"
            ]
          },
          "metadata": {}
        },
        {
          "output_type": "display_data",
          "data": {
            "text/plain": [
              "<IPython.core.display.HTML object>"
            ],
            "text/html": [
              " View run <strong style=\"color:#cdcd00\">quiet-sweep-1</strong> at: <a href='https://wandb.ai/bounteam/CMPE49T/runs/5uke2158' target=\"_blank\">https://wandb.ai/bounteam/CMPE49T/runs/5uke2158</a><br/>Synced 5 W&B file(s), 0 media file(s), 0 artifact file(s) and 0 other file(s)"
            ]
          },
          "metadata": {}
        },
        {
          "output_type": "display_data",
          "data": {
            "text/plain": [
              "<IPython.core.display.HTML object>"
            ],
            "text/html": [
              "Find logs at: <code>./wandb/run-20231208_170148-5uke2158/logs</code>"
            ]
          },
          "metadata": {}
        },
        {
          "output_type": "stream",
          "name": "stderr",
          "text": [
            "\u001b[34m\u001b[1mwandb\u001b[0m: Agent Starting Run: 0gc6xyly with config:\n",
            "\u001b[34m\u001b[1mwandb\u001b[0m: \tactivation: leaky_relu\n",
            "\u001b[34m\u001b[1mwandb\u001b[0m: \tdrop_rate: 0.024111057398418203\n",
            "\u001b[34m\u001b[1mwandb\u001b[0m: \tl2_reg: 0.09912313813060498\n",
            "\u001b[34m\u001b[1mwandb\u001b[0m: \tlearning_rate: 0.012029617209842138\n",
            "\u001b[34m\u001b[1mwandb\u001b[0m: \toptimizer: RMSprop\n"
          ]
        },
        {
          "output_type": "display_data",
          "data": {
            "text/plain": [
              "<IPython.core.display.HTML object>"
            ],
            "text/html": [
              "Tracking run with wandb version 0.16.1"
            ]
          },
          "metadata": {}
        },
        {
          "output_type": "display_data",
          "data": {
            "text/plain": [
              "<IPython.core.display.HTML object>"
            ],
            "text/html": [
              "Run data is saved locally in <code>/content/wandb/run-20231208_171849-0gc6xyly</code>"
            ]
          },
          "metadata": {}
        },
        {
          "output_type": "display_data",
          "data": {
            "text/plain": [
              "<IPython.core.display.HTML object>"
            ],
            "text/html": [
              "Syncing run <strong><a href='https://wandb.ai/bounteam/CMPE49T/runs/0gc6xyly' target=\"_blank\">silvery-sweep-2</a></strong> to <a href='https://wandb.ai/bounteam/CMPE49T' target=\"_blank\">Weights & Biases</a> (<a href='https://wandb.me/run' target=\"_blank\">docs</a>)<br/>Sweep page: <a href='https://wandb.ai/bounteam/CMPE49T/sweeps/6c7j83ps' target=\"_blank\">https://wandb.ai/bounteam/CMPE49T/sweeps/6c7j83ps</a>"
            ]
          },
          "metadata": {}
        },
        {
          "output_type": "display_data",
          "data": {
            "text/plain": [
              "<IPython.core.display.HTML object>"
            ],
            "text/html": [
              " View project at <a href='https://wandb.ai/bounteam/CMPE49T' target=\"_blank\">https://wandb.ai/bounteam/CMPE49T</a>"
            ]
          },
          "metadata": {}
        },
        {
          "output_type": "display_data",
          "data": {
            "text/plain": [
              "<IPython.core.display.HTML object>"
            ],
            "text/html": [
              " View sweep at <a href='https://wandb.ai/bounteam/CMPE49T/sweeps/6c7j83ps' target=\"_blank\">https://wandb.ai/bounteam/CMPE49T/sweeps/6c7j83ps</a>"
            ]
          },
          "metadata": {}
        },
        {
          "output_type": "display_data",
          "data": {
            "text/plain": [
              "<IPython.core.display.HTML object>"
            ],
            "text/html": [
              " View run at <a href='https://wandb.ai/bounteam/CMPE49T/runs/0gc6xyly' target=\"_blank\">https://wandb.ai/bounteam/CMPE49T/runs/0gc6xyly</a>"
            ]
          },
          "metadata": {}
        },
        {
          "output_type": "stream",
          "name": "stdout",
          "text": [
            "Epoch [1/50]\n"
          ]
        },
        {
          "output_type": "stream",
          "name": "stderr",
          "text": [
            "100%|██████████| 69/69 [00:40<00:00,  1.70it/s]\n",
            "100%|██████████| 88/88 [00:17<00:00,  5.00it/s]\n"
          ]
        },
        {
          "output_type": "stream",
          "name": "stdout",
          "text": [
            "loss 1.9199 - acc 0.5268 - val_loss 0.6974 - val_acc 0.4887\n",
            "=> saved best model\n",
            "Epoch [2/50]\n"
          ]
        },
        {
          "output_type": "stream",
          "name": "stderr",
          "text": [
            "100%|██████████| 69/69 [00:39<00:00,  1.76it/s]\n",
            "100%|██████████| 88/88 [00:17<00:00,  4.94it/s]\n"
          ]
        },
        {
          "output_type": "stream",
          "name": "stdout",
          "text": [
            "loss 0.6890 - acc 0.5488 - val_loss 0.6986 - val_acc 0.4887\n",
            "Epoch [3/50]\n"
          ]
        },
        {
          "output_type": "stream",
          "name": "stderr",
          "text": [
            "100%|██████████| 69/69 [00:39<00:00,  1.75it/s]\n",
            "100%|██████████| 88/88 [00:17<00:00,  5.11it/s]\n"
          ]
        },
        {
          "output_type": "stream",
          "name": "stdout",
          "text": [
            "loss 0.6890 - acc 0.5488 - val_loss 0.6988 - val_acc 0.4887\n",
            "Epoch [4/50]\n"
          ]
        },
        {
          "output_type": "stream",
          "name": "stderr",
          "text": [
            "100%|██████████| 69/69 [00:38<00:00,  1.79it/s]\n",
            "100%|██████████| 88/88 [00:17<00:00,  5.01it/s]\n"
          ]
        },
        {
          "output_type": "stream",
          "name": "stdout",
          "text": [
            "loss 0.6890 - acc 0.5488 - val_loss 0.6990 - val_acc 0.4887\n",
            "Epoch [5/50]\n"
          ]
        },
        {
          "output_type": "stream",
          "name": "stderr",
          "text": [
            "100%|██████████| 69/69 [00:39<00:00,  1.76it/s]\n",
            "100%|██████████| 88/88 [00:17<00:00,  5.13it/s]\n"
          ]
        },
        {
          "output_type": "stream",
          "name": "stdout",
          "text": [
            "loss 0.6890 - acc 0.5488 - val_loss 0.6991 - val_acc 0.4887\n",
            "Epoch [6/50]\n"
          ]
        },
        {
          "output_type": "stream",
          "name": "stderr",
          "text": [
            "100%|██████████| 69/69 [00:39<00:00,  1.73it/s]\n",
            "100%|██████████| 88/88 [00:17<00:00,  5.00it/s]\n"
          ]
        },
        {
          "output_type": "stream",
          "name": "stdout",
          "text": [
            "loss 0.6890 - acc 0.5488 - val_loss 0.6995 - val_acc 0.4887\n",
            "Epoch [7/50]\n"
          ]
        },
        {
          "output_type": "stream",
          "name": "stderr",
          "text": [
            "100%|██████████| 69/69 [00:38<00:00,  1.77it/s]\n",
            "100%|██████████| 88/88 [00:17<00:00,  5.12it/s]\n"
          ]
        },
        {
          "output_type": "stream",
          "name": "stdout",
          "text": [
            "loss 0.6890 - acc 0.5488 - val_loss 0.7000 - val_acc 0.4887\n",
            "Epoch [8/50]\n"
          ]
        },
        {
          "output_type": "stream",
          "name": "stderr",
          "text": [
            "100%|██████████| 69/69 [00:38<00:00,  1.80it/s]\n",
            "100%|██████████| 88/88 [00:17<00:00,  5.01it/s]\n"
          ]
        },
        {
          "output_type": "stream",
          "name": "stdout",
          "text": [
            "loss 0.6890 - acc 0.5488 - val_loss 0.6994 - val_acc 0.4887\n",
            "Epoch [9/50]\n"
          ]
        },
        {
          "output_type": "stream",
          "name": "stderr",
          "text": [
            "100%|██████████| 69/69 [00:39<00:00,  1.76it/s]\n",
            "100%|██████████| 88/88 [00:17<00:00,  5.14it/s]\n"
          ]
        },
        {
          "output_type": "stream",
          "name": "stdout",
          "text": [
            "loss 0.6890 - acc 0.5488 - val_loss 0.6996 - val_acc 0.4887\n",
            "Epoch [10/50]\n"
          ]
        },
        {
          "output_type": "stream",
          "name": "stderr",
          "text": [
            "100%|██████████| 69/69 [00:38<00:00,  1.81it/s]\n",
            "100%|██████████| 88/88 [00:17<00:00,  5.00it/s]\n"
          ]
        },
        {
          "output_type": "stream",
          "name": "stdout",
          "text": [
            "loss 0.6890 - acc 0.5488 - val_loss 0.6996 - val_acc 0.4887\n",
            "Epoch [11/50]\n"
          ]
        },
        {
          "output_type": "stream",
          "name": "stderr",
          "text": [
            "100%|██████████| 69/69 [00:39<00:00,  1.76it/s]\n",
            "100%|██████████| 88/88 [00:17<00:00,  5.17it/s]\n"
          ]
        },
        {
          "output_type": "stream",
          "name": "stdout",
          "text": [
            "loss 0.6890 - acc 0.5488 - val_loss 0.6986 - val_acc 0.4887\n",
            "Epoch [12/50]\n"
          ]
        },
        {
          "output_type": "stream",
          "name": "stderr",
          "text": [
            "100%|██████████| 69/69 [00:40<00:00,  1.72it/s]\n",
            "100%|██████████| 88/88 [00:17<00:00,  5.06it/s]\n"
          ]
        },
        {
          "output_type": "stream",
          "name": "stdout",
          "text": [
            "Epoch 00012: reducing learning rate of group 0 to 1.2030e-03.\n",
            "loss 0.6890 - acc 0.5488 - val_loss 0.7013 - val_acc 0.4887\n",
            "Epoch [13/50]\n"
          ]
        },
        {
          "output_type": "stream",
          "name": "stderr",
          "text": [
            "100%|██████████| 69/69 [00:39<00:00,  1.75it/s]\n",
            "100%|██████████| 88/88 [00:17<00:00,  5.13it/s]\n"
          ]
        },
        {
          "output_type": "stream",
          "name": "stdout",
          "text": [
            "loss 0.6885 - acc 0.5488 - val_loss 0.6985 - val_acc 0.4887\n",
            "Epoch [14/50]\n"
          ]
        },
        {
          "output_type": "stream",
          "name": "stderr",
          "text": [
            "100%|██████████| 69/69 [00:38<00:00,  1.80it/s]\n",
            "100%|██████████| 88/88 [00:17<00:00,  5.10it/s]\n"
          ]
        },
        {
          "output_type": "stream",
          "name": "stdout",
          "text": [
            "loss 0.6886 - acc 0.5488 - val_loss 0.6981 - val_acc 0.4887\n",
            "Epoch [15/50]\n"
          ]
        },
        {
          "output_type": "stream",
          "name": "stderr",
          "text": [
            "100%|██████████| 69/69 [00:39<00:00,  1.75it/s]\n",
            "100%|██████████| 88/88 [00:17<00:00,  5.14it/s]\n"
          ]
        },
        {
          "output_type": "stream",
          "name": "stdout",
          "text": [
            "loss 0.6886 - acc 0.5488 - val_loss 0.6979 - val_acc 0.4887\n",
            "Epoch [16/50]\n"
          ]
        },
        {
          "output_type": "stream",
          "name": "stderr",
          "text": [
            "100%|██████████| 69/69 [00:37<00:00,  1.82it/s]\n",
            "100%|██████████| 88/88 [00:17<00:00,  5.13it/s]\n"
          ]
        },
        {
          "output_type": "stream",
          "name": "stdout",
          "text": [
            "loss 0.6887 - acc 0.5488 - val_loss 0.6977 - val_acc 0.4887\n",
            "=> early stopping\n"
          ]
        },
        {
          "output_type": "stream",
          "name": "stderr",
          "text": [
            "100%|██████████| 7318/7318 [01:22<00:00, 89.00it/s]\n"
          ]
        },
        {
          "output_type": "display_data",
          "data": {
            "text/plain": [
              "VBox(children=(Label(value='0.001 MB of 0.001 MB uploaded\\r'), FloatProgress(value=1.0, max=1.0)))"
            ],
            "application/vnd.jupyter.widget-view+json": {
              "version_major": 2,
              "version_minor": 0,
              "model_id": "12a2fb6fbf344947a963e8c5021241d4"
            }
          },
          "metadata": {}
        },
        {
          "output_type": "display_data",
          "data": {
            "text/plain": [
              "<IPython.core.display.HTML object>"
            ],
            "text/html": [
              "<style>\n",
              "    table.wandb td:nth-child(1) { padding: 0 10px; text-align: left ; width: auto;} td:nth-child(2) {text-align: left ; width: 100%}\n",
              "    .wandb-row { display: flex; flex-direction: row; flex-wrap: wrap; justify-content: flex-start; width: 100% }\n",
              "    .wandb-col { display: flex; flex-direction: column; flex-basis: 100%; flex: 1; padding: 10px; }\n",
              "    </style>\n",
              "<div class=\"wandb-row\"><div class=\"wandb-col\"><h3>Run history:</h3><br/><table class=\"wandb\"><tr><td>train_acc</td><td>▁███████████████</td></tr><tr><td>train_loss</td><td>█▁▁▁▁▁▁▁▁▁▁▁▁▁▁▁</td></tr><tr><td>val_acc</td><td>▁▁▁▁▁▁▁▁▁▁▁▁▁▁▁▁</td></tr><tr><td>val_loss</td><td>▁▃▄▄▄▅▆▅▅▅▃█▃▂▂▂</td></tr></table><br/></div><div class=\"wandb-col\"><h3>Run summary:</h3><br/><table class=\"wandb\"><tr><td>test_acc</td><td>acc</td></tr><tr><td>test_loss</td><td>loss</td></tr><tr><td>train_acc</td><td>0.54878</td></tr><tr><td>train_loss</td><td>0.68868</td></tr><tr><td>val_acc</td><td>0.48871</td></tr><tr><td>val_loss</td><td>0.69773</td></tr></table><br/></div></div>"
            ]
          },
          "metadata": {}
        },
        {
          "output_type": "display_data",
          "data": {
            "text/plain": [
              "<IPython.core.display.HTML object>"
            ],
            "text/html": [
              " View run <strong style=\"color:#cdcd00\">silvery-sweep-2</strong> at: <a href='https://wandb.ai/bounteam/CMPE49T/runs/0gc6xyly' target=\"_blank\">https://wandb.ai/bounteam/CMPE49T/runs/0gc6xyly</a><br/>Synced 5 W&B file(s), 0 media file(s), 0 artifact file(s) and 0 other file(s)"
            ]
          },
          "metadata": {}
        },
        {
          "output_type": "display_data",
          "data": {
            "text/plain": [
              "<IPython.core.display.HTML object>"
            ],
            "text/html": [
              "Find logs at: <code>./wandb/run-20231208_171849-0gc6xyly/logs</code>"
            ]
          },
          "metadata": {}
        },
        {
          "output_type": "stream",
          "name": "stderr",
          "text": [
            "\u001b[34m\u001b[1mwandb\u001b[0m: Agent Starting Run: u937co4k with config:\n",
            "\u001b[34m\u001b[1mwandb\u001b[0m: \tactivation: leaky_relu\n",
            "\u001b[34m\u001b[1mwandb\u001b[0m: \tdrop_rate: 0.1752118561085982\n",
            "\u001b[34m\u001b[1mwandb\u001b[0m: \tl2_reg: 0.030470026942853647\n",
            "\u001b[34m\u001b[1mwandb\u001b[0m: \tlearning_rate: 0.0994924494251686\n",
            "\u001b[34m\u001b[1mwandb\u001b[0m: \toptimizer: SGD\n"
          ]
        },
        {
          "output_type": "display_data",
          "data": {
            "text/plain": [
              "<IPython.core.display.HTML object>"
            ],
            "text/html": [
              "Tracking run with wandb version 0.16.1"
            ]
          },
          "metadata": {}
        },
        {
          "output_type": "display_data",
          "data": {
            "text/plain": [
              "<IPython.core.display.HTML object>"
            ],
            "text/html": [
              "Run data is saved locally in <code>/content/wandb/run-20231208_173529-u937co4k</code>"
            ]
          },
          "metadata": {}
        },
        {
          "output_type": "display_data",
          "data": {
            "text/plain": [
              "<IPython.core.display.HTML object>"
            ],
            "text/html": [
              "Syncing run <strong><a href='https://wandb.ai/bounteam/CMPE49T/runs/u937co4k' target=\"_blank\">expert-sweep-3</a></strong> to <a href='https://wandb.ai/bounteam/CMPE49T' target=\"_blank\">Weights & Biases</a> (<a href='https://wandb.me/run' target=\"_blank\">docs</a>)<br/>Sweep page: <a href='https://wandb.ai/bounteam/CMPE49T/sweeps/6c7j83ps' target=\"_blank\">https://wandb.ai/bounteam/CMPE49T/sweeps/6c7j83ps</a>"
            ]
          },
          "metadata": {}
        },
        {
          "output_type": "display_data",
          "data": {
            "text/plain": [
              "<IPython.core.display.HTML object>"
            ],
            "text/html": [
              " View project at <a href='https://wandb.ai/bounteam/CMPE49T' target=\"_blank\">https://wandb.ai/bounteam/CMPE49T</a>"
            ]
          },
          "metadata": {}
        },
        {
          "output_type": "display_data",
          "data": {
            "text/plain": [
              "<IPython.core.display.HTML object>"
            ],
            "text/html": [
              " View sweep at <a href='https://wandb.ai/bounteam/CMPE49T/sweeps/6c7j83ps' target=\"_blank\">https://wandb.ai/bounteam/CMPE49T/sweeps/6c7j83ps</a>"
            ]
          },
          "metadata": {}
        },
        {
          "output_type": "display_data",
          "data": {
            "text/plain": [
              "<IPython.core.display.HTML object>"
            ],
            "text/html": [
              " View run at <a href='https://wandb.ai/bounteam/CMPE49T/runs/u937co4k' target=\"_blank\">https://wandb.ai/bounteam/CMPE49T/runs/u937co4k</a>"
            ]
          },
          "metadata": {}
        },
        {
          "output_type": "stream",
          "name": "stdout",
          "text": [
            "Epoch [1/50]\n"
          ]
        },
        {
          "output_type": "stream",
          "name": "stderr",
          "text": [
            "100%|██████████| 69/69 [00:40<00:00,  1.72it/s]\n",
            "100%|██████████| 88/88 [00:17<00:00,  5.11it/s]\n"
          ]
        },
        {
          "output_type": "stream",
          "name": "stdout",
          "text": [
            "loss 0.7898 - acc 0.6875 - val_loss 0.6480 - val_acc 0.5446\n",
            "=> saved best model\n",
            "Epoch [2/50]\n"
          ]
        },
        {
          "output_type": "stream",
          "name": "stderr",
          "text": [
            "100%|██████████| 69/69 [00:38<00:00,  1.77it/s]\n",
            "100%|██████████| 88/88 [00:17<00:00,  5.04it/s]\n"
          ]
        },
        {
          "output_type": "stream",
          "name": "stdout",
          "text": [
            "loss 0.4505 - acc 0.7976 - val_loss 0.9327 - val_acc 0.3214\n",
            "Epoch [3/50]\n"
          ]
        },
        {
          "output_type": "stream",
          "name": "stderr",
          "text": [
            "100%|██████████| 69/69 [00:39<00:00,  1.73it/s]\n",
            "100%|██████████| 88/88 [00:17<00:00,  5.13it/s]\n"
          ]
        },
        {
          "output_type": "stream",
          "name": "stdout",
          "text": [
            "loss 0.3925 - acc 0.8341 - val_loss 0.7293 - val_acc 0.4643\n",
            "Epoch [4/50]\n"
          ]
        },
        {
          "output_type": "stream",
          "name": "stderr",
          "text": [
            "100%|██████████| 69/69 [00:38<00:00,  1.79it/s]\n",
            "100%|██████████| 88/88 [00:17<00:00,  5.03it/s]\n"
          ]
        },
        {
          "output_type": "stream",
          "name": "stdout",
          "text": [
            "loss 0.3573 - acc 0.8469 - val_loss 0.7598 - val_acc 0.7216\n",
            "=> saved best model\n",
            "Epoch [5/50]\n"
          ]
        },
        {
          "output_type": "stream",
          "name": "stderr",
          "text": [
            "100%|██████████| 69/69 [00:39<00:00,  1.73it/s]\n",
            "100%|██████████| 88/88 [00:17<00:00,  5.13it/s]\n"
          ]
        },
        {
          "output_type": "stream",
          "name": "stdout",
          "text": [
            "loss 0.3342 - acc 0.8631 - val_loss 0.5536 - val_acc 0.7030\n",
            "Epoch [6/50]\n"
          ]
        },
        {
          "output_type": "stream",
          "name": "stderr",
          "text": [
            "100%|██████████| 69/69 [00:39<00:00,  1.74it/s]\n",
            "100%|██████████| 88/88 [00:18<00:00,  4.83it/s]\n"
          ]
        },
        {
          "output_type": "stream",
          "name": "stdout",
          "text": [
            "loss 0.3145 - acc 0.8750 - val_loss 0.6547 - val_acc 0.7105\n",
            "Epoch [7/50]\n"
          ]
        },
        {
          "output_type": "stream",
          "name": "stderr",
          "text": [
            "100%|██████████| 69/69 [00:40<00:00,  1.72it/s]\n",
            "100%|██████████| 88/88 [00:17<00:00,  5.06it/s]\n"
          ]
        },
        {
          "output_type": "stream",
          "name": "stdout",
          "text": [
            "loss 0.2866 - acc 0.8837 - val_loss 0.6486 - val_acc 0.6890\n",
            "Epoch [8/50]\n"
          ]
        },
        {
          "output_type": "stream",
          "name": "stderr",
          "text": [
            "100%|██████████| 69/69 [00:39<00:00,  1.76it/s]\n",
            "100%|██████████| 88/88 [00:17<00:00,  4.93it/s]\n"
          ]
        },
        {
          "output_type": "stream",
          "name": "stdout",
          "text": [
            "loss 0.2875 - acc 0.8823 - val_loss 0.5463 - val_acc 0.7367\n",
            "=> saved best model\n",
            "Epoch [9/50]\n"
          ]
        },
        {
          "output_type": "stream",
          "name": "stderr",
          "text": [
            "100%|██████████| 69/69 [00:40<00:00,  1.72it/s]\n",
            "100%|██████████| 88/88 [00:17<00:00,  5.07it/s]\n"
          ]
        },
        {
          "output_type": "stream",
          "name": "stdout",
          "text": [
            "loss 0.2751 - acc 0.8901 - val_loss 0.5103 - val_acc 0.7596\n",
            "=> saved best model\n",
            "Epoch [10/50]\n"
          ]
        },
        {
          "output_type": "stream",
          "name": "stderr",
          "text": [
            "100%|██████████| 69/69 [00:39<00:00,  1.73it/s]\n",
            "100%|██████████| 88/88 [00:17<00:00,  4.94it/s]\n"
          ]
        },
        {
          "output_type": "stream",
          "name": "stdout",
          "text": [
            "loss 0.2537 - acc 0.8967 - val_loss 0.5541 - val_acc 0.7402\n",
            "Epoch [11/50]\n"
          ]
        },
        {
          "output_type": "stream",
          "name": "stderr",
          "text": [
            "100%|██████████| 69/69 [00:39<00:00,  1.75it/s]\n",
            "100%|██████████| 88/88 [00:17<00:00,  5.07it/s]\n"
          ]
        },
        {
          "output_type": "stream",
          "name": "stdout",
          "text": [
            "loss 0.2482 - acc 0.8981 - val_loss 0.4918 - val_acc 0.7943\n",
            "=> saved best model\n",
            "Epoch [12/50]\n"
          ]
        },
        {
          "output_type": "stream",
          "name": "stderr",
          "text": [
            "100%|██████████| 69/69 [00:42<00:00,  1.64it/s]\n",
            "100%|██████████| 88/88 [00:17<00:00,  5.09it/s]\n"
          ]
        },
        {
          "output_type": "stream",
          "name": "stdout",
          "text": [
            "loss 0.2280 - acc 0.9104 - val_loss 0.5545 - val_acc 0.7539\n",
            "Epoch [13/50]\n"
          ]
        },
        {
          "output_type": "stream",
          "name": "stderr",
          "text": [
            "100%|██████████| 69/69 [00:39<00:00,  1.76it/s]\n",
            "100%|██████████| 88/88 [00:17<00:00,  5.13it/s]\n"
          ]
        },
        {
          "output_type": "stream",
          "name": "stdout",
          "text": [
            "loss 0.2480 - acc 0.9006 - val_loss 0.6303 - val_acc 0.7044\n",
            "Epoch [14/50]\n"
          ]
        },
        {
          "output_type": "stream",
          "name": "stderr",
          "text": [
            "100%|██████████| 69/69 [00:40<00:00,  1.72it/s]\n",
            "100%|██████████| 88/88 [00:17<00:00,  5.09it/s]\n"
          ]
        },
        {
          "output_type": "stream",
          "name": "stdout",
          "text": [
            "loss 0.2376 - acc 0.9066 - val_loss 0.5434 - val_acc 0.7668\n",
            "Epoch [15/50]\n"
          ]
        },
        {
          "output_type": "stream",
          "name": "stderr",
          "text": [
            "100%|██████████| 69/69 [00:38<00:00,  1.77it/s]\n",
            "100%|██████████| 88/88 [00:17<00:00,  5.12it/s]\n"
          ]
        },
        {
          "output_type": "stream",
          "name": "stdout",
          "text": [
            "loss 0.2234 - acc 0.9162 - val_loss 0.5904 - val_acc 0.7284\n",
            "Epoch [16/50]\n"
          ]
        },
        {
          "output_type": "stream",
          "name": "stderr",
          "text": [
            "100%|██████████| 69/69 [00:42<00:00,  1.63it/s]\n",
            "100%|██████████| 88/88 [00:18<00:00,  4.81it/s]\n"
          ]
        },
        {
          "output_type": "stream",
          "name": "stdout",
          "text": [
            "loss 0.2149 - acc 0.9214 - val_loss 0.5147 - val_acc 0.7793\n",
            "Epoch [17/50]\n"
          ]
        },
        {
          "output_type": "stream",
          "name": "stderr",
          "text": [
            "100%|██████████| 69/69 [00:39<00:00,  1.76it/s]\n",
            "100%|██████████| 88/88 [00:17<00:00,  4.94it/s]\n"
          ]
        },
        {
          "output_type": "stream",
          "name": "stdout",
          "text": [
            "loss 0.2142 - acc 0.9207 - val_loss 0.6786 - val_acc 0.7091\n",
            "Epoch [18/50]\n"
          ]
        },
        {
          "output_type": "stream",
          "name": "stderr",
          "text": [
            "100%|██████████| 69/69 [00:41<00:00,  1.68it/s]\n",
            "100%|██████████| 88/88 [00:17<00:00,  5.10it/s]\n"
          ]
        },
        {
          "output_type": "stream",
          "name": "stdout",
          "text": [
            "loss 0.2195 - acc 0.9203 - val_loss 0.5960 - val_acc 0.7263\n",
            "Epoch [19/50]\n"
          ]
        },
        {
          "output_type": "stream",
          "name": "stderr",
          "text": [
            "100%|██████████| 69/69 [00:38<00:00,  1.79it/s]\n",
            "100%|██████████| 88/88 [00:17<00:00,  5.00it/s]\n"
          ]
        },
        {
          "output_type": "stream",
          "name": "stdout",
          "text": [
            "loss 0.2072 - acc 0.9269 - val_loss 0.7103 - val_acc 0.7195\n",
            "Epoch [20/50]\n"
          ]
        },
        {
          "output_type": "stream",
          "name": "stderr",
          "text": [
            "100%|██████████| 69/69 [00:39<00:00,  1.74it/s]\n",
            "100%|██████████| 88/88 [00:17<00:00,  5.11it/s]\n"
          ]
        },
        {
          "output_type": "stream",
          "name": "stdout",
          "text": [
            "loss 0.2108 - acc 0.9257 - val_loss 0.5672 - val_acc 0.7503\n",
            "Epoch [21/50]\n"
          ]
        },
        {
          "output_type": "stream",
          "name": "stderr",
          "text": [
            "100%|██████████| 69/69 [00:38<00:00,  1.79it/s]\n",
            "100%|██████████| 88/88 [00:17<00:00,  4.99it/s]\n"
          ]
        },
        {
          "output_type": "stream",
          "name": "stdout",
          "text": [
            "loss 0.2214 - acc 0.9189 - val_loss 0.5622 - val_acc 0.7467\n",
            "Epoch [22/50]\n"
          ]
        },
        {
          "output_type": "stream",
          "name": "stderr",
          "text": [
            "100%|██████████| 69/69 [00:39<00:00,  1.74it/s]\n",
            "100%|██████████| 88/88 [00:17<00:00,  5.09it/s]\n"
          ]
        },
        {
          "output_type": "stream",
          "name": "stdout",
          "text": [
            "Epoch 00022: reducing learning rate of group 0 to 9.9492e-03.\n",
            "loss 0.2184 - acc 0.9223 - val_loss 0.5560 - val_acc 0.7503\n",
            "Epoch [23/50]\n"
          ]
        },
        {
          "output_type": "stream",
          "name": "stderr",
          "text": [
            "100%|██████████| 69/69 [00:39<00:00,  1.77it/s]\n",
            "100%|██████████| 88/88 [00:17<00:00,  4.92it/s]\n"
          ]
        },
        {
          "output_type": "stream",
          "name": "stdout",
          "text": [
            "loss 0.1539 - acc 0.9596 - val_loss 0.5278 - val_acc 0.7700\n",
            "Epoch [24/50]\n"
          ]
        },
        {
          "output_type": "stream",
          "name": "stderr",
          "text": [
            "100%|██████████| 69/69 [00:40<00:00,  1.68it/s]\n",
            "100%|██████████| 88/88 [00:17<00:00,  5.11it/s]\n"
          ]
        },
        {
          "output_type": "stream",
          "name": "stdout",
          "text": [
            "loss 0.1231 - acc 0.9758 - val_loss 0.5286 - val_acc 0.7779\n",
            "Epoch [25/50]\n"
          ]
        },
        {
          "output_type": "stream",
          "name": "stderr",
          "text": [
            "100%|██████████| 69/69 [00:38<00:00,  1.79it/s]\n",
            "100%|██████████| 88/88 [00:17<00:00,  5.09it/s]\n"
          ]
        },
        {
          "output_type": "stream",
          "name": "stdout",
          "text": [
            "loss 0.1068 - acc 0.9808 - val_loss 0.5664 - val_acc 0.7625\n",
            "Epoch [26/50]\n"
          ]
        },
        {
          "output_type": "stream",
          "name": "stderr",
          "text": [
            "100%|██████████| 69/69 [00:40<00:00,  1.72it/s]\n",
            "100%|██████████| 88/88 [00:17<00:00,  5.05it/s]\n"
          ]
        },
        {
          "output_type": "stream",
          "name": "stdout",
          "text": [
            "loss 0.0961 - acc 0.9851 - val_loss 0.5773 - val_acc 0.7621\n",
            "=> early stopping\n"
          ]
        },
        {
          "output_type": "stream",
          "name": "stderr",
          "text": [
            "100%|██████████| 7318/7318 [01:21<00:00, 89.38it/s]\n"
          ]
        },
        {
          "output_type": "display_data",
          "data": {
            "text/plain": [
              "VBox(children=(Label(value='0.001 MB of 0.001 MB uploaded\\r'), FloatProgress(value=1.0, max=1.0)))"
            ],
            "application/vnd.jupyter.widget-view+json": {
              "version_major": 2,
              "version_minor": 0,
              "model_id": "a0300a59ac6247a681ff7474ab7d0f8a"
            }
          },
          "metadata": {}
        },
        {
          "output_type": "display_data",
          "data": {
            "text/plain": [
              "<IPython.core.display.HTML object>"
            ],
            "text/html": [
              "<style>\n",
              "    table.wandb td:nth-child(1) { padding: 0 10px; text-align: left ; width: auto;} td:nth-child(2) {text-align: left ; width: 100%}\n",
              "    .wandb-row { display: flex; flex-direction: row; flex-wrap: wrap; justify-content: flex-start; width: 100% }\n",
              "    .wandb-col { display: flex; flex-direction: column; flex-basis: 100%; flex: 1; padding: 10px; }\n",
              "    </style>\n",
              "<div class=\"wandb-row\"><div class=\"wandb-col\"><h3>Run history:</h3><br/><table class=\"wandb\"><tr><td>train_acc</td><td>▁▄▄▅▅▅▆▆▆▆▆▆▆▆▆▇▆▆▇▇▆▇▇███</td></tr><tr><td>train_loss</td><td>█▅▄▄▃▃▃▃▃▃▃▂▃▂▂▂▂▂▂▂▂▂▂▁▁▁</td></tr><tr><td>val_acc</td><td>▄▁▃▇▇▇▆▇▇▇█▇▇█▇█▇▇▇▇▇▇████</td></tr><tr><td>val_loss</td><td>▃█▅▅▂▄▃▂▁▂▁▂▃▂▃▁▄▃▄▂▂▂▂▂▂▂</td></tr></table><br/></div><div class=\"wandb-col\"><h3>Run summary:</h3><br/><table class=\"wandb\"><tr><td>test_acc</td><td>acc</td></tr><tr><td>test_loss</td><td>loss</td></tr><tr><td>train_acc</td><td>0.98515</td></tr><tr><td>train_loss</td><td>0.09608</td></tr><tr><td>val_acc</td><td>0.76209</td></tr><tr><td>val_loss</td><td>0.57727</td></tr></table><br/></div></div>"
            ]
          },
          "metadata": {}
        },
        {
          "output_type": "display_data",
          "data": {
            "text/plain": [
              "<IPython.core.display.HTML object>"
            ],
            "text/html": [
              " View run <strong style=\"color:#cdcd00\">expert-sweep-3</strong> at: <a href='https://wandb.ai/bounteam/CMPE49T/runs/u937co4k' target=\"_blank\">https://wandb.ai/bounteam/CMPE49T/runs/u937co4k</a><br/>Synced 5 W&B file(s), 0 media file(s), 0 artifact file(s) and 0 other file(s)"
            ]
          },
          "metadata": {}
        },
        {
          "output_type": "display_data",
          "data": {
            "text/plain": [
              "<IPython.core.display.HTML object>"
            ],
            "text/html": [
              "Find logs at: <code>./wandb/run-20231208_173529-u937co4k/logs</code>"
            ]
          },
          "metadata": {}
        },
        {
          "output_type": "stream",
          "name": "stderr",
          "text": [
            "\u001b[34m\u001b[1mwandb\u001b[0m: Agent Starting Run: 203bgpra with config:\n",
            "\u001b[34m\u001b[1mwandb\u001b[0m: \tactivation: gelu\n",
            "\u001b[34m\u001b[1mwandb\u001b[0m: \tdrop_rate: 0.8784660156176384\n",
            "\u001b[34m\u001b[1mwandb\u001b[0m: \tl2_reg: 0.0007790118146408066\n",
            "\u001b[34m\u001b[1mwandb\u001b[0m: \tlearning_rate: 0.02652112231868815\n",
            "\u001b[34m\u001b[1mwandb\u001b[0m: \toptimizer: SGD\n"
          ]
        },
        {
          "output_type": "display_data",
          "data": {
            "text/plain": [
              "<IPython.core.display.HTML object>"
            ],
            "text/html": [
              "Tracking run with wandb version 0.16.1"
            ]
          },
          "metadata": {}
        },
        {
          "output_type": "display_data",
          "data": {
            "text/plain": [
              "<IPython.core.display.HTML object>"
            ],
            "text/html": [
              "Run data is saved locally in <code>/content/wandb/run-20231208_180157-203bgpra</code>"
            ]
          },
          "metadata": {}
        },
        {
          "output_type": "display_data",
          "data": {
            "text/plain": [
              "<IPython.core.display.HTML object>"
            ],
            "text/html": [
              "Syncing run <strong><a href='https://wandb.ai/bounteam/CMPE49T/runs/203bgpra' target=\"_blank\">chocolate-sweep-4</a></strong> to <a href='https://wandb.ai/bounteam/CMPE49T' target=\"_blank\">Weights & Biases</a> (<a href='https://wandb.me/run' target=\"_blank\">docs</a>)<br/>Sweep page: <a href='https://wandb.ai/bounteam/CMPE49T/sweeps/6c7j83ps' target=\"_blank\">https://wandb.ai/bounteam/CMPE49T/sweeps/6c7j83ps</a>"
            ]
          },
          "metadata": {}
        },
        {
          "output_type": "display_data",
          "data": {
            "text/plain": [
              "<IPython.core.display.HTML object>"
            ],
            "text/html": [
              " View project at <a href='https://wandb.ai/bounteam/CMPE49T' target=\"_blank\">https://wandb.ai/bounteam/CMPE49T</a>"
            ]
          },
          "metadata": {}
        },
        {
          "output_type": "display_data",
          "data": {
            "text/plain": [
              "<IPython.core.display.HTML object>"
            ],
            "text/html": [
              " View sweep at <a href='https://wandb.ai/bounteam/CMPE49T/sweeps/6c7j83ps' target=\"_blank\">https://wandb.ai/bounteam/CMPE49T/sweeps/6c7j83ps</a>"
            ]
          },
          "metadata": {}
        },
        {
          "output_type": "display_data",
          "data": {
            "text/plain": [
              "<IPython.core.display.HTML object>"
            ],
            "text/html": [
              " View run at <a href='https://wandb.ai/bounteam/CMPE49T/runs/203bgpra' target=\"_blank\">https://wandb.ai/bounteam/CMPE49T/runs/203bgpra</a>"
            ]
          },
          "metadata": {}
        },
        {
          "output_type": "stream",
          "name": "stdout",
          "text": [
            "Epoch [1/50]\n"
          ]
        },
        {
          "output_type": "stream",
          "name": "stderr",
          "text": [
            "100%|██████████| 69/69 [00:39<00:00,  1.74it/s]\n",
            "100%|██████████| 88/88 [00:17<00:00,  4.95it/s]\n"
          ]
        },
        {
          "output_type": "stream",
          "name": "stdout",
          "text": [
            "loss 0.9140 - acc 0.7030 - val_loss 0.4966 - val_acc 0.7911\n",
            "=> saved best model\n",
            "Epoch [2/50]\n"
          ]
        },
        {
          "output_type": "stream",
          "name": "stderr",
          "text": [
            "100%|██████████| 69/69 [00:40<00:00,  1.71it/s]\n",
            "100%|██████████| 88/88 [00:17<00:00,  5.02it/s]\n"
          ]
        },
        {
          "output_type": "stream",
          "name": "stdout",
          "text": [
            "loss 1.0785 - acc 0.7583 - val_loss 0.6185 - val_acc 0.7230\n",
            "Epoch [3/50]\n"
          ]
        },
        {
          "output_type": "stream",
          "name": "stderr",
          "text": [
            "100%|██████████| 69/69 [00:40<00:00,  1.72it/s]\n",
            "100%|██████████| 88/88 [00:17<00:00,  5.05it/s]\n"
          ]
        },
        {
          "output_type": "stream",
          "name": "stdout",
          "text": [
            "loss 0.9778 - acc 0.7686 - val_loss 0.6542 - val_acc 0.6833\n",
            "Epoch [4/50]\n"
          ]
        },
        {
          "output_type": "stream",
          "name": "stderr",
          "text": [
            "100%|██████████| 69/69 [00:38<00:00,  1.77it/s]\n",
            "100%|██████████| 88/88 [00:17<00:00,  5.08it/s]\n"
          ]
        },
        {
          "output_type": "stream",
          "name": "stdout",
          "text": [
            "loss 0.7193 - acc 0.8035 - val_loss 0.6480 - val_acc 0.7417\n",
            "Epoch [5/50]\n"
          ]
        },
        {
          "output_type": "stream",
          "name": "stderr",
          "text": [
            "100%|██████████| 69/69 [00:39<00:00,  1.73it/s]\n",
            "100%|██████████| 88/88 [00:17<00:00,  5.10it/s]\n"
          ]
        },
        {
          "output_type": "stream",
          "name": "stdout",
          "text": [
            "loss 0.3591 - acc 0.8529 - val_loss 0.5957 - val_acc 0.7270\n",
            "Epoch [6/50]\n"
          ]
        },
        {
          "output_type": "stream",
          "name": "stderr",
          "text": [
            "100%|██████████| 69/69 [00:38<00:00,  1.78it/s]\n",
            "100%|██████████| 88/88 [00:17<00:00,  5.09it/s]\n"
          ]
        },
        {
          "output_type": "stream",
          "name": "stdout",
          "text": [
            "loss 0.3007 - acc 0.8778 - val_loss 0.5388 - val_acc 0.7628\n",
            "Epoch [7/50]\n"
          ]
        },
        {
          "output_type": "stream",
          "name": "stderr",
          "text": [
            "100%|██████████| 69/69 [00:39<00:00,  1.73it/s]\n",
            "100%|██████████| 88/88 [00:18<00:00,  4.67it/s]\n"
          ]
        },
        {
          "output_type": "stream",
          "name": "stdout",
          "text": [
            "loss 0.2352 - acc 0.9082 - val_loss 0.7796 - val_acc 0.7467\n",
            "Epoch [8/50]\n"
          ]
        },
        {
          "output_type": "stream",
          "name": "stderr",
          "text": [
            "100%|██████████| 69/69 [00:38<00:00,  1.77it/s]\n",
            "100%|██████████| 88/88 [00:17<00:00,  5.11it/s]\n"
          ]
        },
        {
          "output_type": "stream",
          "name": "stdout",
          "text": [
            "loss 0.2213 - acc 0.9116 - val_loss 0.7396 - val_acc 0.7320\n",
            "Epoch [9/50]\n"
          ]
        },
        {
          "output_type": "stream",
          "name": "stderr",
          "text": [
            "100%|██████████| 69/69 [00:40<00:00,  1.72it/s]\n",
            "100%|██████████| 88/88 [00:17<00:00,  5.10it/s]\n"
          ]
        },
        {
          "output_type": "stream",
          "name": "stdout",
          "text": [
            "loss 0.1861 - acc 0.9276 - val_loss 0.7386 - val_acc 0.7671\n",
            "Epoch [10/50]\n"
          ]
        },
        {
          "output_type": "stream",
          "name": "stderr",
          "text": [
            "100%|██████████| 69/69 [00:38<00:00,  1.78it/s]\n",
            "100%|██████████| 88/88 [00:17<00:00,  5.09it/s]\n"
          ]
        },
        {
          "output_type": "stream",
          "name": "stdout",
          "text": [
            "loss 0.1702 - acc 0.9372 - val_loss 0.7906 - val_acc 0.7775\n",
            "Epoch [11/50]\n"
          ]
        },
        {
          "output_type": "stream",
          "name": "stderr",
          "text": [
            "100%|██████████| 69/69 [00:40<00:00,  1.72it/s]\n",
            "100%|██████████| 88/88 [00:17<00:00,  5.13it/s]\n"
          ]
        },
        {
          "output_type": "stream",
          "name": "stdout",
          "text": [
            "loss 0.1540 - acc 0.9385 - val_loss 0.7278 - val_acc 0.7961\n",
            "Epoch [12/50]\n"
          ]
        },
        {
          "output_type": "stream",
          "name": "stderr",
          "text": [
            "100%|██████████| 69/69 [00:38<00:00,  1.79it/s]\n",
            "100%|██████████| 88/88 [00:17<00:00,  5.03it/s]\n"
          ]
        },
        {
          "output_type": "stream",
          "name": "stdout",
          "text": [
            "Epoch 00012: reducing learning rate of group 0 to 2.6521e-03.\n",
            "loss 0.1251 - acc 0.9509 - val_loss 0.9159 - val_acc 0.7922\n",
            "Epoch [13/50]\n"
          ]
        },
        {
          "output_type": "stream",
          "name": "stderr",
          "text": [
            "100%|██████████| 69/69 [00:41<00:00,  1.67it/s]\n",
            "100%|██████████| 88/88 [00:17<00:00,  5.13it/s]\n"
          ]
        },
        {
          "output_type": "stream",
          "name": "stdout",
          "text": [
            "loss 0.0934 - acc 0.9650 - val_loss 0.9124 - val_acc 0.7746\n",
            "Epoch [14/50]\n"
          ]
        },
        {
          "output_type": "stream",
          "name": "stderr",
          "text": [
            "100%|██████████| 69/69 [00:38<00:00,  1.78it/s]\n",
            "100%|██████████| 88/88 [00:17<00:00,  5.03it/s]\n"
          ]
        },
        {
          "output_type": "stream",
          "name": "stdout",
          "text": [
            "loss 0.0843 - acc 0.9708 - val_loss 0.9344 - val_acc 0.7757\n",
            "Epoch [15/50]\n"
          ]
        },
        {
          "output_type": "stream",
          "name": "stderr",
          "text": [
            "100%|██████████| 69/69 [00:39<00:00,  1.75it/s]\n",
            "100%|██████████| 88/88 [00:17<00:00,  5.13it/s]\n"
          ]
        },
        {
          "output_type": "stream",
          "name": "stdout",
          "text": [
            "loss 0.0802 - acc 0.9689 - val_loss 0.9477 - val_acc 0.7728\n",
            "Epoch [16/50]\n"
          ]
        },
        {
          "output_type": "stream",
          "name": "stderr",
          "text": [
            "100%|██████████| 69/69 [00:38<00:00,  1.77it/s]\n",
            "100%|██████████| 88/88 [00:17<00:00,  4.94it/s]\n"
          ]
        },
        {
          "output_type": "stream",
          "name": "stdout",
          "text": [
            "loss 0.0699 - acc 0.9737 - val_loss 0.9804 - val_acc 0.7761\n",
            "=> early stopping\n"
          ]
        },
        {
          "output_type": "stream",
          "name": "stderr",
          "text": [
            "100%|██████████| 7318/7318 [01:20<00:00, 91.18it/s]\n"
          ]
        },
        {
          "output_type": "display_data",
          "data": {
            "text/plain": [
              "VBox(children=(Label(value='0.001 MB of 0.001 MB uploaded\\r'), FloatProgress(value=1.0, max=1.0)))"
            ],
            "application/vnd.jupyter.widget-view+json": {
              "version_major": 2,
              "version_minor": 0,
              "model_id": "fd6b9f691dbc4a17b007d175f4b40fe5"
            }
          },
          "metadata": {}
        },
        {
          "output_type": "display_data",
          "data": {
            "text/plain": [
              "<IPython.core.display.HTML object>"
            ],
            "text/html": [
              "<style>\n",
              "    table.wandb td:nth-child(1) { padding: 0 10px; text-align: left ; width: auto;} td:nth-child(2) {text-align: left ; width: 100%}\n",
              "    .wandb-row { display: flex; flex-direction: row; flex-wrap: wrap; justify-content: flex-start; width: 100% }\n",
              "    .wandb-col { display: flex; flex-direction: column; flex-basis: 100%; flex: 1; padding: 10px; }\n",
              "    </style>\n",
              "<div class=\"wandb-row\"><div class=\"wandb-col\"><h3>Run history:</h3><br/><table class=\"wandb\"><tr><td>train_acc</td><td>▁▂▃▄▅▆▆▆▇▇▇▇████</td></tr><tr><td>train_loss</td><td>▇█▇▆▃▃▂▂▂▂▂▁▁▁▁▁</td></tr><tr><td>val_acc</td><td>█▃▁▅▄▆▅▄▆▇██▇▇▇▇</td></tr><tr><td>val_loss</td><td>▁▃▃▃▂▂▅▅▅▅▄▇▇▇██</td></tr></table><br/></div><div class=\"wandb-col\"><h3>Run summary:</h3><br/><table class=\"wandb\"><tr><td>test_acc</td><td>acc</td></tr><tr><td>test_loss</td><td>loss</td></tr><tr><td>train_acc</td><td>0.97373</td></tr><tr><td>train_loss</td><td>0.06991</td></tr><tr><td>val_acc</td><td>0.77607</td></tr><tr><td>val_loss</td><td>0.98038</td></tr></table><br/></div></div>"
            ]
          },
          "metadata": {}
        },
        {
          "output_type": "display_data",
          "data": {
            "text/plain": [
              "<IPython.core.display.HTML object>"
            ],
            "text/html": [
              " View run <strong style=\"color:#cdcd00\">chocolate-sweep-4</strong> at: <a href='https://wandb.ai/bounteam/CMPE49T/runs/203bgpra' target=\"_blank\">https://wandb.ai/bounteam/CMPE49T/runs/203bgpra</a><br/>Synced 5 W&B file(s), 0 media file(s), 0 artifact file(s) and 0 other file(s)"
            ]
          },
          "metadata": {}
        },
        {
          "output_type": "display_data",
          "data": {
            "text/plain": [
              "<IPython.core.display.HTML object>"
            ],
            "text/html": [
              "Find logs at: <code>./wandb/run-20231208_180157-203bgpra/logs</code>"
            ]
          },
          "metadata": {}
        },
        {
          "output_type": "stream",
          "name": "stderr",
          "text": [
            "\u001b[34m\u001b[1mwandb\u001b[0m: Agent Starting Run: go14l5e6 with config:\n",
            "\u001b[34m\u001b[1mwandb\u001b[0m: \tactivation: leaky_relu\n",
            "\u001b[34m\u001b[1mwandb\u001b[0m: \tdrop_rate: 0.09004862455118316\n",
            "\u001b[34m\u001b[1mwandb\u001b[0m: \tl2_reg: 0.03737966263329839\n",
            "\u001b[34m\u001b[1mwandb\u001b[0m: \tlearning_rate: 0.09883359374748772\n",
            "\u001b[34m\u001b[1mwandb\u001b[0m: \toptimizer: RMSprop\n"
          ]
        },
        {
          "output_type": "display_data",
          "data": {
            "text/plain": [
              "<IPython.core.display.HTML object>"
            ],
            "text/html": [
              "Tracking run with wandb version 0.16.1"
            ]
          },
          "metadata": {}
        },
        {
          "output_type": "display_data",
          "data": {
            "text/plain": [
              "<IPython.core.display.HTML object>"
            ],
            "text/html": [
              "Run data is saved locally in <code>/content/wandb/run-20231208_181842-go14l5e6</code>"
            ]
          },
          "metadata": {}
        },
        {
          "output_type": "display_data",
          "data": {
            "text/plain": [
              "<IPython.core.display.HTML object>"
            ],
            "text/html": [
              "Syncing run <strong><a href='https://wandb.ai/bounteam/CMPE49T/runs/go14l5e6' target=\"_blank\">efficient-sweep-5</a></strong> to <a href='https://wandb.ai/bounteam/CMPE49T' target=\"_blank\">Weights & Biases</a> (<a href='https://wandb.me/run' target=\"_blank\">docs</a>)<br/>Sweep page: <a href='https://wandb.ai/bounteam/CMPE49T/sweeps/6c7j83ps' target=\"_blank\">https://wandb.ai/bounteam/CMPE49T/sweeps/6c7j83ps</a>"
            ]
          },
          "metadata": {}
        },
        {
          "output_type": "display_data",
          "data": {
            "text/plain": [
              "<IPython.core.display.HTML object>"
            ],
            "text/html": [
              " View project at <a href='https://wandb.ai/bounteam/CMPE49T' target=\"_blank\">https://wandb.ai/bounteam/CMPE49T</a>"
            ]
          },
          "metadata": {}
        },
        {
          "output_type": "display_data",
          "data": {
            "text/plain": [
              "<IPython.core.display.HTML object>"
            ],
            "text/html": [
              " View sweep at <a href='https://wandb.ai/bounteam/CMPE49T/sweeps/6c7j83ps' target=\"_blank\">https://wandb.ai/bounteam/CMPE49T/sweeps/6c7j83ps</a>"
            ]
          },
          "metadata": {}
        },
        {
          "output_type": "display_data",
          "data": {
            "text/plain": [
              "<IPython.core.display.HTML object>"
            ],
            "text/html": [
              " View run at <a href='https://wandb.ai/bounteam/CMPE49T/runs/go14l5e6' target=\"_blank\">https://wandb.ai/bounteam/CMPE49T/runs/go14l5e6</a>"
            ]
          },
          "metadata": {}
        },
        {
          "output_type": "stream",
          "name": "stdout",
          "text": [
            "Epoch [1/50]\n"
          ]
        },
        {
          "output_type": "stream",
          "name": "stderr",
          "text": [
            " 81%|████████  | 56/69 [00:33<00:08,  1.47it/s]\u001b[34m\u001b[1mwandb\u001b[0m: Ctrl + C detected. Stopping sweep.\n"
          ]
        }
      ],
      "source": [
        "wandb.agent(sweep_id, function=main)"
      ]
    }
  ],
  "metadata": {
    "accelerator": "GPU",
    "colab": {
      "collapsed_sections": [
        "HUzFO3Za-AU4",
        "QMKxclhvd9fz",
        "j1LyhJcvl70h",
        "wEN_w6q3tbZM"
      ],
      "provenance": []
    },
    "gpuClass": "standard",
    "kernelspec": {
      "display_name": "Python 3",
      "name": "python3"
    },
    "language_info": {
      "name": "python"
    },
    "widgets": {
      "application/vnd.jupyter.widget-state+json": {
        "47df587da9bd4ddc9ee6157b7d527b07": {
          "model_module": "@jupyter-widgets/controls",
          "model_name": "VBoxModel",
          "model_module_version": "1.5.0",
          "state": {
            "_dom_classes": [],
            "_model_module": "@jupyter-widgets/controls",
            "_model_module_version": "1.5.0",
            "_model_name": "VBoxModel",
            "_view_count": null,
            "_view_module": "@jupyter-widgets/controls",
            "_view_module_version": "1.5.0",
            "_view_name": "VBoxView",
            "box_style": "",
            "children": [
              "IPY_MODEL_f0543ecb65404043b4d8157d263f2414",
              "IPY_MODEL_963baf7521af4b35995afa321e4e3072"
            ],
            "layout": "IPY_MODEL_fd34793342034dea98a15dabe9d26c8d"
          }
        },
        "f0543ecb65404043b4d8157d263f2414": {
          "model_module": "@jupyter-widgets/controls",
          "model_name": "LabelModel",
          "model_module_version": "1.5.0",
          "state": {
            "_dom_classes": [],
            "_model_module": "@jupyter-widgets/controls",
            "_model_module_version": "1.5.0",
            "_model_name": "LabelModel",
            "_view_count": null,
            "_view_module": "@jupyter-widgets/controls",
            "_view_module_version": "1.5.0",
            "_view_name": "LabelView",
            "description": "",
            "description_tooltip": null,
            "layout": "IPY_MODEL_550884cdfb234602830a4d776149a41c",
            "placeholder": "​",
            "style": "IPY_MODEL_baca7553dae9422dbf04ec4025bafdec",
            "value": "0.016 MB of 0.016 MB uploaded\r"
          }
        },
        "963baf7521af4b35995afa321e4e3072": {
          "model_module": "@jupyter-widgets/controls",
          "model_name": "FloatProgressModel",
          "model_module_version": "1.5.0",
          "state": {
            "_dom_classes": [],
            "_model_module": "@jupyter-widgets/controls",
            "_model_module_version": "1.5.0",
            "_model_name": "FloatProgressModel",
            "_view_count": null,
            "_view_module": "@jupyter-widgets/controls",
            "_view_module_version": "1.5.0",
            "_view_name": "ProgressView",
            "bar_style": "",
            "description": "",
            "description_tooltip": null,
            "layout": "IPY_MODEL_a343c821a85e4f228318a4e99f4e0ec0",
            "max": 1,
            "min": 0,
            "orientation": "horizontal",
            "style": "IPY_MODEL_03e5bb3fd0534b1494bb87fdb062538e",
            "value": 1
          }
        },
        "fd34793342034dea98a15dabe9d26c8d": {
          "model_module": "@jupyter-widgets/base",
          "model_name": "LayoutModel",
          "model_module_version": "1.2.0",
          "state": {
            "_model_module": "@jupyter-widgets/base",
            "_model_module_version": "1.2.0",
            "_model_name": "LayoutModel",
            "_view_count": null,
            "_view_module": "@jupyter-widgets/base",
            "_view_module_version": "1.2.0",
            "_view_name": "LayoutView",
            "align_content": null,
            "align_items": null,
            "align_self": null,
            "border": null,
            "bottom": null,
            "display": null,
            "flex": null,
            "flex_flow": null,
            "grid_area": null,
            "grid_auto_columns": null,
            "grid_auto_flow": null,
            "grid_auto_rows": null,
            "grid_column": null,
            "grid_gap": null,
            "grid_row": null,
            "grid_template_areas": null,
            "grid_template_columns": null,
            "grid_template_rows": null,
            "height": null,
            "justify_content": null,
            "justify_items": null,
            "left": null,
            "margin": null,
            "max_height": null,
            "max_width": null,
            "min_height": null,
            "min_width": null,
            "object_fit": null,
            "object_position": null,
            "order": null,
            "overflow": null,
            "overflow_x": null,
            "overflow_y": null,
            "padding": null,
            "right": null,
            "top": null,
            "visibility": null,
            "width": null
          }
        },
        "550884cdfb234602830a4d776149a41c": {
          "model_module": "@jupyter-widgets/base",
          "model_name": "LayoutModel",
          "model_module_version": "1.2.0",
          "state": {
            "_model_module": "@jupyter-widgets/base",
            "_model_module_version": "1.2.0",
            "_model_name": "LayoutModel",
            "_view_count": null,
            "_view_module": "@jupyter-widgets/base",
            "_view_module_version": "1.2.0",
            "_view_name": "LayoutView",
            "align_content": null,
            "align_items": null,
            "align_self": null,
            "border": null,
            "bottom": null,
            "display": null,
            "flex": null,
            "flex_flow": null,
            "grid_area": null,
            "grid_auto_columns": null,
            "grid_auto_flow": null,
            "grid_auto_rows": null,
            "grid_column": null,
            "grid_gap": null,
            "grid_row": null,
            "grid_template_areas": null,
            "grid_template_columns": null,
            "grid_template_rows": null,
            "height": null,
            "justify_content": null,
            "justify_items": null,
            "left": null,
            "margin": null,
            "max_height": null,
            "max_width": null,
            "min_height": null,
            "min_width": null,
            "object_fit": null,
            "object_position": null,
            "order": null,
            "overflow": null,
            "overflow_x": null,
            "overflow_y": null,
            "padding": null,
            "right": null,
            "top": null,
            "visibility": null,
            "width": null
          }
        },
        "baca7553dae9422dbf04ec4025bafdec": {
          "model_module": "@jupyter-widgets/controls",
          "model_name": "DescriptionStyleModel",
          "model_module_version": "1.5.0",
          "state": {
            "_model_module": "@jupyter-widgets/controls",
            "_model_module_version": "1.5.0",
            "_model_name": "DescriptionStyleModel",
            "_view_count": null,
            "_view_module": "@jupyter-widgets/base",
            "_view_module_version": "1.2.0",
            "_view_name": "StyleView",
            "description_width": ""
          }
        },
        "a343c821a85e4f228318a4e99f4e0ec0": {
          "model_module": "@jupyter-widgets/base",
          "model_name": "LayoutModel",
          "model_module_version": "1.2.0",
          "state": {
            "_model_module": "@jupyter-widgets/base",
            "_model_module_version": "1.2.0",
            "_model_name": "LayoutModel",
            "_view_count": null,
            "_view_module": "@jupyter-widgets/base",
            "_view_module_version": "1.2.0",
            "_view_name": "LayoutView",
            "align_content": null,
            "align_items": null,
            "align_self": null,
            "border": null,
            "bottom": null,
            "display": null,
            "flex": null,
            "flex_flow": null,
            "grid_area": null,
            "grid_auto_columns": null,
            "grid_auto_flow": null,
            "grid_auto_rows": null,
            "grid_column": null,
            "grid_gap": null,
            "grid_row": null,
            "grid_template_areas": null,
            "grid_template_columns": null,
            "grid_template_rows": null,
            "height": null,
            "justify_content": null,
            "justify_items": null,
            "left": null,
            "margin": null,
            "max_height": null,
            "max_width": null,
            "min_height": null,
            "min_width": null,
            "object_fit": null,
            "object_position": null,
            "order": null,
            "overflow": null,
            "overflow_x": null,
            "overflow_y": null,
            "padding": null,
            "right": null,
            "top": null,
            "visibility": null,
            "width": null
          }
        },
        "03e5bb3fd0534b1494bb87fdb062538e": {
          "model_module": "@jupyter-widgets/controls",
          "model_name": "ProgressStyleModel",
          "model_module_version": "1.5.0",
          "state": {
            "_model_module": "@jupyter-widgets/controls",
            "_model_module_version": "1.5.0",
            "_model_name": "ProgressStyleModel",
            "_view_count": null,
            "_view_module": "@jupyter-widgets/base",
            "_view_module_version": "1.2.0",
            "_view_name": "StyleView",
            "bar_color": null,
            "description_width": ""
          }
        },
        "12a2fb6fbf344947a963e8c5021241d4": {
          "model_module": "@jupyter-widgets/controls",
          "model_name": "VBoxModel",
          "model_module_version": "1.5.0",
          "state": {
            "_dom_classes": [],
            "_model_module": "@jupyter-widgets/controls",
            "_model_module_version": "1.5.0",
            "_model_name": "VBoxModel",
            "_view_count": null,
            "_view_module": "@jupyter-widgets/controls",
            "_view_module_version": "1.5.0",
            "_view_name": "VBoxView",
            "box_style": "",
            "children": [
              "IPY_MODEL_fc878790c0974e4497bfc3f6727c34ad",
              "IPY_MODEL_c9dc6313976e4a36947457ea9e5deeb8"
            ],
            "layout": "IPY_MODEL_1f5301348af442dc904e21bde7571a02"
          }
        },
        "fc878790c0974e4497bfc3f6727c34ad": {
          "model_module": "@jupyter-widgets/controls",
          "model_name": "LabelModel",
          "model_module_version": "1.5.0",
          "state": {
            "_dom_classes": [],
            "_model_module": "@jupyter-widgets/controls",
            "_model_module_version": "1.5.0",
            "_model_name": "LabelModel",
            "_view_count": null,
            "_view_module": "@jupyter-widgets/controls",
            "_view_module_version": "1.5.0",
            "_view_name": "LabelView",
            "description": "",
            "description_tooltip": null,
            "layout": "IPY_MODEL_fe9001b440df4b4d82f493375eefefd5",
            "placeholder": "​",
            "style": "IPY_MODEL_ba0428c5dfb6408c8d71f65f6c0d56b8",
            "value": "0.016 MB of 0.016 MB uploaded\r"
          }
        },
        "c9dc6313976e4a36947457ea9e5deeb8": {
          "model_module": "@jupyter-widgets/controls",
          "model_name": "FloatProgressModel",
          "model_module_version": "1.5.0",
          "state": {
            "_dom_classes": [],
            "_model_module": "@jupyter-widgets/controls",
            "_model_module_version": "1.5.0",
            "_model_name": "FloatProgressModel",
            "_view_count": null,
            "_view_module": "@jupyter-widgets/controls",
            "_view_module_version": "1.5.0",
            "_view_name": "ProgressView",
            "bar_style": "",
            "description": "",
            "description_tooltip": null,
            "layout": "IPY_MODEL_534c9b67dbe34a04a2ee4053a42315b1",
            "max": 1,
            "min": 0,
            "orientation": "horizontal",
            "style": "IPY_MODEL_65b461d49b3d4fc39e20e6eb03eb2e3c",
            "value": 1
          }
        },
        "1f5301348af442dc904e21bde7571a02": {
          "model_module": "@jupyter-widgets/base",
          "model_name": "LayoutModel",
          "model_module_version": "1.2.0",
          "state": {
            "_model_module": "@jupyter-widgets/base",
            "_model_module_version": "1.2.0",
            "_model_name": "LayoutModel",
            "_view_count": null,
            "_view_module": "@jupyter-widgets/base",
            "_view_module_version": "1.2.0",
            "_view_name": "LayoutView",
            "align_content": null,
            "align_items": null,
            "align_self": null,
            "border": null,
            "bottom": null,
            "display": null,
            "flex": null,
            "flex_flow": null,
            "grid_area": null,
            "grid_auto_columns": null,
            "grid_auto_flow": null,
            "grid_auto_rows": null,
            "grid_column": null,
            "grid_gap": null,
            "grid_row": null,
            "grid_template_areas": null,
            "grid_template_columns": null,
            "grid_template_rows": null,
            "height": null,
            "justify_content": null,
            "justify_items": null,
            "left": null,
            "margin": null,
            "max_height": null,
            "max_width": null,
            "min_height": null,
            "min_width": null,
            "object_fit": null,
            "object_position": null,
            "order": null,
            "overflow": null,
            "overflow_x": null,
            "overflow_y": null,
            "padding": null,
            "right": null,
            "top": null,
            "visibility": null,
            "width": null
          }
        },
        "fe9001b440df4b4d82f493375eefefd5": {
          "model_module": "@jupyter-widgets/base",
          "model_name": "LayoutModel",
          "model_module_version": "1.2.0",
          "state": {
            "_model_module": "@jupyter-widgets/base",
            "_model_module_version": "1.2.0",
            "_model_name": "LayoutModel",
            "_view_count": null,
            "_view_module": "@jupyter-widgets/base",
            "_view_module_version": "1.2.0",
            "_view_name": "LayoutView",
            "align_content": null,
            "align_items": null,
            "align_self": null,
            "border": null,
            "bottom": null,
            "display": null,
            "flex": null,
            "flex_flow": null,
            "grid_area": null,
            "grid_auto_columns": null,
            "grid_auto_flow": null,
            "grid_auto_rows": null,
            "grid_column": null,
            "grid_gap": null,
            "grid_row": null,
            "grid_template_areas": null,
            "grid_template_columns": null,
            "grid_template_rows": null,
            "height": null,
            "justify_content": null,
            "justify_items": null,
            "left": null,
            "margin": null,
            "max_height": null,
            "max_width": null,
            "min_height": null,
            "min_width": null,
            "object_fit": null,
            "object_position": null,
            "order": null,
            "overflow": null,
            "overflow_x": null,
            "overflow_y": null,
            "padding": null,
            "right": null,
            "top": null,
            "visibility": null,
            "width": null
          }
        },
        "ba0428c5dfb6408c8d71f65f6c0d56b8": {
          "model_module": "@jupyter-widgets/controls",
          "model_name": "DescriptionStyleModel",
          "model_module_version": "1.5.0",
          "state": {
            "_model_module": "@jupyter-widgets/controls",
            "_model_module_version": "1.5.0",
            "_model_name": "DescriptionStyleModel",
            "_view_count": null,
            "_view_module": "@jupyter-widgets/base",
            "_view_module_version": "1.2.0",
            "_view_name": "StyleView",
            "description_width": ""
          }
        },
        "534c9b67dbe34a04a2ee4053a42315b1": {
          "model_module": "@jupyter-widgets/base",
          "model_name": "LayoutModel",
          "model_module_version": "1.2.0",
          "state": {
            "_model_module": "@jupyter-widgets/base",
            "_model_module_version": "1.2.0",
            "_model_name": "LayoutModel",
            "_view_count": null,
            "_view_module": "@jupyter-widgets/base",
            "_view_module_version": "1.2.0",
            "_view_name": "LayoutView",
            "align_content": null,
            "align_items": null,
            "align_self": null,
            "border": null,
            "bottom": null,
            "display": null,
            "flex": null,
            "flex_flow": null,
            "grid_area": null,
            "grid_auto_columns": null,
            "grid_auto_flow": null,
            "grid_auto_rows": null,
            "grid_column": null,
            "grid_gap": null,
            "grid_row": null,
            "grid_template_areas": null,
            "grid_template_columns": null,
            "grid_template_rows": null,
            "height": null,
            "justify_content": null,
            "justify_items": null,
            "left": null,
            "margin": null,
            "max_height": null,
            "max_width": null,
            "min_height": null,
            "min_width": null,
            "object_fit": null,
            "object_position": null,
            "order": null,
            "overflow": null,
            "overflow_x": null,
            "overflow_y": null,
            "padding": null,
            "right": null,
            "top": null,
            "visibility": null,
            "width": null
          }
        },
        "65b461d49b3d4fc39e20e6eb03eb2e3c": {
          "model_module": "@jupyter-widgets/controls",
          "model_name": "ProgressStyleModel",
          "model_module_version": "1.5.0",
          "state": {
            "_model_module": "@jupyter-widgets/controls",
            "_model_module_version": "1.5.0",
            "_model_name": "ProgressStyleModel",
            "_view_count": null,
            "_view_module": "@jupyter-widgets/base",
            "_view_module_version": "1.2.0",
            "_view_name": "StyleView",
            "bar_color": null,
            "description_width": ""
          }
        },
        "a0300a59ac6247a681ff7474ab7d0f8a": {
          "model_module": "@jupyter-widgets/controls",
          "model_name": "VBoxModel",
          "model_module_version": "1.5.0",
          "state": {
            "_dom_classes": [],
            "_model_module": "@jupyter-widgets/controls",
            "_model_module_version": "1.5.0",
            "_model_name": "VBoxModel",
            "_view_count": null,
            "_view_module": "@jupyter-widgets/controls",
            "_view_module_version": "1.5.0",
            "_view_name": "VBoxView",
            "box_style": "",
            "children": [
              "IPY_MODEL_37e36756b3d34b49b4b8883571f64e58",
              "IPY_MODEL_488850c68d714e259d4228045055bd13"
            ],
            "layout": "IPY_MODEL_7760811008254eb1a63975dc66477ed0"
          }
        },
        "37e36756b3d34b49b4b8883571f64e58": {
          "model_module": "@jupyter-widgets/controls",
          "model_name": "LabelModel",
          "model_module_version": "1.5.0",
          "state": {
            "_dom_classes": [],
            "_model_module": "@jupyter-widgets/controls",
            "_model_module_version": "1.5.0",
            "_model_name": "LabelModel",
            "_view_count": null,
            "_view_module": "@jupyter-widgets/controls",
            "_view_module_version": "1.5.0",
            "_view_name": "LabelView",
            "description": "",
            "description_tooltip": null,
            "layout": "IPY_MODEL_c31e240140b0496a921f0d4cd5e0cee7",
            "placeholder": "​",
            "style": "IPY_MODEL_e505bb5c951d4e78b650312f799ae605",
            "value": "0.018 MB of 0.018 MB uploaded\r"
          }
        },
        "488850c68d714e259d4228045055bd13": {
          "model_module": "@jupyter-widgets/controls",
          "model_name": "FloatProgressModel",
          "model_module_version": "1.5.0",
          "state": {
            "_dom_classes": [],
            "_model_module": "@jupyter-widgets/controls",
            "_model_module_version": "1.5.0",
            "_model_name": "FloatProgressModel",
            "_view_count": null,
            "_view_module": "@jupyter-widgets/controls",
            "_view_module_version": "1.5.0",
            "_view_name": "ProgressView",
            "bar_style": "",
            "description": "",
            "description_tooltip": null,
            "layout": "IPY_MODEL_aca52c0191c54e428520f6f948ed8504",
            "max": 1,
            "min": 0,
            "orientation": "horizontal",
            "style": "IPY_MODEL_d38611d45f044d868781b139e7179b0a",
            "value": 1
          }
        },
        "7760811008254eb1a63975dc66477ed0": {
          "model_module": "@jupyter-widgets/base",
          "model_name": "LayoutModel",
          "model_module_version": "1.2.0",
          "state": {
            "_model_module": "@jupyter-widgets/base",
            "_model_module_version": "1.2.0",
            "_model_name": "LayoutModel",
            "_view_count": null,
            "_view_module": "@jupyter-widgets/base",
            "_view_module_version": "1.2.0",
            "_view_name": "LayoutView",
            "align_content": null,
            "align_items": null,
            "align_self": null,
            "border": null,
            "bottom": null,
            "display": null,
            "flex": null,
            "flex_flow": null,
            "grid_area": null,
            "grid_auto_columns": null,
            "grid_auto_flow": null,
            "grid_auto_rows": null,
            "grid_column": null,
            "grid_gap": null,
            "grid_row": null,
            "grid_template_areas": null,
            "grid_template_columns": null,
            "grid_template_rows": null,
            "height": null,
            "justify_content": null,
            "justify_items": null,
            "left": null,
            "margin": null,
            "max_height": null,
            "max_width": null,
            "min_height": null,
            "min_width": null,
            "object_fit": null,
            "object_position": null,
            "order": null,
            "overflow": null,
            "overflow_x": null,
            "overflow_y": null,
            "padding": null,
            "right": null,
            "top": null,
            "visibility": null,
            "width": null
          }
        },
        "c31e240140b0496a921f0d4cd5e0cee7": {
          "model_module": "@jupyter-widgets/base",
          "model_name": "LayoutModel",
          "model_module_version": "1.2.0",
          "state": {
            "_model_module": "@jupyter-widgets/base",
            "_model_module_version": "1.2.0",
            "_model_name": "LayoutModel",
            "_view_count": null,
            "_view_module": "@jupyter-widgets/base",
            "_view_module_version": "1.2.0",
            "_view_name": "LayoutView",
            "align_content": null,
            "align_items": null,
            "align_self": null,
            "border": null,
            "bottom": null,
            "display": null,
            "flex": null,
            "flex_flow": null,
            "grid_area": null,
            "grid_auto_columns": null,
            "grid_auto_flow": null,
            "grid_auto_rows": null,
            "grid_column": null,
            "grid_gap": null,
            "grid_row": null,
            "grid_template_areas": null,
            "grid_template_columns": null,
            "grid_template_rows": null,
            "height": null,
            "justify_content": null,
            "justify_items": null,
            "left": null,
            "margin": null,
            "max_height": null,
            "max_width": null,
            "min_height": null,
            "min_width": null,
            "object_fit": null,
            "object_position": null,
            "order": null,
            "overflow": null,
            "overflow_x": null,
            "overflow_y": null,
            "padding": null,
            "right": null,
            "top": null,
            "visibility": null,
            "width": null
          }
        },
        "e505bb5c951d4e78b650312f799ae605": {
          "model_module": "@jupyter-widgets/controls",
          "model_name": "DescriptionStyleModel",
          "model_module_version": "1.5.0",
          "state": {
            "_model_module": "@jupyter-widgets/controls",
            "_model_module_version": "1.5.0",
            "_model_name": "DescriptionStyleModel",
            "_view_count": null,
            "_view_module": "@jupyter-widgets/base",
            "_view_module_version": "1.2.0",
            "_view_name": "StyleView",
            "description_width": ""
          }
        },
        "aca52c0191c54e428520f6f948ed8504": {
          "model_module": "@jupyter-widgets/base",
          "model_name": "LayoutModel",
          "model_module_version": "1.2.0",
          "state": {
            "_model_module": "@jupyter-widgets/base",
            "_model_module_version": "1.2.0",
            "_model_name": "LayoutModel",
            "_view_count": null,
            "_view_module": "@jupyter-widgets/base",
            "_view_module_version": "1.2.0",
            "_view_name": "LayoutView",
            "align_content": null,
            "align_items": null,
            "align_self": null,
            "border": null,
            "bottom": null,
            "display": null,
            "flex": null,
            "flex_flow": null,
            "grid_area": null,
            "grid_auto_columns": null,
            "grid_auto_flow": null,
            "grid_auto_rows": null,
            "grid_column": null,
            "grid_gap": null,
            "grid_row": null,
            "grid_template_areas": null,
            "grid_template_columns": null,
            "grid_template_rows": null,
            "height": null,
            "justify_content": null,
            "justify_items": null,
            "left": null,
            "margin": null,
            "max_height": null,
            "max_width": null,
            "min_height": null,
            "min_width": null,
            "object_fit": null,
            "object_position": null,
            "order": null,
            "overflow": null,
            "overflow_x": null,
            "overflow_y": null,
            "padding": null,
            "right": null,
            "top": null,
            "visibility": null,
            "width": null
          }
        },
        "d38611d45f044d868781b139e7179b0a": {
          "model_module": "@jupyter-widgets/controls",
          "model_name": "ProgressStyleModel",
          "model_module_version": "1.5.0",
          "state": {
            "_model_module": "@jupyter-widgets/controls",
            "_model_module_version": "1.5.0",
            "_model_name": "ProgressStyleModel",
            "_view_count": null,
            "_view_module": "@jupyter-widgets/base",
            "_view_module_version": "1.2.0",
            "_view_name": "StyleView",
            "bar_color": null,
            "description_width": ""
          }
        },
        "fd6b9f691dbc4a17b007d175f4b40fe5": {
          "model_module": "@jupyter-widgets/controls",
          "model_name": "VBoxModel",
          "model_module_version": "1.5.0",
          "state": {
            "_dom_classes": [],
            "_model_module": "@jupyter-widgets/controls",
            "_model_module_version": "1.5.0",
            "_model_name": "VBoxModel",
            "_view_count": null,
            "_view_module": "@jupyter-widgets/controls",
            "_view_module_version": "1.5.0",
            "_view_name": "VBoxView",
            "box_style": "",
            "children": [
              "IPY_MODEL_165ebe3c99154aa49688e2e8a6c09bb8",
              "IPY_MODEL_f1a095ea5b7a4136890e5a42b990affc"
            ],
            "layout": "IPY_MODEL_eac034b6b80b4ec9b9e22db1e7d4ce20"
          }
        },
        "165ebe3c99154aa49688e2e8a6c09bb8": {
          "model_module": "@jupyter-widgets/controls",
          "model_name": "LabelModel",
          "model_module_version": "1.5.0",
          "state": {
            "_dom_classes": [],
            "_model_module": "@jupyter-widgets/controls",
            "_model_module_version": "1.5.0",
            "_model_name": "LabelModel",
            "_view_count": null,
            "_view_module": "@jupyter-widgets/controls",
            "_view_module_version": "1.5.0",
            "_view_name": "LabelView",
            "description": "",
            "description_tooltip": null,
            "layout": "IPY_MODEL_ec9e427066f24e5fbc89f2e5d16ae5bb",
            "placeholder": "​",
            "style": "IPY_MODEL_5eec3b4953ea40588c41950d983c4662",
            "value": "0.016 MB of 0.016 MB uploaded\r"
          }
        },
        "f1a095ea5b7a4136890e5a42b990affc": {
          "model_module": "@jupyter-widgets/controls",
          "model_name": "FloatProgressModel",
          "model_module_version": "1.5.0",
          "state": {
            "_dom_classes": [],
            "_model_module": "@jupyter-widgets/controls",
            "_model_module_version": "1.5.0",
            "_model_name": "FloatProgressModel",
            "_view_count": null,
            "_view_module": "@jupyter-widgets/controls",
            "_view_module_version": "1.5.0",
            "_view_name": "ProgressView",
            "bar_style": "",
            "description": "",
            "description_tooltip": null,
            "layout": "IPY_MODEL_d7135ae839ab4fd6ad3a4b8ac3918bb8",
            "max": 1,
            "min": 0,
            "orientation": "horizontal",
            "style": "IPY_MODEL_a12ddffb27bd427185b0566524ec082d",
            "value": 1
          }
        },
        "eac034b6b80b4ec9b9e22db1e7d4ce20": {
          "model_module": "@jupyter-widgets/base",
          "model_name": "LayoutModel",
          "model_module_version": "1.2.0",
          "state": {
            "_model_module": "@jupyter-widgets/base",
            "_model_module_version": "1.2.0",
            "_model_name": "LayoutModel",
            "_view_count": null,
            "_view_module": "@jupyter-widgets/base",
            "_view_module_version": "1.2.0",
            "_view_name": "LayoutView",
            "align_content": null,
            "align_items": null,
            "align_self": null,
            "border": null,
            "bottom": null,
            "display": null,
            "flex": null,
            "flex_flow": null,
            "grid_area": null,
            "grid_auto_columns": null,
            "grid_auto_flow": null,
            "grid_auto_rows": null,
            "grid_column": null,
            "grid_gap": null,
            "grid_row": null,
            "grid_template_areas": null,
            "grid_template_columns": null,
            "grid_template_rows": null,
            "height": null,
            "justify_content": null,
            "justify_items": null,
            "left": null,
            "margin": null,
            "max_height": null,
            "max_width": null,
            "min_height": null,
            "min_width": null,
            "object_fit": null,
            "object_position": null,
            "order": null,
            "overflow": null,
            "overflow_x": null,
            "overflow_y": null,
            "padding": null,
            "right": null,
            "top": null,
            "visibility": null,
            "width": null
          }
        },
        "ec9e427066f24e5fbc89f2e5d16ae5bb": {
          "model_module": "@jupyter-widgets/base",
          "model_name": "LayoutModel",
          "model_module_version": "1.2.0",
          "state": {
            "_model_module": "@jupyter-widgets/base",
            "_model_module_version": "1.2.0",
            "_model_name": "LayoutModel",
            "_view_count": null,
            "_view_module": "@jupyter-widgets/base",
            "_view_module_version": "1.2.0",
            "_view_name": "LayoutView",
            "align_content": null,
            "align_items": null,
            "align_self": null,
            "border": null,
            "bottom": null,
            "display": null,
            "flex": null,
            "flex_flow": null,
            "grid_area": null,
            "grid_auto_columns": null,
            "grid_auto_flow": null,
            "grid_auto_rows": null,
            "grid_column": null,
            "grid_gap": null,
            "grid_row": null,
            "grid_template_areas": null,
            "grid_template_columns": null,
            "grid_template_rows": null,
            "height": null,
            "justify_content": null,
            "justify_items": null,
            "left": null,
            "margin": null,
            "max_height": null,
            "max_width": null,
            "min_height": null,
            "min_width": null,
            "object_fit": null,
            "object_position": null,
            "order": null,
            "overflow": null,
            "overflow_x": null,
            "overflow_y": null,
            "padding": null,
            "right": null,
            "top": null,
            "visibility": null,
            "width": null
          }
        },
        "5eec3b4953ea40588c41950d983c4662": {
          "model_module": "@jupyter-widgets/controls",
          "model_name": "DescriptionStyleModel",
          "model_module_version": "1.5.0",
          "state": {
            "_model_module": "@jupyter-widgets/controls",
            "_model_module_version": "1.5.0",
            "_model_name": "DescriptionStyleModel",
            "_view_count": null,
            "_view_module": "@jupyter-widgets/base",
            "_view_module_version": "1.2.0",
            "_view_name": "StyleView",
            "description_width": ""
          }
        },
        "d7135ae839ab4fd6ad3a4b8ac3918bb8": {
          "model_module": "@jupyter-widgets/base",
          "model_name": "LayoutModel",
          "model_module_version": "1.2.0",
          "state": {
            "_model_module": "@jupyter-widgets/base",
            "_model_module_version": "1.2.0",
            "_model_name": "LayoutModel",
            "_view_count": null,
            "_view_module": "@jupyter-widgets/base",
            "_view_module_version": "1.2.0",
            "_view_name": "LayoutView",
            "align_content": null,
            "align_items": null,
            "align_self": null,
            "border": null,
            "bottom": null,
            "display": null,
            "flex": null,
            "flex_flow": null,
            "grid_area": null,
            "grid_auto_columns": null,
            "grid_auto_flow": null,
            "grid_auto_rows": null,
            "grid_column": null,
            "grid_gap": null,
            "grid_row": null,
            "grid_template_areas": null,
            "grid_template_columns": null,
            "grid_template_rows": null,
            "height": null,
            "justify_content": null,
            "justify_items": null,
            "left": null,
            "margin": null,
            "max_height": null,
            "max_width": null,
            "min_height": null,
            "min_width": null,
            "object_fit": null,
            "object_position": null,
            "order": null,
            "overflow": null,
            "overflow_x": null,
            "overflow_y": null,
            "padding": null,
            "right": null,
            "top": null,
            "visibility": null,
            "width": null
          }
        },
        "a12ddffb27bd427185b0566524ec082d": {
          "model_module": "@jupyter-widgets/controls",
          "model_name": "ProgressStyleModel",
          "model_module_version": "1.5.0",
          "state": {
            "_model_module": "@jupyter-widgets/controls",
            "_model_module_version": "1.5.0",
            "_model_name": "ProgressStyleModel",
            "_view_count": null,
            "_view_module": "@jupyter-widgets/base",
            "_view_module_version": "1.2.0",
            "_view_name": "StyleView",
            "bar_color": null,
            "description_width": ""
          }
        }
      }
    }
  },
  "nbformat": 4,
  "nbformat_minor": 0
}