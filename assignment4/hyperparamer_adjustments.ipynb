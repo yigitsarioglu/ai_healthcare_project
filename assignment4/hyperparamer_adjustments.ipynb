{
  "cells": [
    {
      "cell_type": "markdown",
      "metadata": {
        "id": "HUzFO3Za-AU4"
      },
      "source": [
        "### 1. Download the Data from Kaggle and Unzip\n"
      ]
    },
    {
      "cell_type": "code",
      "execution_count": null,
      "metadata": {
        "id": "_g1YiJKHK5M8"
      },
      "outputs": [],
      "source": [
        "!pip install -q kaggle"
      ]
    },
    {
      "cell_type": "code",
      "execution_count": null,
      "metadata": {
        "id": "YTnECrlJK7UP"
      },
      "outputs": [],
      "source": [
        "from google.colab import files\n",
        "files.upload()"
      ]
    },
    {
      "cell_type": "code",
      "execution_count": null,
      "metadata": {
        "id": "RPS6a8XtLY1t"
      },
      "outputs": [],
      "source": [
        "!mkdir ~/.kaggle\n",
        "!cp kaggle.json ~/.kaggle/\n",
        "!chmod 600 ~/.kaggle/kaggle.json\n",
        "!kaggle datasets download -d 'maedemaftouni/large-covid19-ct-slice-dataset'"
      ]
    },
    {
      "cell_type": "code",
      "execution_count": 1,
      "metadata": {
        "colab": {
          "base_uri": "https://localhost:8080/"
        },
        "id": "P5ghbm_EsCVK",
        "outputId": "cf43140a-5187-4640-c9ff-0c63e4dc75d8"
      },
      "outputs": [
        {
          "output_type": "stream",
          "name": "stdout",
          "text": [
            "Mounted at /content/gdrive\n"
          ]
        }
      ],
      "source": [
        "import shutil\n",
        "from google.colab import drive\n",
        "\n",
        "drive.mount(\"/content/gdrive\")\n",
        "# Change the code below if the path to the dataset is different for you.\n",
        "shutil.unpack_archive(\"/content/gdrive/MyDrive/archive.zip\", \"/tmp/\")"
      ]
    },
    {
      "cell_type": "markdown",
      "metadata": {
        "id": "QMKxclhvd9fz"
      },
      "source": [
        "### 2. Splitting"
      ]
    },
    {
      "cell_type": "code",
      "execution_count": 2,
      "metadata": {
        "colab": {
          "base_uri": "https://localhost:8080/"
        },
        "id": "a6sKDOT9lO4P",
        "outputId": "2a363934-f841-413e-e8f9-37d6b5514579"
      },
      "outputs": [
        {
          "output_type": "stream",
          "name": "stdout",
          "text": [
            "Normal\n",
            "Number of patient:  604\n",
            "Number of image:  6893\n",
            "\n",
            "Covid\n",
            "Number of patient:  464\n",
            "Number of image:  7593\n",
            "\n",
            "CAP\n",
            "Number of patient:  54\n",
            "Number of image:  2618\n"
          ]
        }
      ],
      "source": [
        "import pandas as pd\n",
        "\n",
        "meta_normal = pd.read_csv(\"/tmp/meta_data_normal.csv\")\n",
        "meta_covid = pd.read_csv(\"/tmp/meta_data_covid.csv\", encoding='windows-1252')\n",
        "meta_cap = pd.read_csv(\"/tmp/meta_data_cap.csv\")\n",
        "\n",
        "# Define the variables below using meta dataframes\n",
        "\n",
        "normal_pt_nb = len(pd.unique(meta_normal[\"Patient ID\"])) ##### INSERT YOUR CODE HERE ##### # Number of patients in normal group\n",
        "covid_pt_nb = len(pd.unique(meta_covid[\"Patient ID\"])) ##### INSERT YOUR CODE HERE ##### # Number of patients in covid group\n",
        "cap_pt_nb = len(pd.unique(meta_cap[\"Patient ID\"])) ##### INSERT YOUR CODE HERE ##### # Number of patients in CAP group\n",
        "\n",
        "normal_img_nb = len(meta_normal) ##### INSERT YOUR CODE HERE ##### # Number of images in normal group\n",
        "covid_img_nb = len(meta_covid) ##### INSERT YOUR CODE HERE ##### # Number of images in covid group\n",
        "cap_img_nb = len(meta_cap) ##### INSERT YOUR CODE HERE ##### # Number of images in CAP group\n",
        "\n",
        "print(\"Normal\")\n",
        "print(\"Number of patient: \", normal_pt_nb)\n",
        "print(\"Number of image: \", normal_img_nb)\n",
        "\n",
        "print(\"\\nCovid\")\n",
        "print(\"Number of patient: \", covid_pt_nb)\n",
        "print(\"Number of image: \", covid_img_nb)\n",
        "\n",
        "print(\"\\nCAP\")\n",
        "print(\"Number of patient: \", cap_pt_nb)\n",
        "print(\"Number of image: \", cap_img_nb)"
      ]
    },
    {
      "cell_type": "code",
      "execution_count": 3,
      "metadata": {
        "colab": {
          "base_uri": "https://localhost:8080/"
        },
        "id": "CBbpEW_6qVHJ",
        "outputId": "bc9d3366-84b1-4989-aa89-02e6b17db9d6"
      },
      "outputs": [
        {
          "output_type": "stream",
          "name": "stdout",
          "text": [
            "Slice-based val size: \n",
            "Normal:  0.21\n",
            "Covid:  0.18\n",
            "\n",
            "Slice-based test size: \n",
            "Normal:  0.51\n",
            "Covid:  0.5\n"
          ]
        }
      ],
      "source": [
        "import numpy as np\n",
        "\n",
        "# Set seed to get the same result (I specifically chose this seed after a couple of tries so that we'll have approximately same split ratios on slice level as well)\n",
        "np.random.seed(58)\n",
        "val_split_size = .2\n",
        "test_split_size = .5\n",
        "\n",
        "normal_val_file_list, normal_test_file_list = [], []\n",
        "covid_val_file_list, covid_test_file_list = [], []\n",
        "##### START OF YOUR CODE #####\n",
        "normal_pt_list = np.array(pd.unique(meta_normal[\"Patient ID\"]))\n",
        "np.random.shuffle(normal_pt_list)\n",
        "normal_val_pts = normal_pt_list[:int(normal_pt_nb * val_split_size)]\n",
        "normal_test_pts = normal_pt_list[int(normal_pt_nb * val_split_size): int(normal_pt_nb * (val_split_size+test_split_size))]\n",
        "\n",
        "normal_val_file_list = []\n",
        "for pt in normal_val_pts:\n",
        "  for i in meta_normal[\"File name\"][meta_normal[\"Patient ID\"] == pt].values:\n",
        "    normal_val_file_list.append(i)\n",
        "\n",
        "normal_test_file_list = []\n",
        "for pt in normal_test_pts:\n",
        "  for i in meta_normal[\"File name\"][meta_normal[\"Patient ID\"] == pt].values:\n",
        "    normal_test_file_list.append(i)\n",
        "\n",
        "covid_pt_list = np.array(pd.unique(meta_covid[\"Patient ID\"]))\n",
        "np.random.shuffle(covid_pt_list)\n",
        "covid_val_pts = covid_pt_list[:int(covid_pt_nb * val_split_size)]\n",
        "covid_test_pts = covid_pt_list[int(covid_pt_nb * val_split_size): int(covid_pt_nb * (val_split_size+test_split_size))]\n",
        "\n",
        "covid_val_file_list = []\n",
        "for pt in covid_val_pts:\n",
        "  for i in meta_covid[\"File name\"][meta_covid[\"Patient ID\"] == pt].values:\n",
        "    covid_val_file_list.append(i)\n",
        "\n",
        "covid_test_file_list = []\n",
        "for pt in covid_test_pts:\n",
        "  for i in meta_covid[\"File name\"][meta_covid[\"Patient ID\"] == pt].values:\n",
        "    covid_test_file_list.append(i)\n",
        "\n",
        "##### END OF YOUR CODE #####\n",
        "\n",
        "print(\"Slice-based val size: \")\n",
        "print(\"Normal: \", round(len(normal_val_file_list)/normal_img_nb, 2))\n",
        "print(\"Covid: \", round(len(covid_val_file_list)/covid_img_nb, 2))\n",
        "\n",
        "print(\"\\nSlice-based test size: \")\n",
        "print(\"Normal: \", round(len(normal_test_file_list)/normal_img_nb, 2))\n",
        "print(\"Covid: \", round(len(covid_test_file_list)/covid_img_nb, 2))"
      ]
    },
    {
      "cell_type": "code",
      "execution_count": 4,
      "metadata": {
        "colab": {
          "base_uri": "https://localhost:8080/"
        },
        "id": "EdYip6S1qZh_",
        "outputId": "f04d4426-4d9c-4b69-951d-3d184f3e7f31"
      },
      "outputs": [
        {
          "output_type": "stream",
          "name": "stdout",
          "text": [
            "\n",
            "Percentage of train set: 0.30\n",
            "Percentage of Covid + slices in train set is: 0.55\n",
            "\n",
            "Percentage of val set: 0.19\n",
            "Percentage of Covid + slices in val set is: 0.49\n",
            "\n",
            "Percentage of test set: 0.51\n",
            "Percentage of Covid + slices in test set is: 0.52\n"
          ]
        }
      ],
      "source": [
        "import os\n",
        "\n",
        "##### START OF YOUR CODE #####\n",
        "# Create train and test directories and move the files accordingly\n",
        "[os.makedirs(\"/tmp/curated_data/data/\"+x+y, exist_ok=True) for x in [\"train/\", \"val/\", \"test/\"] for y in [\"normal/\", \"covid/\"]]\n",
        "\n",
        "# Normal group\n",
        "for pt in os.listdir(\"/tmp/curated_data/curated_data/1NonCOVID/\"):\n",
        "  # validation\n",
        "  if pt in normal_val_file_list:\n",
        "    shutil.move(\"/tmp/curated_data/curated_data/1NonCOVID/\"+pt, \"/tmp/curated_data/data/val/normal/\")\n",
        "  # test\n",
        "  elif pt in normal_test_file_list:\n",
        "    shutil.move(\"/tmp/curated_data/curated_data/1NonCOVID/\"+pt, \"/tmp/curated_data/data/test/normal/\")\n",
        "  # train\n",
        "  else:\n",
        "    shutil.move(\"/tmp/curated_data/curated_data/1NonCOVID/\"+pt, \"/tmp/curated_data/data/train/normal/\")\n",
        "\n",
        "# Covid group\n",
        "for pt in os.listdir(\"/tmp/curated_data/curated_data/2COVID/\"):\n",
        "  # validation\n",
        "  if pt in covid_val_file_list:\n",
        "    shutil.move(\"/tmp/curated_data/curated_data/2COVID/\"+pt, \"/tmp/curated_data/data/val/covid/\")\n",
        "  # test\n",
        "  elif pt in covid_test_file_list:\n",
        "    shutil.move(\"/tmp/curated_data/curated_data/2COVID/\"+pt, \"/tmp/curated_data/data/test/covid/\")\n",
        "  # train\n",
        "  else:\n",
        "    shutil.move(\"/tmp/curated_data/curated_data/2COVID/\"+pt, \"/tmp/curated_data/data/train/covid/\")\n",
        "\n",
        "##### END OF YOUR CODE #####\n",
        "\n",
        "data_counts = {x+y: len(os.listdir(\"/tmp/curated_data/data/\"+x+y)) for x in [\"train/\", \"val/\", \"test/\"] for y in [\"normal/\", \"covid/\"]}\n",
        "for i in [\"train\", \"val\", \"test\"]:\n",
        "  print(\"\\nPercentage of {} set: {:.2f}\" .format(i, (data_counts[i+\"/normal/\"]+data_counts[i+\"/covid/\"])/sum(data_counts.values())))\n",
        "  print(\"Percentage of Covid + slices in {} set is: {:.2f}\" .format(i, data_counts[i+\"/covid/\"]/(data_counts[i+\"/normal/\"]+data_counts[i+\"/covid/\"])))"
      ]
    },
    {
      "cell_type": "markdown",
      "metadata": {
        "id": "j1LyhJcvl70h"
      },
      "source": [
        "### 3. Dataloader"
      ]
    },
    {
      "cell_type": "code",
      "execution_count": null,
      "metadata": {
        "colab": {
          "base_uri": "https://localhost:8080/"
        },
        "id": "jtsYoaUfAN3i",
        "outputId": "a1ce13a4-8aed-4a8d-bc8a-63df148cb510"
      },
      "outputs": [
        {
          "name": "stdout",
          "output_type": "stream",
          "text": [
            "\u001b[2K     \u001b[90m━━━━━━━━━━━━━━━━━━━━━━━━━━━━━━━━━━━━━━━━\u001b[0m \u001b[32m173.0/173.0 kB\u001b[0m \u001b[31m3.7 MB/s\u001b[0m eta \u001b[36m0:00:00\u001b[0m\n",
            "\u001b[2K     \u001b[90m━━━━━━━━━━━━━━━━━━━━━━━━━━━━━━━━━━━━━━━━\u001b[0m \u001b[32m52.7/52.7 MB\u001b[0m \u001b[31m12.3 MB/s\u001b[0m eta \u001b[36m0:00:00\u001b[0m\n",
            "\u001b[?25h"
          ]
        }
      ],
      "source": [
        "!pip install -q torchio"
      ]
    },
    {
      "cell_type": "code",
      "execution_count": null,
      "metadata": {
        "id": "HT7wX3DxgxP-"
      },
      "outputs": [],
      "source": [
        "import os\n",
        "import numpy as np\n",
        "import torch\n",
        "from PIL import Image\n",
        "import torchio as tio\n",
        "import torchvision.transforms as T\n",
        "\n",
        "\n",
        "class CustomDataset(torch.utils.data.Dataset):\n",
        "  def __init__(self, image_size, data_folder, partition):\n",
        "    ##### START OF YOUR CODE #####\n",
        "    self.image_size = image_size\n",
        "    self.partition = partition\n",
        "    self.data_folder = data_folder\n",
        "    self.paths = self.img_paths()\n",
        "    ##### END OF YOUR CODE #####\n",
        "\n",
        "  def __len__(self):\n",
        "    ##### START OF YOUR CODE #####\n",
        "    return len(self.paths)\n",
        "    ##### END OF YOUR CODE #####\n",
        "\n",
        "  def __getitem__(self, idx):\n",
        "\n",
        "    ##### START OF YOUR CODE #####\n",
        "    img = self.read_and_resize_img(self.paths[idx])\n",
        "    label = int(self.paths[idx].rsplit(\"/\", 2)[1] == \"covid\")\n",
        "    label = np.array(label)[np.newaxis]\n",
        "\n",
        "    if self.partition == \"train\":\n",
        "        img = self.augmentation(img)\n",
        "    return (img, label)\n",
        "    ##### END OF YOUR CODE #####\n",
        "\n",
        "  def img_paths(self):\n",
        "    ##### START OF YOUR CODE #####\n",
        "    normal_paths = [os.path.join(self.data_folder, self.partition, \"normal\", i) for i in os.listdir(os.path.join(self.data_folder, self.partition, \"normal\"))]\n",
        "    covid_paths = [os.path.join(self.data_folder, self.partition, \"covid\", i) for i in os.listdir(os.path.join(self.data_folder, self.partition, \"covid\"))]\n",
        "    paths = normal_paths + covid_paths\n",
        "    np.random.shuffle(paths)\n",
        "    return paths\n",
        "    ##### END OF YOUR CODE #####\n",
        "\n",
        "  def read_and_resize_img(self, path):\n",
        "    ##### START OF YOUR CODE #####\n",
        "    img = Image.open(path).convert('L')\n",
        "    img = np.array(img)[np.newaxis]/255.\n",
        "\n",
        "    if (self.image_size, self.image_size) != img.shape[1:]:\n",
        "      resizing = T.Resize((self.image_size, self.image_size), antialias=False)\n",
        "      resized_img = resizing(torch.Tensor(img))\n",
        "      return resized_img\n",
        "    return torch.Tensor(img)\n",
        "    ##### END OF YOUR CODE #####\n",
        "\n",
        "  def augmentation(self, data):\n",
        "    ##### START OF YOUR CODE #####\n",
        "    transform = tio.transforms.OneOf({\n",
        "        tio.transforms.OneOf({\n",
        "            tio.transforms.RandomNoise(): .25,\n",
        "            tio.transforms.RandomBiasField(): .25,\n",
        "            tio.transforms.RandomGhosting(): .25,\n",
        "            tio.transforms.RandomSpike(): .25,\n",
        "            tio.transforms.RandomAffine(degrees=10, scales=0., translation=0.): .25\n",
        "        }): .8\n",
        "    })\n",
        "    aug_data = torch.squeeze(transform(torch.unsqueeze(data, -1)), -1)\n",
        "    return aug_data\n",
        "    ##### END OF YOUR CODE #####\n"
      ]
    },
    {
      "cell_type": "markdown",
      "metadata": {
        "id": "wEN_w6q3tbZM"
      },
      "source": [
        "### 4. ResNet-18"
      ]
    },
    {
      "cell_type": "code",
      "execution_count": null,
      "metadata": {
        "id": "w4zlwn3H8ZUR"
      },
      "outputs": [],
      "source": [
        "import torch\n",
        "from torch import nn\n",
        "from torch.nn import functional as F\n",
        "\n",
        "class ConvBlock(nn.Module):\n",
        "    def __init__(self, ch_in, ch_out, s, act):\n",
        "      super(ConvBlock,self).__init__()\n",
        "      # Initialize layers\n",
        "      if act == \"relu\":\n",
        "          self.act_layer = nn.ReLU()\n",
        "      elif act == \"leaky_relu\":\n",
        "          self.act_layer = nn.LeakyReLU()\n",
        "      elif act == \"gelu\":\n",
        "          self.act_layer = nn.GELU()\n",
        "\n",
        "      self.conv1 = nn.Conv2d(ch_in, ch_in, kernel_size=3, stride=s, padding=1)\n",
        "      self.bn1 = nn.BatchNorm2d(ch_in)\n",
        "      self.conv2 = nn.Conv2d(ch_in, ch_out, kernel_size=3, stride=1, padding=1)\n",
        "      self.bn2 = nn.BatchNorm2d(ch_out)\n",
        "\n",
        "      self.conv_sc = nn.Conv2d(ch_in, ch_out, kernel_size=1, stride=s)\n",
        "      self.bn_sc = nn.BatchNorm2d(ch_out)\n",
        "\n",
        "    def forward(self, X):\n",
        "      X_shortcut = X\n",
        "      X = self.bn1(self.conv1(X))\n",
        "      X = self.act_layer(X)\n",
        "      X = self.bn2(self.conv2(X))\n",
        "\n",
        "      X_shortcut = self.bn_sc(self.conv_sc(X_shortcut))\n",
        "      X = self.act_layer(X + X_shortcut)\n",
        "      return X\n",
        "\n",
        "\n",
        "class ResNet18(nn.Module):\n",
        "    def __init__(self, act, drop_rate, image_size):\n",
        "      super(ResNet18, self).__init__()\n",
        "      if act == \"relu\":\n",
        "          self.act_layer = nn.ReLU()\n",
        "      elif act == \"leaky_relu\":\n",
        "          self.act_layer = nn.LeakyReLU()\n",
        "      elif act == \"gelu\":\n",
        "          self.act_layer = nn.GELU()\n",
        "\n",
        "      self.image_size = image_size\n",
        "\n",
        "      self.conv1 = nn.Conv2d(1, 64, kernel_size=7, stride=2, padding=3) # 64 x N/2 x N/2\n",
        "      self.bn1 = nn.BatchNorm2d(64)\n",
        "\n",
        "      self.mp = nn.MaxPool2d((3, 3), stride=2, padding=1) # 64 x N/4 x N/4\n",
        "      self.conv2a = ConvBlock(64, 64, 1, act)\n",
        "      self.conv2b = ConvBlock(64, 64, 1, act) # 64 x N/4 x N/4\n",
        "\n",
        "      self.conv3a = ConvBlock(64, 128, 2, act)\n",
        "      self.conv3b = ConvBlock(128, 128, 1, act) # 128 x N/8 x N/8\n",
        "\n",
        "      self.conv4a = ConvBlock(128, 256, 2, act)\n",
        "      self.conv4b = ConvBlock(256, 256, 1, act) # 256 x N/16 x N/16\n",
        "\n",
        "      self.conv5a = ConvBlock(256, 512, 2, act)\n",
        "      self.conv5b = ConvBlock(512, 512, 1, act) # 512 x N/32 x N/32\n",
        "\n",
        "      kernel_size = self.image_size /(2**5)\n",
        "      self.avgpool = nn.AvgPool2d((int(kernel_size), int(kernel_size)))\n",
        "      self.flat = nn.Flatten()\n",
        "      self.dropout = nn.Dropout(drop_rate)\n",
        "      self.fc = nn.Linear(512, 1)\n",
        "\n",
        "    def forward(self, X):\n",
        "      batch_size = X.size(0)\n",
        "      image_size = X.size(2)\n",
        "\n",
        "      X = self.conv1(X)\n",
        "      X = self.bn1(X)\n",
        "      X = self.act_layer(X)\n",
        "\n",
        "      X = self.mp(X)\n",
        "      X = self.conv2a(X)\n",
        "      X = self.conv2b(X)\n",
        "\n",
        "      X = self.conv3a(X)\n",
        "      X = self.conv3b(X)\n",
        "\n",
        "      X = self.conv4a(X)\n",
        "      X = self.conv4b(X)\n",
        "\n",
        "      X = self.conv5a(X)\n",
        "      X = self.conv5b(X)\n",
        "\n",
        "      X = self.avgpool(X)\n",
        "      X = self.flat(X)\n",
        "      X = self.fc(self.dropout(X))\n",
        "      X = torch.sigmoid(X)\n",
        "      return X"
      ]
    },
    {
      "cell_type": "markdown",
      "metadata": {
        "id": "BmljrzaQfZ2s"
      },
      "source": [
        "# Assignment 3\n",
        "<p>In this assignment you will\n",
        "\n",
        "* write helper functions\n",
        "* train the model\n",
        "* hyperparameter search using W&B\n",
        "\n",
        "Read the comments carefully and insert your code where you see: <br><br><b>##### START OF YOUR CODE #####</b><br><br><b>##### END OF YOUR CODE #####</b><br><br>or for the inline codes you will see<br><br><b>##### INSERT YOUR CODE HERE #####</b>"
      ]
    },
    {
      "cell_type": "markdown",
      "metadata": {
        "id": "iUnVIVdtY3x0"
      },
      "source": [
        "#### I. AverageMeter\n",
        "First we will write a helper function. AverageMeter is to calculate the mean of the running loss and accuracy.\n",
        "\n",
        "*   It will have 2 functions which are reset and update.\n",
        "*   reset will be called on initialization and set the attributes to 0.\n",
        "*   update takes 2 arguments for the value and the size. It will add the value to the sum and the size to the count. Attribute \"avg\" (use this name) will also be updated as sum/count."
      ]
    },
    {
      "cell_type": "code",
      "execution_count": null,
      "metadata": {
        "id": "A38OLNLbYwfa"
      },
      "outputs": [],
      "source": [
        "class AverageMeter:\n",
        "    \"\"\"Computes and stores the average and current value\"\"\"\n",
        "\n",
        "    def __init__(self):\n",
        "      ##### START OF YOUR CODE #####\n",
        "        self.reset()\n",
        "\n",
        "    def reset(self):\n",
        "        self.val = 0\n",
        "        self.avg = 0\n",
        "        self.sum = 0\n",
        "        self.count = 0\n",
        "\n",
        "    def update(self, val, n=1):\n",
        "        self.val = val\n",
        "        self.sum += val * n\n",
        "        self.count += n\n",
        "        self.avg = self.sum / self.count\n",
        "      ##### END OF YOUR CODE #####"
      ]
    },
    {
      "cell_type": "code",
      "execution_count": null,
      "metadata": {
        "colab": {
          "base_uri": "https://localhost:8080/"
        },
        "id": "eCFUuYR7agXr",
        "outputId": "2a872201-bfbc-4a18-886c-86591fb85f2e"
      },
      "outputs": [
        {
          "name": "stdout",
          "output_type": "stream",
          "text": [
            "75.0 10\n"
          ]
        }
      ],
      "source": [
        "avg_meter = AverageMeter()\n",
        "avg_meter.update(100, 5)\n",
        "avg_meter.update(50, 5)\n",
        "print(avg_meter.avg, avg_meter.count)"
      ]
    },
    {
      "cell_type": "markdown",
      "metadata": {
        "id": "pk3vHad6dhhf"
      },
      "source": [
        "#### II. Train Loop\n",
        "Now we will write the training and validation loops. Detailed instructions are given within the code."
      ]
    },
    {
      "cell_type": "code",
      "execution_count": null,
      "metadata": {
        "id": "NqmEhWg6befh"
      },
      "outputs": [],
      "source": [
        "from tqdm import tqdm\n",
        "\n",
        "device = torch.device('cuda')\n",
        "\n",
        "def training(train_loader, model, criterion, optimizer):\n",
        "  # Let's start by initializing our AverageMeters.\n",
        "  avg_meters = {'loss': AverageMeter(),\n",
        "                'acc': AverageMeter()}\n",
        "\n",
        "  # We will go through the train_loader.\n",
        "  # Zero the gradients.\n",
        "  # Make prediction.\n",
        "  # Calculate the loss and the accuracy using prediction and labels.\n",
        "  # Update the average meters.\n",
        "  # Compute gradients and adjust learning weights.\n",
        "\n",
        "  ##### START OF YOUR CODE #####\n",
        "  model.train()\n",
        "  for image, label in tqdm(train_loader):\n",
        "    image = image.to(device)\n",
        "    label = label.to(device)\n",
        "    optimizer.zero_grad()\n",
        "    output = model(image)\n",
        "    loss = criterion(output, label.float())\n",
        "    loss.backward()\n",
        "\n",
        "    optimizer.step()\n",
        "\n",
        "    output = output > .5\n",
        "    acc = (label == output).float().sum().item() / label.size(0)\n",
        "    avg_meters['loss'].update(loss.item(), image.size(0))\n",
        "    avg_meters['acc'].update(acc, image.size(0))\n",
        "\n",
        "  ##### END OF YOUR CODE #####\n",
        "\n",
        "  return dict([('loss', avg_meters['loss'].avg),\n",
        "                ('acc', avg_meters['acc'].avg)])\n",
        "\n",
        "def validation(val_loader, model, criterion):\n",
        "  avg_meters = {'loss': AverageMeter(),\n",
        "                'acc': AverageMeter()}\n",
        "\n",
        "  # Validation is almost the same but don't forget to turn the eval mode of the model and with torch no_grad.\n",
        "  # You don't need to compute gradients or adjust learning weights for evaluation.\n",
        "\n",
        "  ##### START OF YOUR CODE #####\n",
        "  model.to(device)\n",
        "  model.eval()\n",
        "  with torch.no_grad():\n",
        "    for image, label in tqdm(val_loader):\n",
        "      image =image.to(device)\n",
        "      label = label.to(device)\n",
        "      output = model(image)\n",
        "      loss = criterion(output, label.float())\n",
        "\n",
        "      output = output > .5\n",
        "      acc = (label == output).float().sum().item() / label.size(0)\n",
        "      avg_meters['loss'].update(loss.item(), image.size(0))\n",
        "      avg_meters['acc'].update(acc, image.size(0))\n",
        "\n",
        "  ##### END OF YOUR CODE #####\n",
        "\n",
        "  return dict([('loss', avg_meters['loss'].avg),\n",
        "              ('acc', avg_meters['acc'].avg)])"
      ]
    },
    {
      "cell_type": "markdown",
      "metadata": {
        "id": "P1ZChNtVfyRw"
      },
      "source": [
        "We will use Weights & Biases for hyperparameter search. This will only be an introduction and we highly recommend you to read the <a href=\"https://docs.wandb.ai/?_gl=1*1xon9b*_ga*NDg5OTYzNTM3LjE2NzUwNjYzNjk.*_ga_JH1SJHJQXJ*MTY3Njc0MDEyNi4xMi4xLjE2NzY3NDAxMjguNTguMC4w\">documentation</a> for more information."
      ]
    },
    {
      "cell_type": "code",
      "execution_count": null,
      "metadata": {
        "colab": {
          "base_uri": "https://localhost:8080/"
        },
        "id": "H4uhE_s3cRvo",
        "outputId": "cc5b7651-64d4-4624-dc53-c6fec68e51ca"
      },
      "outputs": [
        {
          "name": "stdout",
          "output_type": "stream",
          "text": [
            "\u001b[2K     \u001b[90m━━━━━━━━━━━━━━━━━━━━━━━━━━━━━━━━━━━━━━━━\u001b[0m \u001b[32m2.1/2.1 MB\u001b[0m \u001b[31m12.5 MB/s\u001b[0m eta \u001b[36m0:00:00\u001b[0m\n",
            "\u001b[2K     \u001b[90m━━━━━━━━━━━━━━━━━━━━━━━━━━━━━━━━━━━━━━━━\u001b[0m \u001b[32m190.6/190.6 kB\u001b[0m \u001b[31m23.2 MB/s\u001b[0m eta \u001b[36m0:00:00\u001b[0m\n",
            "\u001b[2K     \u001b[90m━━━━━━━━━━━━━━━━━━━━━━━━━━━━━━━━━━━━━━━━\u001b[0m \u001b[32m252.8/252.8 kB\u001b[0m \u001b[31m29.4 MB/s\u001b[0m eta \u001b[36m0:00:00\u001b[0m\n",
            "\u001b[2K     \u001b[90m━━━━━━━━━━━━━━━━━━━━━━━━━━━━━━━━━━━━━━━━\u001b[0m \u001b[32m62.7/62.7 kB\u001b[0m \u001b[31m8.3 MB/s\u001b[0m eta \u001b[36m0:00:00\u001b[0m\n",
            "\u001b[?25h"
          ]
        }
      ],
      "source": [
        "!pip install -q wandb"
      ]
    },
    {
      "cell_type": "code",
      "execution_count": null,
      "metadata": {
        "id": "rWk9ArIm_hoQ"
      },
      "outputs": [],
      "source": [
        "from torch import optim\n",
        "import wandb\n",
        "from torch.utils.data import DataLoader\n",
        "from torch.optim.lr_scheduler import ReduceLROnPlateau\n",
        "\n",
        "def main():\n",
        "  # Set the initial configuration\n",
        "  initial_config = {\n",
        "      \"data_dir\": \"/tmp/curated_data/data/\",\n",
        "      \"image_size\": 128,\n",
        "      \"train_batch_size\": 64,\n",
        "      \"val_batch_size\": 32,\n",
        "      \"test_batch_size\": 1,\n",
        "      \"activation\": \"relu\",\n",
        "      \"drop_rate\": .2,\n",
        "      \"optimizer\": \"Adam\",\n",
        "      \"learning_rate\": 1e-3,\n",
        "      \"l2_reg\": 1e-4, # Weight decay\n",
        "      \"nb_epoch\": 50,\n",
        "      \"early_stopping\": 15, # trigger value for early stopping\n",
        "\n",
        "  }\n",
        "\n",
        "  # Using this configuration dictionary:\n",
        "  # initialize wandb\n",
        "  # Create a run directory in your drive (\"/content/drive/MyDrive/CMPE_runs/\" + the current run name that you'll get from wandb)\n",
        "  # Create the model\n",
        "  # Create dataloader dictionary with \"train\", \"val\", \"test\" keys\n",
        "  # Define binary cross entropy loss\n",
        "  # Define optimizer with weight decay\n",
        "  # Set lr scheduler to ReduceLROnPlateau:\n",
        "    # It will decrease the lr by .1 if the val_loss did not decrease > .01. The minimum lr value can be 1e-9.\n",
        "  # Print train and val results and log them to wandb at the end of each epoch\n",
        "  # Save best model weights to your run directory when the val accuracy is at least .01 better than the best val accuracy.\n",
        "  # Set early stopping with the trigger in config[\"early_stopping\"], monitoring val accuracy. config[\"early_stopping\"] = -1 means no early stopping.\n",
        "  # Print when a new model is saved or early stopping trigger is reached.\n",
        "  # After the final epoch (or early stopping), load the best model weights and log the test results to wandb\n",
        "\n",
        "  ##### START OF YOUR CODE #####\n",
        "  wandb.init(config=initial_config)\n",
        "  config = wandb.config\n",
        "\n",
        "  run_dir = os.path.join(\"/content/drive/MyDrive/CMPE_runs/\", wandb.run.name)\n",
        "  os.makedirs(run_dir, exist_ok=True)\n",
        "\n",
        "  model = ResNet18(config[\"activation\"], config[\"drop_rate\"], config[\"image_size\"])\n",
        "  model.to(device)\n",
        "\n",
        "  data_dict = {x: CustomDataset(config[\"image_size\"], config[\"data_dir\"], x) for x in [\"train\", \"val\", \"test\"]}\n",
        "  dataloader_dict = {x: DataLoader(data_dict[x], config[x+\"_batch_size\"]) for x in [\"train\", \"val\", \"test\"]}\n",
        "  criterion =  nn.BCELoss()\n",
        "\n",
        "\n",
        "  params =  filter(lambda p: p.requires_grad, model.parameters())\n",
        "  if config['optimizer'] == 'Adam':\n",
        "      optimizer =  optim.Adam(params, lr=config['learning_rate'], weight_decay=config[\"l2_reg\"])\n",
        "  elif config['optimizer'] == 'SGD':\n",
        "      optimizer =  optim.SGD(params, lr=config['learning_rate'], weight_decay=config[\"l2_reg\"],)\n",
        "  elif config['optimizer'] == 'RMSprop':\n",
        "      optimizer =  optim.RMSprop(params, lr=config['learning_rate'], weight_decay=config[\"l2_reg\"])\n",
        "\n",
        "  scheduler =  optim.lr_scheduler.ReduceLROnPlateau(optimizer, factor=.1, patience=10, threshold_mode=\"abs\", threshold=0.01, verbose=1, min_lr=1e-9)\n",
        "\n",
        "  best_acc, trigger = 0, 0\n",
        "  for e in range(config[\"nb_epoch\"]):\n",
        "    print('Epoch [%d/%d]' % (e+1, config['nb_epoch']))\n",
        "\n",
        "    train_log = training(dataloader_dict[\"train\"], model, criterion, optimizer)\n",
        "    val_log = validation(dataloader_dict[\"val\"], model, criterion)\n",
        "\n",
        "\n",
        "    scheduler.step(val_log['loss'])\n",
        "\n",
        "    print('loss %.4f - acc %.4f - val_loss %.4f - val_acc %.4f' % (train_log['loss'], train_log['acc'], val_log['loss'], val_log['acc']))\n",
        "    wandb.log({\"train_\"+x: train_log[x] for x in train_log.keys()})\n",
        "    wandb.log({\"val_\"+x: val_log[x] for x in val_log.keys()})\n",
        "\n",
        "    trigger += 1\n",
        "    if val_log['acc'] - best_acc > .01:\n",
        "        torch.save(model.state_dict(), os.path.join(run_dir, \"best_model.pth\"))\n",
        "        best_acc = val_log['acc']\n",
        "        print(\"=> saved best model\")\n",
        "        trigger = 0\n",
        "\n",
        "    # early stopping\n",
        "    if config['early_stopping'] >= 0 and trigger >= config['early_stopping']:\n",
        "        print(\"=> early stopping\")\n",
        "        break\n",
        "  model.load_state_dict(torch.load(os.path.join(run_dir, \"best_model.pth\")))\n",
        "  test_log = validation(dataloader_dict[\"test\"], model, criterion)\n",
        "  wandb.log({\"test_\"+x: x for x in test_log.keys()})\n",
        "  ##### END OF YOUR CODE #####"
      ]
    },
    {
      "cell_type": "code",
      "execution_count": null,
      "metadata": {
        "colab": {
          "base_uri": "https://localhost:8080/"
        },
        "id": "Wwcd18kWfcTT",
        "outputId": "2f2a27d1-408d-43da-e93b-cb926b2185ff"
      },
      "outputs": [
        {
          "name": "stderr",
          "output_type": "stream",
          "text": [
            " 33%|███▎      | 23/69 [00:11<00:21,  2.09it/s]"
          ]
        },
        {
          "name": "stdout",
          "output_type": "stream",
          "text": [
            "Create sweep with ID: m0v9l18v\n",
            "Sweep URL: https://wandb.ai/bounteam/CMPE49T/sweeps/m0v9l18v\n"
          ]
        },
        {
          "name": "stderr",
          "output_type": "stream",
          "text": [
            "\r 35%|███▍      | 24/69 [00:12<00:20,  2.16it/s]"
          ]
        }
      ],
      "source": [
        "# Define the parameters that we will fine tune with, which are:\n",
        "  # Activation function\n",
        "  # Optimizer\n",
        "  # Drop rate: should be chosen randomly from a uniform distribution between [0., 0.9]\n",
        "  # Weight decay: should be chosen randomly from a uniform distribution between [0., 0.1]\n",
        "  # Learning rate: should be chosen randomly from a uniform distribution between [0.0001, 0.1]\n",
        "\n",
        "parameter_dict = {\n",
        "    'activation': {\n",
        "        'values': ['leaky_relu']\n",
        "    },\n",
        "    'optimizer': {\n",
        "        'values': ['SGD']\n",
        "    },\n",
        "    'drop_rate': {\n",
        "        'distribution': 'uniform',\n",
        "        'min': 0.5,  # Narrowed down the range\n",
        "        'max': 0.9\n",
        "    },\n",
        "    'l2_reg': {\n",
        "        'distribution': 'uniform',\n",
        "        'min': 0.02,  # Narrowed down the range\n",
        "        'max': 0.05\n",
        "    },\n",
        "    'learning_rate': {\n",
        "        'distribution': 'uniform',\n",
        "        'min': 0.05,  # Narrowed down the range\n",
        "        'max': 0.1\n",
        "    }\n",
        "}\n",
        "\n",
        "# Define a sweep configuration tells wandb that it will randomly choose from parameter dict and the purpose is to maximize val_accuracy\n",
        "sweep_config = {\n",
        "    ##### START OF YOUR CODE #####\n",
        "    'method': 'random',\n",
        "    'metric': {\n",
        "        'name': 'val_accuracy',\n",
        "        'goal': 'maximize'\n",
        "    }\n",
        "    ##### END OF YOUR CODE #####\n",
        "}\n",
        "sweep_config['parameters'] = parameter_dict\n",
        "\n",
        "# Start the sweep\n",
        "sweep_id = wandb.sweep(sweep_config, project='CMPE49T') ##### INSERT YOUR CODE HERE #####"
      ]
    },
    {
      "cell_type": "code",
      "execution_count": null,
      "metadata": {
        "colab": {
          "background_save": true,
          "base_uri": "https://localhost:8080/",
          "height": 1000,
          "referenced_widgets": [
            "d9b246d1911a4c6cba0d8221733d217d",
            "1216887249894b239ba9c1cd59cb8632",
            "1ce2c413d7a84c11a9fc6ff5b38166b0",
            "0a1253cbece64d3e828b86c3bbf06f75",
            "fd2a6ece8bc54230a37858c5e3b6e83f",
            "a8e90a820f2f441c876f7a6c76f04568",
            "0a029fc4413d45628c57546982481eef",
            "7d1fea81898043f0a506a74cf4f5fd17",
            "5fb692ebfa7d486e9e550d08d458a659",
            "bbde38dc100e4522826cf08031ba67a4",
            "f84b108df3854a058efbc4495ca7041f",
            "951df331c36342388214dba3481246d3",
            "5709304855974685b7aa6dbd300ea2bb",
            "6d5c325bae88438eb07fc05ed05b1c7c",
            "1e5196949458400193d0f27f933a2cc4",
            "6d956c9c23a046319931163a50342a82",
            "7df073461137421582e59da418f164d7"
          ]
        },
        "id": "Vb5ydeudBDSK",
        "outputId": "bb1ebd48-c340-4879-a847-78d6a39669a7"
      },
      "outputs": [
        {
          "name": "stderr",
          "output_type": "stream",
          "text": [
            "\u001b[34m\u001b[1mwandb\u001b[0m: \u001b[33mWARNING\u001b[0m Calling wandb.login() after wandb.init() has no effect.\n",
            " 80%|███████▉  | 55/69 [00:28<00:06,  2.11it/s]\u001b[34m\u001b[1mwandb\u001b[0m: Agent Starting Run: nxssyfn6 with config:\n",
            "\u001b[34m\u001b[1mwandb\u001b[0m: \tactivation: leaky_relu\n",
            "\u001b[34m\u001b[1mwandb\u001b[0m: \tdrop_rate: 0.7959947005859069\n",
            "\u001b[34m\u001b[1mwandb\u001b[0m: \tl2_reg: 0.023380302123292063\n",
            "\u001b[34m\u001b[1mwandb\u001b[0m: \tlearning_rate: 0.05192433093654631\n",
            "\u001b[34m\u001b[1mwandb\u001b[0m: \toptimizer: SGD\n",
            " 90%|████████▉ | 62/69 [00:32<00:03,  1.92it/s]"
          ]
        },
        {
          "data": {
            "text/html": [
              "Tracking run with wandb version 0.16.1"
            ],
            "text/plain": [
              "<IPython.core.display.HTML object>"
            ]
          },
          "metadata": {},
          "output_type": "display_data"
        },
        {
          "data": {
            "text/html": [
              "Run data is saved locally in <code>/content/wandb/run-20231207_112743-nxssyfn6</code>"
            ],
            "text/plain": [
              "<IPython.core.display.HTML object>"
            ]
          },
          "metadata": {},
          "output_type": "display_data"
        },
        {
          "data": {
            "text/html": [
              "Syncing run <strong><a href='https://wandb.ai/bounteam/CMPE49T/runs/nxssyfn6' target=\"_blank\">mild-sweep-1</a></strong> to <a href='https://wandb.ai/bounteam/CMPE49T' target=\"_blank\">Weights & Biases</a> (<a href='https://wandb.me/run' target=\"_blank\">docs</a>)<br/>Sweep page: <a href='https://wandb.ai/bounteam/CMPE49T/sweeps/m0v9l18v' target=\"_blank\">https://wandb.ai/bounteam/CMPE49T/sweeps/m0v9l18v</a>"
            ],
            "text/plain": [
              "<IPython.core.display.HTML object>"
            ]
          },
          "metadata": {},
          "output_type": "display_data"
        },
        {
          "data": {
            "text/html": [
              " View project at <a href='https://wandb.ai/bounteam/CMPE49T' target=\"_blank\">https://wandb.ai/bounteam/CMPE49T</a>"
            ],
            "text/plain": [
              "<IPython.core.display.HTML object>"
            ]
          },
          "metadata": {},
          "output_type": "display_data"
        },
        {
          "data": {
            "text/html": [
              " View sweep at <a href='https://wandb.ai/bounteam/CMPE49T/sweeps/m0v9l18v' target=\"_blank\">https://wandb.ai/bounteam/CMPE49T/sweeps/m0v9l18v</a>"
            ],
            "text/plain": [
              "<IPython.core.display.HTML object>"
            ]
          },
          "metadata": {},
          "output_type": "display_data"
        },
        {
          "data": {
            "text/html": [
              " View run at <a href='https://wandb.ai/bounteam/CMPE49T/runs/nxssyfn6' target=\"_blank\">https://wandb.ai/bounteam/CMPE49T/runs/nxssyfn6</a>"
            ],
            "text/plain": [
              "<IPython.core.display.HTML object>"
            ]
          },
          "metadata": {},
          "output_type": "display_data"
        },
        {
          "name": "stdout",
          "output_type": "stream",
          "text": [
            "Epoch [1/50]\n"
          ]
        },
        {
          "name": "stderr",
          "output_type": "stream",
          "text": [
            "\n",
            " 91%|█████████▏| 63/69 [00:32<00:03,  1.60it/s]\n",
            " 93%|█████████▎| 64/69 [00:33<00:03,  1.51it/s]\n",
            " 94%|█████████▍| 65/69 [00:34<00:03,  1.33it/s]\n",
            " 96%|█████████▌| 66/69 [00:35<00:02,  1.15it/s]\n",
            " 97%|█████████▋| 67/69 [00:36<00:01,  1.05it/s]\n",
            "100%|██████████| 69/69 [00:38<00:00,  1.79it/s]\n",
            "  0%|          | 0/88 [00:00<?, ?it/s]\n",
            "  3%|▎         | 3/88 [00:01<00:33,  2.52it/s]\n",
            "  6%|▌         | 5/88 [00:01<00:28,  2.93it/s]\n",
            "  9%|▉         | 8/88 [00:02<00:24,  3.25it/s]\n",
            " 11%|█▏        | 10/88 [00:03<00:21,  3.55it/s]\n",
            " 15%|█▍        | 13/88 [00:04<00:19,  3.86it/s]\n",
            " 18%|█▊        | 16/88 [00:04<00:17,  4.03it/s]\n",
            " 22%|██▏       | 19/88 [00:05<00:16,  4.29it/s]\n",
            " 25%|██▌       | 22/88 [00:06<00:16,  3.95it/s]\n",
            " 27%|██▋       | 24/88 [00:06<00:18,  3.52it/s]\n",
            " 31%|███       | 27/88 [00:07<00:15,  3.86it/s]\n",
            " 34%|███▍      | 30/88 [00:08<00:13,  4.16it/s]\n",
            " 36%|███▋      | 32/88 [00:08<00:13,  4.14it/s]\n",
            " 40%|███▉      | 35/88 [00:09<00:13,  3.95it/s]\n",
            " 43%|████▎     | 38/88 [00:10<00:12,  4.02it/s]\n",
            " 47%|████▋     | 41/88 [00:10<00:11,  4.20it/s]\n",
            " 50%|█████     | 44/88 [00:11<00:11,  3.95it/s]\n",
            " 53%|█████▎    | 47/88 [00:12<00:13,  2.98it/s]\n",
            " 57%|█████▋    | 50/88 [00:14<00:13,  2.76it/s]\n",
            " 60%|██████    | 53/88 [00:15<00:13,  2.62it/s]\n",
            " 62%|██████▎   | 55/88 [00:15<00:12,  2.57it/s]\n",
            " 66%|██████▌   | 58/88 [00:17<00:11,  2.58it/s]\n",
            " 69%|██████▉   | 61/88 [00:18<00:08,  3.02it/s]\n",
            " 73%|███████▎  | 64/88 [00:18<00:06,  3.55it/s]\n",
            " 75%|███████▌  | 66/88 [00:19<00:05,  3.81it/s]\n",
            " 78%|███████▊  | 69/88 [00:20<00:04,  3.98it/s]\n",
            " 82%|████████▏ | 72/88 [00:20<00:03,  4.09it/s]\n",
            " 84%|████████▍ | 74/88 [00:21<00:03,  3.91it/s]\n",
            " 88%|████████▊ | 77/88 [00:22<00:02,  4.15it/s]\n",
            " 91%|█████████ | 80/88 [00:22<00:01,  4.09it/s]\n",
            " 94%|█████████▍| 83/88 [00:23<00:01,  4.42it/s]\n",
            " 98%|█████████▊| 86/88 [00:24<00:00,  4.22it/s]\n",
            "100%|██████████| 88/88 [00:24<00:00,  3.59it/s]\n"
          ]
        },
        {
          "name": "stdout",
          "output_type": "stream",
          "text": [
            "loss 0.4204 - acc 0.8229 - val_loss 0.6463 - val_acc 0.5589\n",
            "Epoch [21/50]\n"
          ]
        },
        {
          "name": "stderr",
          "output_type": "stream",
          "text": [
            "  0%|          | 0/69 [00:00<?, ?it/s]\n",
            "  1%|▏         | 1/69 [00:00<00:49,  1.39it/s]\n",
            "  3%|▎         | 2/69 [00:01<00:47,  1.42it/s]\n",
            "  4%|▍         | 3/69 [00:02<00:45,  1.44it/s]\n",
            "  6%|▌         | 4/69 [00:02<00:45,  1.44it/s]\n",
            "  7%|▋         | 5/69 [00:03<00:45,  1.41it/s]\n",
            "  9%|▊         | 6/69 [00:04<00:55,  1.14it/s]\n",
            " 10%|█         | 7/69 [00:05<00:58,  1.05it/s]\n",
            " 12%|█▏        | 8/69 [00:06<01:00,  1.01it/s]\n",
            " 13%|█▎        | 9/69 [00:07<01:01,  1.02s/it]\n",
            " 14%|█▍        | 10/69 [00:09<01:02,  1.06s/it]\n",
            " 16%|█▌        | 11/69 [00:10<01:00,  1.04s/it]\n",
            " 17%|█▋        | 12/69 [00:10<00:53,  1.07it/s]\n",
            " 19%|█▉        | 13/69 [00:11<00:49,  1.13it/s]\n",
            " 20%|██        | 14/69 [00:12<00:46,  1.19it/s]\n",
            " 22%|██▏       | 15/69 [00:13<00:43,  1.25it/s]\n",
            " 23%|██▎       | 16/69 [00:13<00:41,  1.29it/s]\n",
            " 25%|██▍       | 17/69 [00:14<00:39,  1.30it/s]\n",
            " 26%|██▌       | 18/69 [00:15<00:38,  1.33it/s]\n",
            " 28%|██▊       | 19/69 [00:15<00:36,  1.35it/s]\n",
            " 29%|██▉       | 20/69 [00:16<00:35,  1.38it/s]\n",
            " 30%|███       | 21/69 [00:17<00:34,  1.40it/s]\n",
            " 32%|███▏      | 22/69 [00:18<00:33,  1.41it/s]\n",
            " 33%|███▎      | 23/69 [00:18<00:32,  1.43it/s]\n",
            " 35%|███▍      | 24/69 [00:19<00:31,  1.45it/s]\n",
            " 36%|███▌      | 25/69 [00:20<00:30,  1.43it/s]\n",
            " 38%|███▊      | 26/69 [00:21<00:34,  1.25it/s]\n",
            " 39%|███▉      | 27/69 [00:22<00:37,  1.12it/s]\n",
            " 41%|████      | 28/69 [00:23<00:39,  1.03it/s]\n",
            " 42%|████▏     | 29/69 [00:24<00:40,  1.02s/it]\n",
            " 43%|████▎     | 30/69 [00:25<00:40,  1.04s/it]\n",
            " 45%|████▍     | 31/69 [00:26<00:38,  1.01s/it]\n",
            "100%|██████████| 69/69 [00:57<00:00,  1.20it/s]\n",
            "\n",
            "  0%|          | 0/88 [00:00<?, ?it/s]\u001b[A\n",
            " 46%|████▋     | 32/69 [00:27<00:34,  1.08it/s]\n",
            "  2%|▏         | 2/88 [00:00<00:20,  4.18it/s]\u001b[A\n",
            " 48%|████▊     | 33/69 [00:27<00:30,  1.17it/s]\n",
            "  5%|▍         | 4/88 [00:01<00:22,  3.74it/s]\u001b[A\n",
            "  6%|▌         | 5/88 [00:01<00:20,  4.09it/s]\u001b[A\n",
            " 49%|████▉     | 34/69 [00:28<00:27,  1.25it/s]\n",
            "  8%|▊         | 7/88 [00:01<00:20,  4.03it/s]\u001b[A\n",
            "  9%|▉         | 8/88 [00:01<00:19,  4.17it/s]\u001b[A\n",
            " 51%|█████     | 35/69 [00:29<00:26,  1.26it/s]\n",
            " 11%|█▏        | 10/88 [00:02<00:20,  3.86it/s]\u001b[A\n",
            " 12%|█▎        | 11/88 [00:02<00:20,  3.84it/s]\u001b[A\n",
            " 52%|█████▏    | 36/69 [00:30<00:25,  1.31it/s]\n",
            " 15%|█▍        | 13/88 [00:03<00:17,  4.27it/s]\u001b[A\n",
            " 16%|█▌        | 14/88 [00:03<00:17,  4.15it/s]\u001b[A\n",
            " 54%|█████▎    | 37/69 [00:30<00:23,  1.35it/s]\n",
            " 18%|█▊        | 16/88 [00:03<00:17,  4.06it/s]\u001b[A\n",
            " 19%|█▉        | 17/88 [00:04<00:18,  3.92it/s]\u001b[A\n",
            " 55%|█████▌    | 38/69 [00:31<00:22,  1.37it/s]\n",
            " 22%|██▏       | 19/88 [00:04<00:17,  3.90it/s]\u001b[A\n",
            " 57%|█████▋    | 39/69 [00:32<00:21,  1.42it/s]\n",
            " 24%|██▍       | 21/88 [00:05<00:16,  4.04it/s]\u001b[A\n",
            " 25%|██▌       | 22/88 [00:05<00:15,  4.18it/s]\u001b[A\n",
            " 58%|█████▊    | 40/69 [00:32<00:20,  1.42it/s]\n",
            " 27%|██▋       | 24/88 [00:05<00:15,  4.13it/s]\u001b[A\n",
            " 28%|██▊       | 25/88 [00:06<00:16,  3.88it/s]\u001b[A\n",
            " 59%|█████▉    | 41/69 [00:33<00:19,  1.44it/s]\n",
            " 31%|███       | 27/88 [00:06<00:15,  4.00it/s]\u001b[A\n",
            " 61%|██████    | 42/69 [00:34<00:18,  1.49it/s]\n",
            " 33%|███▎      | 29/88 [00:07<00:16,  3.49it/s]\u001b[A\n",
            " 62%|██████▏   | 43/69 [00:34<00:17,  1.46it/s]\n",
            " 35%|███▌      | 31/88 [00:07<00:16,  3.37it/s]\u001b[A\n",
            " 36%|███▋      | 32/88 [00:08<00:15,  3.65it/s]\u001b[A\n",
            " 64%|██████▍   | 44/69 [00:35<00:17,  1.46it/s]\n",
            " 39%|███▊      | 34/88 [00:08<00:13,  3.92it/s]\u001b[A\n",
            " 40%|███▉      | 35/88 [00:08<00:13,  3.84it/s]\u001b[A\n",
            " 65%|██████▌   | 45/69 [00:36<00:16,  1.46it/s]\n",
            " 42%|████▏     | 37/88 [00:09<00:13,  3.89it/s]\u001b[A\n",
            " 43%|████▎     | 38/88 [00:09<00:13,  3.67it/s]\u001b[A\n",
            " 67%|██████▋   | 46/69 [00:37<00:18,  1.23it/s]\n",
            " 45%|████▌     | 40/88 [00:10<00:16,  2.93it/s]\u001b[A\n",
            " 47%|████▋     | 41/88 [00:10<00:17,  2.76it/s]\u001b[A\n",
            " 68%|██████▊   | 47/69 [00:38<00:20,  1.07it/s]\n",
            " 49%|████▉     | 43/88 [00:11<00:17,  2.61it/s]\u001b[A\n",
            " 50%|█████     | 44/88 [00:12<00:17,  2.52it/s]\u001b[A\n",
            " 70%|██████▉   | 48/69 [00:39<00:20,  1.02it/s]\n",
            " 52%|█████▏    | 46/88 [00:12<00:15,  2.68it/s]\u001b[A\n",
            " 71%|███████   | 49/69 [00:40<00:20,  1.02s/it]\n",
            " 55%|█████▍    | 48/88 [00:13<00:16,  2.35it/s]\u001b[A\n",
            " 56%|█████▌    | 49/88 [00:14<00:16,  2.39it/s]\u001b[A\n",
            " 72%|███████▏  | 50/69 [00:41<00:19,  1.04s/it]\n",
            " 58%|█████▊    | 51/88 [00:15<00:15,  2.40it/s]\u001b[A\n",
            " 59%|█████▉    | 52/88 [00:15<00:14,  2.44it/s]\u001b[A\n",
            " 74%|███████▍  | 51/69 [00:42<00:18,  1.05s/it]\n",
            " 61%|██████▏   | 54/88 [00:16<00:12,  2.63it/s]\u001b[A\n",
            " 62%|██████▎   | 55/88 [00:16<00:11,  2.97it/s]\u001b[A\n",
            " 75%|███████▌  | 52/69 [00:43<00:16,  1.04it/s]\n",
            " 65%|██████▍   | 57/88 [00:16<00:08,  3.48it/s]\u001b[A\n",
            " 66%|██████▌   | 58/88 [00:17<00:08,  3.71it/s]\u001b[A\n",
            " 77%|███████▋  | 53/69 [00:44<00:14,  1.12it/s]\n",
            " 68%|██████▊   | 60/88 [00:17<00:07,  3.97it/s]\u001b[A\n",
            " 69%|██████▉   | 61/88 [00:17<00:06,  3.97it/s]\u001b[A\n",
            " 78%|███████▊  | 54/69 [00:45<00:12,  1.21it/s]\n",
            " 72%|███████▏  | 63/88 [00:18<00:06,  3.84it/s]\u001b[A\n",
            " 80%|███████▉  | 55/69 [00:45<00:11,  1.26it/s]\n",
            " 74%|███████▍  | 65/88 [00:18<00:06,  3.78it/s]\u001b[A\n",
            " 75%|███████▌  | 66/88 [00:19<00:05,  3.73it/s]\u001b[A\n",
            " 81%|████████  | 56/69 [00:46<00:09,  1.33it/s]\n",
            " 77%|███████▋  | 68/88 [00:19<00:05,  3.89it/s]\u001b[A\n",
            " 83%|████████▎ | 57/69 [00:47<00:08,  1.37it/s]\n",
            " 80%|███████▉  | 70/88 [00:20<00:04,  3.69it/s]\u001b[A\n",
            " 84%|████████▍ | 58/69 [00:47<00:07,  1.42it/s]\n",
            " 82%|████████▏ | 72/88 [00:20<00:04,  3.32it/s]\u001b[A\n",
            " 83%|████████▎ | 73/88 [00:21<00:04,  3.58it/s]\u001b[A\n",
            " 86%|████████▌ | 59/69 [00:48<00:06,  1.43it/s]\n",
            " 85%|████████▌ | 75/88 [00:21<00:03,  3.93it/s]\u001b[A\n",
            " 86%|████████▋ | 76/88 [00:21<00:02,  4.06it/s]\u001b[A\n",
            " 87%|████████▋ | 60/69 [00:49<00:06,  1.45it/s]\n",
            " 89%|████████▊ | 78/88 [00:22<00:02,  4.17it/s]\u001b[A\n",
            " 90%|████████▉ | 79/88 [00:22<00:02,  4.18it/s]\u001b[A\n",
            " 88%|████████▊ | 61/69 [00:49<00:05,  1.44it/s]\n",
            " 92%|█████████▏| 81/88 [00:22<00:01,  4.33it/s]\u001b[A\n",
            " 93%|█████████▎| 82/88 [00:23<00:01,  4.13it/s]\u001b[A\n",
            " 90%|████████▉ | 62/69 [00:50<00:04,  1.45it/s]\n",
            " 95%|█████████▌| 84/88 [00:23<00:00,  4.11it/s]\u001b[A\n",
            " 91%|█████████▏| 63/69 [00:51<00:04,  1.45it/s]\n",
            " 98%|█████████▊| 86/88 [00:24<00:00,  3.70it/s]\u001b[A\n",
            " 99%|█████████▉| 87/88 [00:24<00:00,  3.82it/s]\u001b[A\n",
            "100%|██████████| 88/88 [00:24<00:00,  3.57it/s]\n"
          ]
        },
        {
          "name": "stdout",
          "output_type": "stream",
          "text": [
            "loss 0.7214 - acc 0.7105 - val_loss 0.7996 - val_acc 0.4970\n",
            "=> saved best model\n",
            "Epoch [2/50]\n"
          ]
        },
        {
          "name": "stderr",
          "output_type": "stream",
          "text": [
            "\n",
            " 93%|█████████▎| 64/69 [00:51<00:03,  1.41it/s]\n",
            " 94%|█████████▍| 65/69 [00:52<00:02,  1.40it/s]\n",
            " 96%|█████████▌| 66/69 [00:53<00:02,  1.36it/s]\n",
            " 97%|█████████▋| 67/69 [00:54<00:01,  1.20it/s]\n",
            "100%|██████████| 69/69 [00:55<00:00,  1.23it/s]\n",
            "  1%|          | 1/88 [00:00<00:35,  2.45it/s]\n",
            "  3%|▎         | 3/88 [00:01<00:32,  2.63it/s]\n",
            "  7%|▋         | 6/88 [00:02<00:32,  2.51it/s]\n",
            "  9%|▉         | 8/88 [00:03<00:34,  2.33it/s]\n",
            " 12%|█▎        | 11/88 [00:04<00:24,  3.11it/s]\n",
            " 16%|█▌        | 14/88 [00:04<00:19,  3.79it/s]\n",
            " 19%|█▉        | 17/88 [00:05<00:16,  4.19it/s]\n",
            " 23%|██▎       | 20/88 [00:06<00:16,  4.08it/s]\n",
            " 25%|██▌       | 22/88 [00:06<00:17,  3.84it/s]\n",
            " 27%|██▋       | 24/88 [00:07<00:19,  3.34it/s]\n",
            " 31%|███       | 27/88 [00:08<00:16,  3.75it/s]\n",
            " 34%|███▍      | 30/88 [00:08<00:14,  4.03it/s]\n",
            " 38%|███▊      | 33/88 [00:09<00:13,  4.02it/s]\n",
            " 40%|███▉      | 35/88 [00:10<00:12,  4.09it/s]\n",
            " 43%|████▎     | 38/88 [00:10<00:13,  3.84it/s]\n",
            " 47%|████▋     | 41/88 [00:11<00:11,  4.14it/s]\n",
            " 50%|█████     | 44/88 [00:12<00:10,  4.22it/s]\n",
            " 53%|█████▎    | 47/88 [00:13<00:10,  4.02it/s]\n",
            " 57%|█████▋    | 50/88 [00:14<00:11,  3.29it/s]\n",
            " 60%|██████    | 53/88 [00:15<00:12,  2.71it/s]\n",
            " 64%|██████▎   | 56/88 [00:16<00:12,  2.65it/s]\n",
            " 67%|██████▋   | 59/88 [00:17<00:11,  2.45it/s]\n",
            " 70%|███████   | 62/88 [00:18<00:10,  2.50it/s]\n",
            " 73%|███████▎  | 64/88 [00:19<00:09,  2.40it/s]\n",
            " 76%|███████▌  | 67/88 [00:20<00:06,  3.25it/s]\n",
            " 80%|███████▉  | 70/88 [00:21<00:04,  3.81it/s]\n",
            " 83%|████████▎ | 73/88 [00:21<00:03,  3.95it/s]\n",
            " 85%|████████▌ | 75/88 [00:22<00:03,  4.06it/s]\n",
            " 89%|████████▊ | 78/88 [00:23<00:02,  4.06it/s]\n",
            " 92%|█████████▏| 81/88 [00:23<00:01,  4.04it/s]\n",
            " 95%|█████████▌| 84/88 [00:24<00:00,  4.44it/s]\n",
            "100%|██████████| 88/88 [00:25<00:00,  3.47it/s]\n"
          ]
        },
        {
          "name": "stdout",
          "output_type": "stream",
          "text": [
            "loss 0.4249 - acc 0.8291 - val_loss 0.6990 - val_acc 0.5883\n",
            "Epoch [22/50]\n"
          ]
        },
        {
          "name": "stderr",
          "output_type": "stream",
          "text": [
            "  0%|          | 0/69 [00:00<?, ?it/s]\n",
            "  1%|▏         | 1/69 [00:00<00:48,  1.39it/s]\n",
            "  3%|▎         | 2/69 [00:01<00:46,  1.43it/s]\n",
            "  4%|▍         | 3/69 [00:02<00:46,  1.43it/s]\n",
            "  6%|▌         | 4/69 [00:02<00:45,  1.44it/s]\n",
            "  7%|▋         | 5/69 [00:03<00:43,  1.46it/s]\n",
            "  9%|▊         | 6/69 [00:04<00:43,  1.44it/s]\n",
            " 10%|█         | 7/69 [00:05<00:49,  1.26it/s]\n",
            " 62%|██████▏   | 43/69 [00:35<00:20,  1.25it/s]\u001b[A\n",
            " 13%|█▎        | 9/69 [00:07<00:58,  1.02it/s]\n",
            " 14%|█▍        | 10/69 [00:08<00:56,  1.05it/s]\n",
            " 16%|█▌        | 11/69 [00:09<00:50,  1.14it/s]\n",
            " 17%|█▋        | 12/69 [00:09<00:46,  1.22it/s]\n",
            " 19%|█▉        | 13/69 [00:10<00:43,  1.28it/s]\n",
            " 20%|██        | 14/69 [00:11<00:41,  1.32it/s]\n",
            " 22%|██▏       | 15/69 [00:11<00:39,  1.37it/s]\n",
            " 23%|██▎       | 16/69 [00:12<00:38,  1.39it/s]\n",
            " 25%|██▍       | 17/69 [00:13<00:36,  1.41it/s]\n",
            " 26%|██▌       | 18/69 [00:13<00:36,  1.41it/s]\n",
            " 28%|██▊       | 19/69 [00:14<00:35,  1.42it/s]\n",
            " 29%|██▉       | 20/69 [00:15<00:34,  1.41it/s]\n",
            " 30%|███       | 21/69 [00:15<00:33,  1.42it/s]\n",
            " 32%|███▏      | 22/69 [00:16<00:33,  1.42it/s]\n",
            " 33%|███▎      | 23/69 [00:17<00:31,  1.44it/s]\n",
            " 35%|███▍      | 24/69 [00:18<00:32,  1.36it/s]\n",
            " 36%|███▌      | 25/69 [00:19<00:37,  1.16it/s]\n",
            " 38%|███▊      | 26/69 [00:20<00:40,  1.07it/s]\n",
            " 39%|███▉      | 27/69 [00:21<00:40,  1.03it/s]\n",
            " 41%|████      | 28/69 [00:22<00:42,  1.03s/it]\n",
            " 42%|████▏     | 29/69 [00:23<00:42,  1.05s/it]\n",
            " 43%|████▎     | 30/69 [00:24<00:39,  1.00s/it]\n",
            " 45%|████▍     | 31/69 [00:25<00:35,  1.07it/s]\n",
            " 46%|████▋     | 32/69 [00:26<00:33,  1.11it/s]\n",
            " 99%|█████████▊| 68/69 [00:56<00:00,  1.19it/s]\u001b[A\n",
            "100%|██████████| 69/69 [00:56<00:00,  1.22it/s]\n",
            "\n",
            " 48%|████▊     | 33/69 [00:26<00:30,  1.18it/s]\n",
            "  1%|          | 1/88 [00:00<00:17,  5.02it/s]\u001b[A\n",
            "  2%|▏         | 2/88 [00:00<00:20,  4.29it/s]\u001b[A\n",
            " 49%|████▉     | 34/69 [00:27<00:27,  1.25it/s]\n",
            "  5%|▍         | 4/88 [00:00<00:21,  3.97it/s]\u001b[A\n",
            "  6%|▌         | 5/88 [00:01<00:19,  4.35it/s]\u001b[A\n",
            " 51%|█████     | 35/69 [00:28<00:26,  1.27it/s]\n",
            "  8%|▊         | 7/88 [00:01<00:19,  4.12it/s]\u001b[A\n",
            "  9%|▉         | 8/88 [00:01<00:19,  4.11it/s]\u001b[A\n",
            " 52%|█████▏    | 36/69 [00:29<00:24,  1.34it/s]\n",
            " 11%|█▏        | 10/88 [00:02<00:19,  3.92it/s]\u001b[A\n",
            " 54%|█████▎    | 37/69 [00:29<00:23,  1.37it/s]\n",
            " 14%|█▎        | 12/88 [00:02<00:19,  3.93it/s]\u001b[A\n",
            " 15%|█▍        | 13/88 [00:03<00:17,  4.21it/s]\u001b[A\n",
            " 55%|█████▌    | 38/69 [00:30<00:22,  1.40it/s]\n",
            " 17%|█▋        | 15/88 [00:03<00:17,  4.11it/s]\u001b[A\n",
            " 18%|█▊        | 16/88 [00:03<00:17,  4.05it/s]\u001b[A\n",
            " 57%|█████▋    | 39/69 [00:31<00:21,  1.39it/s]\n",
            " 20%|██        | 18/88 [00:04<00:17,  4.06it/s]\u001b[A\n",
            " 22%|██▏       | 19/88 [00:04<00:17,  3.92it/s]\u001b[A\n",
            " 58%|█████▊    | 40/69 [00:31<00:20,  1.41it/s]\n",
            " 24%|██▍       | 21/88 [00:05<00:16,  3.97it/s]\u001b[A\n",
            " 25%|██▌       | 22/88 [00:05<00:16,  4.11it/s]\u001b[A\n",
            " 59%|█████▉    | 41/69 [00:32<00:19,  1.42it/s]\n",
            " 27%|██▋       | 24/88 [00:05<00:15,  4.12it/s]\u001b[A\n",
            " 61%|██████    | 42/69 [00:33<00:18,  1.46it/s]\n",
            " 30%|██▉       | 26/88 [00:06<00:16,  3.80it/s]\u001b[A\n",
            " 31%|███       | 27/88 [00:06<00:14,  4.08it/s]\u001b[A\n",
            " 62%|██████▏   | 43/69 [00:33<00:18,  1.42it/s]\n",
            " 33%|███▎      | 29/88 [00:07<00:16,  3.53it/s]\u001b[A\n",
            " 64%|██████▍   | 44/69 [00:34<00:19,  1.28it/s]\n",
            " 35%|███▌      | 31/88 [00:08<00:20,  2.72it/s]\u001b[A\n",
            " 36%|███▋      | 32/88 [00:08<00:20,  2.68it/s]\u001b[A\n",
            " 65%|██████▌   | 45/69 [00:35<00:20,  1.17it/s]\n",
            " 39%|███▊      | 34/88 [00:09<00:19,  2.72it/s]\u001b[A\n",
            " 67%|██████▋   | 46/69 [00:37<00:21,  1.08it/s]\n",
            " 41%|████      | 36/88 [00:10<00:21,  2.40it/s]\u001b[A\n",
            " 42%|████▏     | 37/88 [00:10<00:19,  2.56it/s]\u001b[A\n",
            " 43%|████▎     | 38/88 [00:10<00:19,  2.60it/s]\u001b[A\n",
            " 68%|██████▊   | 47/69 [00:38<00:21,  1.01it/s]\n",
            " 45%|████▌     | 40/88 [00:11<00:19,  2.48it/s]\u001b[A\n",
            " 70%|██████▉   | 48/69 [00:39<00:21,  1.04s/it]\n",
            " 48%|████▊     | 42/88 [00:12<00:18,  2.51it/s]\u001b[A\n",
            " 49%|████▉     | 43/88 [00:12<00:17,  2.60it/s]\u001b[A\n",
            " 71%|███████   | 49/69 [00:40<00:20,  1.03s/it]\n",
            " 51%|█████     | 45/88 [00:13<00:17,  2.49it/s]\u001b[A\n",
            " 72%|███████▏  | 50/69 [00:41<00:18,  1.04it/s]\n",
            " 53%|█████▎    | 47/88 [00:14<00:14,  2.90it/s]\u001b[A\n",
            " 55%|█████▍    | 48/88 [00:14<00:12,  3.22it/s]\u001b[A\n",
            " 74%|███████▍  | 51/69 [00:41<00:15,  1.15it/s]\n",
            " 57%|█████▋    | 50/88 [00:15<00:10,  3.71it/s]\u001b[A\n",
            " 58%|█████▊    | 51/88 [00:15<00:10,  3.69it/s]\u001b[A\n",
            " 75%|███████▌  | 52/69 [00:42<00:14,  1.21it/s]\n",
            " 60%|██████    | 53/88 [00:15<00:08,  3.94it/s]\u001b[A\n",
            " 77%|███████▋  | 53/69 [00:43<00:12,  1.30it/s]\n",
            " 62%|██████▎   | 55/88 [00:16<00:08,  3.74it/s]\u001b[A\n",
            " 64%|██████▎   | 56/88 [00:16<00:08,  3.87it/s]\u001b[A\n",
            " 78%|███████▊  | 54/69 [00:43<00:11,  1.35it/s]\n",
            " 66%|██████▌   | 58/88 [00:17<00:07,  4.13it/s]\u001b[A\n",
            " 67%|██████▋   | 59/88 [00:17<00:06,  4.24it/s]\u001b[A\n",
            " 80%|███████▉  | 55/69 [00:44<00:10,  1.39it/s]\n",
            " 69%|██████▉   | 61/88 [00:17<00:06,  4.07it/s]\u001b[A\n",
            " 81%|████████  | 56/69 [00:45<00:09,  1.42it/s]\n",
            " 72%|███████▏  | 63/88 [00:18<00:06,  3.69it/s]\u001b[A\n",
            " 73%|███████▎  | 64/88 [00:18<00:06,  3.66it/s]\u001b[A\n",
            " 83%|████████▎ | 57/69 [00:45<00:08,  1.44it/s]\n",
            " 75%|███████▌  | 66/88 [00:19<00:05,  3.81it/s]\u001b[A\n",
            " 84%|████████▍ | 58/69 [00:46<00:07,  1.47it/s]\n",
            " 77%|███████▋  | 68/88 [00:19<00:05,  3.72it/s]\u001b[A\n",
            " 78%|███████▊  | 69/88 [00:19<00:04,  3.85it/s]\u001b[A\n",
            " 86%|████████▌ | 59/69 [00:47<00:06,  1.48it/s]\n",
            " 81%|████████  | 71/88 [00:20<00:04,  3.77it/s]\u001b[A\n",
            " 87%|████████▋ | 60/69 [00:47<00:06,  1.49it/s]\n",
            " 83%|████████▎ | 73/88 [00:20<00:04,  3.69it/s]\u001b[A\n",
            " 84%|████████▍ | 74/88 [00:21<00:03,  3.68it/s]\u001b[A\n",
            " 88%|████████▊ | 61/69 [00:48<00:05,  1.42it/s]\n",
            " 86%|████████▋ | 76/88 [00:21<00:03,  3.76it/s]\u001b[A\n",
            " 88%|████████▊ | 77/88 [00:21<00:02,  3.95it/s]\u001b[A\n",
            " 90%|████████▉ | 62/69 [00:49<00:04,  1.44it/s]\n",
            " 90%|████████▉ | 79/88 [00:22<00:02,  3.94it/s]\u001b[A\n",
            " 91%|█████████ | 80/88 [00:22<00:02,  3.97it/s]\u001b[A\n",
            " 91%|█████████▏| 63/69 [00:49<00:04,  1.43it/s]\n",
            " 93%|█████████▎| 82/88 [00:23<00:01,  4.10it/s]\u001b[A\n",
            " 94%|█████████▍| 83/88 [00:23<00:01,  4.04it/s]\u001b[A\n",
            " 93%|█████████▎| 64/69 [00:50<00:03,  1.44it/s]\n",
            " 97%|█████████▋| 85/88 [00:24<00:00,  3.48it/s]\u001b[A\n",
            " 98%|█████████▊| 86/88 [00:24<00:00,  3.33it/s]\u001b[A\n",
            " 94%|█████████▍| 65/69 [00:51<00:03,  1.19it/s]\n",
            "100%|██████████| 88/88 [00:25<00:00,  3.52it/s]\n"
          ]
        },
        {
          "name": "stdout",
          "output_type": "stream",
          "text": [
            "loss 0.6126 - acc 0.7676 - val_loss 0.5781 - val_acc 0.7212\n",
            "=> saved best model\n",
            "Epoch [3/50]\n"
          ]
        },
        {
          "name": "stderr",
          "output_type": "stream",
          "text": [
            "\n",
            " 96%|█████████▌| 66/69 [00:52<00:02,  1.09it/s]\n",
            " 97%|█████████▋| 67/69 [00:53<00:01,  1.08it/s]\n",
            " 99%|█████████▊| 68/69 [00:54<00:00,  1.03it/s]\n",
            "100%|██████████| 69/69 [00:55<00:00,  1.25it/s]\n",
            "  2%|▏         | 2/88 [00:00<00:33,  2.57it/s]\n",
            "  6%|▌         | 5/88 [00:01<00:25,  3.21it/s]\n",
            "  9%|▉         | 8/88 [00:02<00:23,  3.47it/s]\n",
            " 11%|█▏        | 10/88 [00:02<00:20,  3.74it/s]\n",
            " 15%|█▍        | 13/88 [00:03<00:18,  4.13it/s]\n",
            " 18%|█▊        | 16/88 [00:04<00:17,  4.19it/s]\n",
            " 22%|██▏       | 19/88 [00:05<00:15,  4.34it/s]\n",
            " 24%|██▍       | 21/88 [00:05<00:17,  3.93it/s]\n",
            " 26%|██▌       | 23/88 [00:06<00:16,  3.88it/s]\n",
            " 30%|██▉       | 26/88 [00:07<00:17,  3.53it/s]\n",
            " 33%|███▎      | 29/88 [00:07<00:14,  4.19it/s]\n",
            " 36%|███▋      | 32/88 [00:08<00:13,  4.12it/s]\n",
            " 39%|███▊      | 34/88 [00:09<00:13,  4.11it/s]\n",
            " 42%|████▏     | 37/88 [00:09<00:13,  3.75it/s]\n",
            " 45%|████▌     | 40/88 [00:10<00:11,  4.11it/s]\n",
            " 48%|████▊     | 42/88 [00:11<00:11,  3.92it/s]\n",
            " 51%|█████     | 45/88 [00:11<00:12,  3.41it/s]\n",
            " 55%|█████▍    | 48/88 [00:13<00:13,  2.95it/s]\n",
            " 57%|█████▋    | 50/88 [00:13<00:13,  2.84it/s]\n",
            " 60%|██████    | 53/88 [00:15<00:13,  2.59it/s]\n",
            " 62%|██████▎   | 55/88 [00:15<00:13,  2.48it/s]\n",
            " 66%|██████▌   | 58/88 [00:17<00:11,  2.51it/s]\n",
            " 68%|██████▊   | 60/88 [00:17<00:11,  2.52it/s]\n",
            " 72%|███████▏  | 63/88 [00:18<00:07,  3.25it/s]\n",
            " 75%|███████▌  | 66/88 [00:19<00:05,  3.68it/s]\n",
            " 78%|███████▊  | 69/88 [00:20<00:04,  4.08it/s]\n",
            " 82%|████████▏ | 72/88 [00:20<00:03,  4.13it/s]\n",
            " 84%|████████▍ | 74/88 [00:21<00:03,  4.04it/s]\n",
            " 88%|████████▊ | 77/88 [00:22<00:02,  4.13it/s]\n",
            " 91%|█████████ | 80/88 [00:22<00:02,  3.94it/s]\n",
            " 94%|█████████▍| 83/88 [00:23<00:01,  4.26it/s]\n",
            " 98%|█████████▊| 86/88 [00:24<00:00,  4.20it/s]\n",
            "100%|██████████| 88/88 [00:24<00:00,  3.57it/s]\n"
          ]
        },
        {
          "name": "stdout",
          "output_type": "stream",
          "text": [
            "loss 0.4134 - acc 0.8284 - val_loss 1.0705 - val_acc 0.4941\n",
            "Epoch [23/50]\n"
          ]
        },
        {
          "name": "stderr",
          "output_type": "stream",
          "text": [
            "  0%|          | 0/69 [00:00<?, ?it/s]\n",
            "  1%|▏         | 1/69 [00:00<00:47,  1.43it/s]\n",
            "  3%|▎         | 2/69 [00:01<00:45,  1.48it/s]\n",
            "  4%|▍         | 3/69 [00:01<00:43,  1.52it/s]\n",
            "  6%|▌         | 4/69 [00:02<00:44,  1.48it/s]\n",
            "  9%|▊         | 6/69 [00:04<00:51,  1.23it/s]\n",
            " 59%|█████▉    | 41/69 [00:32<00:23,  1.20it/s]\u001b[A\n",
            " 10%|█         | 7/69 [00:05<00:55,  1.11it/s]\n",
            " 12%|█▏        | 8/69 [00:06<00:59,  1.02it/s]\n",
            " 13%|█▎        | 9/69 [00:07<01:02,  1.04s/it]\n",
            " 14%|█▍        | 10/69 [00:08<01:02,  1.07s/it]\n",
            " 16%|█▌        | 11/69 [00:09<00:59,  1.03s/it]\n",
            " 17%|█▋        | 12/69 [00:10<00:53,  1.07it/s]\n",
            " 19%|█▉        | 13/69 [00:11<00:48,  1.15it/s]\n",
            " 20%|██        | 14/69 [00:12<00:45,  1.21it/s]\n",
            " 22%|██▏       | 15/69 [00:12<00:42,  1.27it/s]\n",
            " 23%|██▎       | 16/69 [00:13<00:40,  1.31it/s]\n",
            " 25%|██▍       | 17/69 [00:14<00:38,  1.34it/s]\n",
            " 26%|██▌       | 18/69 [00:14<00:37,  1.37it/s]\n",
            " 28%|██▊       | 19/69 [00:15<00:35,  1.40it/s]\n",
            " 29%|██▉       | 20/69 [00:16<00:34,  1.42it/s]\n",
            " 30%|███       | 21/69 [00:16<00:33,  1.45it/s]\n",
            " 32%|███▏      | 22/69 [00:17<00:32,  1.46it/s]\n",
            " 33%|███▎      | 23/69 [00:18<00:32,  1.43it/s]\n",
            " 35%|███▍      | 24/69 [00:19<00:31,  1.42it/s]\n",
            " 36%|███▌      | 25/69 [00:19<00:31,  1.38it/s]\n",
            " 38%|███▊      | 26/69 [00:20<00:35,  1.19it/s]\n",
            " 39%|███▉      | 27/69 [00:22<00:38,  1.09it/s]\n",
            " 41%|████      | 28/69 [00:23<00:40,  1.02it/s]\n",
            " 42%|████▏     | 29/69 [00:24<00:40,  1.02s/it]\n",
            " 43%|████▎     | 30/69 [00:25<00:41,  1.06s/it]\n",
            " 45%|████▍     | 31/69 [00:26<00:39,  1.03s/it]\n",
            " 46%|████▋     | 32/69 [00:27<00:35,  1.04it/s]\n",
            " 48%|████▊     | 33/69 [00:27<00:31,  1.13it/s]\n",
            "100%|██████████| 69/69 [00:55<00:00,  1.23it/s]\n",
            "\n",
            "  0%|          | 0/88 [00:00<?, ?it/s]\u001b[A\n",
            "  1%|          | 1/88 [00:00<00:20,  4.33it/s]\u001b[A\n",
            " 49%|████▉     | 34/69 [00:28<00:28,  1.21it/s]\n",
            "  3%|▎         | 3/88 [00:00<00:19,  4.27it/s]\u001b[A\n",
            "  5%|▍         | 4/88 [00:00<00:20,  4.11it/s]\u001b[A\n",
            " 51%|█████     | 35/69 [00:29<00:27,  1.22it/s]\n",
            "  7%|▋         | 6/88 [00:01<00:20,  4.09it/s]\u001b[A\n",
            "  8%|▊         | 7/88 [00:01<00:20,  3.93it/s]\u001b[A\n",
            " 52%|█████▏    | 36/69 [00:30<00:25,  1.30it/s]\n",
            " 10%|█         | 9/88 [00:02<00:19,  3.98it/s]\u001b[A\n",
            " 54%|█████▎    | 37/69 [00:30<00:23,  1.36it/s]\n",
            " 12%|█▎        | 11/88 [00:02<00:20,  3.81it/s]\u001b[A\n",
            " 14%|█▎        | 12/88 [00:02<00:18,  4.00it/s]\u001b[A\n",
            " 55%|█████▌    | 38/69 [00:31<00:21,  1.42it/s]\n",
            " 16%|█▌        | 14/88 [00:03<00:17,  4.14it/s]\u001b[A\n",
            " 57%|█████▋    | 39/69 [00:31<00:20,  1.43it/s]\n",
            " 18%|█▊        | 16/88 [00:04<00:18,  3.80it/s]\u001b[A\n",
            " 19%|█▉        | 17/88 [00:04<00:18,  3.84it/s]\u001b[A\n",
            " 58%|█████▊    | 40/69 [00:32<00:20,  1.44it/s]\n",
            " 22%|██▏       | 19/88 [00:04<00:17,  3.96it/s]\u001b[A\n",
            " 23%|██▎       | 20/88 [00:05<00:17,  3.92it/s]\u001b[A\n",
            " 59%|█████▉    | 41/69 [00:33<00:19,  1.46it/s]\n",
            " 25%|██▌       | 22/88 [00:05<00:16,  4.01it/s]\u001b[A\n",
            " 61%|██████    | 42/69 [00:33<00:18,  1.48it/s]\n",
            " 27%|██▋       | 24/88 [00:06<00:16,  3.91it/s]\u001b[A\n",
            " 28%|██▊       | 25/88 [00:06<00:16,  3.72it/s]\u001b[A\n",
            " 62%|██████▏   | 43/69 [00:34<00:17,  1.47it/s]\n",
            " 31%|███       | 27/88 [00:06<00:15,  3.94it/s]\u001b[A\n",
            " 64%|██████▍   | 44/69 [00:35<00:16,  1.48it/s]\n",
            " 33%|███▎      | 29/88 [00:07<00:17,  3.39it/s]\u001b[A\n",
            " 65%|██████▌   | 45/69 [00:36<00:16,  1.50it/s]\n",
            " 35%|███▌      | 31/88 [00:08<00:16,  3.38it/s]\u001b[A\n",
            " 36%|███▋      | 32/88 [00:08<00:17,  3.18it/s]\u001b[A\n",
            " 67%|██████▋   | 46/69 [00:37<00:18,  1.26it/s]\n",
            " 39%|███▊      | 34/88 [00:09<00:18,  2.86it/s]\u001b[A\n",
            " 40%|███▉      | 35/88 [00:09<00:19,  2.67it/s]\u001b[A\n",
            " 68%|██████▊   | 47/69 [00:38<00:19,  1.12it/s]\n",
            " 42%|████▏     | 37/88 [00:10<00:19,  2.62it/s]\u001b[A\n",
            " 43%|████▎     | 38/88 [00:10<00:18,  2.73it/s]\u001b[A\n",
            " 70%|██████▉   | 48/69 [00:39<00:19,  1.06it/s]\n",
            " 45%|████▌     | 40/88 [00:11<00:19,  2.47it/s]\u001b[A\n",
            " 71%|███████   | 49/69 [00:40<00:19,  1.02it/s]\n",
            " 48%|████▊     | 42/88 [00:12<00:19,  2.38it/s]\u001b[A\n",
            " 49%|████▉     | 43/88 [00:12<00:17,  2.52it/s]\u001b[A\n",
            " 72%|███████▏  | 50/69 [00:41<00:19,  1.01s/it]\n",
            " 51%|█████     | 45/88 [00:13<00:17,  2.52it/s]\u001b[A\n",
            " 52%|█████▏    | 46/88 [00:14<00:17,  2.46it/s]\u001b[A\n",
            " 74%|███████▍  | 51/69 [00:42<00:18,  1.03s/it]\n",
            " 55%|█████▍    | 48/88 [00:14<00:14,  2.83it/s]\u001b[A\n",
            " 75%|███████▌  | 52/69 [00:43<00:15,  1.08it/s]\n",
            " 57%|█████▋    | 50/88 [00:15<00:11,  3.18it/s]\u001b[A\n",
            " 58%|█████▊    | 51/88 [00:15<00:11,  3.33it/s]\u001b[A\n",
            " 77%|███████▋  | 53/69 [00:43<00:13,  1.18it/s]\n",
            " 60%|██████    | 53/88 [00:15<00:09,  3.71it/s]\u001b[A\n",
            " 61%|██████▏   | 54/88 [00:16<00:09,  3.74it/s]\u001b[A\n",
            " 78%|███████▊  | 54/69 [00:44<00:11,  1.26it/s]\n",
            " 64%|██████▎   | 56/88 [00:16<00:08,  3.74it/s]\u001b[A\n",
            " 80%|███████▉  | 55/69 [00:45<00:10,  1.31it/s]\n",
            " 66%|██████▌   | 58/88 [00:17<00:07,  4.00it/s]\u001b[A\n",
            " 67%|██████▋   | 59/88 [00:17<00:07,  4.14it/s]\u001b[A\n",
            " 81%|████████  | 56/69 [00:45<00:09,  1.35it/s]\n",
            " 69%|██████▉   | 61/88 [00:17<00:06,  3.98it/s]\u001b[A\n",
            " 70%|███████   | 62/88 [00:18<00:06,  4.03it/s]\u001b[A\n",
            " 83%|████████▎ | 57/69 [00:46<00:08,  1.37it/s]\n",
            " 73%|███████▎  | 64/88 [00:18<00:06,  3.81it/s]\u001b[A\n",
            " 84%|████████▍ | 58/69 [00:47<00:08,  1.37it/s]\n",
            " 75%|███████▌  | 66/88 [00:19<00:06,  3.58it/s]\u001b[A\n",
            " 76%|███████▌  | 67/88 [00:19<00:05,  3.75it/s]\u001b[A\n",
            " 86%|████████▌ | 59/69 [00:48<00:07,  1.39it/s]\n",
            " 78%|███████▊  | 69/88 [00:20<00:05,  3.78it/s]\u001b[A\n",
            " 87%|████████▋ | 60/69 [00:48<00:06,  1.41it/s]\n",
            " 81%|████████  | 71/88 [00:20<00:04,  3.47it/s]\u001b[A\n",
            " 82%|████████▏ | 72/88 [00:21<00:04,  3.40it/s]\u001b[A\n",
            " 88%|████████▊ | 61/69 [00:49<00:05,  1.41it/s]\n",
            " 84%|████████▍ | 74/88 [00:21<00:03,  3.54it/s]\u001b[A\n",
            " 85%|████████▌ | 75/88 [00:21<00:03,  3.80it/s]\u001b[A\n",
            " 90%|████████▉ | 62/69 [00:50<00:04,  1.42it/s]\n",
            " 88%|████████▊ | 77/88 [00:22<00:02,  4.05it/s]\u001b[A\n",
            " 91%|█████████▏| 63/69 [00:50<00:04,  1.43it/s]\n",
            " 90%|████████▉ | 79/88 [00:22<00:02,  3.79it/s]\u001b[A\n",
            " 91%|█████████ | 80/88 [00:23<00:02,  3.97it/s]\u001b[A\n",
            " 93%|█████████▎| 64/69 [00:51<00:03,  1.45it/s]\n",
            " 93%|█████████▎| 82/88 [00:23<00:01,  4.11it/s]\u001b[A\n",
            " 94%|█████████▍| 83/88 [00:23<00:01,  4.06it/s]\u001b[A\n",
            " 94%|█████████▍| 65/69 [00:52<00:02,  1.47it/s]\n",
            " 97%|█████████▋| 85/88 [00:24<00:00,  4.04it/s]\u001b[A\n",
            " 98%|█████████▊| 86/88 [00:24<00:00,  3.85it/s]\u001b[A\n",
            "100%|██████████| 88/88 [00:25<00:00,  3.52it/s]\n"
          ]
        },
        {
          "name": "stdout",
          "output_type": "stream",
          "text": [
            "loss 0.3818 - acc 0.8408 - val_loss 0.7148 - val_acc 0.7417\n",
            "=> saved best model\n",
            "Epoch [4/50]\n"
          ]
        },
        {
          "name": "stderr",
          "output_type": "stream",
          "text": [
            "\n",
            " 97%|█████████▋| 67/69 [00:54<00:01,  1.08it/s]\n",
            " 99%|█████████▊| 68/69 [00:55<00:00,  1.03it/s]\n",
            "100%|██████████| 69/69 [00:55<00:00,  1.23it/s]\n",
            "  1%|          | 1/88 [00:00<00:32,  2.67it/s]\n",
            "  5%|▍         | 4/88 [00:01<00:31,  2.63it/s]\n",
            "  7%|▋         | 6/88 [00:02<00:31,  2.64it/s]\n",
            " 10%|█         | 9/88 [00:03<00:26,  3.03it/s]\n",
            " 14%|█▎        | 12/88 [00:04<00:20,  3.71it/s]\n",
            " 17%|█▋        | 15/88 [00:04<00:18,  3.90it/s]\n",
            " 20%|██        | 18/88 [00:05<00:16,  4.16it/s]\n",
            " 23%|██▎       | 20/88 [00:05<00:16,  4.06it/s]\n",
            " 26%|██▌       | 23/88 [00:06<00:16,  3.98it/s]\n",
            " 28%|██▊       | 25/88 [00:07<00:17,  3.52it/s]\n",
            " 32%|███▏      | 28/88 [00:08<00:14,  4.18it/s]\n",
            " 34%|███▍      | 30/88 [00:08<00:14,  4.13it/s]\n",
            " 38%|███▊      | 33/88 [00:09<00:13,  3.97it/s]\n",
            " 41%|████      | 36/88 [00:10<00:12,  4.07it/s]\n",
            " 43%|████▎     | 38/88 [00:10<00:12,  4.04it/s]\n",
            " 47%|████▋     | 41/88 [00:11<00:11,  4.01it/s]\n",
            " 50%|█████     | 44/88 [00:12<00:10,  4.06it/s]\n",
            " 53%|█████▎    | 47/88 [00:12<00:10,  3.93it/s]\n",
            " 57%|█████▋    | 50/88 [00:13<00:11,  3.20it/s]\n",
            " 59%|█████▉    | 52/88 [00:14<00:12,  2.79it/s]\n",
            " 62%|██████▎   | 55/88 [00:15<00:12,  2.62it/s]\n",
            " 66%|██████▌   | 58/88 [00:16<00:11,  2.57it/s]\n",
            " 69%|██████▉   | 61/88 [00:18<00:10,  2.62it/s]\n",
            " 73%|███████▎  | 64/88 [00:19<00:09,  2.57it/s]\n",
            " 75%|███████▌  | 66/88 [00:19<00:06,  3.15it/s]\n",
            " 78%|███████▊  | 69/88 [00:20<00:04,  3.83it/s]\n",
            " 82%|████████▏ | 72/88 [00:21<00:03,  4.09it/s]\n",
            " 85%|████████▌ | 75/88 [00:21<00:03,  4.05it/s]\n",
            " 89%|████████▊ | 78/88 [00:22<00:02,  4.21it/s]\n",
            " 91%|█████████ | 80/88 [00:23<00:01,  4.05it/s]\n",
            " 94%|█████████▍| 83/88 [00:23<00:01,  4.24it/s]\n",
            " 98%|█████████▊| 86/88 [00:24<00:00,  4.24it/s]\n",
            "100%|██████████| 88/88 [00:24<00:00,  3.54it/s]\n"
          ]
        },
        {
          "name": "stdout",
          "output_type": "stream",
          "text": [
            "loss 0.4483 - acc 0.8161 - val_loss 0.6485 - val_acc 0.6600\n",
            "Epoch [24/50]\n"
          ]
        },
        {
          "name": "stderr",
          "output_type": "stream",
          "text": [
            "  0%|          | 0/69 [00:00<?, ?it/s]\n",
            "  1%|▏         | 1/69 [00:00<00:48,  1.41it/s]\n",
            "  3%|▎         | 2/69 [00:01<00:46,  1.43it/s]\n",
            "  4%|▍         | 3/69 [00:02<00:46,  1.42it/s]\n",
            "  6%|▌         | 4/69 [00:02<00:46,  1.41it/s]\n",
            "  7%|▋         | 5/69 [00:03<00:45,  1.39it/s]\n",
            "  9%|▊         | 6/69 [00:04<00:44,  1.41it/s]\n",
            " 12%|█▏        | 8/69 [00:06<00:52,  1.17it/s]\n",
            " 13%|█▎        | 9/69 [00:07<00:55,  1.09it/s]\n",
            " 14%|█▍        | 10/69 [00:08<00:59,  1.01s/it]\n",
            " 16%|█▌        | 11/69 [00:09<01:00,  1.05s/it]\n",
            " 65%|██████▌   | 45/69 [00:37<00:24,  1.04s/it]\u001b[A\n",
            " 17%|█▋        | 12/69 [00:10<01:00,  1.06s/it]\n",
            " 19%|█▉        | 13/69 [00:11<00:56,  1.02s/it]\n",
            " 20%|██        | 14/69 [00:12<00:51,  1.08it/s]\n",
            " 22%|██▏       | 15/69 [00:13<00:46,  1.15it/s]\n",
            " 23%|██▎       | 16/69 [00:13<00:42,  1.23it/s]\n",
            " 25%|██▍       | 17/69 [00:14<00:40,  1.30it/s]\n",
            " 26%|██▌       | 18/69 [00:15<00:38,  1.34it/s]\n",
            " 28%|██▊       | 19/69 [00:15<00:36,  1.37it/s]\n",
            " 29%|██▉       | 20/69 [00:16<00:35,  1.38it/s]\n",
            " 30%|███       | 21/69 [00:17<00:34,  1.40it/s]\n",
            " 32%|███▏      | 22/69 [00:17<00:33,  1.42it/s]\n",
            " 33%|███▎      | 23/69 [00:18<00:32,  1.42it/s]\n",
            " 36%|███▌      | 25/69 [00:20<00:31,  1.41it/s]\n",
            " 38%|███▊      | 26/69 [00:20<00:30,  1.43it/s]\n",
            " 87%|████████▋ | 60/69 [00:48<00:06,  1.34it/s]\u001b[A\n",
            " 41%|████      | 28/69 [00:22<00:37,  1.09it/s]\n",
            " 42%|████▏     | 29/69 [00:24<00:38,  1.03it/s]\n",
            " 91%|█████████▏| 63/69 [00:51<00:05,  1.02it/s]\u001b[A\n",
            " 43%|████▎     | 30/69 [00:25<00:40,  1.03s/it]\n",
            " 45%|████▍     | 31/69 [00:26<00:40,  1.07s/it]\n",
            " 46%|████▋     | 32/69 [00:27<00:39,  1.06s/it]\n",
            " 48%|████▊     | 33/69 [00:28<00:34,  1.03it/s]\n",
            " 49%|████▉     | 34/69 [00:28<00:31,  1.11it/s]\n",
            "100%|██████████| 69/69 [00:56<00:00,  1.22it/s]\n",
            "\n",
            "  0%|          | 0/88 [00:00<?, ?it/s]\u001b[A\n",
            "  1%|          | 1/88 [00:00<00:18,  4.76it/s]\u001b[A\n",
            " 51%|█████     | 35/69 [00:29<00:29,  1.15it/s]\n",
            "  3%|▎         | 3/88 [00:00<00:20,  4.16it/s]\u001b[A\n",
            "  5%|▍         | 4/88 [00:00<00:21,  3.94it/s]\u001b[A\n",
            " 52%|█████▏    | 36/69 [00:30<00:26,  1.24it/s]\n",
            "  7%|▋         | 6/88 [00:01<00:19,  4.20it/s]\u001b[A\n",
            " 54%|█████▎    | 37/69 [00:31<00:24,  1.31it/s]\n",
            "  9%|▉         | 8/88 [00:01<00:20,  3.93it/s]\u001b[A\n",
            " 10%|█         | 9/88 [00:02<00:19,  3.95it/s]\u001b[A\n",
            " 55%|█████▌    | 38/69 [00:31<00:22,  1.36it/s]\n",
            " 12%|█▎        | 11/88 [00:02<00:20,  3.71it/s]\u001b[A\n",
            " 14%|█▎        | 12/88 [00:03<00:19,  3.96it/s]\u001b[A\n",
            " 57%|█████▋    | 39/69 [00:32<00:21,  1.40it/s]\n",
            " 16%|█▌        | 14/88 [00:03<00:17,  4.26it/s]\u001b[A\n",
            " 58%|█████▊    | 40/69 [00:33<00:20,  1.43it/s]\n",
            " 18%|█▊        | 16/88 [00:03<00:18,  3.94it/s]\u001b[A\n",
            " 19%|█▉        | 17/88 [00:04<00:18,  3.86it/s]\u001b[A\n",
            " 59%|█████▉    | 41/69 [00:33<00:19,  1.42it/s]\n",
            " 22%|██▏       | 19/88 [00:04<00:17,  3.86it/s]\u001b[A\n",
            " 23%|██▎       | 20/88 [00:05<00:17,  3.89it/s]\u001b[A\n",
            " 61%|██████    | 42/69 [00:34<00:18,  1.45it/s]\n",
            " 25%|██▌       | 22/88 [00:05<00:16,  4.04it/s]\u001b[A\n",
            " 26%|██▌       | 23/88 [00:05<00:15,  4.19it/s]\u001b[A\n",
            " 62%|██████▏   | 43/69 [00:35<00:18,  1.42it/s]\n",
            " 28%|██▊       | 25/88 [00:06<00:16,  3.73it/s]\u001b[A\n",
            " 64%|██████▍   | 44/69 [00:35<00:17,  1.45it/s]\n",
            " 31%|███       | 27/88 [00:06<00:15,  3.96it/s]\u001b[A\n",
            " 65%|██████▌   | 45/69 [00:36<00:16,  1.45it/s]\n",
            " 33%|███▎      | 29/88 [00:07<00:17,  3.38it/s]\u001b[A\n",
            " 34%|███▍      | 30/88 [00:07<00:16,  3.55it/s]\u001b[A\n",
            " 67%|██████▋   | 46/69 [00:37<00:16,  1.43it/s]\n",
            " 36%|███▋      | 32/88 [00:08<00:17,  3.14it/s]\u001b[A\n",
            " 38%|███▊      | 33/88 [00:08<00:19,  2.83it/s]\u001b[A\n",
            " 68%|██████▊   | 47/69 [00:38<00:18,  1.22it/s]\n",
            " 40%|███▉      | 35/88 [00:09<00:20,  2.60it/s]\u001b[A\n",
            " 41%|████      | 36/88 [00:10<00:20,  2.48it/s]\u001b[A\n",
            " 70%|██████▉   | 48/69 [00:39<00:19,  1.06it/s]\n",
            " 43%|████▎     | 38/88 [00:10<00:19,  2.56it/s]\u001b[A\n",
            " 71%|███████   | 49/69 [00:40<00:19,  1.01it/s]\n",
            " 45%|████▌     | 40/88 [00:11<00:19,  2.48it/s]\u001b[A\n",
            " 47%|████▋     | 41/88 [00:12<00:19,  2.44it/s]\u001b[A\n",
            " 72%|███████▏  | 50/69 [00:41<00:19,  1.01s/it]\n",
            " 49%|████▉     | 43/88 [00:12<00:17,  2.65it/s]\u001b[A\n",
            " 50%|█████     | 44/88 [00:13<00:17,  2.54it/s]\u001b[A\n",
            " 74%|███████▍  | 51/69 [00:42<00:18,  1.04s/it]\n",
            " 52%|█████▏    | 46/88 [00:13<00:16,  2.60it/s]\u001b[A\n",
            " 75%|███████▌  | 52/69 [00:43<00:17,  1.03s/it]\n",
            " 55%|█████▍    | 48/88 [00:14<00:15,  2.59it/s]\u001b[A\n",
            " 56%|█████▌    | 49/88 [00:15<00:13,  2.87it/s]\u001b[A\n",
            " 77%|███████▋  | 53/69 [00:44<00:14,  1.08it/s]\n",
            " 58%|█████▊    | 51/88 [00:15<00:11,  3.31it/s]\u001b[A\n",
            " 59%|█████▉    | 52/88 [00:15<00:10,  3.56it/s]\u001b[A\n",
            " 78%|███████▊  | 54/69 [00:45<00:12,  1.17it/s]\n",
            " 61%|██████▏   | 54/88 [00:16<00:09,  3.76it/s]\u001b[A\n",
            " 80%|███████▉  | 55/69 [00:45<00:11,  1.26it/s]\n",
            " 64%|██████▎   | 56/88 [00:16<00:08,  3.78it/s]\u001b[A\n",
            " 65%|██████▍   | 57/88 [00:17<00:08,  3.79it/s]\u001b[A\n",
            " 81%|████████  | 56/69 [00:46<00:09,  1.33it/s]\n",
            " 67%|██████▋   | 59/88 [00:17<00:07,  4.09it/s]\u001b[A\n",
            " 68%|██████▊   | 60/88 [00:17<00:06,  4.10it/s]\u001b[A\n",
            " 83%|████████▎ | 57/69 [00:47<00:08,  1.36it/s]\n",
            " 70%|███████   | 62/88 [00:18<00:06,  4.17it/s]\u001b[A\n",
            " 84%|████████▍ | 58/69 [00:47<00:07,  1.38it/s]\n",
            " 73%|███████▎  | 64/88 [00:18<00:06,  3.64it/s]\u001b[A\n",
            " 74%|███████▍  | 65/88 [00:19<00:05,  3.84it/s]\u001b[A\n",
            " 86%|████████▌ | 59/69 [00:48<00:07,  1.39it/s]\n",
            " 76%|███████▌  | 67/88 [00:19<00:05,  3.88it/s]\u001b[A\n",
            " 77%|███████▋  | 68/88 [00:19<00:05,  3.83it/s]\u001b[A\n",
            " 87%|████████▋ | 60/69 [00:49<00:06,  1.42it/s]\n",
            " 80%|███████▉  | 70/88 [00:20<00:04,  3.96it/s]\u001b[A\n",
            " 88%|████████▊ | 61/69 [00:49<00:05,  1.44it/s]\n",
            " 82%|████████▏ | 72/88 [00:20<00:04,  3.71it/s]\u001b[A\n",
            " 83%|████████▎ | 73/88 [00:21<00:03,  3.86it/s]\u001b[A\n",
            " 90%|████████▉ | 62/69 [00:50<00:04,  1.45it/s]\n",
            " 85%|████████▌ | 75/88 [00:21<00:03,  4.18it/s]\u001b[A\n",
            " 86%|████████▋ | 76/88 [00:21<00:02,  4.25it/s]\u001b[A\n",
            " 91%|█████████▏| 63/69 [00:51<00:04,  1.45it/s]\n",
            " 89%|████████▊ | 78/88 [00:22<00:02,  4.39it/s]\u001b[A\n",
            " 90%|████████▉ | 79/88 [00:22<00:02,  4.23it/s]\u001b[A\n",
            " 93%|█████████▎| 64/69 [00:52<00:03,  1.42it/s]\n",
            " 92%|█████████▏| 81/88 [00:22<00:01,  4.25it/s]\u001b[A\n",
            " 93%|█████████▎| 82/88 [00:23<00:01,  4.13it/s]\u001b[A\n",
            " 94%|█████████▍| 65/69 [00:52<00:02,  1.41it/s]\n",
            " 95%|█████████▌| 84/88 [00:23<00:00,  4.12it/s]\u001b[A\n",
            " 97%|█████████▋| 85/88 [00:24<00:00,  3.93it/s]\u001b[A\n",
            " 96%|█████████▌| 66/69 [00:53<00:02,  1.43it/s]\n",
            "100%|██████████| 88/88 [00:24<00:00,  3.58it/s]\n"
          ]
        },
        {
          "name": "stdout",
          "output_type": "stream",
          "text": [
            "loss 0.2984 - acc 0.8766 - val_loss 0.5777 - val_acc 0.7435\n",
            "Epoch [5/50]\n"
          ]
        },
        {
          "name": "stderr",
          "output_type": "stream",
          "text": [
            "\n",
            " 97%|█████████▋| 67/69 [00:54<00:01,  1.35it/s]\n",
            "100%|██████████| 69/69 [00:55<00:00,  1.24it/s]\n",
            "  0%|          | 0/88 [00:00<?, ?it/s]\n",
            "  2%|▏         | 2/88 [00:00<00:31,  2.69it/s]\n",
            "  6%|▌         | 5/88 [00:01<00:30,  2.69it/s]\n",
            "  8%|▊         | 7/88 [00:02<00:33,  2.44it/s]\n",
            " 11%|█▏        | 10/88 [00:03<00:31,  2.48it/s]\n",
            " 15%|█▍        | 13/88 [00:04<00:23,  3.24it/s]\n",
            " 18%|█▊        | 16/88 [00:05<00:18,  3.80it/s]\n",
            " 22%|██▏       | 19/88 [00:06<00:16,  4.23it/s]\n",
            " 24%|██▍       | 21/88 [00:06<00:17,  3.90it/s]\n",
            " 26%|██▌       | 23/88 [00:07<00:16,  3.95it/s]\n",
            " 30%|██▉       | 26/88 [00:08<00:17,  3.57it/s]\n",
            " 33%|███▎      | 29/88 [00:08<00:14,  4.18it/s]\n",
            " 36%|███▋      | 32/88 [00:09<00:13,  4.10it/s]\n",
            " 40%|███▉      | 35/88 [00:10<00:12,  4.15it/s]\n",
            " 42%|████▏     | 37/88 [00:10<00:12,  3.98it/s]\n",
            " 45%|████▌     | 40/88 [00:11<00:11,  4.25it/s]\n",
            " 48%|████▊     | 42/88 [00:12<00:11,  3.95it/s]\n",
            " 51%|█████     | 45/88 [00:12<00:10,  4.05it/s]\n",
            " 55%|█████▍    | 48/88 [00:13<00:09,  4.29it/s]\n",
            " 58%|█████▊    | 51/88 [00:14<00:08,  4.21it/s]\n",
            " 61%|██████▏   | 54/88 [00:15<00:11,  2.99it/s]\n",
            " 64%|██████▎   | 56/88 [00:16<00:11,  2.76it/s]\n",
            " 67%|██████▋   | 59/88 [00:17<00:11,  2.43it/s]\n",
            " 70%|███████   | 62/88 [00:18<00:10,  2.60it/s]\n",
            " 73%|███████▎  | 64/88 [00:19<00:09,  2.41it/s]\n",
            " 76%|███████▌  | 67/88 [00:20<00:08,  2.48it/s]\n",
            " 80%|███████▉  | 70/88 [00:21<00:05,  3.42it/s]\n",
            " 82%|████████▏ | 72/88 [00:21<00:04,  3.70it/s]\n",
            " 85%|████████▌ | 75/88 [00:22<00:03,  3.72it/s]\n",
            " 89%|████████▊ | 78/88 [00:23<00:02,  4.23it/s]\n",
            " 91%|█████████ | 80/88 [00:23<00:01,  4.08it/s]\n",
            " 94%|█████████▍| 83/88 [00:24<00:01,  4.21it/s]\n",
            " 98%|█████████▊| 86/88 [00:25<00:00,  4.10it/s]\n",
            "100%|██████████| 88/88 [00:25<00:00,  3.43it/s]\n"
          ]
        },
        {
          "name": "stdout",
          "output_type": "stream",
          "text": [
            "loss 0.4394 - acc 0.8213 - val_loss 0.6073 - val_acc 0.7442\n",
            "=> saved best model\n",
            "Epoch [25/50]\n"
          ]
        },
        {
          "name": "stderr",
          "output_type": "stream",
          "text": [
            "  0%|          | 0/69 [00:00<?, ?it/s]\n",
            "  1%|▏         | 1/69 [00:00<00:46,  1.45it/s]\n",
            "  3%|▎         | 2/69 [00:01<00:47,  1.40it/s]\n",
            "  4%|▍         | 3/69 [00:02<00:46,  1.42it/s]\n",
            "  6%|▌         | 4/69 [00:02<00:46,  1.40it/s]\n",
            "  7%|▋         | 5/69 [00:03<00:44,  1.43it/s]\n",
            "  9%|▊         | 6/69 [00:04<00:44,  1.42it/s]\n",
            " 10%|█         | 7/69 [00:04<00:43,  1.41it/s]\n",
            " 12%|█▏        | 8/69 [00:06<00:51,  1.18it/s]\n",
            " 13%|█▎        | 9/69 [00:07<00:56,  1.06it/s]\n",
            " 14%|█▍        | 10/69 [00:08<00:59,  1.00s/it]\n",
            " 16%|█▌        | 11/69 [00:09<00:58,  1.01s/it]\n",
            " 17%|█▋        | 12/69 [00:10<01:00,  1.06s/it]\n",
            " 19%|█▉        | 13/69 [00:11<00:56,  1.01s/it]\n",
            " 20%|██        | 14/69 [00:12<00:50,  1.09it/s]\n",
            " 22%|██▏       | 15/69 [00:12<00:45,  1.19it/s]\n",
            " 23%|██▎       | 16/69 [00:13<00:41,  1.27it/s]\n",
            " 25%|██▍       | 17/69 [00:14<00:39,  1.31it/s]\n",
            " 26%|██▌       | 18/69 [00:14<00:38,  1.32it/s]\n",
            " 28%|██▊       | 19/69 [00:15<00:36,  1.37it/s]\n",
            " 29%|██▉       | 20/69 [00:16<00:35,  1.39it/s]\n",
            " 30%|███       | 21/69 [00:17<00:34,  1.39it/s]\n",
            " 32%|███▏      | 22/69 [00:17<00:33,  1.41it/s]\n",
            " 33%|███▎      | 23/69 [00:18<00:31,  1.44it/s]\n",
            " 35%|███▍      | 24/69 [00:19<00:31,  1.44it/s]\n",
            " 38%|███▊      | 26/69 [00:20<00:29,  1.45it/s]\n",
            " 39%|███▉      | 27/69 [00:21<00:29,  1.42it/s]\n",
            " 41%|████      | 28/69 [00:22<00:33,  1.24it/s]\n",
            " 42%|████▏     | 29/69 [00:23<00:36,  1.09it/s]\n",
            " 91%|█████████▏| 63/69 [00:51<00:05,  1.08it/s]\u001b[A\n",
            " 43%|████▎     | 30/69 [00:24<00:39,  1.00s/it]\n",
            " 45%|████▍     | 31/69 [00:25<00:39,  1.05s/it]\n",
            " 46%|████▋     | 32/69 [00:26<00:40,  1.08s/it]\n",
            " 48%|████▊     | 33/69 [00:27<00:36,  1.02s/it]\n",
            " 49%|████▉     | 34/69 [00:28<00:32,  1.09it/s]\n",
            "100%|██████████| 69/69 [00:56<00:00,  1.22it/s]\n",
            "\n",
            "  0%|          | 0/88 [00:00<?, ?it/s]\u001b[A\n",
            " 51%|█████     | 35/69 [00:29<00:29,  1.16it/s]\n",
            "  2%|▏         | 2/88 [00:00<00:19,  4.47it/s]\u001b[A\n",
            "  3%|▎         | 3/88 [00:00<00:19,  4.38it/s]\u001b[A\n",
            " 52%|█████▏    | 36/69 [00:29<00:26,  1.24it/s]\n",
            "  6%|▌         | 5/88 [00:01<00:19,  4.27it/s]\u001b[A\n",
            " 54%|█████▎    | 37/69 [00:30<00:24,  1.32it/s]\n",
            "  8%|▊         | 7/88 [00:01<00:20,  3.88it/s]\u001b[A\n",
            "  9%|▉         | 8/88 [00:01<00:19,  4.01it/s]\u001b[A\n",
            " 55%|█████▌    | 38/69 [00:31<00:22,  1.36it/s]\n",
            " 11%|█▏        | 10/88 [00:02<00:20,  3.79it/s]\u001b[A\n",
            " 12%|█▎        | 11/88 [00:02<00:20,  3.77it/s]\u001b[A\n",
            " 57%|█████▋    | 39/69 [00:31<00:21,  1.37it/s]\n",
            " 15%|█▍        | 13/88 [00:03<00:17,  4.30it/s]\u001b[A\n",
            " 16%|█▌        | 14/88 [00:03<00:17,  4.17it/s]\u001b[A\n",
            " 58%|█████▊    | 40/69 [00:32<00:20,  1.41it/s]\n",
            " 18%|█▊        | 16/88 [00:03<00:17,  4.06it/s]\u001b[A\n",
            " 59%|█████▉    | 41/69 [00:33<00:19,  1.43it/s]\n",
            " 20%|██        | 18/88 [00:04<00:17,  3.98it/s]\u001b[A\n",
            " 22%|██▏       | 19/88 [00:04<00:17,  3.90it/s]\u001b[A\n",
            " 61%|██████    | 42/69 [00:33<00:18,  1.44it/s]\n",
            " 24%|██▍       | 21/88 [00:05<00:16,  4.03it/s]\u001b[A\n",
            " 25%|██▌       | 22/88 [00:05<00:15,  4.19it/s]\u001b[A\n",
            " 62%|██████▏   | 43/69 [00:34<00:18,  1.44it/s]\n",
            " 27%|██▋       | 24/88 [00:05<00:14,  4.28it/s]\u001b[A\n",
            " 64%|██████▍   | 44/69 [00:35<00:17,  1.44it/s]\n",
            " 30%|██▉       | 26/88 [00:06<00:17,  3.59it/s]\u001b[A\n",
            " 31%|███       | 27/88 [00:06<00:15,  3.83it/s]\u001b[A\n",
            " 65%|██████▌   | 45/69 [00:35<00:16,  1.46it/s]\n",
            " 33%|███▎      | 29/88 [00:07<00:17,  3.44it/s]\u001b[A\n",
            " 67%|██████▋   | 46/69 [00:36<00:15,  1.48it/s]\n",
            " 35%|███▌      | 31/88 [00:07<00:15,  3.61it/s]\u001b[A\n",
            " 36%|███▋      | 32/88 [00:08<00:14,  3.88it/s]\u001b[A\n",
            " 68%|██████▊   | 47/69 [00:37<00:15,  1.47it/s]\n",
            " 39%|███▊      | 34/88 [00:08<00:13,  4.07it/s]\u001b[A\n",
            " 40%|███▉      | 35/88 [00:08<00:15,  3.34it/s]\u001b[A\n",
            " 70%|██████▉   | 48/69 [00:38<00:17,  1.23it/s]\n",
            " 42%|████▏     | 37/88 [00:09<00:16,  3.01it/s]\u001b[A\n",
            " 43%|████▎     | 38/88 [00:10<00:16,  3.00it/s]\u001b[A\n",
            " 71%|███████   | 49/69 [00:39<00:18,  1.10it/s]\n",
            " 45%|████▌     | 40/88 [00:10<00:18,  2.56it/s]\u001b[A\n",
            " 72%|███████▏  | 50/69 [00:40<00:17,  1.06it/s]\n",
            " 48%|████▊     | 42/88 [00:11<00:18,  2.43it/s]\u001b[A\n",
            " 49%|████▉     | 43/88 [00:12<00:17,  2.53it/s]\u001b[A\n",
            " 74%|███████▍  | 51/69 [00:41<00:17,  1.00it/s]\n",
            " 51%|█████     | 45/88 [00:13<00:17,  2.48it/s]\u001b[A\n",
            " 52%|█████▏    | 46/88 [00:13<00:16,  2.49it/s]\u001b[A\n",
            " 75%|███████▌  | 52/69 [00:42<00:17,  1.02s/it]\n",
            " 55%|█████▍    | 48/88 [00:14<00:15,  2.51it/s]\u001b[A\n",
            " 56%|█████▌    | 49/88 [00:14<00:14,  2.67it/s]\u001b[A\n",
            " 77%|███████▋  | 53/69 [00:43<00:16,  1.02s/it]\n",
            " 58%|█████▊    | 51/88 [00:15<00:13,  2.75it/s]\u001b[A\n",
            " 78%|███████▊  | 54/69 [00:44<00:13,  1.08it/s]\n",
            " 60%|██████    | 53/88 [00:15<00:10,  3.25it/s]\u001b[A\n",
            " 61%|██████▏   | 54/88 [00:15<00:09,  3.42it/s]\u001b[A\n",
            " 80%|███████▉  | 55/69 [00:45<00:11,  1.18it/s]\n",
            " 64%|██████▎   | 56/88 [00:16<00:08,  3.82it/s]\u001b[A\n",
            " 65%|██████▍   | 57/88 [00:16<00:08,  3.81it/s]\u001b[A\n",
            " 81%|████████  | 56/69 [00:45<00:10,  1.26it/s]\n",
            " 67%|██████▋   | 59/88 [00:17<00:06,  4.19it/s]\u001b[A\n",
            " 68%|██████▊   | 60/88 [00:17<00:06,  4.08it/s]\u001b[A\n",
            " 83%|████████▎ | 57/69 [00:46<00:09,  1.30it/s]\n",
            " 70%|███████   | 62/88 [00:17<00:06,  3.98it/s]\u001b[A\n",
            " 84%|████████▍ | 58/69 [00:47<00:08,  1.33it/s]\n",
            " 73%|███████▎  | 64/88 [00:18<00:06,  3.73it/s]\u001b[A\n",
            " 74%|███████▍  | 65/88 [00:18<00:05,  3.86it/s]\u001b[A\n",
            " 86%|████████▌ | 59/69 [00:47<00:07,  1.37it/s]\n",
            " 76%|███████▌  | 67/88 [00:19<00:05,  3.96it/s]\u001b[A\n",
            " 77%|███████▋  | 68/88 [00:19<00:05,  3.88it/s]\u001b[A\n",
            " 87%|████████▋ | 60/69 [00:48<00:06,  1.38it/s]\n",
            " 80%|███████▉  | 70/88 [00:20<00:04,  3.89it/s]\u001b[A\n",
            " 88%|████████▊ | 61/69 [00:49<00:05,  1.41it/s]\n",
            " 82%|████████▏ | 72/88 [00:20<00:04,  3.71it/s]\u001b[A\n",
            " 83%|████████▎ | 73/88 [00:20<00:03,  3.78it/s]\u001b[A\n",
            " 90%|████████▉ | 62/69 [00:50<00:04,  1.44it/s]\n",
            " 85%|████████▌ | 75/88 [00:21<00:03,  4.04it/s]\u001b[A\n",
            " 86%|████████▋ | 76/88 [00:21<00:02,  4.14it/s]\u001b[A\n",
            " 91%|█████████▏| 63/69 [00:50<00:04,  1.43it/s]\n",
            " 89%|████████▊ | 78/88 [00:21<00:02,  4.27it/s]\u001b[A\n",
            " 90%|████████▉ | 79/88 [00:22<00:02,  4.14it/s]\u001b[A\n",
            " 93%|█████████▎| 64/69 [00:51<00:03,  1.41it/s]\n",
            " 92%|█████████▏| 81/88 [00:22<00:01,  4.21it/s]\u001b[A\n",
            " 93%|█████████▎| 82/88 [00:22<00:01,  4.11it/s]\u001b[A\n",
            " 94%|█████████▍| 65/69 [00:52<00:02,  1.41it/s]\n",
            " 95%|█████████▌| 84/88 [00:23<00:00,  4.08it/s]\u001b[A\n",
            " 97%|█████████▋| 85/88 [00:23<00:00,  3.94it/s]\u001b[A\n",
            " 96%|█████████▌| 66/69 [00:52<00:02,  1.40it/s]\n",
            "100%|██████████| 88/88 [00:24<00:00,  3.61it/s]\n"
          ]
        },
        {
          "name": "stdout",
          "output_type": "stream",
          "text": [
            "loss 0.2589 - acc 0.8963 - val_loss 0.7717 - val_acc 0.7356\n",
            "Epoch [6/50]\n"
          ]
        },
        {
          "name": "stderr",
          "output_type": "stream",
          "text": [
            "\n",
            " 97%|█████████▋| 67/69 [00:53<00:01,  1.37it/s]\n",
            " 99%|█████████▊| 68/69 [00:54<00:00,  1.23it/s]\n",
            "100%|██████████| 69/69 [00:55<00:00,  1.25it/s]\n",
            "  2%|▏         | 2/88 [00:00<00:35,  2.43it/s]\n",
            "  6%|▌         | 5/88 [00:01<00:29,  2.85it/s]\n",
            "  8%|▊         | 7/88 [00:02<00:32,  2.47it/s]\n",
            " 11%|█▏        | 10/88 [00:04<00:34,  2.28it/s]\n",
            " 14%|█▎        | 12/88 [00:04<00:29,  2.60it/s]\n",
            " 17%|█▋        | 15/88 [00:05<00:23,  3.06it/s]\n",
            " 20%|██        | 18/88 [00:06<00:18,  3.87it/s]\n",
            " 23%|██▎       | 20/88 [00:06<00:17,  3.85it/s]\n",
            " 26%|██▌       | 23/88 [00:07<00:16,  3.96it/s]\n",
            " 28%|██▊       | 25/88 [00:08<00:17,  3.59it/s]\n",
            " 32%|███▏      | 28/88 [00:08<00:14,  4.03it/s]\n",
            " 35%|███▌      | 31/88 [00:09<00:14,  4.04it/s]\n",
            " 39%|███▊      | 34/88 [00:10<00:13,  3.99it/s]\n",
            " 41%|████      | 36/88 [00:10<00:12,  4.03it/s]\n",
            " 44%|████▍     | 39/88 [00:11<00:12,  4.02it/s]\n",
            " 48%|████▊     | 42/88 [00:12<00:12,  3.81it/s]\n",
            " 51%|█████     | 45/88 [00:13<00:10,  4.27it/s]\n",
            " 55%|█████▍    | 48/88 [00:13<00:09,  4.30it/s]\n",
            " 58%|█████▊    | 51/88 [00:14<00:08,  4.27it/s]\n",
            " 60%|██████    | 53/88 [00:15<00:08,  4.21it/s]\n",
            " 64%|██████▎   | 56/88 [00:16<00:11,  2.89it/s]\n",
            " 67%|██████▋   | 59/88 [00:17<00:11,  2.55it/s]\n",
            " 70%|███████   | 62/88 [00:18<00:09,  2.71it/s]\n",
            " 74%|███████▍  | 65/88 [00:19<00:09,  2.51it/s]\n",
            " 77%|███████▋  | 68/88 [00:20<00:07,  2.60it/s]\n",
            " 81%|████████  | 71/88 [00:22<00:05,  2.95it/s]\n",
            " 83%|████████▎ | 73/88 [00:22<00:04,  3.31it/s]\n",
            " 86%|████████▋ | 76/88 [00:23<00:03,  3.76it/s]\n",
            " 90%|████████▉ | 79/88 [00:23<00:02,  3.95it/s]\n",
            " 93%|█████████▎| 82/88 [00:24<00:01,  4.21it/s]\n",
            " 97%|█████████▋| 85/88 [00:25<00:00,  4.03it/s]\n",
            "100%|██████████| 88/88 [00:25<00:00,  3.39it/s]\n"
          ]
        },
        {
          "name": "stdout",
          "output_type": "stream",
          "text": [
            "loss 0.4189 - acc 0.8300 - val_loss 0.7691 - val_acc 0.5113\n",
            "Epoch [26/50]\n"
          ]
        },
        {
          "name": "stderr",
          "output_type": "stream",
          "text": [
            "  0%|          | 0/69 [00:00<?, ?it/s]\n",
            "  1%|▏         | 1/69 [00:00<00:51,  1.31it/s]\n",
            "  3%|▎         | 2/69 [00:01<00:49,  1.34it/s]\n",
            "  4%|▍         | 3/69 [00:02<00:48,  1.37it/s]\n",
            "  6%|▌         | 4/69 [00:02<00:46,  1.39it/s]\n",
            "  7%|▋         | 5/69 [00:03<00:45,  1.40it/s]\n",
            "  9%|▊         | 6/69 [00:04<00:45,  1.39it/s]\n",
            " 10%|█         | 7/69 [00:05<00:43,  1.43it/s]\n",
            " 12%|█▏        | 8/69 [00:05<00:42,  1.42it/s]\n",
            " 13%|█▎        | 9/69 [00:06<00:47,  1.25it/s]\n",
            " 14%|█▍        | 10/69 [00:07<00:52,  1.12it/s]\n",
            " 16%|█▌        | 11/69 [00:08<00:55,  1.05it/s]\n",
            " 17%|█▋        | 12/69 [00:10<00:56,  1.01it/s]\n",
            " 19%|█▉        | 13/69 [00:11<00:57,  1.02s/it]\n",
            " 20%|██        | 14/69 [00:12<00:55,  1.00s/it]\n",
            " 22%|██▏       | 15/69 [00:12<00:49,  1.10it/s]\n",
            " 23%|██▎       | 16/69 [00:13<00:44,  1.19it/s]\n",
            " 25%|██▍       | 17/69 [00:14<00:41,  1.26it/s]\n",
            " 26%|██▌       | 18/69 [00:14<00:39,  1.30it/s]\n",
            " 28%|██▊       | 19/69 [00:15<00:37,  1.33it/s]\n",
            " 29%|██▉       | 20/69 [00:16<00:36,  1.34it/s]\n",
            " 30%|███       | 21/69 [00:16<00:35,  1.37it/s]\n",
            " 32%|███▏      | 22/69 [00:17<00:33,  1.40it/s]\n",
            " 33%|███▎      | 23/69 [00:18<00:32,  1.40it/s]\n",
            " 35%|███▍      | 24/69 [00:19<00:32,  1.39it/s]\n",
            " 36%|███▌      | 25/69 [00:19<00:31,  1.40it/s]\n",
            " 38%|███▊      | 26/69 [00:20<00:29,  1.44it/s]\n",
            " 39%|███▉      | 27/69 [00:21<00:28,  1.45it/s]\n",
            " 41%|████      | 28/69 [00:21<00:28,  1.44it/s]\n",
            " 42%|████▏     | 29/69 [00:22<00:32,  1.24it/s]\n",
            " 43%|████▎     | 30/69 [00:24<00:35,  1.10it/s]\n",
            " 45%|████▍     | 31/69 [00:25<00:35,  1.07it/s]\n",
            " 46%|████▋     | 32/69 [00:26<00:38,  1.04s/it]\n",
            " 48%|████▊     | 33/69 [00:27<00:38,  1.06s/it]\n",
            " 49%|████▉     | 34/69 [00:28<00:36,  1.04s/it]\n",
            " 51%|█████     | 35/69 [00:29<00:32,  1.05it/s]\n",
            "100%|██████████| 69/69 [00:57<00:00,  1.20it/s]\n",
            "\n",
            "  0%|          | 0/88 [00:00<?, ?it/s]\u001b[A\n",
            " 52%|█████▏    | 36/69 [00:29<00:29,  1.14it/s]\n",
            "  2%|▏         | 2/88 [00:00<00:22,  3.88it/s]\u001b[A\n",
            "  3%|▎         | 3/88 [00:00<00:20,  4.05it/s]\u001b[A\n",
            " 54%|█████▎    | 37/69 [00:30<00:26,  1.21it/s]\n",
            "  6%|▌         | 5/88 [00:01<00:20,  4.11it/s]\u001b[A\n",
            "  7%|▋         | 6/88 [00:01<00:19,  4.10it/s]\u001b[A\n",
            " 55%|█████▌    | 38/69 [00:31<00:24,  1.26it/s]\n",
            "  9%|▉         | 8/88 [00:01<00:19,  4.02it/s]\u001b[A\n",
            " 57%|█████▋    | 39/69 [00:31<00:22,  1.32it/s]\n",
            " 11%|█▏        | 10/88 [00:02<00:22,  3.54it/s]\u001b[A\n",
            " 12%|█▎        | 11/88 [00:02<00:21,  3.62it/s]\u001b[A\n",
            " 58%|█████▊    | 40/69 [00:32<00:21,  1.36it/s]\n",
            " 15%|█▍        | 13/88 [00:03<00:18,  4.13it/s]\u001b[A\n",
            " 16%|█▌        | 14/88 [00:03<00:17,  4.13it/s]\u001b[A\n",
            " 59%|█████▉    | 41/69 [00:33<00:20,  1.38it/s]\n",
            " 18%|█▊        | 16/88 [00:04<00:17,  4.03it/s]\u001b[A\n",
            " 19%|█▉        | 17/88 [00:04<00:18,  3.88it/s]\u001b[A\n",
            " 61%|██████    | 42/69 [00:34<00:19,  1.40it/s]\n",
            " 22%|██▏       | 19/88 [00:04<00:17,  3.94it/s]\u001b[A\n",
            " 62%|██████▏   | 43/69 [00:34<00:18,  1.42it/s]\n",
            " 24%|██▍       | 21/88 [00:05<00:17,  3.82it/s]\u001b[A\n",
            " 25%|██▌       | 22/88 [00:05<00:16,  3.95it/s]\u001b[A\n",
            " 64%|██████▍   | 44/69 [00:35<00:17,  1.43it/s]\n",
            " 27%|██▋       | 24/88 [00:06<00:15,  4.11it/s]\u001b[A\n",
            " 28%|██▊       | 25/88 [00:06<00:16,  3.86it/s]\u001b[A\n",
            " 65%|██████▌   | 45/69 [00:36<00:16,  1.43it/s]\n",
            " 31%|███       | 27/88 [00:06<00:15,  4.01it/s]\u001b[A\n",
            " 67%|██████▋   | 46/69 [00:36<00:16,  1.43it/s]\n",
            " 33%|███▎      | 29/88 [00:07<00:17,  3.47it/s]\u001b[A\n",
            " 34%|███▍      | 30/88 [00:07<00:16,  3.56it/s]\u001b[A\n",
            " 68%|██████▊   | 47/69 [00:37<00:15,  1.42it/s]\n",
            " 36%|███▋      | 32/88 [00:08<00:14,  3.78it/s]\u001b[A\n",
            " 38%|███▊      | 33/88 [00:08<00:14,  3.87it/s]\u001b[A\n",
            " 70%|██████▉   | 48/69 [00:38<00:14,  1.41it/s]\n",
            " 40%|███▉      | 35/88 [00:09<00:14,  3.57it/s]\u001b[A\n",
            " 71%|███████   | 49/69 [00:39<00:16,  1.25it/s]\n",
            " 42%|████▏     | 37/88 [00:09<00:17,  2.89it/s]\u001b[A\n",
            " 43%|████▎     | 38/88 [00:10<00:16,  2.97it/s]\u001b[A\n",
            " 44%|████▍     | 39/88 [00:10<00:17,  2.88it/s]\u001b[A\n",
            " 72%|███████▏  | 50/69 [00:40<00:17,  1.09it/s]\n",
            " 47%|████▋     | 41/88 [00:11<00:18,  2.59it/s]\u001b[A\n",
            " 74%|███████▍  | 51/69 [00:41<00:17,  1.01it/s]\n",
            " 49%|████▉     | 43/88 [00:12<00:17,  2.56it/s]\u001b[A\n",
            " 50%|█████     | 44/88 [00:12<00:17,  2.50it/s]\u001b[A\n",
            " 75%|███████▌  | 52/69 [00:42<00:17,  1.03s/it]\n",
            " 52%|█████▏    | 46/88 [00:13<00:16,  2.61it/s]\u001b[A\n",
            " 53%|█████▎    | 47/88 [00:13<00:16,  2.51it/s]\u001b[A\n",
            " 77%|███████▋  | 53/69 [00:43<00:16,  1.05s/it]\n",
            " 56%|█████▌    | 49/88 [00:14<00:15,  2.52it/s]\u001b[A\n",
            " 57%|█████▋    | 50/88 [00:14<00:14,  2.60it/s]\u001b[A\n",
            " 78%|███████▊  | 54/69 [00:44<00:15,  1.04s/it]\n",
            " 59%|█████▉    | 52/88 [00:15<00:12,  2.91it/s]\u001b[A\n",
            " 60%|██████    | 53/88 [00:15<00:10,  3.20it/s]\u001b[A\n",
            " 80%|███████▉  | 55/69 [00:45<00:13,  1.06it/s]\n",
            " 62%|██████▎   | 55/88 [00:16<00:09,  3.49it/s]\u001b[A\n",
            " 81%|████████  | 56/69 [00:46<00:11,  1.14it/s]\n",
            " 65%|██████▍   | 57/88 [00:16<00:08,  3.55it/s]\u001b[A\n",
            " 66%|██████▌   | 58/88 [00:17<00:07,  3.84it/s]\u001b[A\n",
            " 83%|████████▎ | 57/69 [00:47<00:09,  1.20it/s]\n",
            " 68%|██████▊   | 60/88 [00:17<00:07,  3.81it/s]\u001b[A\n",
            " 69%|██████▉   | 61/88 [00:17<00:07,  3.82it/s]\u001b[A\n",
            " 84%|████████▍ | 58/69 [00:47<00:08,  1.27it/s]\n",
            " 72%|███████▏  | 63/88 [00:18<00:06,  3.76it/s]\u001b[A\n",
            " 86%|████████▌ | 59/69 [00:48<00:07,  1.31it/s]\n",
            " 74%|███████▍  | 65/88 [00:19<00:06,  3.51it/s]\u001b[A\n",
            " 75%|███████▌  | 66/88 [00:19<00:06,  3.52it/s]\u001b[A\n",
            " 87%|████████▋ | 60/69 [00:49<00:06,  1.37it/s]\n",
            " 77%|███████▋  | 68/88 [00:19<00:05,  3.67it/s]\u001b[A\n",
            " 88%|████████▊ | 61/69 [00:49<00:05,  1.39it/s]\n",
            " 80%|███████▉  | 70/88 [00:20<00:04,  3.65it/s]\u001b[A\n",
            " 81%|████████  | 71/88 [00:20<00:04,  3.56it/s]\u001b[A\n",
            " 90%|████████▉ | 62/69 [00:50<00:05,  1.39it/s]\n",
            " 83%|████████▎ | 73/88 [00:21<00:04,  3.63it/s]\u001b[A\n",
            " 91%|█████████▏| 63/69 [00:51<00:04,  1.41it/s]\n",
            " 85%|████████▌ | 75/88 [00:21<00:03,  3.62it/s]\u001b[A\n",
            " 86%|████████▋ | 76/88 [00:22<00:03,  3.75it/s]\u001b[A\n",
            " 93%|█████████▎| 64/69 [00:51<00:03,  1.41it/s]\n",
            " 89%|████████▊ | 78/88 [00:22<00:02,  4.02it/s]\u001b[A\n",
            " 90%|████████▉ | 79/88 [00:22<00:02,  4.01it/s]\u001b[A\n",
            " 94%|█████████▍| 65/69 [00:52<00:02,  1.41it/s]\n",
            " 92%|█████████▏| 81/88 [00:23<00:01,  4.14it/s]\u001b[A\n",
            " 93%|█████████▎| 82/88 [00:23<00:01,  4.03it/s]\u001b[A\n",
            " 96%|█████████▌| 66/69 [00:53<00:02,  1.40it/s]\n",
            " 95%|█████████▌| 84/88 [00:23<00:00,  4.04it/s]\u001b[A\n",
            " 97%|█████████▋| 85/88 [00:24<00:00,  3.87it/s]\u001b[A\n",
            " 97%|█████████▋| 67/69 [00:54<00:01,  1.39it/s]\n",
            "100%|██████████| 88/88 [00:24<00:00,  3.54it/s]\n"
          ]
        },
        {
          "name": "stdout",
          "output_type": "stream",
          "text": [
            "loss 0.2236 - acc 0.9068 - val_loss 0.7491 - val_acc 0.7220\n",
            "Epoch [7/50]\n"
          ]
        },
        {
          "name": "stderr",
          "output_type": "stream",
          "text": [
            "\n",
            " 99%|█████████▊| 68/69 [00:54<00:00,  1.33it/s]\n",
            "100%|██████████| 69/69 [00:55<00:00,  1.25it/s]\n",
            "  2%|▏         | 2/88 [00:00<00:34,  2.51it/s]\n",
            "  5%|▍         | 4/88 [00:01<00:33,  2.53it/s]\n",
            "  8%|▊         | 7/88 [00:02<00:35,  2.30it/s]\n",
            " 11%|█▏        | 10/88 [00:04<00:31,  2.50it/s]\n",
            " 15%|█▍        | 13/88 [00:05<00:26,  2.80it/s]\n",
            " 17%|█▋        | 15/88 [00:05<00:28,  2.60it/s]\n",
            " 20%|██        | 18/88 [00:06<00:20,  3.46it/s]\n",
            " 24%|██▍       | 21/88 [00:07<00:18,  3.71it/s]\n",
            " 26%|██▌       | 23/88 [00:07<00:16,  3.94it/s]\n",
            " 30%|██▉       | 26/88 [00:08<00:16,  3.73it/s]\n",
            " 33%|███▎      | 29/88 [00:09<00:14,  4.21it/s]\n",
            " 36%|███▋      | 32/88 [00:10<00:13,  4.17it/s]\n",
            " 39%|███▊      | 34/88 [00:10<00:13,  4.07it/s]\n",
            " 42%|████▏     | 37/88 [00:11<00:13,  3.83it/s]\n",
            " 45%|████▌     | 40/88 [00:12<00:11,  4.15it/s]\n",
            " 49%|████▉     | 43/88 [00:12<00:11,  4.08it/s]\n",
            " 51%|█████     | 45/88 [00:13<00:10,  4.24it/s]\n",
            " 55%|█████▍    | 48/88 [00:14<00:09,  4.31it/s]\n",
            " 58%|█████▊    | 51/88 [00:14<00:08,  4.22it/s]\n",
            " 61%|██████▏   | 54/88 [00:15<00:08,  4.15it/s]\n",
            " 64%|██████▎   | 56/88 [00:16<00:08,  3.63it/s]\n",
            " 67%|██████▋   | 59/88 [00:17<00:10,  2.74it/s]\n",
            " 70%|███████   | 62/88 [00:18<00:10,  2.59it/s]\n",
            " 73%|███████▎  | 64/88 [00:19<00:09,  2.48it/s]\n",
            " 76%|███████▌  | 67/88 [00:20<00:08,  2.47it/s]\n",
            " 80%|███████▉  | 70/88 [00:21<00:07,  2.53it/s]\n",
            " 82%|████████▏ | 72/88 [00:22<00:05,  2.84it/s]\n",
            " 85%|████████▌ | 75/88 [00:23<00:03,  3.50it/s]\n",
            " 89%|████████▊ | 78/88 [00:23<00:02,  4.08it/s]\n",
            " 92%|█████████▏| 81/88 [00:24<00:01,  4.11it/s]\n",
            " 95%|█████████▌| 84/88 [00:25<00:00,  4.54it/s]\n",
            "100%|██████████| 88/88 [00:26<00:00,  3.38it/s]\n"
          ]
        },
        {
          "name": "stdout",
          "output_type": "stream",
          "text": [
            "loss 0.4176 - acc 0.8257 - val_loss 0.7563 - val_acc 0.6912\n",
            "Epoch [27/50]\n"
          ]
        },
        {
          "name": "stderr",
          "output_type": "stream",
          "text": [
            "  0%|          | 0/69 [00:00<?, ?it/s]\n",
            "  1%|▏         | 1/69 [00:00<00:48,  1.39it/s]\n",
            "  3%|▎         | 2/69 [00:01<00:47,  1.41it/s]\n",
            "  4%|▍         | 3/69 [00:02<00:47,  1.39it/s]\n",
            "  6%|▌         | 4/69 [00:02<00:46,  1.40it/s]\n",
            "  7%|▋         | 5/69 [00:03<00:45,  1.40it/s]\n",
            "  9%|▊         | 6/69 [00:04<00:45,  1.39it/s]\n",
            " 10%|█         | 7/69 [00:05<00:45,  1.36it/s]\n",
            " 12%|█▏        | 8/69 [00:05<00:44,  1.38it/s]\n",
            " 13%|█▎        | 9/69 [00:06<00:44,  1.36it/s]\n",
            " 14%|█▍        | 10/69 [00:07<00:50,  1.18it/s]\n",
            " 16%|█▌        | 11/69 [00:08<00:52,  1.10it/s]\n",
            " 17%|█▋        | 12/69 [00:09<00:55,  1.03it/s]\n",
            " 19%|█▉        | 13/69 [00:10<00:56,  1.01s/it]\n",
            " 20%|██        | 14/69 [00:11<00:56,  1.03s/it]\n",
            " 22%|██▏       | 15/69 [00:12<00:53,  1.00it/s]\n",
            " 23%|██▎       | 16/69 [00:13<00:48,  1.09it/s]\n",
            " 25%|██▍       | 17/69 [00:14<00:44,  1.17it/s]\n",
            " 26%|██▌       | 18/69 [00:15<00:41,  1.22it/s]\n",
            " 28%|██▊       | 19/69 [00:15<00:38,  1.29it/s]\n",
            " 29%|██▉       | 20/69 [00:16<00:36,  1.34it/s]\n",
            " 30%|███       | 21/69 [00:17<00:35,  1.37it/s]\n",
            " 32%|███▏      | 22/69 [00:17<00:33,  1.40it/s]\n",
            " 33%|███▎      | 23/69 [00:18<00:32,  1.43it/s]\n",
            " 35%|███▍      | 24/69 [00:19<00:31,  1.45it/s]\n",
            " 36%|███▌      | 25/69 [00:19<00:30,  1.46it/s]\n",
            " 38%|███▊      | 26/69 [00:20<00:29,  1.46it/s]\n",
            " 39%|███▉      | 27/69 [00:21<00:28,  1.45it/s]\n",
            " 41%|████      | 28/69 [00:21<00:28,  1.44it/s]\n",
            " 42%|████▏     | 29/69 [00:22<00:28,  1.43it/s]\n",
            " 43%|████▎     | 30/69 [00:23<00:33,  1.17it/s]\n",
            " 45%|████▍     | 31/69 [00:25<00:37,  1.02it/s]\n",
            " 93%|█████████▎| 64/69 [00:52<00:04,  1.09it/s]\u001b[A\n",
            " 46%|████▋     | 32/69 [00:26<00:40,  1.09s/it]\n",
            " 48%|████▊     | 33/69 [00:27<00:38,  1.08s/it]\n",
            " 49%|████▉     | 34/69 [00:28<00:37,  1.06s/it]\n",
            " 51%|█████     | 35/69 [00:29<00:34,  1.02s/it]\n",
            "100%|██████████| 69/69 [00:56<00:00,  1.22it/s]\n",
            "\n",
            "  0%|          | 0/88 [00:00<?, ?it/s]\u001b[A\n",
            " 52%|█████▏    | 36/69 [00:30<00:30,  1.09it/s]\n",
            "  2%|▏         | 2/88 [00:00<00:19,  4.43it/s]\u001b[A\n",
            "  3%|▎         | 3/88 [00:00<00:19,  4.29it/s]\u001b[A\n",
            " 54%|█████▎    | 37/69 [00:30<00:27,  1.17it/s]\n",
            "  6%|▌         | 5/88 [00:01<00:19,  4.29it/s]\u001b[A\n",
            "  7%|▋         | 6/88 [00:01<00:19,  4.25it/s]\u001b[A\n",
            " 55%|█████▌    | 38/69 [00:31<00:24,  1.26it/s]\n",
            "  9%|▉         | 8/88 [00:01<00:19,  4.15it/s]\u001b[A\n",
            " 57%|█████▋    | 39/69 [00:32<00:22,  1.32it/s]\n",
            " 11%|█▏        | 10/88 [00:02<00:20,  3.84it/s]\u001b[A\n",
            " 12%|█▎        | 11/88 [00:02<00:20,  3.76it/s]\u001b[A\n",
            " 58%|█████▊    | 40/69 [00:32<00:21,  1.33it/s]\n",
            " 15%|█▍        | 13/88 [00:03<00:18,  4.01it/s]\u001b[A\n",
            " 16%|█▌        | 14/88 [00:03<00:18,  4.06it/s]\u001b[A\n",
            " 59%|█████▉    | 41/69 [00:33<00:20,  1.34it/s]\n",
            " 18%|█▊        | 16/88 [00:03<00:18,  3.97it/s]\u001b[A\n",
            " 19%|█▉        | 17/88 [00:04<00:18,  3.89it/s]\u001b[A\n",
            " 61%|██████    | 42/69 [00:34<00:19,  1.35it/s]\n",
            " 22%|██▏       | 19/88 [00:04<00:18,  3.68it/s]\u001b[A\n",
            " 23%|██▎       | 20/88 [00:05<00:17,  3.80it/s]\u001b[A\n",
            " 62%|██████▏   | 43/69 [00:35<00:19,  1.36it/s]\n",
            " 25%|██▌       | 22/88 [00:05<00:16,  3.96it/s]\u001b[A\n",
            " 64%|██████▍   | 44/69 [00:35<00:17,  1.40it/s]\n",
            " 27%|██▋       | 24/88 [00:06<00:16,  3.84it/s]\u001b[A\n",
            " 28%|██▊       | 25/88 [00:06<00:17,  3.70it/s]\u001b[A\n",
            " 65%|██████▌   | 45/69 [00:36<00:17,  1.40it/s]\n",
            " 31%|███       | 27/88 [00:06<00:15,  3.84it/s]\u001b[A\n",
            " 67%|██████▋   | 46/69 [00:37<00:16,  1.41it/s]\n",
            " 33%|███▎      | 29/88 [00:07<00:17,  3.43it/s]\u001b[A\n",
            " 68%|██████▊   | 47/69 [00:37<00:15,  1.44it/s]\n",
            " 35%|███▌      | 31/88 [00:08<00:17,  3.22it/s]\u001b[A\n",
            " 36%|███▋      | 32/88 [00:08<00:15,  3.51it/s]\u001b[A\n",
            " 70%|██████▉   | 48/69 [00:38<00:14,  1.44it/s]\n",
            " 39%|███▊      | 34/88 [00:08<00:13,  3.91it/s]\u001b[A\n",
            " 71%|███████   | 49/69 [00:39<00:13,  1.43it/s]\n",
            " 41%|████      | 36/88 [00:09<00:16,  3.20it/s]\u001b[A\n",
            " 42%|████▏     | 37/88 [00:09<00:16,  3.09it/s]\u001b[A\n",
            " 72%|███████▏  | 50/69 [00:40<00:15,  1.26it/s]\n",
            " 44%|████▍     | 39/88 [00:10<00:16,  2.91it/s]\u001b[A\n",
            " 45%|████▌     | 40/88 [00:11<00:18,  2.63it/s]\u001b[A\n",
            " 74%|███████▍  | 51/69 [00:41<00:16,  1.09it/s]\n",
            " 48%|████▊     | 42/88 [00:11<00:18,  2.47it/s]\u001b[A\n",
            " 49%|████▉     | 43/88 [00:12<00:17,  2.53it/s]\u001b[A\n",
            " 75%|███████▌  | 52/69 [00:42<00:16,  1.01it/s]\n",
            " 51%|█████     | 45/88 [00:13<00:17,  2.51it/s]\u001b[A\n",
            " 77%|███████▋  | 53/69 [00:43<00:16,  1.02s/it]\n",
            " 53%|█████▎    | 47/88 [00:14<00:17,  2.33it/s]\u001b[A\n",
            " 55%|█████▍    | 48/88 [00:14<00:16,  2.43it/s]\u001b[A\n",
            " 78%|███████▊  | 54/69 [00:44<00:15,  1.04s/it]\n",
            " 57%|█████▋    | 50/88 [00:15<00:16,  2.37it/s]\u001b[A\n",
            " 80%|███████▉  | 55/69 [00:45<00:13,  1.01it/s]\n",
            " 59%|█████▉    | 52/88 [00:15<00:14,  2.56it/s]\u001b[A\n",
            " 60%|██████    | 53/88 [00:16<00:12,  2.89it/s]\u001b[A\n",
            " 81%|████████  | 56/69 [00:46<00:11,  1.10it/s]\n",
            " 62%|██████▎   | 55/88 [00:16<00:09,  3.37it/s]\u001b[A\n",
            " 64%|██████▎   | 56/88 [00:16<00:08,  3.60it/s]\u001b[A\n",
            " 83%|████████▎ | 57/69 [00:47<00:10,  1.18it/s]\n",
            " 66%|██████▌   | 58/88 [00:17<00:07,  3.89it/s]\u001b[A\n",
            " 67%|██████▋   | 59/88 [00:17<00:07,  4.04it/s]\u001b[A\n",
            " 84%|████████▍ | 58/69 [00:47<00:08,  1.23it/s]\n",
            " 69%|██████▉   | 61/88 [00:18<00:06,  3.98it/s]\u001b[A\n",
            " 70%|███████   | 62/88 [00:18<00:06,  3.98it/s]\u001b[A\n",
            " 86%|████████▌ | 59/69 [00:48<00:07,  1.27it/s]\n",
            " 73%|███████▎  | 64/88 [00:18<00:06,  3.81it/s]\u001b[A\n",
            " 87%|████████▋ | 60/69 [00:49<00:06,  1.32it/s]\n",
            " 75%|███████▌  | 66/88 [00:19<00:06,  3.64it/s]\u001b[A\n",
            " 76%|███████▌  | 67/88 [00:19<00:05,  3.84it/s]\u001b[A\n",
            " 88%|████████▊ | 61/69 [00:49<00:05,  1.35it/s]\n",
            " 78%|███████▊  | 69/88 [00:20<00:04,  3.84it/s]\u001b[A\n",
            " 80%|███████▉  | 70/88 [00:20<00:04,  3.80it/s]\u001b[A\n",
            " 90%|████████▉ | 62/69 [00:50<00:05,  1.37it/s]\n",
            " 82%|████████▏ | 72/88 [00:21<00:04,  3.62it/s]\u001b[A\n",
            " 91%|█████████▏| 63/69 [00:51<00:04,  1.39it/s]\n",
            " 84%|████████▍ | 74/88 [00:21<00:03,  3.76it/s]\u001b[A\n",
            " 85%|████████▌ | 75/88 [00:21<00:03,  4.03it/s]\u001b[A\n",
            " 93%|█████████▎| 64/69 [00:52<00:03,  1.40it/s]\n",
            " 88%|████████▊ | 77/88 [00:22<00:02,  4.03it/s]\u001b[A\n",
            " 89%|████████▊ | 78/88 [00:22<00:02,  4.09it/s]\u001b[A\n",
            " 94%|█████████▍| 65/69 [00:52<00:02,  1.41it/s]\n",
            " 91%|█████████ | 80/88 [00:23<00:01,  4.20it/s]\u001b[A\n",
            " 92%|█████████▏| 81/88 [00:23<00:01,  4.28it/s]\u001b[A\n",
            " 96%|█████████▌| 66/69 [00:53<00:02,  1.41it/s]\n",
            " 94%|█████████▍| 83/88 [00:23<00:01,  4.03it/s]\u001b[A\n",
            " 95%|█████████▌| 84/88 [00:24<00:00,  4.03it/s]\u001b[A\n",
            " 97%|█████████▋| 67/69 [00:54<00:01,  1.41it/s]\n",
            " 98%|█████████▊| 86/88 [00:24<00:00,  3.76it/s]\u001b[A\n",
            "100%|██████████| 88/88 [00:24<00:00,  3.53it/s]\n"
          ]
        },
        {
          "name": "stdout",
          "output_type": "stream",
          "text": [
            "loss 0.1937 - acc 0.9216 - val_loss 0.6837 - val_acc 0.7990\n",
            "=> saved best model\n",
            "Epoch [8/50]\n"
          ]
        },
        {
          "name": "stderr",
          "output_type": "stream",
          "text": [
            "\n",
            "100%|██████████| 69/69 [00:55<00:00,  1.25it/s]\n",
            "  0%|          | 0/88 [00:00<?, ?it/s]\n",
            "  3%|▎         | 3/88 [00:01<00:32,  2.63it/s]\n",
            "  7%|▋         | 6/88 [00:02<00:32,  2.55it/s]\n",
            " 10%|█         | 9/88 [00:03<00:30,  2.59it/s]\n",
            " 12%|█▎        | 11/88 [00:04<00:30,  2.50it/s]\n",
            " 16%|█▌        | 14/88 [00:05<00:29,  2.52it/s]\n",
            " 19%|█▉        | 17/88 [00:06<00:26,  2.69it/s]\n",
            " 23%|██▎       | 20/88 [00:07<00:20,  3.39it/s]\n",
            " 25%|██▌       | 22/88 [00:07<00:18,  3.58it/s]\n",
            " 27%|██▋       | 24/88 [00:08<00:19,  3.32it/s]\n",
            " 31%|███       | 27/88 [00:09<00:16,  3.66it/s]\n",
            " 34%|███▍      | 30/88 [00:10<00:14,  3.96it/s]\n",
            " 38%|███▊      | 33/88 [00:10<00:13,  4.11it/s]\n",
            " 40%|███▉      | 35/88 [00:11<00:12,  4.14it/s]\n",
            " 43%|████▎     | 38/88 [00:12<00:12,  3.86it/s]\n",
            " 47%|████▋     | 41/88 [00:12<00:11,  4.10it/s]\n",
            " 50%|█████     | 44/88 [00:13<00:10,  4.20it/s]\n",
            " 52%|█████▏    | 46/88 [00:13<00:10,  4.11it/s]\n",
            " 56%|█████▌    | 49/88 [00:14<00:09,  4.17it/s]\n",
            " 59%|█████▉    | 52/88 [00:15<00:09,  3.90it/s]\n",
            " 62%|██████▎   | 55/88 [00:16<00:08,  4.04it/s]\n",
            " 66%|██████▌   | 58/88 [00:17<00:09,  3.25it/s]\n",
            " 68%|██████▊   | 60/88 [00:17<00:09,  2.90it/s]\n",
            " 72%|███████▏  | 63/88 [00:19<00:09,  2.61it/s]\n",
            " 75%|███████▌  | 66/88 [00:20<00:09,  2.44it/s]\n",
            " 78%|███████▊  | 69/88 [00:21<00:07,  2.57it/s]\n",
            " 81%|████████  | 71/88 [00:22<00:06,  2.69it/s]\n",
            " 84%|████████▍ | 74/88 [00:23<00:04,  3.00it/s]\n",
            " 88%|████████▊ | 77/88 [00:24<00:02,  3.77it/s]\n",
            " 90%|████████▉ | 79/88 [00:24<00:02,  3.90it/s]\n",
            " 93%|█████████▎| 82/88 [00:25<00:01,  4.07it/s]\n",
            " 97%|█████████▋| 85/88 [00:25<00:00,  4.06it/s]\n",
            "100%|██████████| 88/88 [00:26<00:00,  3.32it/s]\n"
          ]
        },
        {
          "name": "stdout",
          "output_type": "stream",
          "text": [
            "Epoch 00027: reducing learning rate of group 0 to 8.4659e-04.\n",
            "loss 0.4305 - acc 0.8184 - val_loss 0.8390 - val_acc 0.5167\n",
            "Epoch [28/50]\n"
          ]
        },
        {
          "name": "stderr",
          "output_type": "stream",
          "text": [
            "  0%|          | 0/69 [00:00<?, ?it/s]\n",
            "  1%|▏         | 1/69 [00:00<00:47,  1.43it/s]\n",
            "  3%|▎         | 2/69 [00:01<00:44,  1.49it/s]\n",
            "  4%|▍         | 3/69 [00:02<00:50,  1.31it/s]\n",
            "  6%|▌         | 4/69 [00:03<00:50,  1.28it/s]\n",
            "  7%|▋         | 5/69 [00:03<00:48,  1.33it/s]\n",
            "  9%|▊         | 6/69 [00:04<00:46,  1.37it/s]\n",
            " 10%|█         | 7/69 [00:05<00:44,  1.38it/s]\n",
            " 12%|█▏        | 8/69 [00:05<00:43,  1.40it/s]\n",
            " 13%|█▎        | 9/69 [00:06<00:43,  1.37it/s]\n",
            " 14%|█▍        | 10/69 [00:07<00:49,  1.18it/s]\n",
            " 16%|█▌        | 11/69 [00:08<00:52,  1.10it/s]\n",
            " 17%|█▋        | 12/69 [00:09<00:55,  1.03it/s]\n",
            " 19%|█▉        | 13/69 [00:10<00:56,  1.01s/it]\n",
            " 20%|██        | 14/69 [00:12<00:57,  1.05s/it]\n",
            " 22%|██▏       | 15/69 [00:13<00:55,  1.03s/it]\n",
            " 23%|██▎       | 16/69 [00:13<00:48,  1.08it/s]\n",
            " 25%|██▍       | 17/69 [00:14<00:44,  1.16it/s]\n",
            " 26%|██▌       | 18/69 [00:15<00:43,  1.18it/s]\n",
            " 28%|██▊       | 19/69 [00:16<00:40,  1.22it/s]\n",
            " 29%|██▉       | 20/69 [00:16<00:38,  1.26it/s]\n",
            " 30%|███       | 21/69 [00:17<00:36,  1.30it/s]\n",
            " 32%|███▏      | 22/69 [00:18<00:35,  1.32it/s]\n",
            " 33%|███▎      | 23/69 [00:18<00:34,  1.33it/s]\n",
            " 35%|███▍      | 24/69 [00:19<00:33,  1.34it/s]\n",
            " 36%|███▌      | 25/69 [00:20<00:32,  1.35it/s]\n",
            " 38%|███▊      | 26/69 [00:21<00:30,  1.39it/s]\n",
            " 39%|███▉      | 27/69 [00:21<00:30,  1.39it/s]\n",
            " 41%|████      | 28/69 [00:22<00:29,  1.41it/s]\n",
            " 42%|████▏     | 29/69 [00:23<00:32,  1.24it/s]\n",
            " 43%|████▎     | 30/69 [00:24<00:34,  1.12it/s]\n",
            " 45%|████▍     | 31/69 [00:25<00:36,  1.04it/s]\n",
            " 46%|████▋     | 32/69 [00:27<00:40,  1.08s/it]\n",
            " 48%|████▊     | 33/69 [00:28<00:39,  1.09s/it]\n",
            " 49%|████▉     | 34/69 [00:29<00:37,  1.06s/it]\n",
            " 51%|█████     | 35/69 [00:30<00:33,  1.02it/s]\n",
            " 99%|█████████▊| 68/69 [00:57<00:00,  1.09it/s]\u001b[A\n",
            "100%|██████████| 69/69 [00:57<00:00,  1.20it/s]\n",
            "\n",
            " 52%|█████▏    | 36/69 [00:30<00:29,  1.10it/s]\n",
            "  1%|          | 1/88 [00:00<00:18,  4.73it/s]\u001b[A\n",
            " 54%|█████▎    | 37/69 [00:31<00:27,  1.18it/s]\n",
            "  3%|▎         | 3/88 [00:00<00:23,  3.67it/s]\u001b[A\n",
            "  5%|▍         | 4/88 [00:01<00:22,  3.68it/s]\u001b[A\n",
            " 55%|█████▌    | 38/69 [00:32<00:24,  1.26it/s]\n",
            "  7%|▋         | 6/88 [00:01<00:20,  4.07it/s]\u001b[A\n",
            "  8%|▊         | 7/88 [00:01<00:20,  3.87it/s]\u001b[A\n",
            " 57%|█████▋    | 39/69 [00:32<00:22,  1.31it/s]\n",
            " 10%|█         | 9/88 [00:02<00:20,  3.91it/s]\u001b[A\n",
            " 58%|█████▊    | 40/69 [00:33<00:21,  1.37it/s]\n",
            " 12%|█▎        | 11/88 [00:02<00:20,  3.71it/s]\u001b[A\n",
            " 14%|█▎        | 12/88 [00:03<00:19,  3.92it/s]\u001b[A\n",
            " 59%|█████▉    | 41/69 [00:34<00:20,  1.40it/s]\n",
            " 16%|█▌        | 14/88 [00:03<00:17,  4.20it/s]\u001b[A\n",
            " 17%|█▋        | 15/88 [00:03<00:17,  4.13it/s]\u001b[A\n",
            " 61%|██████    | 42/69 [00:34<00:18,  1.43it/s]\n",
            " 19%|█▉        | 17/88 [00:04<00:18,  3.93it/s]\u001b[A\n",
            " 62%|██████▏   | 43/69 [00:35<00:18,  1.41it/s]\n",
            " 22%|██▏       | 19/88 [00:04<00:18,  3.71it/s]\u001b[A\n",
            " 23%|██▎       | 20/88 [00:05<00:18,  3.76it/s]\u001b[A\n",
            " 64%|██████▍   | 44/69 [00:36<00:17,  1.42it/s]\n",
            " 25%|██▌       | 22/88 [00:05<00:16,  4.06it/s]\u001b[A\n",
            " 26%|██▌       | 23/88 [00:05<00:15,  4.15it/s]\u001b[A\n",
            " 65%|██████▌   | 45/69 [00:36<00:16,  1.43it/s]\n",
            " 28%|██▊       | 25/88 [00:06<00:16,  3.93it/s]\u001b[A\n",
            " 30%|██▉       | 26/88 [00:06<00:16,  3.83it/s]\u001b[A\n",
            " 67%|██████▋   | 46/69 [00:37<00:16,  1.42it/s]\n",
            " 32%|███▏      | 28/88 [00:07<00:14,  4.03it/s]\u001b[A\n",
            " 68%|██████▊   | 47/69 [00:38<00:15,  1.44it/s]\n",
            " 34%|███▍      | 30/88 [00:07<00:16,  3.60it/s]\u001b[A\n",
            " 35%|███▌      | 31/88 [00:08<00:16,  3.51it/s]\u001b[A\n",
            " 70%|██████▉   | 48/69 [00:39<00:14,  1.41it/s]\n",
            " 38%|███▊      | 33/88 [00:08<00:14,  3.92it/s]\u001b[A\n",
            " 39%|███▊      | 34/88 [00:08<00:15,  3.49it/s]\u001b[A\n",
            " 71%|███████   | 49/69 [00:40<00:15,  1.25it/s]\n",
            " 41%|████      | 36/88 [00:09<00:17,  2.94it/s]\u001b[A\n",
            " 42%|████▏     | 37/88 [00:09<00:17,  2.90it/s]\u001b[A\n",
            " 72%|███████▏  | 50/69 [00:41<00:17,  1.10it/s]\n",
            " 44%|████▍     | 39/88 [00:10<00:16,  2.97it/s]\u001b[A\n",
            " 45%|████▌     | 40/88 [00:11<00:17,  2.68it/s]\u001b[A\n",
            " 74%|███████▍  | 51/69 [00:42<00:17,  1.05it/s]\n",
            " 48%|████▊     | 42/88 [00:11<00:18,  2.43it/s]\u001b[A\n",
            " 75%|███████▌  | 52/69 [00:43<00:16,  1.00it/s]\n",
            " 50%|█████     | 44/88 [00:12<00:18,  2.38it/s]\u001b[A\n",
            " 51%|█████     | 45/88 [00:13<00:17,  2.42it/s]\u001b[A\n",
            " 77%|███████▋  | 53/69 [00:44<00:16,  1.02s/it]\n",
            " 53%|█████▎    | 47/88 [00:14<00:17,  2.38it/s]\u001b[A\n",
            " 78%|███████▊  | 54/69 [00:45<00:15,  1.03s/it]\n",
            " 56%|█████▌    | 49/88 [00:14<00:16,  2.36it/s]\u001b[A\n",
            " 57%|█████▋    | 50/88 [00:15<00:14,  2.66it/s]\u001b[A\n",
            " 80%|███████▉  | 55/69 [00:46<00:13,  1.03it/s]\n",
            " 59%|█████▉    | 52/88 [00:15<00:11,  3.17it/s]\u001b[A\n",
            " 60%|██████    | 53/88 [00:15<00:10,  3.39it/s]\u001b[A\n",
            " 81%|████████  | 56/69 [00:46<00:11,  1.15it/s]\n",
            " 62%|██████▎   | 55/88 [00:16<00:08,  3.68it/s]\u001b[A\n",
            " 83%|████████▎ | 57/69 [00:47<00:09,  1.22it/s]\n",
            " 65%|██████▍   | 57/88 [00:16<00:08,  3.61it/s]\u001b[A\n",
            " 66%|██████▌   | 58/88 [00:17<00:07,  3.83it/s]\u001b[A\n",
            " 84%|████████▍ | 58/69 [00:48<00:08,  1.27it/s]\n",
            " 68%|██████▊   | 60/88 [00:17<00:07,  3.91it/s]\u001b[A\n",
            " 69%|██████▉   | 61/88 [00:17<00:06,  3.87it/s]\u001b[A\n",
            " 86%|████████▌ | 59/69 [00:49<00:07,  1.34it/s]\n",
            " 72%|███████▏  | 63/88 [00:18<00:06,  3.74it/s]\u001b[A\n",
            " 87%|████████▋ | 60/69 [00:49<00:06,  1.37it/s]\n",
            " 74%|███████▍  | 65/88 [00:19<00:06,  3.73it/s]\u001b[A\n",
            " 75%|███████▌  | 66/88 [00:19<00:06,  3.56it/s]\u001b[A\n",
            " 88%|████████▊ | 61/69 [00:50<00:05,  1.35it/s]\n",
            " 77%|███████▋  | 68/88 [00:19<00:05,  3.75it/s]\u001b[A\n",
            " 78%|███████▊  | 69/88 [00:20<00:04,  3.88it/s]\u001b[A\n",
            " 90%|████████▉ | 62/69 [00:51<00:05,  1.37it/s]\n",
            " 81%|████████  | 71/88 [00:20<00:04,  3.79it/s]\u001b[A\n",
            " 91%|█████████▏| 63/69 [00:51<00:04,  1.40it/s]\n",
            " 83%|████████▎ | 73/88 [00:21<00:04,  3.74it/s]\u001b[A\n",
            " 84%|████████▍ | 74/88 [00:21<00:03,  3.62it/s]\u001b[A\n",
            " 93%|█████████▎| 64/69 [00:52<00:03,  1.43it/s]\n",
            " 86%|████████▋ | 76/88 [00:21<00:02,  4.09it/s]\u001b[A\n",
            " 88%|████████▊ | 77/88 [00:22<00:02,  4.22it/s]\u001b[A\n",
            " 94%|█████████▍| 65/69 [00:53<00:02,  1.41it/s]\n",
            " 90%|████████▉ | 79/88 [00:22<00:02,  4.29it/s]\u001b[A\n",
            " 91%|█████████ | 80/88 [00:22<00:01,  4.31it/s]\u001b[A\n",
            " 96%|█████████▌| 66/69 [00:53<00:02,  1.42it/s]\n",
            " 93%|█████████▎| 82/88 [00:23<00:01,  4.31it/s]\u001b[A\n",
            " 94%|█████████▍| 83/88 [00:23<00:01,  4.16it/s]\u001b[A\n",
            " 97%|█████████▋| 67/69 [00:54<00:01,  1.43it/s]\n",
            " 97%|█████████▋| 85/88 [00:24<00:00,  4.06it/s]\u001b[A\n",
            " 98%|█████████▊| 86/88 [00:24<00:00,  4.01it/s]\u001b[A\n",
            " 99%|█████████▊| 68/69 [00:55<00:00,  1.42it/s]\n",
            "100%|██████████| 88/88 [00:24<00:00,  3.56it/s]\n"
          ]
        },
        {
          "name": "stdout",
          "output_type": "stream",
          "text": [
            "loss 0.1666 - acc 0.9273 - val_loss 0.7471 - val_acc 0.7617\n",
            "Epoch [9/50]\n"
          ]
        },
        {
          "name": "stderr",
          "output_type": "stream",
          "text": [
            "\n",
            "100%|██████████| 69/69 [00:55<00:00,  1.24it/s]\n",
            "  1%|          | 1/88 [00:00<00:27,  3.19it/s]\n",
            "  5%|▍         | 4/88 [00:01<00:31,  2.64it/s]\n",
            "  8%|▊         | 7/88 [00:02<00:31,  2.61it/s]\n",
            " 11%|█▏        | 10/88 [00:03<00:31,  2.47it/s]\n",
            " 15%|█▍        | 13/88 [00:04<00:28,  2.61it/s]\n",
            " 18%|█▊        | 16/88 [00:06<00:26,  2.74it/s]\n",
            " 22%|██▏       | 19/88 [00:06<00:20,  3.37it/s]\n",
            " 24%|██▍       | 21/88 [00:07<00:19,  3.42it/s]\n",
            " 26%|██▌       | 23/88 [00:08<00:17,  3.72it/s]\n",
            " 30%|██▉       | 26/88 [00:08<00:17,  3.53it/s]\n",
            " 33%|███▎      | 29/88 [00:09<00:14,  4.11it/s]\n",
            " 36%|███▋      | 32/88 [00:10<00:13,  4.07it/s]\n",
            " 39%|███▊      | 34/88 [00:10<00:13,  3.93it/s]\n",
            " 42%|████▏     | 37/88 [00:11<00:13,  3.79it/s]\n",
            " 45%|████▌     | 40/88 [00:12<00:11,  4.12it/s]\n",
            " 49%|████▉     | 43/88 [00:13<00:11,  3.89it/s]\n",
            " 51%|█████     | 45/88 [00:13<00:10,  4.15it/s]\n",
            " 55%|█████▍    | 48/88 [00:14<00:09,  4.25it/s]\n",
            " 58%|█████▊    | 51/88 [00:15<00:08,  4.14it/s]\n",
            " 61%|██████▏   | 54/88 [00:15<00:08,  4.19it/s]\n",
            " 64%|██████▎   | 56/88 [00:16<00:07,  4.03it/s]\n",
            " 67%|██████▋   | 59/88 [00:17<00:10,  2.82it/s]\n",
            " 70%|███████   | 62/88 [00:18<00:09,  2.70it/s]\n",
            " 74%|███████▍  | 65/88 [00:19<00:09,  2.53it/s]\n",
            " 77%|███████▋  | 68/88 [00:21<00:07,  2.58it/s]\n",
            " 80%|███████▉  | 70/88 [00:21<00:07,  2.52it/s]\n",
            " 83%|████████▎ | 73/88 [00:22<00:05,  2.58it/s]\n",
            " 86%|████████▋ | 76/88 [00:23<00:03,  3.43it/s]\n",
            " 90%|████████▉ | 79/88 [00:24<00:02,  3.75it/s]\n",
            " 93%|█████████▎| 82/88 [00:25<00:01,  4.15it/s]\n",
            " 95%|█████████▌| 84/88 [00:25<00:00,  4.34it/s]\n",
            "100%|██████████| 88/88 [00:26<00:00,  3.32it/s]\n"
          ]
        },
        {
          "name": "stdout",
          "output_type": "stream",
          "text": [
            "loss 0.4097 - acc 0.8316 - val_loss 0.5551 - val_acc 0.7202\n",
            "Epoch [29/50]\n"
          ]
        },
        {
          "name": "stderr",
          "output_type": "stream",
          "text": [
            "  0%|          | 0/69 [00:00<?, ?it/s]\n",
            "  1%|▏         | 1/69 [00:00<00:48,  1.39it/s]\n",
            "  3%|▎         | 2/69 [00:01<00:46,  1.43it/s]\n",
            "  4%|▍         | 3/69 [00:02<00:45,  1.46it/s]\n",
            "  6%|▌         | 4/69 [00:02<00:45,  1.43it/s]\n",
            "  7%|▋         | 5/69 [00:03<00:45,  1.42it/s]\n",
            "  9%|▊         | 6/69 [00:04<00:46,  1.37it/s]\n",
            " 10%|█         | 7/69 [00:05<00:44,  1.38it/s]\n",
            " 12%|█▏        | 8/69 [00:05<00:43,  1.41it/s]\n",
            " 13%|█▎        | 9/69 [00:06<00:42,  1.40it/s]\n",
            " 14%|█▍        | 10/69 [00:07<00:49,  1.19it/s]\n",
            " 16%|█▌        | 11/69 [00:08<00:53,  1.09it/s]\n",
            " 17%|█▋        | 12/69 [00:09<00:53,  1.06it/s]\n",
            " 19%|█▉        | 13/69 [00:10<00:56,  1.01s/it]\n",
            " 65%|██████▌   | 45/69 [00:37<00:23,  1.02it/s]\u001b[A\n",
            " 22%|██▏       | 15/69 [00:12<00:55,  1.02s/it]\n",
            " 23%|██▎       | 16/69 [00:13<00:49,  1.08it/s]\n",
            " 25%|██▍       | 17/69 [00:14<00:44,  1.16it/s]\n",
            " 26%|██▌       | 18/69 [00:15<00:41,  1.22it/s]\n",
            " 28%|██▊       | 19/69 [00:15<00:38,  1.28it/s]\n",
            " 29%|██▉       | 20/69 [00:16<00:37,  1.31it/s]\n",
            " 30%|███       | 21/69 [00:17<00:35,  1.36it/s]\n",
            " 32%|███▏      | 22/69 [00:17<00:33,  1.39it/s]\n",
            " 33%|███▎      | 23/69 [00:18<00:32,  1.42it/s]\n",
            " 35%|███▍      | 24/69 [00:19<00:31,  1.44it/s]\n",
            " 36%|███▌      | 25/69 [00:19<00:30,  1.43it/s]\n",
            " 38%|███▊      | 26/69 [00:20<00:30,  1.39it/s]\n",
            " 39%|███▉      | 27/69 [00:21<00:30,  1.37it/s]\n",
            " 41%|████      | 28/69 [00:22<00:29,  1.38it/s]\n",
            " 42%|████▏     | 29/69 [00:22<00:29,  1.36it/s]\n",
            " 43%|████▎     | 30/69 [00:23<00:33,  1.17it/s]\n",
            " 45%|████▍     | 31/69 [00:25<00:36,  1.05it/s]\n",
            " 46%|████▋     | 32/69 [00:26<00:39,  1.06s/it]\n",
            " 48%|████▊     | 33/69 [00:27<00:38,  1.08s/it]\n",
            " 49%|████▉     | 34/69 [00:28<00:37,  1.08s/it]\n",
            " 51%|█████     | 35/69 [00:29<00:35,  1.05s/it]\n",
            " 52%|█████▏    | 36/69 [00:30<00:31,  1.06it/s]\n",
            " 54%|█████▎    | 37/69 [00:31<00:27,  1.15it/s]\n",
            "100%|██████████| 69/69 [00:57<00:00,  1.19it/s]\n",
            "\n",
            "  0%|          | 0/88 [00:00<?, ?it/s]\u001b[A\n",
            "  1%|          | 1/88 [00:00<00:18,  4.80it/s]\u001b[A\n",
            " 55%|█████▌    | 38/69 [00:31<00:25,  1.21it/s]\n",
            "  3%|▎         | 3/88 [00:00<00:20,  4.20it/s]\u001b[A\n",
            "  5%|▍         | 4/88 [00:00<00:21,  3.93it/s]\u001b[A\n",
            " 57%|█████▋    | 39/69 [00:32<00:23,  1.28it/s]\n",
            "  7%|▋         | 6/88 [00:01<00:19,  4.28it/s]\u001b[A\n",
            "  8%|▊         | 7/88 [00:01<00:19,  4.05it/s]\u001b[A\n",
            " 58%|█████▊    | 40/69 [00:33<00:21,  1.32it/s]\n",
            " 10%|█         | 9/88 [00:02<00:19,  4.06it/s]\u001b[A\n",
            " 59%|█████▉    | 41/69 [00:33<00:20,  1.34it/s]\n",
            " 12%|█▎        | 11/88 [00:02<00:21,  3.61it/s]\u001b[A\n",
            " 14%|█▎        | 12/88 [00:03<00:19,  3.86it/s]\u001b[A\n",
            " 61%|██████    | 42/69 [00:34<00:19,  1.39it/s]\n",
            " 16%|█▌        | 14/88 [00:03<00:18,  4.06it/s]\u001b[A\n",
            " 17%|█▋        | 15/88 [00:03<00:18,  3.98it/s]\u001b[A\n",
            " 62%|██████▏   | 43/69 [00:35<00:18,  1.42it/s]\n",
            " 19%|█▉        | 17/88 [00:04<00:18,  3.87it/s]\u001b[A\n",
            " 64%|██████▍   | 44/69 [00:35<00:17,  1.44it/s]\n",
            " 22%|██▏       | 19/88 [00:04<00:18,  3.79it/s]\u001b[A\n",
            " 23%|██▎       | 20/88 [00:05<00:17,  3.83it/s]\u001b[A\n",
            " 65%|██████▌   | 45/69 [00:36<00:16,  1.46it/s]\n",
            " 25%|██▌       | 22/88 [00:05<00:16,  4.09it/s]\u001b[A\n",
            " 26%|██▌       | 23/88 [00:05<00:15,  4.20it/s]\u001b[A\n",
            " 67%|██████▋   | 46/69 [00:37<00:15,  1.45it/s]\n",
            " 28%|██▊       | 25/88 [00:06<00:16,  3.79it/s]\u001b[A\n",
            " 68%|██████▊   | 47/69 [00:37<00:14,  1.48it/s]\n",
            " 31%|███       | 27/88 [00:06<00:15,  3.91it/s]\u001b[A\n",
            " 70%|██████▉   | 48/69 [00:38<00:14,  1.50it/s]\n",
            " 33%|███▎      | 29/88 [00:07<00:17,  3.37it/s]\u001b[A\n",
            " 34%|███▍      | 30/88 [00:07<00:16,  3.46it/s]\u001b[A\n",
            " 71%|███████   | 49/69 [00:39<00:13,  1.46it/s]\n",
            " 36%|███▋      | 32/88 [00:08<00:17,  3.21it/s]\u001b[A\n",
            " 38%|███▊      | 33/88 [00:08<00:17,  3.19it/s]\u001b[A\n",
            " 72%|███████▏  | 50/69 [00:40<00:15,  1.21it/s]\n",
            " 40%|███▉      | 35/88 [00:09<00:19,  2.72it/s]\u001b[A\n",
            " 41%|████      | 36/88 [00:09<00:20,  2.58it/s]\u001b[A\n",
            " 74%|███████▍  | 51/69 [00:41<00:16,  1.10it/s]\n",
            " 43%|████▎     | 38/88 [00:10<00:18,  2.72it/s]\u001b[A\n",
            " 44%|████▍     | 39/88 [00:11<00:17,  2.73it/s]\u001b[A\n",
            " 75%|███████▌  | 52/69 [00:42<00:16,  1.01it/s]\n",
            " 47%|████▋     | 41/88 [00:11<00:19,  2.45it/s]\u001b[A\n",
            " 77%|███████▋  | 53/69 [00:43<00:16,  1.01s/it]\n",
            " 49%|████▉     | 43/88 [00:12<00:18,  2.47it/s]\u001b[A\n",
            " 50%|█████     | 44/88 [00:13<00:18,  2.39it/s]\u001b[A\n",
            " 78%|███████▊  | 54/69 [00:44<00:15,  1.06s/it]\n",
            " 52%|█████▏    | 46/88 [00:13<00:16,  2.55it/s]\u001b[A\n",
            " 53%|█████▎    | 47/88 [00:14<00:16,  2.51it/s]\u001b[A\n",
            " 80%|███████▉  | 55/69 [00:45<00:14,  1.02s/it]\n",
            " 56%|█████▌    | 49/88 [00:14<00:13,  2.99it/s]\u001b[A\n",
            " 57%|█████▋    | 50/88 [00:15<00:11,  3.29it/s]\u001b[A\n",
            " 81%|████████  | 56/69 [00:46<00:12,  1.08it/s]\n",
            " 59%|█████▉    | 52/88 [00:15<00:10,  3.49it/s]\u001b[A\n",
            " 83%|████████▎ | 57/69 [00:47<00:10,  1.17it/s]\n",
            " 61%|██████▏   | 54/88 [00:16<00:09,  3.65it/s]\u001b[A\n",
            " 62%|██████▎   | 55/88 [00:16<00:08,  3.84it/s]\u001b[A\n",
            " 84%|████████▍ | 58/69 [00:47<00:08,  1.23it/s]\n",
            " 65%|██████▍   | 57/88 [00:16<00:07,  3.95it/s]\u001b[A\n",
            " 66%|██████▌   | 58/88 [00:17<00:07,  4.08it/s]\u001b[A\n",
            " 86%|████████▌ | 59/69 [00:48<00:07,  1.28it/s]\n",
            " 68%|██████▊   | 60/88 [00:17<00:06,  4.11it/s]\u001b[A\n",
            " 69%|██████▉   | 61/88 [00:17<00:06,  4.10it/s]\u001b[A\n",
            " 87%|████████▋ | 60/69 [00:49<00:06,  1.33it/s]\n",
            " 72%|███████▏  | 63/88 [00:18<00:06,  3.85it/s]\u001b[A\n",
            " 73%|███████▎  | 64/88 [00:18<00:06,  3.77it/s]\u001b[A\n",
            " 88%|████████▊ | 61/69 [00:50<00:05,  1.34it/s]\n",
            " 75%|███████▌  | 66/88 [00:19<00:06,  3.57it/s]\u001b[A\n",
            " 90%|████████▉ | 62/69 [00:50<00:05,  1.39it/s]\n",
            " 77%|███████▋  | 68/88 [00:19<00:05,  3.72it/s]\u001b[A\n",
            " 78%|███████▊  | 69/88 [00:19<00:04,  3.83it/s]\u001b[A\n",
            " 91%|█████████▏| 63/69 [00:51<00:04,  1.38it/s]\n",
            " 81%|████████  | 71/88 [00:20<00:04,  3.63it/s]\u001b[A\n",
            " 93%|█████████▎| 64/69 [00:52<00:03,  1.41it/s]\n",
            " 83%|████████▎ | 73/88 [00:21<00:04,  3.68it/s]\u001b[A\n",
            " 84%|████████▍ | 74/88 [00:21<00:03,  3.67it/s]\u001b[A\n",
            " 94%|█████████▍| 65/69 [00:52<00:02,  1.39it/s]\n",
            " 86%|████████▋ | 76/88 [00:21<00:02,  4.11it/s]\u001b[A\n",
            " 88%|████████▊ | 77/88 [00:22<00:02,  4.14it/s]\u001b[A\n",
            " 96%|█████████▌| 66/69 [00:53<00:02,  1.41it/s]\n",
            " 90%|████████▉ | 79/88 [00:22<00:02,  4.06it/s]\u001b[A\n",
            " 91%|█████████ | 80/88 [00:22<00:01,  4.13it/s]\u001b[A\n",
            " 97%|█████████▋| 67/69 [00:54<00:01,  1.40it/s]\n",
            " 93%|█████████▎| 82/88 [00:23<00:01,  4.12it/s]\u001b[A\n",
            " 94%|█████████▍| 83/88 [00:23<00:01,  4.04it/s]\u001b[A\n",
            " 99%|█████████▊| 68/69 [00:55<00:00,  1.39it/s]\n",
            "100%|██████████| 69/69 [00:55<00:00,  1.25it/s]\n",
            "  0%|          | 0/88 [00:00<?, ?it/s]\n",
            "  1%|          | 1/88 [00:00<00:19,  4.46it/s]\n",
            " 99%|█████████▉| 87/88 [00:24<00:00,  3.98it/s]\u001b[A\n",
            "100%|██████████| 88/88 [00:24<00:00,  3.57it/s]\n"
          ]
        },
        {
          "name": "stdout",
          "output_type": "stream",
          "text": [
            "loss 0.1357 - acc 0.9433 - val_loss 0.8499 - val_acc 0.7055\n",
            "Epoch [10/50]\n"
          ]
        },
        {
          "name": "stderr",
          "output_type": "stream",
          "text": [
            "\n",
            "  5%|▍         | 4/88 [00:01<00:30,  2.79it/s]\n",
            "  8%|▊         | 7/88 [00:02<00:31,  2.58it/s]\n",
            " 10%|█         | 9/88 [00:03<00:31,  2.50it/s]\n",
            " 14%|█▎        | 12/88 [00:04<00:28,  2.62it/s]\n",
            " 16%|█▌        | 14/88 [00:05<00:27,  2.70it/s]\n",
            " 19%|█▉        | 17/88 [00:06<00:25,  2.74it/s]\n",
            " 23%|██▎       | 20/88 [00:07<00:21,  3.13it/s]\n",
            " 26%|██▌       | 23/88 [00:08<00:17,  3.63it/s]\n",
            " 28%|██▊       | 25/88 [00:08<00:18,  3.41it/s]\n",
            " 32%|███▏      | 28/88 [00:09<00:14,  4.16it/s]\n",
            " 35%|███▌      | 31/88 [00:10<00:13,  4.11it/s]\n",
            " 38%|███▊      | 33/88 [00:10<00:13,  4.09it/s]\n",
            " 41%|████      | 36/88 [00:11<00:13,  3.81it/s]\n",
            " 44%|████▍     | 39/88 [00:12<00:11,  4.10it/s]\n",
            " 47%|████▋     | 41/88 [00:12<00:11,  4.14it/s]\n",
            " 50%|█████     | 44/88 [00:13<00:11,  3.95it/s]\n",
            " 53%|█████▎    | 47/88 [00:14<00:09,  4.13it/s]\n",
            " 57%|█████▋    | 50/88 [00:14<00:08,  4.38it/s]\n",
            " 60%|██████    | 53/88 [00:15<00:08,  4.21it/s]\n",
            " 62%|██████▎   | 55/88 [00:16<00:08,  4.09it/s]\n",
            " 66%|██████▌   | 58/88 [00:16<00:08,  3.73it/s]\n",
            " 69%|██████▉   | 61/88 [00:18<00:09,  2.93it/s]\n",
            " 72%|███████▏  | 63/88 [00:18<00:09,  2.73it/s]\n",
            " 75%|███████▌  | 66/88 [00:20<00:09,  2.41it/s]\n",
            " 78%|███████▊  | 69/88 [00:21<00:07,  2.60it/s]\n",
            " 82%|████████▏ | 72/88 [00:22<00:06,  2.46it/s]\n",
            " 84%|████████▍ | 74/88 [00:23<00:05,  2.50it/s]\n",
            " 88%|████████▊ | 77/88 [00:24<00:03,  3.27it/s]\n",
            " 91%|█████████ | 80/88 [00:24<00:02,  3.69it/s]\n",
            " 94%|█████████▍| 83/88 [00:25<00:01,  4.18it/s]\n",
            " 97%|█████████▋| 85/88 [00:26<00:00,  3.90it/s]\n",
            "100%|██████████| 88/88 [00:26<00:00,  3.30it/s]\n"
          ]
        },
        {
          "name": "stdout",
          "output_type": "stream",
          "text": [
            "loss 0.3833 - acc 0.8513 - val_loss 0.5398 - val_acc 0.7248\n",
            "Epoch [30/50]\n"
          ]
        },
        {
          "name": "stderr",
          "output_type": "stream",
          "text": [
            "  0%|          | 0/69 [00:00<?, ?it/s]\n",
            "  1%|▏         | 1/69 [00:00<00:48,  1.40it/s]\n",
            "  3%|▎         | 2/69 [00:01<00:48,  1.39it/s]\n",
            "  4%|▍         | 3/69 [00:02<00:47,  1.40it/s]\n",
            "  6%|▌         | 4/69 [00:02<00:45,  1.42it/s]\n",
            "  7%|▋         | 5/69 [00:03<00:44,  1.42it/s]\n",
            "  9%|▊         | 6/69 [00:04<00:44,  1.42it/s]\n",
            " 10%|█         | 7/69 [00:04<00:44,  1.40it/s]\n",
            " 12%|█▏        | 8/69 [00:05<00:43,  1.41it/s]\n",
            " 13%|█▎        | 9/69 [00:06<00:43,  1.40it/s]\n",
            " 14%|█▍        | 10/69 [00:07<00:48,  1.21it/s]\n",
            " 16%|█▌        | 11/69 [00:08<00:51,  1.13it/s]\n",
            " 17%|█▋        | 12/69 [00:09<00:55,  1.03it/s]\n",
            " 19%|█▉        | 13/69 [00:10<00:57,  1.02s/it]\n",
            " 20%|██        | 14/69 [00:11<00:58,  1.07s/it]\n",
            " 22%|██▏       | 15/69 [00:13<00:57,  1.06s/it]\n",
            " 23%|██▎       | 16/69 [00:13<00:50,  1.05it/s]\n",
            " 25%|██▍       | 17/69 [00:14<00:45,  1.14it/s]\n",
            " 26%|██▌       | 18/69 [00:15<00:42,  1.21it/s]\n",
            " 28%|██▊       | 19/69 [00:15<00:38,  1.28it/s]\n",
            " 29%|██▉       | 20/69 [00:16<00:37,  1.31it/s]\n",
            " 30%|███       | 21/69 [00:17<00:36,  1.33it/s]\n",
            " 32%|███▏      | 22/69 [00:17<00:34,  1.35it/s]\n",
            " 33%|███▎      | 23/69 [00:18<00:33,  1.39it/s]\n",
            " 35%|███▍      | 24/69 [00:19<00:31,  1.41it/s]\n",
            " 36%|███▌      | 25/69 [00:20<00:31,  1.41it/s]\n",
            " 38%|███▊      | 26/69 [00:20<00:30,  1.42it/s]\n",
            " 39%|███▉      | 27/69 [00:21<00:29,  1.42it/s]\n",
            " 41%|████      | 28/69 [00:22<00:28,  1.42it/s]\n",
            " 42%|████▏     | 29/69 [00:22<00:28,  1.41it/s]\n",
            " 43%|████▎     | 30/69 [00:23<00:30,  1.26it/s]\n",
            " 45%|████▍     | 31/69 [00:24<00:33,  1.12it/s]\n",
            " 46%|████▋     | 32/69 [00:26<00:37,  1.00s/it]\n",
            " 48%|████▊     | 33/69 [00:27<00:37,  1.03s/it]\n",
            " 49%|████▉     | 34/69 [00:28<00:36,  1.05s/it]\n",
            " 51%|█████     | 35/69 [00:29<00:36,  1.09s/it]\n",
            " 52%|█████▏    | 36/69 [00:30<00:31,  1.03it/s]\n",
            " 99%|█████████▊| 68/69 [00:56<00:00,  1.11it/s]\u001b[A\n",
            "100%|██████████| 69/69 [00:57<00:00,  1.21it/s]\n",
            "\n",
            " 54%|█████▎    | 37/69 [00:30<00:28,  1.12it/s]\n",
            "  1%|          | 1/88 [00:00<00:17,  4.87it/s]\u001b[A\n",
            "  2%|▏         | 2/88 [00:00<00:19,  4.31it/s]\u001b[A\n",
            " 55%|█████▌    | 38/69 [00:31<00:25,  1.20it/s]\n",
            "  5%|▍         | 4/88 [00:00<00:20,  4.06it/s]\u001b[A\n",
            "  6%|▌         | 5/88 [00:01<00:18,  4.40it/s]\u001b[A\n",
            " 57%|█████▋    | 39/69 [00:32<00:23,  1.28it/s]\n",
            "  8%|▊         | 7/88 [00:01<00:19,  4.09it/s]\u001b[A\n",
            " 58%|█████▊    | 40/69 [00:33<00:21,  1.32it/s]\n",
            " 10%|█         | 9/88 [00:02<00:21,  3.68it/s]\u001b[A\n",
            " 11%|█▏        | 10/88 [00:02<00:21,  3.58it/s]\u001b[A\n",
            " 59%|█████▉    | 41/69 [00:33<00:20,  1.34it/s]\n",
            " 14%|█▎        | 12/88 [00:03<00:19,  3.82it/s]\u001b[A\n",
            " 15%|█▍        | 13/88 [00:03<00:18,  4.12it/s]\u001b[A\n",
            " 61%|██████    | 42/69 [00:34<00:19,  1.39it/s]\n",
            " 17%|█▋        | 15/88 [00:03<00:17,  4.12it/s]\u001b[A\n",
            " 62%|██████▏   | 43/69 [00:35<00:18,  1.39it/s]\n",
            " 19%|█▉        | 17/88 [00:04<00:19,  3.61it/s]\u001b[A\n",
            " 20%|██        | 18/88 [00:04<00:18,  3.80it/s]\u001b[A\n",
            " 64%|██████▍   | 44/69 [00:35<00:17,  1.40it/s]\n",
            " 23%|██▎       | 20/88 [00:05<00:17,  3.80it/s]\u001b[A\n",
            " 24%|██▍       | 21/88 [00:05<00:17,  3.89it/s]\u001b[A\n",
            " 65%|██████▌   | 45/69 [00:36<00:17,  1.41it/s]\n",
            " 26%|██▌       | 23/88 [00:05<00:15,  4.23it/s]\u001b[A\n",
            " 27%|██▋       | 24/88 [00:06<00:15,  4.21it/s]\u001b[A\n",
            " 67%|██████▋   | 46/69 [00:37<00:16,  1.42it/s]\n",
            " 30%|██▉       | 26/88 [00:06<00:16,  3.69it/s]\u001b[A\n",
            " 68%|██████▊   | 47/69 [00:37<00:15,  1.41it/s]\n",
            " 32%|███▏      | 28/88 [00:07<00:16,  3.74it/s]\u001b[A\n",
            " 70%|██████▉   | 48/69 [00:38<00:14,  1.42it/s]\n",
            " 34%|███▍      | 30/88 [00:07<00:17,  3.25it/s]\u001b[A\n",
            " 35%|███▌      | 31/88 [00:08<00:17,  3.32it/s]\u001b[A\n",
            " 71%|███████   | 49/69 [00:39<00:14,  1.42it/s]\n",
            " 38%|███▊      | 33/88 [00:08<00:14,  3.81it/s]\u001b[A\n",
            " 39%|███▊      | 34/88 [00:08<00:14,  3.75it/s]\u001b[A\n",
            " 72%|███████▏  | 50/69 [00:40<00:15,  1.24it/s]\n",
            " 41%|████      | 36/88 [00:09<00:17,  2.94it/s]\u001b[A\n",
            " 42%|████▏     | 37/88 [00:10<00:17,  2.96it/s]\u001b[A\n",
            " 43%|████▎     | 38/88 [00:10<00:17,  2.91it/s]\u001b[A\n",
            " 74%|███████▍  | 51/69 [00:41<00:16,  1.08it/s]\n",
            " 45%|████▌     | 40/88 [00:11<00:18,  2.53it/s]\u001b[A\n",
            " 47%|████▋     | 41/88 [00:11<00:17,  2.72it/s]\u001b[A\n",
            " 75%|███████▌  | 52/69 [00:42<00:17,  1.01s/it]\n",
            " 49%|████▉     | 43/88 [00:12<00:16,  2.68it/s]\u001b[A\n",
            " 77%|███████▋  | 53/69 [00:43<00:16,  1.03s/it]\n",
            " 51%|█████     | 45/88 [00:13<00:16,  2.61it/s]\u001b[A\n",
            " 52%|█████▏    | 46/88 [00:13<00:16,  2.59it/s]\u001b[A\n",
            " 78%|███████▊  | 54/69 [00:45<00:15,  1.06s/it]\n",
            " 55%|█████▍    | 48/88 [00:14<00:15,  2.53it/s]\u001b[A\n",
            " 56%|█████▌    | 49/88 [00:14<00:15,  2.54it/s]\u001b[A\n",
            " 80%|███████▉  | 55/69 [00:46<00:15,  1.08s/it]\n",
            " 58%|█████▊    | 51/88 [00:15<00:13,  2.77it/s]\u001b[A\n",
            " 59%|█████▉    | 52/88 [00:15<00:11,  3.07it/s]\u001b[A\n",
            " 81%|████████  | 56/69 [00:46<00:12,  1.03it/s]\n",
            " 61%|██████▏   | 54/88 [00:16<00:09,  3.51it/s]\u001b[A\n",
            " 62%|██████▎   | 55/88 [00:16<00:09,  3.64it/s]\u001b[A\n",
            " 83%|████████▎ | 57/69 [00:47<00:10,  1.13it/s]\n",
            " 65%|██████▍   | 57/88 [00:16<00:08,  3.85it/s]\u001b[A\n",
            " 66%|██████▌   | 58/88 [00:17<00:07,  4.02it/s]\u001b[A\n",
            " 84%|████████▍ | 58/69 [00:48<00:09,  1.20it/s]\n",
            " 68%|██████▊   | 60/88 [00:17<00:06,  4.03it/s]\u001b[A\n",
            " 69%|██████▉   | 61/88 [00:17<00:06,  3.98it/s]\u001b[A\n",
            " 86%|████████▌ | 59/69 [00:48<00:07,  1.26it/s]\n",
            " 72%|███████▏  | 63/88 [00:18<00:06,  3.87it/s]\u001b[A\n",
            " 87%|████████▋ | 60/69 [00:49<00:06,  1.31it/s]\n",
            " 74%|███████▍  | 65/88 [00:18<00:05,  3.92it/s]\u001b[A\n",
            " 75%|███████▌  | 66/88 [00:19<00:05,  3.81it/s]\u001b[A\n",
            " 88%|████████▊ | 61/69 [00:50<00:05,  1.34it/s]\n",
            " 77%|███████▋  | 68/88 [00:19<00:05,  3.92it/s]\u001b[A\n",
            " 78%|███████▊  | 69/88 [00:19<00:04,  4.00it/s]\u001b[A\n",
            " 90%|████████▉ | 62/69 [00:51<00:05,  1.39it/s]\n",
            " 81%|████████  | 71/88 [00:20<00:04,  3.78it/s]\u001b[A\n",
            " 91%|█████████▏| 63/69 [00:51<00:04,  1.40it/s]\n",
            " 83%|████████▎ | 73/88 [00:20<00:04,  3.74it/s]\u001b[A\n",
            " 84%|████████▍ | 74/88 [00:21<00:03,  3.80it/s]\u001b[A\n",
            " 93%|█████████▎| 64/69 [00:52<00:03,  1.42it/s]\n",
            " 86%|████████▋ | 76/88 [00:21<00:02,  4.10it/s]\u001b[A\n",
            " 88%|████████▊ | 77/88 [00:21<00:02,  4.15it/s]\u001b[A\n",
            " 94%|█████████▍| 65/69 [00:53<00:02,  1.40it/s]\n",
            " 90%|████████▉ | 79/88 [00:22<00:02,  4.16it/s]\u001b[A\n",
            " 91%|█████████ | 80/88 [00:22<00:01,  4.21it/s]\u001b[A\n",
            " 96%|█████████▌| 66/69 [00:53<00:02,  1.41it/s]\n",
            " 93%|█████████▎| 82/88 [00:23<00:01,  4.18it/s]\u001b[A\n",
            " 94%|█████████▍| 83/88 [00:23<00:01,  4.10it/s]\u001b[A\n",
            " 97%|█████████▋| 67/69 [00:54<00:01,  1.39it/s]\n",
            " 97%|█████████▋| 85/88 [00:23<00:00,  3.98it/s]\u001b[A\n",
            " 98%|█████████▊| 86/88 [00:24<00:00,  3.94it/s]\u001b[A\n",
            " 99%|█████████▊| 68/69 [00:55<00:00,  1.39it/s]\n",
            "100%|██████████| 88/88 [00:24<00:00,  3.59it/s]\n"
          ]
        },
        {
          "name": "stdout",
          "output_type": "stream",
          "text": [
            "loss 0.1308 - acc 0.9516 - val_loss 0.7603 - val_acc 0.7542\n",
            "Epoch [11/50]\n"
          ]
        },
        {
          "name": "stderr",
          "output_type": "stream",
          "text": [
            "\n",
            "100%|██████████| 69/69 [00:55<00:00,  1.24it/s]\n",
            "  1%|          | 1/88 [00:00<00:18,  4.65it/s]\n",
            "  5%|▍         | 4/88 [00:01<00:28,  2.99it/s]\n",
            "  7%|▋         | 6/88 [00:02<00:31,  2.58it/s]\n",
            "  9%|▉         | 8/88 [00:02<00:34,  2.33it/s]\n",
            " 12%|█▎        | 11/88 [00:04<00:32,  2.37it/s]\n",
            " 16%|█▌        | 14/88 [00:05<00:29,  2.50it/s]\n",
            " 19%|█▉        | 17/88 [00:06<00:26,  2.63it/s]\n",
            " 22%|██▏       | 19/88 [00:07<00:22,  3.00it/s]\n",
            " 25%|██▌       | 22/88 [00:07<00:19,  3.40it/s]\n",
            " 27%|██▋       | 24/88 [00:08<00:19,  3.29it/s]\n",
            " 30%|██▉       | 26/88 [00:09<00:17,  3.60it/s]\n",
            " 33%|███▎      | 29/88 [00:09<00:15,  3.93it/s]\n",
            " 36%|███▋      | 32/88 [00:10<00:14,  3.97it/s]\n",
            " 40%|███▉      | 35/88 [00:11<00:13,  4.05it/s]\n",
            " 42%|████▏     | 37/88 [00:11<00:13,  3.77it/s]\n",
            " 45%|████▌     | 40/88 [00:12<00:11,  4.15it/s]\n",
            " 49%|████▉     | 43/88 [00:13<00:11,  4.01it/s]\n",
            " 52%|█████▏    | 46/88 [00:14<00:10,  3.94it/s]\n",
            " 56%|█████▌    | 49/88 [00:14<00:08,  4.46it/s]\n",
            " 59%|█████▉    | 52/88 [00:15<00:08,  4.17it/s]\n",
            " 62%|██████▎   | 55/88 [00:16<00:07,  4.13it/s]\n",
            " 66%|██████▌   | 58/88 [00:16<00:07,  4.15it/s]\n",
            " 68%|██████▊   | 60/88 [00:17<00:08,  3.40it/s]\n",
            " 72%|███████▏  | 63/88 [00:18<00:09,  2.69it/s]\n",
            " 75%|███████▌  | 66/88 [00:20<00:09,  2.29it/s]\n",
            " 77%|███████▋  | 68/88 [00:21<00:08,  2.45it/s]\n",
            " 81%|████████  | 71/88 [00:22<00:06,  2.66it/s]\n",
            " 84%|████████▍ | 74/88 [00:23<00:05,  2.59it/s]\n",
            " 88%|████████▊ | 77/88 [00:24<00:03,  3.43it/s]\n",
            " 91%|█████████ | 80/88 [00:24<00:02,  3.82it/s]\n",
            " 94%|█████████▍| 83/88 [00:25<00:01,  4.24it/s]\n",
            " 97%|█████████▋| 85/88 [00:25<00:00,  3.99it/s]\n",
            "100%|██████████| 88/88 [00:26<00:00,  3.31it/s]\n"
          ]
        },
        {
          "name": "stdout",
          "output_type": "stream",
          "text": [
            "loss 0.3762 - acc 0.8529 - val_loss 0.5614 - val_acc 0.7205\n",
            "Epoch [31/50]\n"
          ]
        },
        {
          "name": "stderr",
          "output_type": "stream",
          "text": [
            "  0%|          | 0/69 [00:00<?, ?it/s]\n",
            "  1%|▏         | 1/69 [00:00<00:47,  1.43it/s]\n",
            "  3%|▎         | 2/69 [00:01<00:46,  1.45it/s]\n",
            "  4%|▍         | 3/69 [00:02<00:44,  1.47it/s]\n",
            "  6%|▌         | 4/69 [00:02<00:44,  1.45it/s]\n",
            "  7%|▋         | 5/69 [00:03<00:44,  1.43it/s]\n",
            "  9%|▊         | 6/69 [00:04<00:44,  1.41it/s]\n",
            " 10%|█         | 7/69 [00:04<00:43,  1.43it/s]\n",
            " 12%|█▏        | 8/69 [00:05<00:42,  1.44it/s]\n",
            " 13%|█▎        | 9/69 [00:06<00:41,  1.43it/s]\n",
            " 14%|█▍        | 10/69 [00:07<00:43,  1.34it/s]\n",
            " 16%|█▌        | 11/69 [00:08<00:50,  1.15it/s]\n",
            " 17%|█▋        | 12/69 [00:09<00:52,  1.08it/s]\n",
            " 19%|█▉        | 13/69 [00:10<00:55,  1.01it/s]\n",
            " 20%|██        | 14/69 [00:11<00:56,  1.02s/it]\n",
            " 22%|██▏       | 15/69 [00:12<00:54,  1.02s/it]\n",
            " 23%|██▎       | 16/69 [00:13<00:52,  1.02it/s]\n",
            " 25%|██▍       | 17/69 [00:14<00:46,  1.11it/s]\n",
            " 26%|██▌       | 18/69 [00:14<00:42,  1.19it/s]\n",
            " 28%|██▊       | 19/69 [00:15<00:39,  1.25it/s]\n",
            " 29%|██▉       | 20/69 [00:16<00:37,  1.29it/s]\n",
            " 30%|███       | 21/69 [00:16<00:35,  1.34it/s]\n",
            " 32%|███▏      | 22/69 [00:17<00:34,  1.36it/s]\n",
            " 33%|███▎      | 23/69 [00:18<00:33,  1.39it/s]\n",
            " 35%|███▍      | 24/69 [00:19<00:32,  1.40it/s]\n",
            " 36%|███▌      | 25/69 [00:19<00:30,  1.43it/s]\n",
            " 38%|███▊      | 26/69 [00:20<00:29,  1.45it/s]\n",
            " 41%|████      | 28/69 [00:21<00:29,  1.39it/s]\n",
            " 87%|████████▋ | 60/69 [00:48<00:06,  1.31it/s]\u001b[A\n",
            " 42%|████▏     | 29/69 [00:22<00:29,  1.35it/s]\n",
            " 43%|████▎     | 30/69 [00:23<00:29,  1.30it/s]\n",
            " 45%|████▍     | 31/69 [00:24<00:33,  1.12it/s]\n",
            " 46%|████▋     | 32/69 [00:25<00:35,  1.03it/s]\n",
            " 48%|████▊     | 33/69 [00:26<00:36,  1.01s/it]\n",
            " 49%|████▉     | 34/69 [00:28<00:36,  1.04s/it]\n",
            " 51%|█████     | 35/69 [00:29<00:37,  1.09s/it]\n",
            " 52%|█████▏    | 36/69 [00:30<00:32,  1.00it/s]\n",
            "100%|██████████| 69/69 [00:57<00:00,  1.20it/s]\n",
            "\n",
            "  0%|          | 0/88 [00:00<?, ?it/s]\u001b[A\n",
            " 54%|█████▎    | 37/69 [00:30<00:28,  1.10it/s]\n",
            "  2%|▏         | 2/88 [00:00<00:19,  4.44it/s]\u001b[A\n",
            "  3%|▎         | 3/88 [00:00<00:20,  4.20it/s]\u001b[A\n",
            " 55%|█████▌    | 38/69 [00:31<00:26,  1.18it/s]\n",
            "  6%|▌         | 5/88 [00:01<00:19,  4.29it/s]\u001b[A\n",
            "  7%|▋         | 6/88 [00:01<00:19,  4.18it/s]\u001b[A\n",
            " 57%|█████▋    | 39/69 [00:32<00:24,  1.25it/s]\n",
            "  9%|▉         | 8/88 [00:01<00:19,  4.14it/s]\u001b[A\n",
            " 58%|█████▊    | 40/69 [00:32<00:22,  1.30it/s]\n",
            " 11%|█▏        | 10/88 [00:02<00:21,  3.68it/s]\u001b[A\n",
            " 12%|█▎        | 11/88 [00:02<00:21,  3.64it/s]\u001b[A\n",
            " 59%|█████▉    | 41/69 [00:33<00:21,  1.33it/s]\n",
            " 15%|█▍        | 13/88 [00:03<00:18,  4.15it/s]\u001b[A\n",
            " 16%|█▌        | 14/88 [00:03<00:18,  4.07it/s]\u001b[A\n",
            " 61%|██████    | 42/69 [00:34<00:19,  1.36it/s]\n",
            " 18%|█▊        | 16/88 [00:03<00:17,  4.07it/s]\u001b[A\n",
            " 19%|█▉        | 17/88 [00:04<00:17,  3.97it/s]\u001b[A\n",
            " 62%|██████▏   | 43/69 [00:34<00:18,  1.37it/s]\n",
            " 22%|██▏       | 19/88 [00:04<00:17,  3.90it/s]\u001b[A\n",
            " 23%|██▎       | 20/88 [00:04<00:17,  3.94it/s]\u001b[A\n",
            " 64%|██████▍   | 44/69 [00:35<00:18,  1.38it/s]\n",
            " 25%|██▌       | 22/88 [00:05<00:15,  4.14it/s]\u001b[A\n",
            " 65%|██████▌   | 45/69 [00:36<00:17,  1.40it/s]\n",
            " 27%|██▋       | 24/88 [00:06<00:17,  3.72it/s]\u001b[A\n",
            " 28%|██▊       | 25/88 [00:06<00:17,  3.63it/s]\u001b[A\n",
            " 67%|██████▋   | 46/69 [00:37<00:16,  1.41it/s]\n",
            " 31%|███       | 27/88 [00:06<00:16,  3.75it/s]\u001b[A\n",
            " 68%|██████▊   | 47/69 [00:37<00:15,  1.44it/s]\n",
            " 33%|███▎      | 29/88 [00:07<00:17,  3.39it/s]\u001b[A\n",
            " 70%|██████▉   | 48/69 [00:38<00:14,  1.47it/s]\n",
            " 35%|███▌      | 31/88 [00:08<00:16,  3.41it/s]\u001b[A\n",
            " 36%|███▋      | 32/88 [00:08<00:15,  3.61it/s]\u001b[A\n",
            " 71%|███████   | 49/69 [00:39<00:13,  1.47it/s]\n",
            " 39%|███▊      | 34/88 [00:08<00:13,  4.04it/s]\u001b[A\n",
            " 40%|███▉      | 35/88 [00:08<00:13,  3.86it/s]\u001b[A\n",
            " 72%|███████▏  | 50/69 [00:39<00:13,  1.40it/s]\n",
            " 42%|████▏     | 37/88 [00:09<00:15,  3.24it/s]\u001b[A\n",
            " 43%|████▎     | 38/88 [00:10<00:15,  3.15it/s]\u001b[A\n",
            " 74%|███████▍  | 51/69 [00:40<00:14,  1.20it/s]\n",
            " 45%|████▌     | 40/88 [00:10<00:16,  2.89it/s]\u001b[A\n",
            " 75%|███████▌  | 52/69 [00:42<00:15,  1.09it/s]\n",
            " 48%|████▊     | 42/88 [00:11<00:18,  2.44it/s]\u001b[A\n",
            " 49%|████▉     | 43/88 [00:12<00:17,  2.53it/s]\u001b[A\n",
            " 77%|███████▋  | 53/69 [00:43<00:15,  1.04it/s]\n",
            " 51%|█████     | 45/88 [00:12<00:16,  2.55it/s]\u001b[A\n",
            " 52%|█████▏    | 46/88 [00:13<00:15,  2.66it/s]\u001b[A\n",
            " 78%|███████▊  | 54/69 [00:44<00:14,  1.03it/s]\n",
            " 55%|█████▍    | 48/88 [00:14<00:15,  2.50it/s]\u001b[A\n",
            " 56%|█████▌    | 49/88 [00:14<00:15,  2.54it/s]\u001b[A\n",
            " 80%|███████▉  | 55/69 [00:45<00:14,  1.03s/it]\n",
            " 58%|█████▊    | 51/88 [00:15<00:15,  2.41it/s]\u001b[A\n",
            " 81%|████████  | 56/69 [00:46<00:13,  1.02s/it]\n",
            " 60%|██████    | 53/88 [00:15<00:12,  2.72it/s]\u001b[A\n",
            " 61%|██████▏   | 54/88 [00:16<00:11,  2.90it/s]\u001b[A\n",
            " 83%|████████▎ | 57/69 [00:47<00:11,  1.07it/s]\n",
            " 64%|██████▎   | 56/88 [00:16<00:09,  3.44it/s]\u001b[A\n",
            " 65%|██████▍   | 57/88 [00:17<00:08,  3.52it/s]\u001b[A\n",
            " 84%|████████▍ | 58/69 [00:47<00:09,  1.16it/s]\n",
            " 67%|██████▋   | 59/88 [00:17<00:07,  3.95it/s]\u001b[A\n",
            " 68%|██████▊   | 60/88 [00:17<00:07,  3.93it/s]\u001b[A\n",
            " 86%|████████▌ | 59/69 [00:48<00:08,  1.22it/s]\n",
            " 70%|███████   | 62/88 [00:18<00:06,  3.91it/s]\u001b[A\n",
            " 87%|████████▋ | 60/69 [00:49<00:06,  1.29it/s]\n",
            " 73%|███████▎  | 64/88 [00:18<00:06,  3.72it/s]\u001b[A\n",
            " 74%|███████▍  | 65/88 [00:19<00:06,  3.80it/s]\u001b[A\n",
            " 88%|████████▊ | 61/69 [00:49<00:06,  1.32it/s]\n",
            " 76%|███████▌  | 67/88 [00:19<00:05,  3.90it/s]\u001b[A\n",
            " 77%|███████▋  | 68/88 [00:19<00:05,  3.81it/s]\u001b[A\n",
            " 90%|████████▉ | 62/69 [00:50<00:05,  1.37it/s]\n",
            " 80%|███████▉  | 70/88 [00:20<00:04,  3.77it/s]\u001b[A\n",
            " 91%|█████████▏| 63/69 [00:51<00:04,  1.42it/s]\n",
            " 82%|████████▏ | 72/88 [00:20<00:04,  3.52it/s]\u001b[A\n",
            " 93%|█████████▎| 64/69 [00:51<00:03,  1.44it/s]\n",
            " 84%|████████▍ | 74/88 [00:21<00:03,  3.68it/s]\u001b[A\n",
            " 85%|████████▌ | 75/88 [00:21<00:03,  3.96it/s]\u001b[A\n",
            " 94%|█████████▍| 65/69 [00:52<00:02,  1.43it/s]\n",
            " 88%|████████▊ | 77/88 [00:22<00:02,  3.88it/s]\u001b[A\n",
            " 89%|████████▊ | 78/88 [00:22<00:02,  4.05it/s]\u001b[A\n",
            " 96%|█████████▌| 66/69 [00:53<00:02,  1.42it/s]\n",
            " 91%|█████████ | 80/88 [00:22<00:01,  4.05it/s]\u001b[A\n",
            " 92%|█████████▏| 81/88 [00:23<00:01,  4.15it/s]\u001b[A\n",
            " 97%|█████████▋| 67/69 [00:54<00:01,  1.38it/s]\n",
            " 94%|█████████▍| 83/88 [00:23<00:01,  3.93it/s]\u001b[A\n",
            " 95%|█████████▌| 84/88 [00:23<00:01,  3.98it/s]\u001b[A\n",
            " 99%|█████████▊| 68/69 [00:54<00:00,  1.39it/s]\n",
            "100%|██████████| 69/69 [00:55<00:00,  1.25it/s]\n",
            "  0%|          | 0/88 [00:00<?, ?it/s]\n",
            "100%|██████████| 88/88 [00:24<00:00,  3.55it/s]\n"
          ]
        },
        {
          "name": "stdout",
          "output_type": "stream",
          "text": [
            "loss 0.1395 - acc 0.9454 - val_loss 0.8238 - val_acc 0.7746\n",
            "Epoch [12/50]\n"
          ]
        },
        {
          "name": "stderr",
          "output_type": "stream",
          "text": [
            "\n",
            "  3%|▎         | 3/88 [00:00<00:19,  4.33it/s]\n",
            "  7%|▋         | 6/88 [00:01<00:25,  3.21it/s]\n",
            "  9%|▉         | 8/88 [00:02<00:30,  2.60it/s]\n",
            " 12%|█▎        | 11/88 [00:03<00:30,  2.51it/s]\n",
            " 16%|█▌        | 14/88 [00:04<00:27,  2.64it/s]\n",
            " 18%|█▊        | 16/88 [00:05<00:27,  2.62it/s]\n",
            " 22%|██▏       | 19/88 [00:06<00:25,  2.69it/s]\n",
            " 24%|██▍       | 21/88 [00:07<00:25,  2.64it/s]\n",
            " 27%|██▋       | 24/88 [00:08<00:21,  2.99it/s]\n",
            " 30%|██▉       | 26/88 [00:09<00:18,  3.33it/s]\n",
            " 33%|███▎      | 29/88 [00:09<00:14,  3.99it/s]\n",
            " 36%|███▋      | 32/88 [00:10<00:13,  4.03it/s]\n",
            " 40%|███▉      | 35/88 [00:11<00:13,  4.03it/s]\n",
            " 42%|████▏     | 37/88 [00:11<00:13,  3.90it/s]\n",
            " 45%|████▌     | 40/88 [00:12<00:11,  4.02it/s]\n",
            " 49%|████▉     | 43/88 [00:13<00:11,  3.95it/s]\n",
            " 52%|█████▏    | 46/88 [00:13<00:10,  3.97it/s]\n",
            " 56%|█████▌    | 49/88 [00:14<00:08,  4.38it/s]\n",
            " 58%|█████▊    | 51/88 [00:15<00:08,  4.32it/s]\n",
            " 61%|██████▏   | 54/88 [00:15<00:08,  4.02it/s]\n",
            " 65%|██████▍   | 57/88 [00:16<00:07,  4.04it/s]\n",
            " 68%|██████▊   | 60/88 [00:17<00:06,  4.18it/s]\n",
            " 70%|███████   | 62/88 [00:18<00:08,  3.14it/s]\n",
            " 74%|███████▍  | 65/88 [00:19<00:08,  2.68it/s]\n",
            " 77%|███████▋  | 68/88 [00:20<00:07,  2.75it/s]\n",
            " 81%|████████  | 71/88 [00:21<00:06,  2.68it/s]\n",
            " 84%|████████▍ | 74/88 [00:22<00:05,  2.49it/s]\n",
            " 88%|████████▊ | 77/88 [00:23<00:04,  2.63it/s]\n",
            " 90%|████████▉ | 79/88 [00:24<00:02,  3.08it/s]\n",
            " 93%|█████████▎| 82/88 [00:25<00:01,  3.64it/s]\n",
            " 97%|█████████▋| 85/88 [00:26<00:00,  3.81it/s]\n",
            "100%|██████████| 88/88 [00:26<00:00,  3.31it/s]\n"
          ]
        },
        {
          "name": "stdout",
          "output_type": "stream",
          "text": [
            "loss 0.3657 - acc 0.8577 - val_loss 0.5354 - val_acc 0.7259\n",
            "Epoch [32/50]\n"
          ]
        },
        {
          "name": "stderr",
          "output_type": "stream",
          "text": [
            "  0%|          | 0/69 [00:00<?, ?it/s]\n",
            "  1%|▏         | 1/69 [00:00<00:48,  1.40it/s]\n",
            "  3%|▎         | 2/69 [00:01<00:47,  1.40it/s]\n",
            "  4%|▍         | 3/69 [00:02<00:46,  1.42it/s]\n",
            "  6%|▌         | 4/69 [00:02<00:45,  1.42it/s]\n",
            "  7%|▋         | 5/69 [00:03<00:44,  1.42it/s]\n",
            "  9%|▊         | 6/69 [00:04<00:44,  1.43it/s]\n",
            " 10%|█         | 7/69 [00:04<00:42,  1.45it/s]\n",
            " 12%|█▏        | 8/69 [00:05<00:42,  1.44it/s]\n",
            " 13%|█▎        | 9/69 [00:06<00:42,  1.42it/s]\n",
            " 14%|█▍        | 10/69 [00:07<00:41,  1.42it/s]\n",
            " 16%|█▌        | 11/69 [00:07<00:44,  1.32it/s]\n",
            " 17%|█▋        | 12/69 [00:09<00:50,  1.12it/s]\n",
            " 19%|█▉        | 13/69 [00:10<00:53,  1.05it/s]\n",
            " 20%|██        | 14/69 [00:11<00:55,  1.00s/it]\n",
            " 22%|██▏       | 15/69 [00:12<00:56,  1.05s/it]\n",
            " 23%|██▎       | 16/69 [00:13<00:56,  1.06s/it]\n",
            " 25%|██▍       | 17/69 [00:14<00:54,  1.06s/it]\n",
            " 26%|██▌       | 18/69 [00:15<00:48,  1.05it/s]\n",
            " 28%|██▊       | 19/69 [00:16<00:43,  1.14it/s]\n",
            " 29%|██▉       | 20/69 [00:16<00:40,  1.21it/s]\n",
            " 30%|███       | 21/69 [00:17<00:37,  1.28it/s]\n",
            " 32%|███▏      | 22/69 [00:18<00:36,  1.29it/s]\n",
            " 33%|███▎      | 23/69 [00:18<00:34,  1.35it/s]\n",
            " 35%|███▍      | 24/69 [00:19<00:32,  1.40it/s]\n",
            " 36%|███▌      | 25/69 [00:20<00:31,  1.39it/s]\n",
            " 38%|███▊      | 26/69 [00:20<00:30,  1.39it/s]\n",
            " 39%|███▉      | 27/69 [00:21<00:30,  1.39it/s]\n",
            " 41%|████      | 28/69 [00:22<00:29,  1.39it/s]\n",
            " 42%|████▏     | 29/69 [00:23<00:29,  1.38it/s]\n",
            " 43%|████▎     | 30/69 [00:23<00:28,  1.36it/s]\n",
            " 45%|████▍     | 31/69 [00:24<00:30,  1.25it/s]\n",
            " 46%|████▋     | 32/69 [00:26<00:36,  1.01it/s]\n",
            " 48%|████▊     | 33/69 [00:27<00:35,  1.01it/s]\n",
            " 49%|████▉     | 34/69 [00:28<00:35,  1.01s/it]\n",
            " 96%|█████████▌| 66/69 [00:54<00:03,  1.00s/it]\u001b[A\n",
            " 51%|█████     | 35/69 [00:29<00:37,  1.10s/it]\n",
            " 52%|█████▏    | 36/69 [00:30<00:35,  1.08s/it]\n",
            "100%|██████████| 69/69 [00:57<00:00,  1.20it/s]\n",
            "\n",
            " 54%|█████▎    | 37/69 [00:31<00:31,  1.03it/s]\n",
            "  1%|          | 1/88 [00:00<00:20,  4.20it/s]\u001b[A\n",
            "  2%|▏         | 2/88 [00:00<00:20,  4.11it/s]\u001b[A\n",
            " 55%|█████▌    | 38/69 [00:32<00:27,  1.11it/s]\n",
            "  5%|▍         | 4/88 [00:00<00:21,  3.96it/s]\u001b[A\n",
            "  6%|▌         | 5/88 [00:01<00:19,  4.26it/s]\u001b[A\n",
            " 57%|█████▋    | 39/69 [00:32<00:25,  1.19it/s]\n",
            "  8%|▊         | 7/88 [00:01<00:19,  4.09it/s]\u001b[A\n",
            "  9%|▉         | 8/88 [00:01<00:19,  4.17it/s]\u001b[A\n",
            " 58%|█████▊    | 40/69 [00:33<00:23,  1.25it/s]\n",
            " 11%|█▏        | 10/88 [00:02<00:20,  3.86it/s]\u001b[A\n",
            " 59%|█████▉    | 41/69 [00:34<00:21,  1.32it/s]\n",
            " 14%|█▎        | 12/88 [00:03<00:20,  3.72it/s]\u001b[A\n",
            " 15%|█▍        | 13/88 [00:03<00:18,  4.05it/s]\u001b[A\n",
            " 61%|██████    | 42/69 [00:34<00:20,  1.35it/s]\n",
            " 17%|█▋        | 15/88 [00:03<00:18,  3.94it/s]\u001b[A\n",
            " 18%|█▊        | 16/88 [00:04<00:18,  3.90it/s]\u001b[A\n",
            " 62%|██████▏   | 43/69 [00:35<00:19,  1.36it/s]\n",
            " 20%|██        | 18/88 [00:04<00:17,  4.01it/s]\u001b[A\n",
            " 22%|██▏       | 19/88 [00:04<00:17,  3.89it/s]\u001b[A\n",
            " 64%|██████▍   | 44/69 [00:36<00:18,  1.39it/s]\n",
            " 24%|██▍       | 21/88 [00:05<00:16,  3.96it/s]\u001b[A\n",
            " 65%|██████▌   | 45/69 [00:36<00:16,  1.41it/s]\n",
            " 26%|██▌       | 23/88 [00:05<00:17,  3.77it/s]\u001b[A\n",
            " 27%|██▋       | 24/88 [00:06<00:16,  3.77it/s]\u001b[A\n",
            " 67%|██████▋   | 46/69 [00:37<00:16,  1.43it/s]\n",
            " 30%|██▉       | 26/88 [00:06<00:16,  3.66it/s]\u001b[A\n",
            " 68%|██████▊   | 47/69 [00:38<00:15,  1.45it/s]\n",
            " 32%|███▏      | 28/88 [00:07<00:16,  3.70it/s]\u001b[A\n",
            " 70%|██████▉   | 48/69 [00:38<00:14,  1.44it/s]\n",
            " 34%|███▍      | 30/88 [00:07<00:17,  3.25it/s]\u001b[A\n",
            " 35%|███▌      | 31/88 [00:08<00:17,  3.31it/s]\u001b[A\n",
            " 71%|███████   | 49/69 [00:39<00:13,  1.44it/s]\n",
            " 38%|███▊      | 33/88 [00:08<00:14,  3.80it/s]\u001b[A\n",
            " 39%|███▊      | 34/88 [00:08<00:13,  3.90it/s]\u001b[A\n",
            " 72%|███████▏  | 50/69 [00:40<00:13,  1.44it/s]\n",
            " 41%|████      | 36/88 [00:09<00:13,  3.83it/s]\u001b[A\n",
            " 42%|████▏     | 37/88 [00:09<00:12,  3.99it/s]\u001b[A\n",
            " 74%|███████▍  | 51/69 [00:41<00:13,  1.35it/s]\n",
            " 44%|████▍     | 39/88 [00:10<00:13,  3.55it/s]\u001b[A\n",
            " 45%|████▌     | 40/88 [00:10<00:15,  3.01it/s]\u001b[A\n",
            " 75%|███████▌  | 52/69 [00:42<00:14,  1.14it/s]\n",
            " 48%|████▊     | 42/88 [00:11<00:16,  2.73it/s]\u001b[A\n",
            " 49%|████▉     | 43/88 [00:11<00:16,  2.71it/s]\u001b[A\n",
            " 77%|███████▋  | 53/69 [00:43<00:15,  1.06it/s]\n",
            " 51%|█████     | 45/88 [00:12<00:15,  2.74it/s]\u001b[A\n",
            " 78%|███████▊  | 54/69 [00:44<00:14,  1.01it/s]\n",
            " 53%|█████▎    | 47/88 [00:13<00:17,  2.38it/s]\u001b[A\n",
            " 55%|█████▍    | 48/88 [00:13<00:16,  2.43it/s]\u001b[A\n",
            " 80%|███████▉  | 55/69 [00:45<00:14,  1.00s/it]\n",
            " 57%|█████▋    | 50/88 [00:14<00:15,  2.52it/s]\u001b[A\n",
            " 58%|█████▊    | 51/88 [00:15<00:15,  2.43it/s]\u001b[A\n",
            " 81%|████████  | 56/69 [00:46<00:13,  1.04s/it]\n",
            " 60%|██████    | 53/88 [00:15<00:13,  2.51it/s]\u001b[A\n",
            " 61%|██████▏   | 54/88 [00:16<00:13,  2.53it/s]\u001b[A\n",
            " 83%|████████▎ | 57/69 [00:47<00:12,  1.04s/it]\n",
            " 64%|██████▎   | 56/88 [00:16<00:10,  3.02it/s]\u001b[A\n",
            " 65%|██████▍   | 57/88 [00:17<00:09,  3.23it/s]\u001b[A\n",
            " 84%|████████▍ | 58/69 [00:48<00:10,  1.06it/s]\n",
            " 67%|██████▋   | 59/88 [00:17<00:07,  3.82it/s]\u001b[A\n",
            " 86%|████████▌ | 59/69 [00:49<00:08,  1.15it/s]\n",
            " 69%|██████▉   | 61/88 [00:18<00:07,  3.58it/s]\u001b[A\n",
            " 70%|███████   | 62/88 [00:18<00:07,  3.69it/s]\u001b[A\n",
            " 87%|████████▋ | 60/69 [00:49<00:07,  1.24it/s]\n",
            " 73%|███████▎  | 64/88 [00:18<00:06,  3.62it/s]\u001b[A\n",
            " 88%|████████▊ | 61/69 [00:50<00:06,  1.28it/s]\n",
            " 75%|███████▌  | 66/88 [00:19<00:06,  3.53it/s]\u001b[A\n",
            " 76%|███████▌  | 67/88 [00:19<00:05,  3.66it/s]\u001b[A\n",
            " 90%|████████▉ | 62/69 [00:51<00:05,  1.33it/s]\n",
            " 78%|███████▊  | 69/88 [00:20<00:04,  3.81it/s]\u001b[A\n",
            " 80%|███████▉  | 70/88 [00:20<00:04,  3.83it/s]\u001b[A\n",
            " 91%|█████████▏| 63/69 [00:52<00:04,  1.34it/s]\n",
            " 82%|████████▏ | 72/88 [00:21<00:04,  3.57it/s]\u001b[A\n",
            " 93%|█████████▎| 64/69 [00:52<00:03,  1.37it/s]\n",
            " 84%|████████▍ | 74/88 [00:21<00:03,  3.72it/s]\u001b[A\n",
            " 85%|████████▌ | 75/88 [00:21<00:03,  4.01it/s]\u001b[A\n",
            " 86%|████████▋ | 76/88 [00:22<00:02,  4.11it/s]\u001b[A\n",
            " 94%|█████████▍| 65/69 [00:53<00:02,  1.35it/s]\n",
            " 89%|████████▊ | 78/88 [00:22<00:02,  4.25it/s]\u001b[A\n",
            " 96%|█████████▌| 66/69 [00:54<00:02,  1.39it/s]\n",
            " 91%|█████████ | 80/88 [00:23<00:02,  3.87it/s]\u001b[A\n",
            " 92%|█████████▏| 81/88 [00:23<00:01,  4.00it/s]\u001b[A\n",
            " 97%|█████████▋| 67/69 [00:54<00:01,  1.42it/s]\n",
            " 94%|█████████▍| 83/88 [00:23<00:01,  3.82it/s]\u001b[A\n",
            " 99%|█████████▊| 68/69 [00:55<00:00,  1.44it/s]\n",
            " 97%|█████████▋| 85/88 [00:24<00:00,  3.68it/s]\u001b[A\n",
            "100%|██████████| 69/69 [00:55<00:00,  1.24it/s]\n",
            "  0%|          | 0/88 [00:00<?, ?it/s]\n",
            "100%|██████████| 88/88 [00:24<00:00,  3.52it/s]\n"
          ]
        },
        {
          "name": "stdout",
          "output_type": "stream",
          "text": [
            "loss 0.1175 - acc 0.9559 - val_loss 0.7882 - val_acc 0.7470\n",
            "Epoch [13/50]\n"
          ]
        },
        {
          "name": "stderr",
          "output_type": "stream",
          "text": [
            "\n",
            "  3%|▎         | 3/88 [00:00<00:20,  4.20it/s]\n",
            "  7%|▋         | 6/88 [00:01<00:20,  4.08it/s]\n",
            " 10%|█         | 9/88 [00:02<00:26,  2.98it/s]\n",
            " 14%|█▎        | 12/88 [00:03<00:27,  2.74it/s]\n",
            " 17%|█▋        | 15/88 [00:04<00:26,  2.78it/s]\n",
            " 20%|██        | 18/88 [00:05<00:25,  2.72it/s]\n",
            " 24%|██▍       | 21/88 [00:07<00:27,  2.43it/s]\n",
            " 26%|██▌       | 23/88 [00:07<00:25,  2.51it/s]\n",
            " 30%|██▉       | 26/88 [00:08<00:20,  2.99it/s]\n",
            " 33%|███▎      | 29/88 [00:09<00:15,  3.87it/s]\n",
            " 36%|███▋      | 32/88 [00:10<00:13,  4.02it/s]\n",
            " 40%|███▉      | 35/88 [00:11<00:13,  4.06it/s]\n",
            " 42%|████▏     | 37/88 [00:11<00:13,  3.88it/s]\n",
            " 45%|████▌     | 40/88 [00:12<00:11,  4.26it/s]\n",
            " 49%|████▉     | 43/88 [00:13<00:11,  4.07it/s]\n",
            " 51%|█████     | 45/88 [00:13<00:10,  4.20it/s]\n",
            " 55%|█████▍    | 48/88 [00:14<00:09,  4.18it/s]\n",
            " 58%|█████▊    | 51/88 [00:15<00:08,  4.12it/s]\n",
            " 61%|██████▏   | 54/88 [00:15<00:08,  4.20it/s]\n",
            " 65%|██████▍   | 57/88 [00:16<00:07,  4.08it/s]\n",
            " 68%|██████▊   | 60/88 [00:17<00:06,  4.18it/s]\n",
            " 70%|███████   | 62/88 [00:17<00:06,  4.15it/s]\n",
            " 74%|███████▍  | 65/88 [00:18<00:07,  3.18it/s]\n",
            " 77%|███████▋  | 68/88 [00:19<00:06,  2.88it/s]\n",
            " 81%|████████  | 71/88 [00:21<00:06,  2.73it/s]\n",
            " 84%|████████▍ | 74/88 [00:22<00:05,  2.57it/s]\n",
            " 88%|████████▊ | 77/88 [00:23<00:04,  2.63it/s]\n",
            " 91%|█████████ | 80/88 [00:24<00:03,  2.42it/s]\n",
            " 93%|█████████▎| 82/88 [00:25<00:01,  3.10it/s]\n",
            " 97%|█████████▋| 85/88 [00:25<00:00,  3.55it/s]\n",
            "100%|██████████| 88/88 [00:26<00:00,  3.34it/s]\n"
          ]
        },
        {
          "name": "stdout",
          "output_type": "stream",
          "text": [
            "loss 0.3620 - acc 0.8611 - val_loss 0.5518 - val_acc 0.7313\n",
            "Epoch [33/50]\n"
          ]
        },
        {
          "name": "stderr",
          "output_type": "stream",
          "text": [
            "  0%|          | 0/69 [00:00<?, ?it/s]\n",
            "  1%|▏         | 1/69 [00:00<00:49,  1.38it/s]\n",
            "  3%|▎         | 2/69 [00:01<00:47,  1.40it/s]\n",
            "  4%|▍         | 3/69 [00:02<00:46,  1.41it/s]\n",
            "  6%|▌         | 4/69 [00:02<00:47,  1.38it/s]\n",
            "  7%|▋         | 5/69 [00:03<00:45,  1.42it/s]\n",
            "  9%|▊         | 6/69 [00:04<00:45,  1.37it/s]\n",
            " 10%|█         | 7/69 [00:05<00:44,  1.40it/s]\n",
            " 12%|█▏        | 8/69 [00:05<00:43,  1.42it/s]\n",
            " 13%|█▎        | 9/69 [00:06<00:43,  1.39it/s]\n",
            " 14%|█▍        | 10/69 [00:07<00:43,  1.36it/s]\n",
            " 16%|█▌        | 11/69 [00:07<00:42,  1.37it/s]\n",
            " 17%|█▋        | 12/69 [00:08<00:44,  1.29it/s]\n",
            " 19%|█▉        | 13/69 [00:09<00:49,  1.14it/s]\n",
            " 20%|██        | 14/69 [00:10<00:51,  1.08it/s]\n",
            " 22%|██▏       | 15/69 [00:11<00:51,  1.05it/s]\n",
            " 23%|██▎       | 16/69 [00:13<00:52,  1.01it/s]\n",
            " 25%|██▍       | 17/69 [00:14<00:53,  1.02s/it]\n",
            " 26%|██▌       | 18/69 [00:15<00:50,  1.02it/s]\n",
            " 28%|██▊       | 19/69 [00:15<00:44,  1.12it/s]\n",
            " 29%|██▉       | 20/69 [00:16<00:40,  1.20it/s]\n",
            " 30%|███       | 21/69 [00:17<00:38,  1.26it/s]\n",
            " 32%|███▏      | 22/69 [00:17<00:36,  1.30it/s]\n",
            " 33%|███▎      | 23/69 [00:18<00:34,  1.33it/s]\n",
            " 35%|███▍      | 24/69 [00:19<00:32,  1.36it/s]\n",
            " 36%|███▌      | 25/69 [00:19<00:31,  1.38it/s]\n",
            " 38%|███▊      | 26/69 [00:20<00:30,  1.39it/s]\n",
            " 39%|███▉      | 27/69 [00:21<00:30,  1.40it/s]\n",
            " 41%|████      | 28/69 [00:22<00:28,  1.43it/s]\n",
            " 42%|████▏     | 29/69 [00:22<00:28,  1.42it/s]\n",
            " 43%|████▎     | 30/69 [00:23<00:28,  1.38it/s]\n",
            " 45%|████▍     | 31/69 [00:24<00:28,  1.33it/s]\n",
            " 46%|████▋     | 32/69 [00:25<00:30,  1.23it/s]\n",
            " 48%|████▊     | 33/69 [00:26<00:31,  1.14it/s]\n",
            " 49%|████▉     | 34/69 [00:27<00:33,  1.04it/s]\n",
            " 51%|█████     | 35/69 [00:28<00:34,  1.03s/it]\n",
            " 52%|█████▏    | 36/69 [00:29<00:34,  1.04s/it]\n",
            " 54%|█████▎    | 37/69 [00:30<00:33,  1.05s/it]\n",
            " 99%|█████████▊| 68/69 [00:57<00:01,  1.02s/it]\u001b[A\n",
            "100%|██████████| 69/69 [00:57<00:00,  1.20it/s]\n",
            "\n",
            " 55%|█████▌    | 38/69 [00:31<00:30,  1.00it/s]\n",
            "  1%|          | 1/88 [00:00<00:18,  4.78it/s]\u001b[A\n",
            "  2%|▏         | 2/88 [00:00<00:20,  4.23it/s]\u001b[A\n",
            " 57%|█████▋    | 39/69 [00:32<00:27,  1.10it/s]\n",
            "  5%|▍         | 4/88 [00:00<00:21,  3.92it/s]\u001b[A\n",
            "  6%|▌         | 5/88 [00:01<00:19,  4.22it/s]\u001b[A\n",
            " 58%|█████▊    | 40/69 [00:33<00:24,  1.17it/s]\n",
            "  8%|▊         | 7/88 [00:01<00:20,  4.04it/s]\u001b[A\n",
            "  9%|▉         | 8/88 [00:01<00:19,  4.08it/s]\u001b[A\n",
            " 59%|█████▉    | 41/69 [00:33<00:22,  1.22it/s]\n",
            " 11%|█▏        | 10/88 [00:02<00:20,  3.75it/s]\u001b[A\n",
            " 61%|██████    | 42/69 [00:34<00:20,  1.29it/s]\n",
            " 14%|█▎        | 12/88 [00:03<00:19,  3.91it/s]\u001b[A\n",
            " 15%|█▍        | 13/88 [00:03<00:17,  4.20it/s]\u001b[A\n",
            " 62%|██████▏   | 43/69 [00:35<00:19,  1.33it/s]\n",
            " 17%|█▋        | 15/88 [00:03<00:17,  4.09it/s]\u001b[A\n",
            " 18%|█▊        | 16/88 [00:03<00:17,  4.05it/s]\u001b[A\n",
            " 64%|██████▍   | 44/69 [00:35<00:18,  1.36it/s]\n",
            " 20%|██        | 18/88 [00:04<00:17,  3.90it/s]\u001b[A\n",
            " 65%|██████▌   | 45/69 [00:36<00:17,  1.37it/s]\n",
            " 23%|██▎       | 20/88 [00:05<00:18,  3.68it/s]\u001b[A\n",
            " 24%|██▍       | 21/88 [00:05<00:17,  3.76it/s]\u001b[A\n",
            " 67%|██████▋   | 46/69 [00:37<00:16,  1.39it/s]\n",
            " 26%|██▌       | 23/88 [00:05<00:16,  4.02it/s]\u001b[A\n",
            " 27%|██▋       | 24/88 [00:06<00:15,  4.01it/s]\u001b[A\n",
            " 68%|██████▊   | 47/69 [00:37<00:15,  1.43it/s]\n",
            " 30%|██▉       | 26/88 [00:06<00:16,  3.68it/s]\u001b[A\n",
            " 70%|██████▉   | 48/69 [00:38<00:14,  1.45it/s]\n",
            " 32%|███▏      | 28/88 [00:07<00:15,  3.88it/s]\u001b[A\n",
            " 71%|███████   | 49/69 [00:39<00:13,  1.49it/s]\n",
            " 34%|███▍      | 30/88 [00:07<00:16,  3.50it/s]\u001b[A\n",
            " 35%|███▌      | 31/88 [00:08<00:16,  3.46it/s]\u001b[A\n",
            " 72%|███████▏  | 50/69 [00:39<00:13,  1.46it/s]\n",
            " 38%|███▊      | 33/88 [00:08<00:14,  3.80it/s]\u001b[A\n",
            " 39%|███▊      | 34/88 [00:08<00:13,  3.89it/s]\u001b[A\n",
            " 74%|███████▍  | 51/69 [00:40<00:12,  1.44it/s]\n",
            " 41%|████      | 36/88 [00:09<00:13,  3.76it/s]\u001b[A\n",
            " 42%|████▏     | 37/88 [00:09<00:12,  3.94it/s]\u001b[A\n",
            " 75%|███████▌  | 52/69 [00:41<00:12,  1.40it/s]\n",
            " 44%|████▍     | 39/88 [00:10<00:13,  3.65it/s]\u001b[A\n",
            " 77%|███████▋  | 53/69 [00:42<00:13,  1.22it/s]\n",
            " 47%|████▋     | 41/88 [00:11<00:17,  2.75it/s]\u001b[A\n",
            " 48%|████▊     | 42/88 [00:11<00:17,  2.67it/s]\u001b[A\n",
            " 78%|███████▊  | 54/69 [00:43<00:13,  1.10it/s]\n",
            " 50%|█████     | 44/88 [00:12<00:16,  2.69it/s]\u001b[A\n",
            " 51%|█████     | 45/88 [00:12<00:15,  2.71it/s]\u001b[A\n",
            " 80%|███████▉  | 55/69 [00:44<00:13,  1.04it/s]\n",
            " 53%|█████▎    | 47/88 [00:13<00:15,  2.57it/s]\u001b[A\n",
            " 55%|█████▍    | 48/88 [00:13<00:15,  2.58it/s]\u001b[A\n",
            " 81%|████████  | 56/69 [00:45<00:13,  1.01s/it]\n",
            " 57%|█████▋    | 50/88 [00:14<00:14,  2.64it/s]\u001b[A\n",
            " 58%|█████▊    | 51/88 [00:14<00:14,  2.50it/s]\u001b[A\n",
            " 83%|████████▎ | 57/69 [00:46<00:12,  1.04s/it]\n",
            " 60%|██████    | 53/88 [00:15<00:13,  2.57it/s]\u001b[A\n",
            " 84%|████████▍ | 58/69 [00:47<00:11,  1.03s/it]\n",
            " 62%|██████▎   | 55/88 [00:16<00:12,  2.62it/s]\u001b[A\n",
            " 64%|██████▎   | 56/88 [00:16<00:10,  2.96it/s]\u001b[A\n",
            " 86%|████████▌ | 59/69 [00:48<00:09,  1.08it/s]\n",
            " 66%|██████▌   | 58/88 [00:17<00:08,  3.52it/s]\u001b[A\n",
            " 67%|██████▋   | 59/88 [00:17<00:07,  3.78it/s]\u001b[A\n",
            " 87%|████████▋ | 60/69 [00:49<00:07,  1.17it/s]\n",
            " 69%|██████▉   | 61/88 [00:17<00:07,  3.82it/s]\u001b[A\n",
            " 88%|████████▊ | 61/69 [00:50<00:06,  1.24it/s]\n",
            " 72%|███████▏  | 63/88 [00:18<00:07,  3.51it/s]\u001b[A\n",
            " 73%|███████▎  | 64/88 [00:18<00:06,  3.57it/s]\u001b[A\n",
            " 90%|████████▉ | 62/69 [00:50<00:05,  1.29it/s]\n",
            " 75%|███████▌  | 66/88 [00:19<00:05,  3.71it/s]\u001b[A\n",
            " 76%|███████▌  | 67/88 [00:19<00:05,  3.80it/s]\u001b[A\n",
            " 91%|█████████▏| 63/69 [00:51<00:04,  1.29it/s]\n",
            " 78%|███████▊  | 69/88 [00:20<00:04,  3.90it/s]\u001b[A\n",
            " 80%|███████▉  | 70/88 [00:20<00:04,  3.89it/s]\u001b[A\n",
            " 93%|█████████▎| 64/69 [00:52<00:03,  1.32it/s]\n",
            " 82%|████████▏ | 72/88 [00:20<00:04,  3.52it/s]\u001b[A\n",
            " 94%|█████████▍| 65/69 [00:52<00:03,  1.33it/s]\n",
            " 84%|████████▍ | 74/88 [00:21<00:03,  3.68it/s]\u001b[A\n",
            " 85%|████████▌ | 75/88 [00:21<00:03,  3.95it/s]\u001b[A\n",
            " 96%|█████████▌| 66/69 [00:53<00:02,  1.33it/s]\n",
            " 88%|████████▊ | 77/88 [00:22<00:02,  3.77it/s]\u001b[A\n",
            " 89%|████████▊ | 78/88 [00:22<00:02,  3.91it/s]\u001b[A\n",
            " 97%|█████████▋| 67/69 [00:54<00:01,  1.36it/s]\n",
            " 91%|█████████ | 80/88 [00:22<00:01,  4.05it/s]\u001b[A\n",
            " 92%|█████████▏| 81/88 [00:23<00:01,  4.18it/s]\u001b[A\n",
            " 99%|█████████▊| 68/69 [00:55<00:00,  1.38it/s]\n",
            "100%|██████████| 69/69 [00:55<00:00,  1.25it/s]\n",
            "  0%|          | 0/88 [00:00<?, ?it/s]\n",
            "  1%|          | 1/88 [00:00<00:19,  4.37it/s]\n",
            "  2%|▏         | 2/88 [00:00<00:20,  4.14it/s]\n",
            "  3%|▎         | 3/88 [00:00<00:19,  4.42it/s]\n",
            "100%|██████████| 88/88 [00:24<00:00,  3.56it/s]\n"
          ]
        },
        {
          "name": "stdout",
          "output_type": "stream",
          "text": [
            "Epoch 00013: reducing learning rate of group 0 to 5.1924e-03.\n",
            "loss 0.0930 - acc 0.9682 - val_loss 1.2107 - val_acc 0.6740\n",
            "Epoch [14/50]\n"
          ]
        },
        {
          "name": "stderr",
          "output_type": "stream",
          "text": [
            "\n",
            "  7%|▋         | 6/88 [00:01<00:19,  4.17it/s]\n",
            " 10%|█         | 9/88 [00:02<00:19,  4.04it/s]\n",
            " 14%|█▎        | 12/88 [00:03<00:24,  3.15it/s]\n",
            " 16%|█▌        | 14/88 [00:04<00:26,  2.80it/s]\n",
            " 19%|█▉        | 17/88 [00:05<00:26,  2.72it/s]\n",
            " 23%|██▎       | 20/88 [00:06<00:26,  2.59it/s]\n",
            " 26%|██▌       | 23/88 [00:07<00:26,  2.46it/s]\n",
            " 28%|██▊       | 25/88 [00:08<00:27,  2.28it/s]\n",
            " 32%|███▏      | 28/88 [00:09<00:19,  3.15it/s]\n",
            " 35%|███▌      | 31/88 [00:10<00:15,  3.71it/s]\n",
            " 39%|███▊      | 34/88 [00:10<00:13,  3.94it/s]\n",
            " 41%|████      | 36/88 [00:11<00:13,  3.98it/s]\n",
            " 44%|████▍     | 39/88 [00:12<00:12,  3.94it/s]\n",
            " 48%|████▊     | 42/88 [00:12<00:11,  3.91it/s]\n",
            " 51%|█████     | 45/88 [00:13<00:10,  4.19it/s]\n",
            " 55%|█████▍    | 48/88 [00:14<00:09,  4.34it/s]\n",
            " 58%|█████▊    | 51/88 [00:14<00:08,  4.39it/s]\n",
            " 61%|██████▏   | 54/88 [00:15<00:07,  4.30it/s]\n",
            " 64%|██████▎   | 56/88 [00:16<00:07,  4.20it/s]\n",
            " 67%|██████▋   | 59/88 [00:17<00:07,  3.78it/s]\n",
            " 70%|███████   | 62/88 [00:17<00:06,  4.13it/s]\n",
            " 73%|███████▎  | 64/88 [00:18<00:06,  3.89it/s]\n",
            " 76%|███████▌  | 67/88 [00:18<00:05,  3.98it/s]\n",
            " 80%|███████▉  | 70/88 [00:20<00:05,  3.03it/s]\n",
            " 83%|████████▎ | 73/88 [00:21<00:05,  2.71it/s]\n",
            " 85%|████████▌ | 75/88 [00:22<00:05,  2.45it/s]\n",
            " 89%|████████▊ | 78/88 [00:23<00:03,  2.68it/s]\n",
            " 92%|█████████▏| 81/88 [00:24<00:02,  2.55it/s]\n",
            " 95%|█████████▌| 84/88 [00:25<00:01,  2.84it/s]\n",
            " 98%|█████████▊| 86/88 [00:25<00:00,  3.26it/s]\n",
            "100%|██████████| 88/88 [00:26<00:00,  3.34it/s]\n"
          ]
        },
        {
          "name": "stdout",
          "output_type": "stream",
          "text": [
            "loss 0.3544 - acc 0.8638 - val_loss 0.5481 - val_acc 0.7223\n",
            "Epoch [34/50]\n"
          ]
        },
        {
          "name": "stderr",
          "output_type": "stream",
          "text": [
            "  0%|          | 0/69 [00:00<?, ?it/s]\n",
            "  1%|▏         | 1/69 [00:00<00:49,  1.38it/s]\n",
            "  3%|▎         | 2/69 [00:01<00:47,  1.41it/s]\n",
            "  4%|▍         | 3/69 [00:02<00:45,  1.45it/s]\n",
            "  6%|▌         | 4/69 [00:02<00:44,  1.47it/s]\n",
            "  7%|▋         | 5/69 [00:03<00:44,  1.44it/s]\n",
            "  9%|▊         | 6/69 [00:04<00:44,  1.43it/s]\n",
            " 10%|█         | 7/69 [00:04<00:43,  1.43it/s]\n",
            " 12%|█▏        | 8/69 [00:05<00:42,  1.42it/s]\n",
            " 13%|█▎        | 9/69 [00:06<00:42,  1.42it/s]\n",
            " 14%|█▍        | 10/69 [00:07<00:41,  1.42it/s]\n",
            " 16%|█▌        | 11/69 [00:07<00:40,  1.45it/s]\n",
            " 17%|█▋        | 12/69 [00:08<00:40,  1.42it/s]\n",
            " 19%|█▉        | 13/69 [00:09<00:39,  1.42it/s]\n",
            " 20%|██        | 14/69 [00:10<00:44,  1.23it/s]\n",
            " 22%|██▏       | 15/69 [00:11<00:48,  1.10it/s]\n",
            " 23%|██▎       | 16/69 [00:12<00:51,  1.03it/s]\n",
            " 25%|██▍       | 17/69 [00:13<00:51,  1.00it/s]\n",
            " 26%|██▌       | 18/69 [00:14<00:53,  1.04s/it]\n",
            " 28%|██▊       | 19/69 [00:15<00:52,  1.05s/it]\n",
            " 29%|██▉       | 20/69 [00:16<00:46,  1.06it/s]\n",
            " 30%|███       | 21/69 [00:17<00:42,  1.14it/s]\n",
            " 32%|███▏      | 22/69 [00:17<00:39,  1.20it/s]\n",
            " 33%|███▎      | 23/69 [00:18<00:36,  1.25it/s]\n",
            " 35%|███▍      | 24/69 [00:19<00:34,  1.29it/s]\n",
            " 36%|███▌      | 25/69 [00:19<00:33,  1.32it/s]\n",
            " 38%|███▊      | 26/69 [00:20<00:31,  1.35it/s]\n",
            " 39%|███▉      | 27/69 [00:21<00:31,  1.35it/s]\n",
            " 41%|████      | 28/69 [00:22<00:29,  1.39it/s]\n",
            " 42%|████▏     | 29/69 [00:22<00:28,  1.38it/s]\n",
            " 43%|████▎     | 30/69 [00:23<00:28,  1.38it/s]\n",
            " 45%|████▍     | 31/69 [00:24<00:28,  1.36it/s]\n",
            " 46%|████▋     | 32/69 [00:25<00:28,  1.32it/s]\n",
            " 48%|████▊     | 33/69 [00:25<00:28,  1.28it/s]\n",
            " 49%|████▉     | 34/69 [00:27<00:30,  1.15it/s]\n",
            " 51%|█████     | 35/69 [00:28<00:33,  1.01it/s]\n",
            " 52%|█████▏    | 36/69 [00:29<00:33,  1.02s/it]\n",
            " 54%|█████▎    | 37/69 [00:30<00:33,  1.04s/it]\n",
            " 99%|█████████▊| 68/69 [00:56<00:01,  1.05s/it]\u001b[A\n",
            "100%|██████████| 69/69 [00:57<00:00,  1.21it/s]\n",
            "\n",
            " 55%|█████▌    | 38/69 [00:31<00:34,  1.10s/it]\n",
            "  1%|          | 1/88 [00:00<00:30,  2.89it/s]\u001b[A\n",
            " 57%|█████▋    | 39/69 [00:32<00:30,  1.02s/it]\n",
            "  3%|▎         | 3/88 [00:00<00:24,  3.53it/s]\u001b[A\n",
            "  5%|▍         | 4/88 [00:01<00:23,  3.61it/s]\u001b[A\n",
            " 58%|█████▊    | 40/69 [00:33<00:26,  1.08it/s]\n",
            "  7%|▋         | 6/88 [00:01<00:20,  4.00it/s]\u001b[A\n",
            "  8%|▊         | 7/88 [00:01<00:20,  3.90it/s]\u001b[A\n",
            " 59%|█████▉    | 41/69 [00:34<00:24,  1.15it/s]\n",
            " 10%|█         | 9/88 [00:02<00:20,  3.92it/s]\u001b[A\n",
            " 61%|██████    | 42/69 [00:34<00:22,  1.22it/s]\n",
            " 12%|█▎        | 11/88 [00:03<00:22,  3.41it/s]\u001b[A\n",
            " 14%|█▎        | 12/88 [00:03<00:20,  3.75it/s]\u001b[A\n",
            " 62%|██████▏   | 43/69 [00:35<00:20,  1.27it/s]\n",
            " 16%|█▌        | 14/88 [00:03<00:19,  3.76it/s]\u001b[A\n",
            " 17%|█▋        | 15/88 [00:03<00:19,  3.82it/s]\u001b[A\n",
            " 64%|██████▍   | 44/69 [00:36<00:18,  1.34it/s]\n",
            " 19%|█▉        | 17/88 [00:04<00:18,  3.81it/s]\u001b[A\n",
            " 65%|██████▌   | 45/69 [00:36<00:17,  1.37it/s]\n",
            " 22%|██▏       | 19/88 [00:05<00:19,  3.63it/s]\u001b[A\n",
            " 23%|██▎       | 20/88 [00:05<00:18,  3.72it/s]\u001b[A\n",
            " 67%|██████▋   | 46/69 [00:37<00:16,  1.37it/s]\n",
            " 25%|██▌       | 22/88 [00:05<00:17,  3.87it/s]\u001b[A\n",
            " 26%|██▌       | 23/88 [00:06<00:16,  4.04it/s]\u001b[A\n",
            " 68%|██████▊   | 47/69 [00:38<00:16,  1.37it/s]\n",
            " 28%|██▊       | 25/88 [00:06<00:16,  3.79it/s]\u001b[A\n",
            " 30%|██▉       | 26/88 [00:06<00:16,  3.71it/s]\u001b[A\n",
            " 70%|██████▉   | 48/69 [00:38<00:15,  1.38it/s]\n",
            " 32%|███▏      | 28/88 [00:07<00:14,  4.13it/s]\u001b[A\n",
            " 71%|███████   | 49/69 [00:39<00:13,  1.44it/s]\n",
            " 34%|███▍      | 30/88 [00:07<00:16,  3.49it/s]\u001b[A\n",
            " 72%|███████▏  | 50/69 [00:40<00:12,  1.47it/s]\n",
            " 36%|███▋      | 32/88 [00:08<00:15,  3.62it/s]\u001b[A\n",
            " 38%|███▊      | 33/88 [00:08<00:14,  3.84it/s]\u001b[A\n",
            " 74%|███████▍  | 51/69 [00:40<00:12,  1.45it/s]\n",
            " 40%|███▉      | 35/88 [00:09<00:13,  3.85it/s]\u001b[A\n",
            " 41%|████      | 36/88 [00:09<00:14,  3.70it/s]\u001b[A\n",
            " 75%|███████▌  | 52/69 [00:41<00:11,  1.48it/s]\n",
            " 43%|████▎     | 38/88 [00:09<00:12,  4.11it/s]\u001b[A\n",
            " 77%|███████▋  | 53/69 [00:42<00:11,  1.39it/s]\n",
            " 45%|████▌     | 40/88 [00:10<00:14,  3.24it/s]\u001b[A\n",
            " 47%|████▋     | 41/88 [00:11<00:16,  2.87it/s]\u001b[A\n",
            " 78%|███████▊  | 54/69 [00:43<00:12,  1.19it/s]\n",
            " 49%|████▉     | 43/88 [00:11<00:16,  2.75it/s]\u001b[A\n",
            " 50%|█████     | 44/88 [00:12<00:16,  2.62it/s]\u001b[A\n",
            " 80%|███████▉  | 55/69 [00:44<00:12,  1.08it/s]\n",
            " 52%|█████▏    | 46/88 [00:13<00:16,  2.62it/s]\u001b[A\n",
            " 53%|█████▎    | 47/88 [00:13<00:15,  2.61it/s]\u001b[A\n",
            " 81%|████████  | 56/69 [00:45<00:12,  1.01it/s]\n",
            " 56%|█████▌    | 49/88 [00:14<00:15,  2.54it/s]\u001b[A\n",
            " 57%|█████▋    | 50/88 [00:14<00:14,  2.60it/s]\u001b[A\n",
            " 83%|████████▎ | 57/69 [00:46<00:12,  1.03s/it]\n",
            " 59%|█████▉    | 52/88 [00:15<00:14,  2.47it/s]\u001b[A\n",
            " 84%|████████▍ | 58/69 [00:47<00:11,  1.03s/it]\n",
            " 61%|██████▏   | 54/88 [00:16<00:13,  2.48it/s]\u001b[A\n",
            " 62%|██████▎   | 55/88 [00:16<00:13,  2.50it/s]\u001b[A\n",
            " 86%|████████▌ | 59/69 [00:48<00:10,  1.01s/it]\n",
            " 65%|██████▍   | 57/88 [00:17<00:10,  2.84it/s]\u001b[A\n",
            " 66%|██████▌   | 58/88 [00:17<00:09,  3.20it/s]\u001b[A\n",
            " 87%|████████▋ | 60/69 [00:49<00:08,  1.10it/s]\n",
            " 68%|██████▊   | 60/88 [00:17<00:07,  3.60it/s]\u001b[A\n",
            " 69%|██████▉   | 61/88 [00:18<00:07,  3.65it/s]\u001b[A\n",
            " 88%|████████▊ | 61/69 [00:50<00:06,  1.18it/s]\n",
            " 72%|███████▏  | 63/88 [00:18<00:06,  3.72it/s]\u001b[A\n",
            " 90%|████████▉ | 62/69 [00:50<00:05,  1.24it/s]\n",
            " 74%|███████▍  | 65/88 [00:19<00:06,  3.70it/s]\u001b[A\n",
            " 75%|███████▌  | 66/88 [00:19<00:05,  3.69it/s]\u001b[A\n",
            " 91%|█████████▏| 63/69 [00:51<00:04,  1.29it/s]\n",
            " 77%|███████▋  | 68/88 [00:20<00:05,  3.80it/s]\u001b[A\n",
            " 93%|█████████▎| 64/69 [00:52<00:03,  1.34it/s]\n",
            " 80%|███████▉  | 70/88 [00:20<00:05,  3.52it/s]\u001b[A\n",
            " 81%|████████  | 71/88 [00:20<00:04,  3.57it/s]\u001b[A\n",
            " 94%|█████████▍| 65/69 [00:53<00:03,  1.33it/s]\n",
            " 83%|████████▎ | 73/88 [00:21<00:04,  3.54it/s]\u001b[A\n",
            " 84%|████████▍ | 74/88 [00:21<00:03,  3.60it/s]\u001b[A\n",
            " 96%|█████████▌| 66/69 [00:53<00:02,  1.36it/s]\n",
            " 86%|████████▋ | 76/88 [00:22<00:03,  3.95it/s]\u001b[A\n",
            " 88%|████████▊ | 77/88 [00:22<00:02,  3.97it/s]\u001b[A\n",
            " 97%|█████████▋| 67/69 [00:54<00:01,  1.33it/s]\n",
            " 90%|████████▉ | 79/88 [00:22<00:02,  4.14it/s]\u001b[A\n",
            " 91%|█████████ | 80/88 [00:23<00:01,  4.18it/s]\u001b[A\n",
            " 99%|█████████▊| 68/69 [00:55<00:00,  1.36it/s]\n",
            "100%|██████████| 69/69 [00:55<00:00,  1.24it/s]\n",
            "  0%|          | 0/88 [00:00<?, ?it/s]\n",
            "  1%|          | 1/88 [00:00<00:19,  4.46it/s]\n",
            "  2%|▏         | 2/88 [00:00<00:21,  4.03it/s]\n",
            "  3%|▎         | 3/88 [00:00<00:19,  4.39it/s]\n",
            "  5%|▍         | 4/88 [00:00<00:19,  4.37it/s]\n",
            "100%|██████████| 88/88 [00:25<00:00,  3.52it/s]\n"
          ]
        },
        {
          "name": "stdout",
          "output_type": "stream",
          "text": [
            "loss 0.1189 - acc 0.9573 - val_loss 0.7501 - val_acc 0.7539\n",
            "Epoch [15/50]\n"
          ]
        },
        {
          "name": "stderr",
          "output_type": "stream",
          "text": [
            "\n",
            "  8%|▊         | 7/88 [00:01<00:21,  3.82it/s]\n",
            " 10%|█         | 9/88 [00:02<00:19,  3.98it/s]\n",
            " 14%|█▎        | 12/88 [00:02<00:18,  4.20it/s]\n",
            " 17%|█▋        | 15/88 [00:04<00:24,  2.92it/s]\n",
            " 20%|██        | 18/88 [00:05<00:26,  2.69it/s]\n",
            " 23%|██▎       | 20/88 [00:06<00:27,  2.51it/s]\n",
            " 26%|██▌       | 23/88 [00:07<00:26,  2.50it/s]\n",
            " 28%|██▊       | 25/88 [00:08<00:28,  2.18it/s]\n",
            " 32%|███▏      | 28/88 [00:09<00:23,  2.61it/s]\n",
            " 34%|███▍      | 30/88 [00:10<00:18,  3.15it/s]\n",
            " 38%|███▊      | 33/88 [00:10<00:15,  3.53it/s]\n",
            " 40%|███▉      | 35/88 [00:11<00:13,  3.80it/s]\n",
            " 43%|████▎     | 38/88 [00:12<00:13,  3.63it/s]\n",
            " 47%|████▋     | 41/88 [00:12<00:11,  4.09it/s]\n",
            " 50%|█████     | 44/88 [00:13<00:10,  4.16it/s]\n",
            " 53%|█████▎    | 47/88 [00:14<00:09,  4.14it/s]\n",
            " 57%|█████▋    | 50/88 [00:14<00:08,  4.29it/s]\n",
            " 60%|██████    | 53/88 [00:15<00:08,  4.11it/s]\n",
            " 62%|██████▎   | 55/88 [00:16<00:08,  4.02it/s]\n",
            " 66%|██████▌   | 58/88 [00:17<00:07,  4.05it/s]\n",
            " 69%|██████▉   | 61/88 [00:17<00:06,  4.24it/s]\n",
            " 72%|███████▏  | 63/88 [00:18<00:05,  4.17it/s]\n",
            " 75%|███████▌  | 66/88 [00:19<00:05,  3.75it/s]\n",
            " 78%|███████▊  | 69/88 [00:19<00:05,  3.76it/s]\n",
            " 82%|████████▏ | 72/88 [00:21<00:05,  2.76it/s]\n",
            " 85%|████████▌ | 75/88 [00:22<00:04,  2.61it/s]\n",
            " 89%|████████▊ | 78/88 [00:23<00:03,  2.61it/s]\n",
            " 92%|█████████▏| 81/88 [00:24<00:02,  2.38it/s]\n",
            " 94%|█████████▍| 83/88 [00:25<00:01,  2.64it/s]\n",
            " 98%|█████████▊| 86/88 [00:26<00:00,  3.16it/s]\n",
            "100%|██████████| 88/88 [00:26<00:00,  3.30it/s]\n"
          ]
        },
        {
          "name": "stdout",
          "output_type": "stream",
          "text": [
            "loss 0.3466 - acc 0.8652 - val_loss 0.5736 - val_acc 0.7227\n",
            "Epoch [35/50]\n"
          ]
        },
        {
          "name": "stderr",
          "output_type": "stream",
          "text": [
            "  0%|          | 0/69 [00:00<?, ?it/s]\n",
            "  1%|▏         | 1/69 [00:00<00:48,  1.39it/s]\n",
            "  3%|▎         | 2/69 [00:01<00:46,  1.43it/s]\n",
            "  4%|▍         | 3/69 [00:02<00:46,  1.43it/s]\n",
            "  7%|▋         | 5/69 [00:03<00:43,  1.47it/s]\n",
            "  9%|▊         | 6/69 [00:04<00:43,  1.44it/s]\n",
            " 10%|█         | 7/69 [00:04<00:43,  1.42it/s]\n",
            " 12%|█▏        | 8/69 [00:05<00:42,  1.42it/s]\n",
            " 13%|█▎        | 9/69 [00:06<00:41,  1.43it/s]\n",
            " 14%|█▍        | 10/69 [00:07<00:42,  1.39it/s]\n",
            " 16%|█▌        | 11/69 [00:07<00:41,  1.41it/s]\n",
            " 17%|█▋        | 12/69 [00:08<00:40,  1.41it/s]\n",
            " 19%|█▉        | 13/69 [00:09<00:40,  1.39it/s]\n",
            " 20%|██        | 14/69 [00:10<00:45,  1.20it/s]\n",
            " 22%|██▏       | 15/69 [00:11<00:47,  1.13it/s]\n",
            " 23%|██▎       | 16/69 [00:12<00:50,  1.06it/s]\n",
            " 25%|██▍       | 17/69 [00:13<00:51,  1.02it/s]\n",
            " 26%|██▌       | 18/69 [00:14<00:52,  1.03s/it]\n",
            " 28%|██▊       | 19/69 [00:15<00:50,  1.02s/it]\n",
            " 29%|██▉       | 20/69 [00:16<00:45,  1.08it/s]\n",
            " 30%|███       | 21/69 [00:16<00:40,  1.18it/s]\n",
            " 32%|███▏      | 22/69 [00:17<00:38,  1.24it/s]\n",
            " 33%|███▎      | 23/69 [00:18<00:35,  1.29it/s]\n",
            " 35%|███▍      | 24/69 [00:19<00:33,  1.33it/s]\n",
            " 36%|███▌      | 25/69 [00:19<00:32,  1.35it/s]\n",
            " 38%|███▊      | 26/69 [00:20<00:31,  1.38it/s]\n",
            " 39%|███▉      | 27/69 [00:21<00:29,  1.42it/s]\n",
            " 41%|████      | 28/69 [00:21<00:29,  1.40it/s]\n",
            " 42%|████▏     | 29/69 [00:22<00:28,  1.40it/s]\n",
            " 43%|████▎     | 30/69 [00:23<00:28,  1.39it/s]\n",
            " 45%|████▍     | 31/69 [00:24<00:27,  1.37it/s]\n",
            " 46%|████▋     | 32/69 [00:24<00:28,  1.31it/s]\n",
            " 48%|████▊     | 33/69 [00:25<00:26,  1.34it/s]\n",
            " 49%|████▉     | 34/69 [00:26<00:29,  1.18it/s]\n",
            " 51%|█████     | 35/69 [00:27<00:33,  1.01it/s]\n",
            " 52%|█████▏    | 36/69 [00:29<00:32,  1.00it/s]\n",
            " 54%|█████▎    | 37/69 [00:30<00:33,  1.03s/it]\n",
            " 55%|█████▌    | 38/69 [00:31<00:32,  1.06s/it]\n",
            " 99%|█████████▊| 68/69 [00:57<00:01,  1.03s/it]\u001b[A\n",
            "100%|██████████| 69/69 [00:57<00:00,  1.20it/s]\n",
            "\n",
            " 57%|█████▋    | 39/69 [00:32<00:30,  1.03s/it]\n",
            "  1%|          | 1/88 [00:00<00:19,  4.48it/s]\u001b[A\n",
            "  2%|▏         | 2/88 [00:00<00:21,  4.01it/s]\u001b[A\n",
            " 58%|█████▊    | 40/69 [00:32<00:27,  1.06it/s]\n",
            "  5%|▍         | 4/88 [00:01<00:22,  3.80it/s]\u001b[A\n",
            "  6%|▌         | 5/88 [00:01<00:19,  4.17it/s]\u001b[A\n",
            " 59%|█████▉    | 41/69 [00:33<00:24,  1.15it/s]\n",
            "  8%|▊         | 7/88 [00:01<00:20,  4.00it/s]\u001b[A\n",
            " 61%|██████    | 42/69 [00:34<00:22,  1.22it/s]\n",
            " 10%|█         | 9/88 [00:02<00:20,  3.77it/s]\u001b[A\n",
            " 11%|█▏        | 10/88 [00:02<00:21,  3.64it/s]\u001b[A\n",
            " 62%|██████▏   | 43/69 [00:35<00:20,  1.27it/s]\n",
            " 14%|█▎        | 12/88 [00:03<00:19,  3.89it/s]\u001b[A\n",
            " 15%|█▍        | 13/88 [00:03<00:18,  4.16it/s]\u001b[A\n",
            " 64%|██████▍   | 44/69 [00:35<00:19,  1.31it/s]\n",
            " 17%|█▋        | 15/88 [00:03<00:18,  4.00it/s]\u001b[A\n",
            " 65%|██████▌   | 45/69 [00:36<00:17,  1.36it/s]\n",
            " 19%|█▉        | 17/88 [00:04<00:19,  3.60it/s]\u001b[A\n",
            " 20%|██        | 18/88 [00:04<00:18,  3.76it/s]\u001b[A\n",
            " 67%|██████▋   | 46/69 [00:37<00:16,  1.39it/s]\n",
            " 23%|██▎       | 20/88 [00:05<00:17,  3.83it/s]\u001b[A\n",
            " 24%|██▍       | 21/88 [00:05<00:17,  3.93it/s]\u001b[A\n",
            " 68%|██████▊   | 47/69 [00:37<00:15,  1.39it/s]\n",
            " 26%|██▌       | 23/88 [00:05<00:16,  4.05it/s]\u001b[A\n",
            " 70%|██████▉   | 48/69 [00:38<00:14,  1.41it/s]\n",
            " 28%|██▊       | 25/88 [00:06<00:17,  3.58it/s]\u001b[A\n",
            " 30%|██▉       | 26/88 [00:06<00:17,  3.52it/s]\u001b[A\n",
            " 71%|███████   | 49/69 [00:39<00:14,  1.42it/s]\n",
            " 32%|███▏      | 28/88 [00:07<00:15,  3.96it/s]\u001b[A\n",
            " 72%|███████▏  | 50/69 [00:39<00:13,  1.45it/s]\n",
            " 34%|███▍      | 30/88 [00:07<00:16,  3.47it/s]\u001b[A\n",
            " 35%|███▌      | 31/88 [00:08<00:16,  3.48it/s]\u001b[A\n",
            " 74%|███████▍  | 51/69 [00:40<00:12,  1.47it/s]\n",
            " 38%|███▊      | 33/88 [00:08<00:14,  3.90it/s]\u001b[A\n",
            " 75%|███████▌  | 52/69 [00:41<00:11,  1.48it/s]\n",
            " 40%|███▉      | 35/88 [00:09<00:13,  3.80it/s]\u001b[A\n",
            " 41%|████      | 36/88 [00:09<00:13,  3.76it/s]\u001b[A\n",
            " 77%|███████▋  | 53/69 [00:41<00:10,  1.48it/s]\n",
            " 43%|████▎     | 38/88 [00:09<00:12,  3.89it/s]\u001b[A\n",
            " 44%|████▍     | 39/88 [00:10<00:14,  3.35it/s]\u001b[A\n",
            " 78%|███████▊  | 54/69 [00:42<00:11,  1.30it/s]\n",
            " 47%|████▋     | 41/88 [00:11<00:17,  2.71it/s]\u001b[A\n",
            " 80%|███████▉  | 55/69 [00:44<00:12,  1.12it/s]\n",
            " 49%|████▉     | 43/88 [00:11<00:17,  2.60it/s]\u001b[A\n",
            " 50%|█████     | 44/88 [00:12<00:17,  2.53it/s]\u001b[A\n",
            " 81%|████████  | 56/69 [00:45<00:12,  1.04it/s]\n",
            " 52%|█████▏    | 46/88 [00:13<00:16,  2.60it/s]\u001b[A\n",
            " 53%|█████▎    | 47/88 [00:13<00:16,  2.50it/s]\u001b[A\n",
            " 83%|████████▎ | 57/69 [00:46<00:12,  1.02s/it]\n",
            " 56%|█████▌    | 49/88 [00:14<00:15,  2.47it/s]\u001b[A\n",
            " 57%|█████▋    | 50/88 [00:14<00:15,  2.52it/s]\u001b[A\n",
            " 84%|████████▍ | 58/69 [00:47<00:11,  1.05s/it]\n",
            " 59%|█████▉    | 52/88 [00:15<00:15,  2.39it/s]\u001b[A\n",
            " 60%|██████    | 53/88 [00:15<00:13,  2.51it/s]\u001b[A\n",
            " 86%|████████▌ | 59/69 [00:48<00:10,  1.08s/it]\n",
            " 62%|██████▎   | 55/88 [00:16<00:11,  2.94it/s]\u001b[A\n",
            " 64%|██████▎   | 56/88 [00:16<00:10,  3.17it/s]\u001b[A\n",
            " 87%|████████▋ | 60/69 [00:49<00:08,  1.04it/s]\n",
            " 66%|██████▌   | 58/88 [00:17<00:08,  3.57it/s]\u001b[A\n",
            " 88%|████████▊ | 61/69 [00:49<00:07,  1.13it/s]\n",
            " 68%|██████▊   | 60/88 [00:17<00:08,  3.48it/s]\u001b[A\n",
            " 69%|██████▉   | 61/88 [00:18<00:07,  3.65it/s]\u001b[A\n",
            " 90%|████████▉ | 62/69 [00:50<00:05,  1.20it/s]\n",
            " 72%|███████▏  | 63/88 [00:18<00:06,  3.68it/s]\u001b[A\n",
            " 73%|███████▎  | 64/88 [00:18<00:06,  3.58it/s]\u001b[A\n",
            " 91%|█████████▏| 63/69 [00:51<00:04,  1.24it/s]\n",
            " 75%|███████▌  | 66/88 [00:19<00:05,  3.68it/s]\u001b[A\n",
            " 93%|█████████▎| 64/69 [00:52<00:03,  1.30it/s]\n",
            " 77%|███████▋  | 68/88 [00:20<00:05,  3.66it/s]\u001b[A\n",
            " 78%|███████▊  | 69/88 [00:20<00:05,  3.75it/s]\u001b[A\n",
            " 94%|█████████▍| 65/69 [00:52<00:02,  1.34it/s]\n",
            " 81%|████████  | 71/88 [00:20<00:04,  3.72it/s]\u001b[A\n",
            " 82%|████████▏ | 72/88 [00:21<00:04,  3.53it/s]\u001b[A\n",
            " 96%|█████████▌| 66/69 [00:53<00:02,  1.33it/s]\n",
            " 84%|████████▍ | 74/88 [00:21<00:03,  3.74it/s]\u001b[A\n",
            " 85%|████████▌ | 75/88 [00:21<00:03,  3.97it/s]\u001b[A\n",
            " 97%|█████████▋| 67/69 [00:54<00:01,  1.35it/s]\n",
            " 88%|████████▊ | 77/88 [00:22<00:02,  4.13it/s]\u001b[A\n",
            " 89%|████████▊ | 78/88 [00:22<00:02,  4.08it/s]\u001b[A\n",
            " 99%|█████████▊| 68/69 [00:55<00:00,  1.33it/s]\n",
            "100%|██████████| 69/69 [00:55<00:00,  1.25it/s]\n",
            "\n",
            "  1%|          | 1/88 [00:00<00:17,  5.03it/s]\n",
            "  2%|▏         | 2/88 [00:00<00:20,  4.20it/s]\n",
            "  3%|▎         | 3/88 [00:00<00:18,  4.53it/s]\n",
            "  5%|▍         | 4/88 [00:00<00:19,  4.34it/s]\n",
            "  6%|▌         | 5/88 [00:01<00:19,  4.34it/s]\n",
            "  7%|▋         | 6/88 [00:01<00:19,  4.13it/s]\n",
            "100%|██████████| 88/88 [00:24<00:00,  3.54it/s]\n"
          ]
        },
        {
          "name": "stdout",
          "output_type": "stream",
          "text": [
            "loss 0.0487 - acc 0.9870 - val_loss 0.7658 - val_acc 0.7607\n",
            "Epoch [16/50]\n"
          ]
        },
        {
          "name": "stderr",
          "output_type": "stream",
          "text": [
            "\n",
            "  9%|▉         | 8/88 [00:01<00:21,  3.75it/s]\n",
            " 12%|█▎        | 11/88 [00:02<00:20,  3.72it/s]\n",
            " 16%|█▌        | 14/88 [00:03<00:24,  2.98it/s]\n",
            " 18%|█▊        | 16/88 [00:04<00:26,  2.71it/s]\n",
            " 22%|██▏       | 19/88 [00:05<00:24,  2.80it/s]\n",
            " 25%|██▌       | 22/88 [00:07<00:27,  2.39it/s]\n",
            " 27%|██▋       | 24/88 [00:08<00:31,  2.06it/s]\n",
            " 31%|███       | 27/88 [00:09<00:24,  2.48it/s]\n",
            " 34%|███▍      | 30/88 [00:09<00:17,  3.26it/s]\n",
            " 36%|███▋      | 32/88 [00:10<00:15,  3.61it/s]\n",
            " 40%|███▉      | 35/88 [00:11<00:14,  3.78it/s]\n",
            " 42%|████▏     | 37/88 [00:11<00:13,  3.76it/s]\n",
            " 45%|████▌     | 40/88 [00:12<00:12,  3.94it/s]\n",
            " 49%|████▉     | 43/88 [00:13<00:11,  3.98it/s]\n",
            " 52%|█████▏    | 46/88 [00:14<00:10,  4.09it/s]\n",
            " 56%|█████▌    | 49/88 [00:14<00:08,  4.41it/s]\n",
            " 59%|█████▉    | 52/88 [00:15<00:08,  4.13it/s]\n",
            " 61%|██████▏   | 54/88 [00:15<00:08,  4.16it/s]\n",
            " 65%|██████▍   | 57/88 [00:16<00:08,  3.74it/s]\n",
            " 68%|██████▊   | 60/88 [00:17<00:06,  4.12it/s]\n",
            " 70%|███████   | 62/88 [00:17<00:06,  4.12it/s]\n",
            " 74%|███████▍  | 65/88 [00:18<00:06,  3.80it/s]\n",
            " 77%|███████▋  | 68/88 [00:19<00:04,  4.07it/s]\n",
            " 81%|████████  | 71/88 [00:20<00:05,  3.15it/s]\n",
            " 83%|████████▎ | 73/88 [00:21<00:05,  2.65it/s]\n",
            " 86%|████████▋ | 76/88 [00:22<00:04,  2.55it/s]\n",
            " 91%|█████████ | 80/88 [00:24<00:03,  2.67it/s]\n",
            " 93%|█████████▎| 82/88 [00:24<00:02,  2.68it/s]\n",
            " 97%|█████████▋| 85/88 [00:26<00:01,  2.63it/s]\n",
            "100%|██████████| 88/88 [00:26<00:00,  3.30it/s]\n"
          ]
        },
        {
          "name": "stdout",
          "output_type": "stream",
          "text": [
            "loss 0.3301 - acc 0.8746 - val_loss 0.5819 - val_acc 0.7216\n",
            "Epoch [36/50]\n"
          ]
        },
        {
          "name": "stderr",
          "output_type": "stream",
          "text": [
            "  0%|          | 0/69 [00:00<?, ?it/s]\n",
            "  1%|▏         | 1/69 [00:00<01:04,  1.06it/s]\n",
            "  3%|▎         | 2/69 [00:01<00:54,  1.23it/s]\n",
            "  4%|▍         | 3/69 [00:02<00:49,  1.34it/s]\n",
            "  6%|▌         | 4/69 [00:03<00:47,  1.36it/s]\n",
            "  7%|▋         | 5/69 [00:03<00:47,  1.35it/s]\n",
            "  9%|▊         | 6/69 [00:04<00:45,  1.37it/s]\n",
            " 10%|█         | 7/69 [00:05<00:44,  1.38it/s]\n",
            " 12%|█▏        | 8/69 [00:05<00:43,  1.40it/s]\n",
            " 13%|█▎        | 9/69 [00:06<00:43,  1.39it/s]\n",
            " 14%|█▍        | 10/69 [00:07<00:42,  1.40it/s]\n",
            " 16%|█▌        | 11/69 [00:08<00:41,  1.41it/s]\n",
            " 17%|█▋        | 12/69 [00:08<00:40,  1.42it/s]\n",
            " 19%|█▉        | 13/69 [00:09<00:40,  1.38it/s]\n",
            " 20%|██        | 14/69 [00:10<00:45,  1.21it/s]\n",
            " 22%|██▏       | 15/69 [00:11<00:48,  1.12it/s]\n",
            " 23%|██▎       | 16/69 [00:12<00:47,  1.11it/s]\n",
            " 25%|██▍       | 17/69 [00:13<00:50,  1.04it/s]\n",
            " 28%|██▊       | 19/69 [00:15<00:49,  1.02it/s]\n",
            " 70%|██████▉   | 48/69 [00:40<00:22,  1.06s/it]\u001b[A\n",
            " 29%|██▉       | 20/69 [00:16<00:45,  1.07it/s]\n",
            " 30%|███       | 21/69 [00:17<00:41,  1.16it/s]\n",
            " 33%|███▎      | 23/69 [00:18<00:35,  1.28it/s]\n",
            " 35%|███▍      | 24/69 [00:19<00:35,  1.27it/s]\n",
            " 36%|███▌      | 25/69 [00:20<00:33,  1.32it/s]\n",
            " 38%|███▊      | 26/69 [00:20<00:31,  1.35it/s]\n",
            " 39%|███▉      | 27/69 [00:21<00:30,  1.37it/s]\n",
            " 41%|████      | 28/69 [00:22<00:29,  1.38it/s]\n",
            " 42%|████▏     | 29/69 [00:22<00:28,  1.40it/s]\n",
            " 43%|████▎     | 30/69 [00:23<00:28,  1.36it/s]\n",
            " 45%|████▍     | 31/69 [00:24<00:28,  1.34it/s]\n",
            " 87%|████████▋ | 60/69 [00:49<00:06,  1.36it/s]\u001b[A\n",
            " 48%|████▊     | 33/69 [00:26<00:27,  1.29it/s]\n",
            " 90%|████████▉ | 62/69 [00:51<00:05,  1.28it/s]\u001b[A\n",
            " 49%|████▉     | 34/69 [00:27<00:31,  1.11it/s]\n",
            " 51%|█████     | 35/69 [00:28<00:33,  1.02it/s]\n",
            " 52%|█████▏    | 36/69 [00:29<00:33,  1.01s/it]\n",
            " 54%|█████▎    | 37/69 [00:30<00:33,  1.03s/it]\n",
            " 55%|█████▌    | 38/69 [00:31<00:32,  1.04s/it]\n",
            " 57%|█████▋    | 39/69 [00:32<00:30,  1.01s/it]\n",
            "100%|██████████| 69/69 [00:58<00:00,  1.19it/s]\n",
            "\n",
            "  0%|          | 0/88 [00:00<?, ?it/s]\u001b[A\n",
            " 58%|█████▊    | 40/69 [00:33<00:26,  1.09it/s]\n",
            "  2%|▏         | 2/88 [00:00<00:20,  4.12it/s]\u001b[A\n",
            "  3%|▎         | 3/88 [00:00<00:21,  4.01it/s]\u001b[A\n",
            " 59%|█████▉    | 41/69 [00:34<00:24,  1.15it/s]\n",
            "  6%|▌         | 5/88 [00:01<00:19,  4.19it/s]\u001b[A\n",
            "  7%|▋         | 6/88 [00:01<00:19,  4.13it/s]\u001b[A\n",
            " 61%|██████    | 42/69 [00:34<00:22,  1.21it/s]\n",
            "  9%|▉         | 8/88 [00:01<00:19,  4.01it/s]\u001b[A\n",
            " 62%|██████▏   | 43/69 [00:35<00:20,  1.28it/s]\n",
            " 11%|█▏        | 10/88 [00:02<00:20,  3.81it/s]\u001b[A\n",
            " 12%|█▎        | 11/88 [00:02<00:20,  3.74it/s]\u001b[A\n",
            " 64%|██████▍   | 44/69 [00:36<00:19,  1.31it/s]\n",
            " 15%|█▍        | 13/88 [00:03<00:18,  4.06it/s]\u001b[A\n",
            " 16%|█▌        | 14/88 [00:03<00:18,  4.04it/s]\u001b[A\n",
            " 65%|██████▌   | 45/69 [00:36<00:17,  1.34it/s]\n",
            " 18%|█▊        | 16/88 [00:04<00:18,  3.97it/s]\u001b[A\n",
            " 19%|█▉        | 17/88 [00:04<00:18,  3.93it/s]\u001b[A\n",
            " 67%|██████▋   | 46/69 [00:37<00:17,  1.35it/s]\n",
            " 22%|██▏       | 19/88 [00:04<00:17,  3.93it/s]\u001b[A\n",
            " 23%|██▎       | 20/88 [00:05<00:17,  3.92it/s]\u001b[A\n",
            " 68%|██████▊   | 47/69 [00:38<00:16,  1.37it/s]\n",
            " 25%|██▌       | 22/88 [00:05<00:16,  4.10it/s]\u001b[A\n",
            " 26%|██▌       | 23/88 [00:05<00:15,  4.14it/s]\u001b[A\n",
            " 70%|██████▉   | 48/69 [00:39<00:15,  1.37it/s]\n",
            " 28%|██▊       | 25/88 [00:06<00:16,  3.77it/s]\u001b[A\n",
            " 71%|███████   | 49/69 [00:39<00:14,  1.41it/s]\n",
            " 31%|███       | 27/88 [00:06<00:15,  3.82it/s]\u001b[A\n",
            " 72%|███████▏  | 50/69 [00:40<00:13,  1.41it/s]\n",
            " 33%|███▎      | 29/88 [00:07<00:17,  3.34it/s]\u001b[A\n",
            " 34%|███▍      | 30/88 [00:07<00:16,  3.43it/s]\u001b[A\n",
            " 74%|███████▍  | 51/69 [00:41<00:12,  1.44it/s]\n",
            " 36%|███▋      | 32/88 [00:08<00:15,  3.68it/s]\u001b[A\n",
            " 75%|███████▌  | 52/69 [00:41<00:11,  1.46it/s]\n",
            " 39%|███▊      | 34/88 [00:08<00:14,  3.70it/s]\u001b[A\n",
            " 40%|███▉      | 35/88 [00:09<00:14,  3.70it/s]\u001b[A\n",
            " 77%|███████▋  | 53/69 [00:42<00:11,  1.42it/s]\n",
            " 42%|████▏     | 37/88 [00:09<00:15,  3.22it/s]\u001b[A\n",
            " 43%|████▎     | 38/88 [00:10<00:16,  3.11it/s]\u001b[A\n",
            " 78%|███████▊  | 54/69 [00:43<00:12,  1.25it/s]\n",
            " 45%|████▌     | 40/88 [00:10<00:17,  2.70it/s]\u001b[A\n",
            " 80%|███████▉  | 55/69 [00:44<00:12,  1.11it/s]\n",
            " 48%|████▊     | 42/88 [00:11<00:17,  2.56it/s]\u001b[A\n",
            " 49%|████▉     | 43/88 [00:12<00:17,  2.61it/s]\u001b[A\n",
            " 81%|████████  | 56/69 [00:45<00:12,  1.07it/s]\n",
            " 51%|█████     | 45/88 [00:12<00:17,  2.48it/s]\u001b[A\n",
            " 52%|█████▏    | 46/88 [00:13<00:16,  2.52it/s]\u001b[A\n",
            " 83%|████████▎ | 57/69 [00:46<00:11,  1.00it/s]\n",
            " 55%|█████▍    | 48/88 [00:14<00:16,  2.41it/s]\u001b[A\n",
            " 84%|████████▍ | 58/69 [00:48<00:11,  1.06s/it]\n",
            " 57%|█████▋    | 50/88 [00:15<00:16,  2.36it/s]\u001b[A\n",
            " 58%|█████▊    | 51/88 [00:15<00:15,  2.33it/s]\u001b[A\n",
            " 86%|████████▌ | 59/69 [00:49<00:10,  1.04s/it]\n",
            " 60%|██████    | 53/88 [00:16<00:12,  2.87it/s]\u001b[A\n",
            " 61%|██████▏   | 54/88 [00:16<00:10,  3.12it/s]\u001b[A\n",
            " 87%|████████▋ | 60/69 [00:49<00:08,  1.07it/s]\n",
            " 64%|██████▎   | 56/88 [00:16<00:09,  3.53it/s]\u001b[A\n",
            " 65%|██████▍   | 57/88 [00:17<00:08,  3.61it/s]\u001b[A\n",
            " 88%|████████▊ | 61/69 [00:50<00:06,  1.15it/s]\n",
            " 67%|██████▋   | 59/88 [00:17<00:07,  3.90it/s]\u001b[A\n",
            " 68%|██████▊   | 60/88 [00:17<00:07,  3.90it/s]\u001b[A\n",
            " 90%|████████▉ | 62/69 [00:51<00:05,  1.22it/s]\n",
            " 70%|███████   | 62/88 [00:18<00:06,  3.94it/s]\u001b[A\n",
            " 91%|█████████▏| 63/69 [00:51<00:04,  1.30it/s]\n",
            " 73%|███████▎  | 64/88 [00:18<00:06,  3.74it/s]\u001b[A\n",
            " 74%|███████▍  | 65/88 [00:19<00:06,  3.81it/s]\u001b[A\n",
            " 93%|█████████▎| 64/69 [00:52<00:03,  1.35it/s]\n",
            " 76%|███████▌  | 67/88 [00:19<00:05,  3.88it/s]\u001b[A\n",
            " 94%|█████████▍| 65/69 [00:53<00:02,  1.36it/s]\n",
            " 78%|███████▊  | 69/88 [00:20<00:05,  3.65it/s]\u001b[A\n",
            " 80%|███████▉  | 70/88 [00:20<00:04,  3.64it/s]\u001b[A\n",
            " 96%|█████████▌| 66/69 [00:53<00:02,  1.39it/s]\n",
            " 82%|████████▏ | 72/88 [00:21<00:04,  3.51it/s]\u001b[A\n",
            " 97%|█████████▋| 67/69 [00:54<00:01,  1.38it/s]\n",
            " 84%|████████▍ | 74/88 [00:21<00:03,  3.52it/s]\u001b[A\n",
            " 85%|████████▌ | 75/88 [00:21<00:03,  3.82it/s]\u001b[A\n",
            " 99%|█████████▊| 68/69 [00:55<00:00,  1.36it/s]\n",
            "100%|██████████| 69/69 [00:55<00:00,  1.24it/s]\n",
            "  0%|          | 0/88 [00:00<?, ?it/s]\n",
            "  1%|          | 1/88 [00:00<00:17,  4.92it/s]\n",
            " 90%|████████▉ | 79/88 [00:22<00:02,  3.80it/s]\u001b[A\n",
            "  2%|▏         | 2/88 [00:00<00:21,  4.00it/s]\n",
            "  3%|▎         | 3/88 [00:00<00:19,  4.30it/s]\n",
            "  6%|▌         | 5/88 [00:01<00:18,  4.57it/s]\n",
            " 94%|█████████▍| 83/88 [00:23<00:01,  4.11it/s]\u001b[A\n",
            "  7%|▋         | 6/88 [00:01<00:19,  4.21it/s]\n",
            "  8%|▊         | 7/88 [00:01<00:20,  4.02it/s]\n",
            " 10%|█         | 9/88 [00:02<00:18,  4.18it/s]\n",
            "100%|██████████| 88/88 [00:24<00:00,  3.53it/s]\n"
          ]
        },
        {
          "name": "stdout",
          "output_type": "stream",
          "text": [
            "loss 0.0346 - acc 0.9931 - val_loss 0.7951 - val_acc 0.7657\n",
            "Epoch [17/50]\n"
          ]
        },
        {
          "name": "stderr",
          "output_type": "stream",
          "text": [
            "\n",
            " 12%|█▎        | 11/88 [00:02<00:19,  3.85it/s]\n",
            " 16%|█▌        | 14/88 [00:03<00:23,  3.08it/s]\n",
            " 19%|█▉        | 17/88 [00:04<00:25,  2.77it/s]\n",
            " 22%|██▏       | 19/88 [00:05<00:25,  2.67it/s]\n",
            " 25%|██▌       | 22/88 [00:06<00:26,  2.44it/s]\n",
            " 27%|██▋       | 24/88 [00:07<00:29,  2.15it/s]\n",
            " 31%|███       | 27/88 [00:09<00:26,  2.27it/s]\n",
            " 33%|███▎      | 29/88 [00:09<00:21,  2.77it/s]\n",
            " 36%|███▋      | 32/88 [00:10<00:16,  3.46it/s]\n",
            " 40%|███▉      | 35/88 [00:11<00:13,  3.85it/s]\n",
            " 42%|████▏     | 37/88 [00:11<00:13,  3.81it/s]\n",
            " 45%|████▌     | 40/88 [00:12<00:11,  4.23it/s]\n",
            " 49%|████▉     | 43/88 [00:13<00:11,  4.00it/s]\n",
            " 52%|█████▏    | 46/88 [00:14<00:10,  3.99it/s]\n",
            " 56%|█████▌    | 49/88 [00:14<00:08,  4.39it/s]\n",
            " 59%|█████▉    | 52/88 [00:15<00:08,  4.16it/s]\n",
            " 62%|██████▎   | 55/88 [00:16<00:07,  4.20it/s]\n",
            " 66%|██████▌   | 58/88 [00:16<00:07,  4.13it/s]\n",
            " 69%|██████▉   | 61/88 [00:17<00:06,  4.09it/s]\n",
            " 72%|███████▏  | 63/88 [00:18<00:06,  4.04it/s]\n",
            " 75%|███████▌  | 66/88 [00:18<00:05,  3.91it/s]\n",
            " 78%|███████▊  | 69/88 [00:19<00:04,  4.03it/s]\n",
            " 82%|████████▏ | 72/88 [00:20<00:05,  2.89it/s]\n",
            " 85%|████████▌ | 75/88 [00:22<00:05,  2.54it/s]\n",
            " 89%|████████▊ | 78/88 [00:23<00:03,  2.57it/s]\n",
            " 91%|█████████ | 80/88 [00:24<00:03,  2.46it/s]\n",
            " 94%|█████████▍| 83/88 [00:25<00:01,  2.59it/s]\n",
            " 98%|█████████▊| 86/88 [00:26<00:00,  2.91it/s]\n",
            "100%|██████████| 88/88 [00:26<00:00,  3.31it/s]\n"
          ]
        },
        {
          "name": "stdout",
          "output_type": "stream",
          "text": [
            "loss 0.3341 - acc 0.8730 - val_loss 0.5570 - val_acc 0.7220\n",
            "Epoch [37/50]\n"
          ]
        },
        {
          "name": "stderr",
          "output_type": "stream",
          "text": [
            "  0%|          | 0/69 [00:00<?, ?it/s]\n",
            "  1%|▏         | 1/69 [00:00<00:48,  1.39it/s]\n",
            "  3%|▎         | 2/69 [00:01<00:50,  1.33it/s]\n",
            "  4%|▍         | 3/69 [00:02<00:48,  1.37it/s]\n",
            "  6%|▌         | 4/69 [00:02<00:46,  1.40it/s]\n",
            "  7%|▋         | 5/69 [00:03<00:45,  1.40it/s]\n",
            "  9%|▊         | 6/69 [00:04<00:47,  1.33it/s]\n",
            " 10%|█         | 7/69 [00:05<00:45,  1.38it/s]\n",
            " 12%|█▏        | 8/69 [00:05<00:43,  1.40it/s]\n",
            " 13%|█▎        | 9/69 [00:06<00:42,  1.40it/s]\n",
            " 14%|█▍        | 10/69 [00:07<00:42,  1.39it/s]\n",
            " 16%|█▌        | 11/69 [00:07<00:41,  1.41it/s]\n",
            " 17%|█▋        | 12/69 [00:08<00:40,  1.42it/s]\n",
            " 19%|█▉        | 13/69 [00:09<00:39,  1.41it/s]\n",
            " 20%|██        | 14/69 [00:10<00:44,  1.23it/s]\n",
            " 22%|██▏       | 15/69 [00:11<00:48,  1.11it/s]\n",
            " 23%|██▎       | 16/69 [00:12<00:51,  1.04it/s]\n",
            " 25%|██▍       | 17/69 [00:13<00:52,  1.02s/it]\n",
            " 26%|██▌       | 18/69 [00:14<00:53,  1.06s/it]\n",
            " 28%|██▊       | 19/69 [00:15<00:51,  1.03s/it]\n",
            " 29%|██▉       | 20/69 [00:16<00:46,  1.06it/s]\n",
            " 30%|███       | 21/69 [00:17<00:41,  1.15it/s]\n",
            " 32%|███▏      | 22/69 [00:17<00:38,  1.23it/s]\n",
            " 33%|███▎      | 23/69 [00:18<00:36,  1.27it/s]\n",
            " 35%|███▍      | 24/69 [00:19<00:33,  1.32it/s]\n",
            " 36%|███▌      | 25/69 [00:20<00:32,  1.37it/s]\n",
            " 38%|███▊      | 26/69 [00:20<00:30,  1.39it/s]\n",
            " 39%|███▉      | 27/69 [00:21<00:29,  1.40it/s]\n",
            " 41%|████      | 28/69 [00:22<00:29,  1.41it/s]\n",
            " 42%|████▏     | 29/69 [00:22<00:28,  1.43it/s]\n",
            " 43%|████▎     | 30/69 [00:23<00:28,  1.39it/s]\n",
            " 45%|████▍     | 31/69 [00:24<00:28,  1.35it/s]\n",
            " 46%|████▋     | 32/69 [00:25<00:28,  1.32it/s]\n",
            " 48%|████▊     | 33/69 [00:25<00:27,  1.30it/s]\n",
            " 49%|████▉     | 34/69 [00:27<00:31,  1.12it/s]\n",
            " 51%|█████     | 35/69 [00:28<00:34,  1.01s/it]\n",
            " 52%|█████▏    | 36/69 [00:29<00:33,  1.03s/it]\n",
            " 54%|█████▎    | 37/69 [00:30<00:34,  1.08s/it]\n",
            " 55%|█████▌    | 38/69 [00:31<00:33,  1.07s/it]\n",
            " 57%|█████▋    | 39/69 [00:32<00:31,  1.06s/it]\n",
            " 99%|█████████▊| 68/69 [00:57<00:00,  1.04it/s]\u001b[A\n",
            "100%|██████████| 69/69 [00:57<00:00,  1.20it/s]\n",
            "\n",
            " 58%|█████▊    | 40/69 [00:33<00:27,  1.04it/s]\n",
            "  1%|          | 1/88 [00:00<00:21,  4.01it/s]\u001b[A\n",
            "  2%|▏         | 2/88 [00:00<00:21,  3.98it/s]\u001b[A\n",
            " 59%|█████▉    | 41/69 [00:34<00:24,  1.12it/s]\n",
            "  5%|▍         | 4/88 [00:01<00:21,  3.88it/s]\u001b[A\n",
            "  6%|▌         | 5/88 [00:01<00:19,  4.16it/s]\u001b[A\n",
            " 61%|██████    | 42/69 [00:34<00:21,  1.23it/s]\n",
            "  8%|▊         | 7/88 [00:01<00:20,  4.03it/s]\u001b[A\n",
            " 62%|██████▏   | 43/69 [00:35<00:20,  1.29it/s]\n",
            " 10%|█         | 9/88 [00:02<00:21,  3.68it/s]\u001b[A\n",
            " 11%|█▏        | 10/88 [00:02<00:21,  3.61it/s]\u001b[A\n",
            " 64%|██████▍   | 44/69 [00:36<00:18,  1.34it/s]\n",
            " 14%|█▎        | 12/88 [00:03<00:19,  3.91it/s]\u001b[A\n",
            " 15%|█▍        | 13/88 [00:03<00:17,  4.22it/s]\u001b[A\n",
            " 65%|██████▌   | 45/69 [00:36<00:17,  1.36it/s]\n",
            " 17%|█▋        | 15/88 [00:03<00:18,  3.98it/s]\u001b[A\n",
            " 67%|██████▋   | 46/69 [00:37<00:16,  1.38it/s]\n",
            " 19%|█▉        | 17/88 [00:04<00:19,  3.61it/s]\u001b[A\n",
            " 20%|██        | 18/88 [00:04<00:18,  3.80it/s]\u001b[A\n",
            " 68%|██████▊   | 47/69 [00:38<00:15,  1.38it/s]\n",
            " 23%|██▎       | 20/88 [00:05<00:17,  3.90it/s]\u001b[A\n",
            " 24%|██▍       | 21/88 [00:05<00:16,  3.95it/s]\u001b[A\n",
            " 70%|██████▉   | 48/69 [00:39<00:15,  1.40it/s]\n",
            " 26%|██▌       | 23/88 [00:05<00:15,  4.21it/s]\u001b[A\n",
            " 27%|██▋       | 24/88 [00:06<00:15,  4.18it/s]\u001b[A\n",
            " 71%|███████   | 49/69 [00:39<00:14,  1.40it/s]\n",
            " 30%|██▉       | 26/88 [00:06<00:16,  3.80it/s]\u001b[A\n",
            " 31%|███       | 27/88 [00:06<00:15,  4.00it/s]\u001b[A\n",
            " 72%|███████▏  | 50/69 [00:40<00:13,  1.41it/s]\n",
            " 33%|███▎      | 29/88 [00:07<00:16,  3.49it/s]\u001b[A\n",
            " 74%|███████▍  | 51/69 [00:41<00:12,  1.43it/s]\n",
            " 35%|███▌      | 31/88 [00:08<00:16,  3.54it/s]\u001b[A\n",
            " 75%|███████▌  | 52/69 [00:41<00:11,  1.45it/s]\n",
            " 38%|███▊      | 33/88 [00:08<00:15,  3.59it/s]\u001b[A\n",
            " 39%|███▊      | 34/88 [00:08<00:14,  3.75it/s]\u001b[A\n",
            " 77%|███████▋  | 53/69 [00:42<00:11,  1.36it/s]\n",
            " 41%|████      | 36/88 [00:09<00:16,  3.11it/s]\u001b[A\n",
            " 42%|████▏     | 37/88 [00:09<00:17,  2.99it/s]\u001b[A\n",
            " 78%|███████▊  | 54/69 [00:43<00:12,  1.17it/s]\n",
            " 44%|████▍     | 39/88 [00:10<00:17,  2.80it/s]\u001b[A\n",
            " 45%|████▌     | 40/88 [00:11<00:18,  2.61it/s]\u001b[A\n",
            " 80%|███████▉  | 55/69 [00:44<00:13,  1.07it/s]\n",
            " 48%|████▊     | 42/88 [00:11<00:18,  2.49it/s]\u001b[A\n",
            " 49%|████▉     | 43/88 [00:12<00:17,  2.58it/s]\u001b[A\n",
            " 81%|████████  | 56/69 [00:46<00:12,  1.01it/s]\n",
            " 51%|█████     | 45/88 [00:13<00:17,  2.53it/s]\u001b[A\n",
            " 52%|█████▏    | 46/88 [00:13<00:16,  2.57it/s]\u001b[A\n",
            " 83%|████████▎ | 57/69 [00:47<00:12,  1.04s/it]\n",
            " 55%|█████▍    | 48/88 [00:14<00:15,  2.56it/s]\u001b[A\n",
            " 56%|█████▌    | 49/88 [00:14<00:15,  2.60it/s]\u001b[A\n",
            " 84%|████████▍ | 58/69 [00:48<00:11,  1.07s/it]\n",
            " 58%|█████▊    | 51/88 [00:15<00:14,  2.56it/s]\u001b[A\n",
            " 86%|████████▌ | 59/69 [00:49<00:10,  1.04s/it]\n",
            " 60%|██████    | 53/88 [00:16<00:12,  2.90it/s]\u001b[A\n",
            " 61%|██████▏   | 54/88 [00:16<00:11,  3.08it/s]\u001b[A\n",
            " 87%|████████▋ | 60/69 [00:50<00:08,  1.05it/s]\n",
            " 64%|██████▎   | 56/88 [00:16<00:09,  3.47it/s]\u001b[A\n",
            " 65%|██████▍   | 57/88 [00:17<00:08,  3.56it/s]\u001b[A\n",
            " 88%|████████▊ | 61/69 [00:50<00:06,  1.15it/s]\n",
            " 67%|██████▋   | 59/88 [00:17<00:07,  3.89it/s]\u001b[A\n",
            " 90%|████████▉ | 62/69 [00:51<00:05,  1.23it/s]\n",
            " 69%|██████▉   | 61/88 [00:18<00:07,  3.53it/s]\u001b[A\n",
            " 70%|███████   | 62/88 [00:18<00:07,  3.67it/s]\u001b[A\n",
            " 91%|█████████▏| 63/69 [00:52<00:04,  1.27it/s]\n",
            " 73%|███████▎  | 64/88 [00:18<00:06,  3.64it/s]\u001b[A\n",
            " 74%|███████▍  | 65/88 [00:19<00:06,  3.70it/s]\u001b[A\n",
            " 93%|█████████▎| 64/69 [00:52<00:03,  1.30it/s]\n",
            " 76%|███████▌  | 67/88 [00:19<00:05,  3.85it/s]\u001b[A\n",
            " 94%|█████████▍| 65/69 [00:53<00:03,  1.33it/s]\n",
            " 78%|███████▊  | 69/88 [00:20<00:05,  3.59it/s]\u001b[A\n",
            " 80%|███████▉  | 70/88 [00:20<00:04,  3.60it/s]\u001b[A\n",
            " 96%|█████████▌| 66/69 [00:54<00:02,  1.38it/s]\n",
            " 82%|████████▏ | 72/88 [00:21<00:04,  3.46it/s]\u001b[A\n",
            " 97%|█████████▋| 67/69 [00:54<00:01,  1.42it/s]\n",
            " 84%|████████▍ | 74/88 [00:21<00:03,  3.64it/s]\u001b[A\n",
            " 85%|████████▌ | 75/88 [00:21<00:03,  3.91it/s]\u001b[A\n",
            " 99%|█████████▊| 68/69 [00:55<00:00,  1.41it/s]\n",
            "100%|██████████| 69/69 [00:55<00:00,  1.23it/s]\n",
            "  0%|          | 0/88 [00:00<?, ?it/s]\n",
            "  1%|          | 1/88 [00:00<00:18,  4.72it/s]\n",
            " 90%|████████▉ | 79/88 [00:22<00:02,  4.01it/s]\u001b[A\n",
            "  3%|▎         | 3/88 [00:00<00:18,  4.47it/s]\n",
            "  5%|▍         | 4/88 [00:00<00:19,  4.35it/s]\n",
            "  6%|▌         | 5/88 [00:01<00:18,  4.53it/s]\n",
            "  7%|▋         | 6/88 [00:01<00:19,  4.24it/s]\n",
            "  8%|▊         | 7/88 [00:01<00:20,  3.99it/s]\n",
            "  9%|▉         | 8/88 [00:01<00:20,  3.92it/s]\n",
            " 10%|█         | 9/88 [00:02<00:19,  4.13it/s]\n",
            "100%|██████████| 88/88 [00:24<00:00,  3.53it/s]\n"
          ]
        },
        {
          "name": "stdout",
          "output_type": "stream",
          "text": [
            "loss 0.0329 - acc 0.9941 - val_loss 0.8150 - val_acc 0.7610\n",
            "Epoch [18/50]\n"
          ]
        },
        {
          "name": "stderr",
          "output_type": "stream",
          "text": [
            "\n",
            " 14%|█▎        | 12/88 [00:02<00:19,  3.86it/s]\n",
            " 17%|█▋        | 15/88 [00:04<00:24,  2.92it/s]\n",
            " 20%|██        | 18/88 [00:05<00:24,  2.88it/s]\n",
            " 24%|██▍       | 21/88 [00:06<00:25,  2.58it/s]\n",
            " 26%|██▌       | 23/88 [00:07<00:25,  2.55it/s]\n",
            " 28%|██▊       | 25/88 [00:08<00:28,  2.18it/s]\n",
            " 32%|███▏      | 28/88 [00:09<00:24,  2.47it/s]\n",
            " 35%|███▌      | 31/88 [00:10<00:17,  3.20it/s]\n",
            " 39%|███▊      | 34/88 [00:10<00:14,  3.71it/s]\n",
            " 41%|████      | 36/88 [00:11<00:13,  3.77it/s]\n",
            " 44%|████▍     | 39/88 [00:12<00:12,  3.90it/s]\n",
            " 48%|████▊     | 42/88 [00:13<00:11,  3.84it/s]\n",
            " 51%|█████     | 45/88 [00:13<00:10,  4.15it/s]\n",
            " 53%|█████▎    | 47/88 [00:14<00:10,  4.03it/s]\n",
            " 57%|█████▋    | 50/88 [00:14<00:08,  4.25it/s]\n",
            " 60%|██████    | 53/88 [00:15<00:08,  4.23it/s]\n",
            " 64%|██████▎   | 56/88 [00:16<00:07,  4.10it/s]\n",
            " 67%|██████▋   | 59/88 [00:17<00:07,  3.84it/s]\n",
            " 70%|███████   | 62/88 [00:17<00:06,  4.08it/s]\n",
            " 73%|███████▎  | 64/88 [00:18<00:06,  3.75it/s]\n",
            " 76%|███████▌  | 67/88 [00:19<00:05,  3.91it/s]\n",
            " 80%|███████▉  | 70/88 [00:20<00:05,  3.32it/s]\n",
            " 83%|████████▎ | 73/88 [00:21<00:05,  2.68it/s]\n",
            " 86%|████████▋ | 76/88 [00:22<00:04,  2.48it/s]\n",
            " 90%|████████▉ | 79/88 [00:23<00:03,  2.55it/s]\n",
            " 93%|█████████▎| 82/88 [00:24<00:02,  2.63it/s]\n",
            " 97%|█████████▋| 85/88 [00:25<00:01,  2.69it/s]\n",
            "100%|██████████| 88/88 [00:26<00:00,  3.33it/s]\n"
          ]
        },
        {
          "name": "stdout",
          "output_type": "stream",
          "text": [
            "loss 0.3326 - acc 0.8743 - val_loss 0.5954 - val_acc 0.7291\n",
            "Epoch [38/50]\n"
          ]
        },
        {
          "name": "stderr",
          "output_type": "stream",
          "text": [
            "  0%|          | 0/69 [00:00<?, ?it/s]\n",
            "  1%|▏         | 1/69 [00:00<00:48,  1.41it/s]\n",
            "  3%|▎         | 2/69 [00:01<00:46,  1.44it/s]\n",
            "  4%|▍         | 3/69 [00:02<00:47,  1.38it/s]\n",
            "  6%|▌         | 4/69 [00:02<00:47,  1.38it/s]\n",
            "  7%|▋         | 5/69 [00:03<00:46,  1.38it/s]\n",
            "  9%|▊         | 6/69 [00:04<00:44,  1.41it/s]\n",
            " 10%|█         | 7/69 [00:04<00:43,  1.42it/s]\n",
            " 12%|█▏        | 8/69 [00:05<00:42,  1.42it/s]\n",
            " 13%|█▎        | 9/69 [00:06<00:42,  1.41it/s]\n",
            " 14%|█▍        | 10/69 [00:07<00:41,  1.42it/s]\n",
            " 16%|█▌        | 11/69 [00:07<00:40,  1.42it/s]\n",
            " 17%|█▋        | 12/69 [00:08<00:39,  1.43it/s]\n",
            " 19%|█▉        | 13/69 [00:09<00:38,  1.44it/s]\n",
            " 20%|██        | 14/69 [00:10<00:41,  1.32it/s]\n",
            " 22%|██▏       | 15/69 [00:11<00:44,  1.20it/s]\n",
            " 23%|██▎       | 16/69 [00:12<00:48,  1.10it/s]\n",
            " 25%|██▍       | 17/69 [00:13<00:50,  1.03it/s]\n",
            " 26%|██▌       | 18/69 [00:14<00:51,  1.01s/it]\n",
            " 28%|██▊       | 19/69 [00:15<00:51,  1.03s/it]\n",
            " 29%|██▉       | 20/69 [00:16<00:47,  1.04it/s]\n",
            " 30%|███       | 21/69 [00:16<00:41,  1.15it/s]\n",
            " 32%|███▏      | 22/69 [00:17<00:38,  1.21it/s]\n",
            " 33%|███▎      | 23/69 [00:18<00:35,  1.29it/s]\n",
            " 35%|███▍      | 24/69 [00:19<00:33,  1.32it/s]\n",
            " 36%|███▌      | 25/69 [00:19<00:32,  1.37it/s]\n",
            " 38%|███▊      | 26/69 [00:20<00:31,  1.38it/s]\n",
            " 39%|███▉      | 27/69 [00:21<00:30,  1.38it/s]\n",
            " 41%|████      | 28/69 [00:21<00:29,  1.40it/s]\n",
            " 42%|████▏     | 29/69 [00:22<00:28,  1.40it/s]\n",
            " 43%|████▎     | 30/69 [00:23<00:28,  1.37it/s]\n",
            " 45%|████▍     | 31/69 [00:23<00:27,  1.38it/s]\n",
            " 46%|████▋     | 32/69 [00:24<00:27,  1.35it/s]\n",
            " 48%|████▊     | 33/69 [00:25<00:26,  1.35it/s]\n",
            " 49%|████▉     | 34/69 [00:26<00:27,  1.29it/s]\n",
            " 51%|█████     | 35/69 [00:27<00:31,  1.07it/s]\n",
            " 52%|█████▏    | 36/69 [00:28<00:32,  1.01it/s]\n",
            " 54%|█████▎    | 37/69 [00:29<00:32,  1.01s/it]\n",
            " 55%|█████▌    | 38/69 [00:30<00:31,  1.03s/it]\n",
            " 57%|█████▋    | 39/69 [00:31<00:30,  1.03s/it]\n",
            " 58%|█████▊    | 40/69 [00:32<00:27,  1.05it/s]\n",
            " 59%|█████▉    | 41/69 [00:33<00:24,  1.14it/s]\n",
            "100%|██████████| 69/69 [00:57<00:00,  1.20it/s]\n",
            "\n",
            "  0%|          | 0/88 [00:00<?, ?it/s]\u001b[A\n",
            " 61%|██████    | 42/69 [00:34<00:22,  1.22it/s]\n",
            "  2%|▏         | 2/88 [00:00<00:24,  3.54it/s]\u001b[A\n",
            "  3%|▎         | 3/88 [00:00<00:21,  3.87it/s]\u001b[A\n",
            " 62%|██████▏   | 43/69 [00:34<00:20,  1.26it/s]\n",
            "  6%|▌         | 5/88 [00:01<00:20,  4.09it/s]\u001b[A\n",
            "  7%|▋         | 6/88 [00:01<00:20,  4.05it/s]\u001b[A\n",
            " 64%|██████▍   | 44/69 [00:35<00:19,  1.31it/s]\n",
            "  9%|▉         | 8/88 [00:02<00:19,  4.03it/s]\u001b[A\n",
            " 65%|██████▌   | 45/69 [00:36<00:17,  1.35it/s]\n",
            " 11%|█▏        | 10/88 [00:02<00:22,  3.53it/s]\u001b[A\n",
            " 12%|█▎        | 11/88 [00:02<00:21,  3.60it/s]\u001b[A\n",
            " 67%|██████▋   | 46/69 [00:36<00:17,  1.35it/s]\n",
            " 15%|█▍        | 13/88 [00:03<00:19,  3.78it/s]\u001b[A\n",
            " 16%|█▌        | 14/88 [00:03<00:19,  3.77it/s]\u001b[A\n",
            " 68%|██████▊   | 47/69 [00:37<00:16,  1.37it/s]\n",
            " 18%|█▊        | 16/88 [00:04<00:18,  3.91it/s]\u001b[A\n",
            " 19%|█▉        | 17/88 [00:04<00:18,  3.88it/s]\u001b[A\n",
            " 70%|██████▉   | 48/69 [00:38<00:15,  1.37it/s]\n",
            " 22%|██▏       | 19/88 [00:04<00:17,  3.92it/s]\u001b[A\n",
            " 71%|███████   | 49/69 [00:39<00:14,  1.41it/s]\n",
            " 24%|██▍       | 21/88 [00:05<00:18,  3.69it/s]\u001b[A\n",
            " 25%|██▌       | 22/88 [00:05<00:17,  3.78it/s]\u001b[A\n",
            " 72%|███████▏  | 50/69 [00:39<00:13,  1.41it/s]\n",
            " 27%|██▋       | 24/88 [00:06<00:15,  4.01it/s]\u001b[A\n",
            " 28%|██▊       | 25/88 [00:06<00:16,  3.75it/s]\u001b[A\n",
            " 74%|███████▍  | 51/69 [00:40<00:13,  1.38it/s]\n",
            " 31%|███       | 27/88 [00:07<00:15,  3.93it/s]\u001b[A\n",
            " 75%|███████▌  | 52/69 [00:41<00:12,  1.41it/s]\n",
            " 33%|███▎      | 29/88 [00:07<00:17,  3.44it/s]\u001b[A\n",
            " 34%|███▍      | 30/88 [00:07<00:16,  3.43it/s]\u001b[A\n",
            " 77%|███████▋  | 53/69 [00:41<00:11,  1.41it/s]\n",
            " 36%|███▋      | 32/88 [00:08<00:15,  3.57it/s]\u001b[A\n",
            " 38%|███▊      | 33/88 [00:08<00:15,  3.62it/s]\u001b[A\n",
            " 78%|███████▊  | 54/69 [00:42<00:11,  1.31it/s]\n",
            " 40%|███▉      | 35/88 [00:09<00:18,  2.90it/s]\u001b[A\n",
            " 80%|███████▉  | 55/69 [00:43<00:12,  1.16it/s]\n",
            " 42%|████▏     | 37/88 [00:10<00:18,  2.72it/s]\u001b[A\n",
            " 43%|████▎     | 38/88 [00:10<00:18,  2.77it/s]\u001b[A\n",
            " 81%|████████  | 56/69 [00:45<00:12,  1.08it/s]\n",
            " 45%|████▌     | 40/88 [00:11<00:17,  2.68it/s]\u001b[A\n",
            " 47%|████▋     | 41/88 [00:11<00:17,  2.68it/s]\u001b[A\n",
            " 83%|████████▎ | 57/69 [00:46<00:12,  1.01s/it]\n",
            " 49%|████▉     | 43/88 [00:12<00:17,  2.63it/s]\u001b[A\n",
            " 50%|█████     | 44/88 [00:13<00:17,  2.54it/s]\u001b[A\n",
            " 84%|████████▍ | 58/69 [00:47<00:11,  1.03s/it]\n",
            " 52%|█████▏    | 46/88 [00:13<00:17,  2.46it/s]\u001b[A\n",
            " 53%|█████▎    | 47/88 [00:14<00:16,  2.46it/s]\u001b[A\n",
            " 86%|████████▌ | 59/69 [00:48<00:10,  1.06s/it]\n",
            " 56%|█████▌    | 49/88 [00:14<00:14,  2.66it/s]\u001b[A\n",
            " 87%|████████▋ | 60/69 [00:49<00:09,  1.00s/it]\n",
            " 58%|█████▊    | 51/88 [00:15<00:13,  2.75it/s]\u001b[A\n",
            " 59%|█████▉    | 52/88 [00:15<00:11,  3.05it/s]\u001b[A\n",
            " 88%|████████▊ | 61/69 [00:50<00:07,  1.07it/s]\n",
            " 61%|██████▏   | 54/88 [00:16<00:10,  3.35it/s]\u001b[A\n",
            " 62%|██████▎   | 55/88 [00:16<00:09,  3.50it/s]\u001b[A\n",
            " 90%|████████▉ | 62/69 [00:50<00:05,  1.17it/s]\n",
            " 65%|██████▍   | 57/88 [00:17<00:08,  3.73it/s]\u001b[A\n",
            " 66%|██████▌   | 58/88 [00:17<00:07,  3.90it/s]\u001b[A\n",
            " 91%|█████████▏| 63/69 [00:51<00:04,  1.22it/s]\n",
            " 68%|██████▊   | 60/88 [00:18<00:07,  3.79it/s]\u001b[A\n",
            " 93%|█████████▎| 64/69 [00:52<00:03,  1.27it/s]\n",
            " 70%|███████   | 62/88 [00:18<00:07,  3.67it/s]\u001b[A\n",
            " 72%|███████▏  | 63/88 [00:18<00:06,  3.60it/s]\u001b[A\n",
            " 94%|█████████▍| 65/69 [00:52<00:03,  1.30it/s]\n",
            " 74%|███████▍  | 65/88 [00:19<00:06,  3.82it/s]\u001b[A\n",
            " 75%|███████▌  | 66/88 [00:19<00:06,  3.64it/s]\u001b[A\n",
            " 96%|█████████▌| 66/69 [00:53<00:02,  1.33it/s]\n",
            " 77%|███████▋  | 68/88 [00:20<00:05,  3.77it/s]\u001b[A\n",
            " 97%|█████████▋| 67/69 [00:54<00:01,  1.35it/s]\n",
            " 80%|███████▉  | 70/88 [00:20<00:04,  3.62it/s]\u001b[A\n",
            " 81%|████████  | 71/88 [00:21<00:04,  3.61it/s]\u001b[A\n",
            " 99%|█████████▊| 68/69 [00:55<00:00,  1.36it/s]\n",
            "100%|██████████| 69/69 [00:55<00:00,  1.25it/s]\n",
            "  0%|          | 0/88 [00:00<?, ?it/s]\n",
            "  1%|          | 1/88 [00:00<00:18,  4.70it/s]\n",
            "  2%|▏         | 2/88 [00:00<00:20,  4.27it/s]\n",
            "  3%|▎         | 3/88 [00:00<00:18,  4.57it/s]\n",
            "  5%|▍         | 4/88 [00:00<00:19,  4.35it/s]\n",
            "  6%|▌         | 5/88 [00:01<00:18,  4.47it/s]\n",
            "  7%|▋         | 6/88 [00:01<00:19,  4.28it/s]\n",
            "  8%|▊         | 7/88 [00:01<00:20,  4.02it/s]\n",
            "  9%|▉         | 8/88 [00:01<00:19,  4.01it/s]\n",
            " 10%|█         | 9/88 [00:02<00:18,  4.17it/s]\n",
            " 11%|█▏        | 10/88 [00:02<00:19,  3.99it/s]\n",
            " 12%|█▎        | 11/88 [00:02<00:18,  4.10it/s]\n",
            " 14%|█▎        | 12/88 [00:02<00:17,  4.25it/s]\n",
            " 15%|█▍        | 13/88 [00:03<00:17,  4.35it/s]\n",
            "100%|██████████| 88/88 [00:25<00:00,  3.51it/s]\n"
          ]
        },
        {
          "name": "stdout",
          "output_type": "stream",
          "text": [
            "loss 0.0273 - acc 0.9947 - val_loss 0.8034 - val_acc 0.7668\n",
            "Epoch [19/50]\n"
          ]
        },
        {
          "name": "stderr",
          "output_type": "stream",
          "text": [
            " 16%|█▌        | 14/88 [00:03<00:17,  4.26it/s]\n",
            " 18%|█▊        | 16/88 [00:03<00:19,  3.63it/s]\n",
            " 22%|██▏       | 19/88 [00:05<00:23,  2.91it/s]\n",
            " 24%|██▍       | 21/88 [00:05<00:27,  2.47it/s]\n",
            " 26%|██▌       | 23/88 [00:06<00:25,  2.52it/s]\n",
            " 30%|██▉       | 26/88 [00:08<00:27,  2.22it/s]\n",
            " 33%|███▎      | 29/88 [00:09<00:22,  2.66it/s]\n",
            " 36%|███▋      | 32/88 [00:10<00:19,  2.82it/s]\n",
            " 40%|███▉      | 35/88 [00:11<00:15,  3.48it/s]\n",
            " 42%|████▏     | 37/88 [00:11<00:14,  3.61it/s]\n",
            " 45%|████▌     | 40/88 [00:12<00:12,  3.90it/s]\n",
            " 49%|████▉     | 43/88 [00:13<00:11,  3.97it/s]\n",
            " 52%|█████▏    | 46/88 [00:13<00:10,  4.03it/s]\n",
            " 56%|█████▌    | 49/88 [00:14<00:08,  4.42it/s]\n",
            " 58%|█████▊    | 51/88 [00:15<00:09,  4.08it/s]\n",
            " 61%|██████▏   | 54/88 [00:15<00:08,  3.94it/s]\n",
            " 65%|██████▍   | 57/88 [00:16<00:07,  3.99it/s]\n",
            " 68%|██████▊   | 60/88 [00:17<00:06,  4.14it/s]\n",
            " 70%|███████   | 62/88 [00:17<00:06,  4.18it/s]\n",
            " 74%|███████▍  | 65/88 [00:18<00:05,  3.86it/s]\n",
            " 77%|███████▋  | 68/88 [00:19<00:04,  4.06it/s]\n",
            " 81%|████████  | 71/88 [00:20<00:03,  4.31it/s]\n",
            " 83%|████████▎ | 73/88 [00:20<00:04,  3.38it/s]\n",
            " 86%|████████▋ | 76/88 [00:21<00:04,  2.77it/s]\n",
            " 90%|████████▉ | 79/88 [00:22<00:03,  2.81it/s]\n",
            " 93%|█████████▎| 82/88 [00:24<00:02,  2.77it/s]\n",
            " 97%|█████████▋| 85/88 [00:25<00:01,  2.56it/s]\n",
            "100%|██████████| 88/88 [00:26<00:00,  3.38it/s]\n"
          ]
        },
        {
          "name": "stdout",
          "output_type": "stream",
          "text": [
            "Epoch 00038: reducing learning rate of group 0 to 8.4659e-05.\n",
            "loss 0.3258 - acc 0.8780 - val_loss 0.5514 - val_acc 0.7302\n",
            "Epoch [39/50]\n"
          ]
        },
        {
          "name": "stderr",
          "output_type": "stream",
          "text": [
            "  0%|          | 0/69 [00:00<?, ?it/s]\n",
            "  1%|▏         | 1/69 [00:01<01:13,  1.08s/it]\n",
            "  3%|▎         | 2/69 [00:01<01:00,  1.10it/s]\n",
            "  4%|▍         | 3/69 [00:02<00:54,  1.21it/s]\n",
            "  6%|▌         | 4/69 [00:03<00:51,  1.26it/s]\n",
            "  7%|▋         | 5/69 [00:04<00:49,  1.30it/s]\n",
            "  9%|▊         | 6/69 [00:04<00:48,  1.31it/s]\n",
            " 10%|█         | 7/69 [00:05<00:46,  1.35it/s]\n",
            " 12%|█▏        | 8/69 [00:06<00:44,  1.37it/s]\n",
            " 13%|█▎        | 9/69 [00:06<00:43,  1.37it/s]\n",
            " 14%|█▍        | 10/69 [00:07<00:44,  1.33it/s]\n",
            " 16%|█▌        | 11/69 [00:08<00:42,  1.36it/s]\n",
            " 17%|█▋        | 12/69 [00:09<00:41,  1.38it/s]\n",
            " 19%|█▉        | 13/69 [00:09<00:40,  1.39it/s]\n",
            " 20%|██        | 14/69 [00:10<00:38,  1.41it/s]\n",
            " 22%|██▏       | 15/69 [00:11<00:41,  1.29it/s]\n",
            " 23%|██▎       | 16/69 [00:12<00:46,  1.15it/s]\n",
            " 25%|██▍       | 17/69 [00:13<00:48,  1.08it/s]\n",
            " 26%|██▌       | 18/69 [00:14<00:50,  1.01it/s]\n",
            " 28%|██▊       | 19/69 [00:15<00:51,  1.04s/it]\n",
            " 29%|██▉       | 20/69 [00:16<00:51,  1.05s/it]\n",
            " 30%|███       | 21/69 [00:17<00:45,  1.05it/s]\n",
            " 32%|███▏      | 22/69 [00:18<00:41,  1.14it/s]\n",
            " 33%|███▎      | 23/69 [00:19<00:38,  1.20it/s]\n",
            " 35%|███▍      | 24/69 [00:19<00:35,  1.26it/s]\n",
            " 36%|███▌      | 25/69 [00:20<00:34,  1.29it/s]\n",
            " 38%|███▊      | 26/69 [00:21<00:32,  1.32it/s]\n",
            " 39%|███▉      | 27/69 [00:22<00:31,  1.34it/s]\n",
            " 41%|████      | 28/69 [00:22<00:30,  1.36it/s]\n",
            " 42%|████▏     | 29/69 [00:23<00:29,  1.35it/s]\n",
            " 43%|████▎     | 30/69 [00:24<00:29,  1.33it/s]\n",
            " 45%|████▍     | 31/69 [00:24<00:28,  1.34it/s]\n",
            " 46%|████▋     | 32/69 [00:25<00:28,  1.31it/s]\n",
            " 48%|████▊     | 33/69 [00:26<00:27,  1.33it/s]\n",
            " 49%|████▉     | 34/69 [00:27<00:25,  1.35it/s]\n",
            " 51%|█████     | 35/69 [00:28<00:29,  1.17it/s]\n",
            " 52%|█████▏    | 36/69 [00:29<00:29,  1.11it/s]\n",
            " 54%|█████▎    | 37/69 [00:30<00:31,  1.03it/s]\n",
            " 55%|█████▌    | 38/69 [00:31<00:32,  1.03s/it]\n",
            " 57%|█████▋    | 39/69 [00:32<00:31,  1.04s/it]\n",
            " 58%|█████▊    | 40/69 [00:33<00:29,  1.03s/it]\n",
            " 59%|█████▉    | 41/69 [00:34<00:26,  1.06it/s]\n",
            " 61%|██████    | 42/69 [00:35<00:23,  1.16it/s]\n",
            "100%|██████████| 69/69 [00:58<00:00,  1.19it/s]\n",
            "\n",
            "  0%|          | 0/88 [00:00<?, ?it/s]\u001b[A\n",
            "  1%|          | 1/88 [00:00<00:18,  4.75it/s]\u001b[A\n",
            " 62%|██████▏   | 43/69 [00:35<00:21,  1.19it/s]\n",
            "  3%|▎         | 3/88 [00:00<00:19,  4.39it/s]\u001b[A\n",
            "  5%|▍         | 4/88 [00:00<00:20,  4.13it/s]\u001b[A\n",
            " 64%|██████▍   | 44/69 [00:36<00:19,  1.26it/s]\n",
            "  7%|▋         | 6/88 [00:01<00:20,  4.08it/s]\u001b[A\n",
            "  8%|▊         | 7/88 [00:01<00:20,  3.99it/s]\u001b[A\n",
            " 65%|██████▌   | 45/69 [00:37<00:18,  1.30it/s]\n",
            " 10%|█         | 9/88 [00:02<00:19,  4.02it/s]\u001b[A\n",
            " 67%|██████▋   | 46/69 [00:38<00:17,  1.32it/s]\n",
            " 12%|█▎        | 11/88 [00:02<00:21,  3.60it/s]\u001b[A\n",
            " 14%|█▎        | 12/88 [00:03<00:19,  3.82it/s]\u001b[A\n",
            " 68%|██████▊   | 47/69 [00:38<00:16,  1.36it/s]\n",
            " 16%|█▌        | 14/88 [00:03<00:18,  4.03it/s]\u001b[A\n",
            " 17%|█▋        | 15/88 [00:03<00:18,  4.00it/s]\u001b[A\n",
            " 70%|██████▉   | 48/69 [00:39<00:15,  1.38it/s]\n",
            " 19%|█▉        | 17/88 [00:04<00:18,  3.90it/s]\u001b[A\n",
            " 71%|███████   | 49/69 [00:40<00:14,  1.40it/s]\n",
            " 22%|██▏       | 19/88 [00:04<00:19,  3.50it/s]\u001b[A\n",
            " 23%|██▎       | 20/88 [00:05<00:18,  3.61it/s]\u001b[A\n",
            " 72%|███████▏  | 50/69 [00:40<00:13,  1.41it/s]\n",
            " 25%|██▌       | 22/88 [00:05<00:16,  3.89it/s]\u001b[A\n",
            " 26%|██▌       | 23/88 [00:05<00:16,  4.00it/s]\u001b[A\n",
            " 74%|███████▍  | 51/69 [00:41<00:12,  1.39it/s]\n",
            " 28%|██▊       | 25/88 [00:06<00:17,  3.63it/s]\u001b[A\n",
            " 75%|███████▌  | 52/69 [00:42<00:12,  1.39it/s]\n",
            " 31%|███       | 27/88 [00:07<00:17,  3.51it/s]\u001b[A\n",
            " 77%|███████▋  | 53/69 [00:42<00:11,  1.43it/s]\n",
            " 33%|███▎      | 29/88 [00:07<00:18,  3.19it/s]\u001b[A\n",
            " 34%|███▍      | 30/88 [00:07<00:17,  3.34it/s]\u001b[A\n",
            " 78%|███████▊  | 54/69 [00:43<00:10,  1.44it/s]\n",
            " 36%|███▋      | 32/88 [00:08<00:16,  3.38it/s]\u001b[A\n",
            " 38%|███▊      | 33/88 [00:08<00:17,  3.12it/s]\u001b[A\n",
            " 80%|███████▉  | 55/69 [00:44<00:11,  1.25it/s]\n",
            " 40%|███▉      | 35/88 [00:09<00:19,  2.66it/s]\u001b[A\n",
            " 81%|████████  | 56/69 [00:45<00:10,  1.19it/s]\n",
            " 42%|████▏     | 37/88 [00:10<00:20,  2.53it/s]\u001b[A\n",
            " 43%|████▎     | 38/88 [00:10<00:18,  2.67it/s]\u001b[A\n",
            " 83%|████████▎ | 57/69 [00:46<00:10,  1.10it/s]\n",
            " 45%|████▌     | 40/88 [00:11<00:19,  2.41it/s]\u001b[A\n",
            " 84%|████████▍ | 58/69 [00:47<00:10,  1.05it/s]\n",
            " 48%|████▊     | 42/88 [00:12<00:19,  2.37it/s]\u001b[A\n",
            " 49%|████▉     | 43/88 [00:13<00:18,  2.48it/s]\u001b[A\n",
            " 86%|████████▌ | 59/69 [00:48<00:10,  1.00s/it]\n",
            " 51%|█████     | 45/88 [00:13<00:17,  2.49it/s]\u001b[A\n",
            " 52%|█████▏    | 46/88 [00:14<00:16,  2.51it/s]\u001b[A\n",
            " 87%|████████▋ | 60/69 [00:49<00:09,  1.03s/it]\n",
            " 55%|█████▍    | 48/88 [00:15<00:15,  2.60it/s]\u001b[A\n",
            " 88%|████████▊ | 61/69 [00:50<00:07,  1.03it/s]\n",
            " 57%|█████▋    | 50/88 [00:15<00:12,  3.14it/s]\u001b[A\n",
            " 58%|█████▊    | 51/88 [00:15<00:11,  3.28it/s]\u001b[A\n",
            " 90%|████████▉ | 62/69 [00:51<00:06,  1.13it/s]\n",
            " 60%|██████    | 53/88 [00:16<00:09,  3.67it/s]\u001b[A\n",
            " 61%|██████▏   | 54/88 [00:16<00:09,  3.65it/s]\u001b[A\n",
            " 91%|█████████▏| 63/69 [00:52<00:05,  1.20it/s]\n",
            " 64%|██████▎   | 56/88 [00:17<00:08,  3.83it/s]\u001b[A\n",
            " 93%|█████████▎| 64/69 [00:52<00:03,  1.25it/s]\n",
            " 66%|██████▌   | 58/88 [00:17<00:08,  3.62it/s]\u001b[A\n",
            " 67%|██████▋   | 59/88 [00:17<00:07,  3.84it/s]\u001b[A\n",
            " 94%|█████████▍| 65/69 [00:53<00:03,  1.27it/s]\n",
            " 69%|██████▉   | 61/88 [00:18<00:07,  3.77it/s]\u001b[A\n",
            " 70%|███████   | 62/88 [00:18<00:06,  3.76it/s]\u001b[A\n",
            " 96%|█████████▌| 66/69 [00:54<00:02,  1.30it/s]\n",
            " 73%|███████▎  | 64/88 [00:19<00:06,  3.66it/s]\u001b[A\n",
            " 74%|███████▍  | 65/88 [00:19<00:06,  3.82it/s]\u001b[A\n",
            " 97%|█████████▋| 67/69 [00:55<00:01,  1.30it/s]\n",
            " 76%|███████▌  | 67/88 [00:19<00:05,  3.85it/s]\u001b[A\n",
            " 99%|█████████▊| 68/69 [00:55<00:00,  1.34it/s]\n",
            "100%|██████████| 69/69 [00:56<00:00,  1.23it/s]\n",
            "\n",
            "  1%|          | 1/88 [00:00<00:18,  4.73it/s]\n",
            "  2%|▏         | 2/88 [00:00<00:20,  4.29it/s]\n",
            "  3%|▎         | 3/88 [00:00<00:18,  4.49it/s]\n",
            "  5%|▍         | 4/88 [00:00<00:19,  4.41it/s]\n",
            "  6%|▌         | 5/88 [00:01<00:18,  4.56it/s]\n",
            "  7%|▋         | 6/88 [00:01<00:19,  4.28it/s]\n",
            "  8%|▊         | 7/88 [00:01<00:20,  4.02it/s]\n",
            "  9%|▉         | 8/88 [00:01<00:20,  3.89it/s]\n",
            " 10%|█         | 9/88 [00:02<00:19,  4.03it/s]\n",
            " 90%|████████▉ | 79/88 [00:23<00:02,  4.20it/s]\u001b[A\n",
            " 11%|█▏        | 10/88 [00:02<00:20,  3.86it/s]\n",
            " 14%|█▎        | 12/88 [00:02<00:17,  4.34it/s]\n",
            " 15%|█▍        | 13/88 [00:03<00:17,  4.38it/s]\n",
            " 16%|█▌        | 14/88 [00:03<00:17,  4.24it/s]\n",
            " 17%|█▋        | 15/88 [00:03<00:17,  4.15it/s]\n",
            " 18%|█▊        | 16/88 [00:03<00:17,  4.13it/s]\n",
            " 19%|█▉        | 17/88 [00:04<00:17,  4.16it/s]\n",
            " 99%|█████████▉| 87/88 [00:25<00:00,  3.79it/s]\u001b[A\n",
            "100%|██████████| 88/88 [00:25<00:00,  3.49it/s]\n"
          ]
        },
        {
          "name": "stdout",
          "output_type": "stream",
          "text": [
            "loss 0.0261 - acc 0.9950 - val_loss 0.8189 - val_acc 0.7603\n",
            "Epoch [20/50]\n"
          ]
        },
        {
          "name": "stderr",
          "output_type": "stream",
          "text": [
            "\n",
            " 23%|██▎       | 20/88 [00:05<00:23,  2.87it/s]\n",
            " 26%|██▌       | 23/88 [00:06<00:24,  2.67it/s]\n",
            " 28%|██▊       | 25/88 [00:07<00:29,  2.14it/s]\n",
            " 32%|███▏      | 28/88 [00:08<00:23,  2.56it/s]\n",
            " 34%|███▍      | 30/88 [00:09<00:23,  2.51it/s]\n",
            " 38%|███▊      | 33/88 [00:10<00:21,  2.61it/s]\n",
            " 41%|████      | 36/88 [00:11<00:15,  3.29it/s]\n",
            " 44%|████▍     | 39/88 [00:12<00:12,  3.86it/s]\n",
            " 48%|████▊     | 42/88 [00:12<00:11,  3.92it/s]\n",
            " 51%|█████     | 45/88 [00:13<00:10,  4.22it/s]\n",
            " 55%|█████▍    | 48/88 [00:14<00:09,  4.21it/s]\n",
            " 58%|█████▊    | 51/88 [00:15<00:08,  4.17it/s]\n",
            " 60%|██████    | 53/88 [00:15<00:08,  4.00it/s]\n",
            " 64%|██████▎   | 56/88 [00:16<00:07,  4.05it/s]\n",
            " 67%|██████▋   | 59/88 [00:17<00:07,  3.99it/s]\n",
            " 70%|███████   | 62/88 [00:17<00:06,  4.16it/s]\n",
            " 73%|███████▎  | 64/88 [00:18<00:06,  3.95it/s]\n",
            " 76%|███████▌  | 67/88 [00:19<00:05,  3.75it/s]\n",
            " 80%|███████▉  | 70/88 [00:19<00:04,  3.99it/s]\n",
            " 83%|████████▎ | 73/88 [00:20<00:03,  4.01it/s]\n",
            " 86%|████████▋ | 76/88 [00:21<00:03,  3.02it/s]\n",
            " 90%|████████▉ | 79/88 [00:22<00:03,  2.58it/s]\n",
            " 93%|█████████▎| 82/88 [00:24<00:02,  2.66it/s]\n",
            " 97%|█████████▋| 85/88 [00:25<00:01,  2.75it/s]\n",
            "100%|██████████| 88/88 [00:26<00:00,  3.38it/s]\n"
          ]
        },
        {
          "name": "stdout",
          "output_type": "stream",
          "text": [
            "loss 0.3121 - acc 0.8867 - val_loss 0.5186 - val_acc 0.7417\n",
            "=> early stopping\n"
          ]
        },
        {
          "name": "stderr",
          "output_type": "stream",
          "text": [
            "  0%|          | 14/7318 [00:00<04:22, 27.85it/s]\n",
            "  1%|          | 50/7318 [00:01<03:10, 38.10it/s]\n",
            "  1%|          | 90/7318 [00:02<02:01, 59.49it/s]\n",
            "  2%|▏         | 131/7318 [00:02<02:02, 58.50it/s]\n",
            "  2%|▏         | 174/7318 [00:03<01:59, 59.89it/s]\n",
            "  3%|▎         | 211/7318 [00:04<01:48, 65.51it/s]\n",
            "  3%|▎         | 253/7318 [00:04<01:57, 60.07it/s]\n",
            "  4%|▍         | 296/7318 [00:05<01:49, 64.23it/s]\n",
            "  5%|▍         | 338/7318 [00:06<01:52, 62.08it/s]\n",
            "  5%|▌         | 380/7318 [00:07<02:05, 55.27it/s]\n",
            "  6%|▌         | 429/7318 [00:07<01:50, 62.21it/s]\n",
            "  6%|▋         | 472/7318 [00:08<01:48, 63.08it/s]\n",
            "  7%|▋         | 522/7318 [00:09<01:52, 60.41it/s]\n",
            "  8%|▊         | 557/7318 [00:10<01:46, 63.48it/s]\n",
            "  8%|▊         | 599/7318 [00:10<01:48, 61.73it/s]\n",
            "  9%|▉         | 649/7318 [00:11<02:02, 54.24it/s]\n",
            " 10%|▉         | 697/7318 [00:12<02:22, 46.60it/s]\n",
            " 10%|█         | 743/7318 [00:13<02:28, 44.33it/s]\n",
            " 11%|█         | 781/7318 [00:14<02:36, 41.71it/s]\n",
            " 11%|█▏        | 826/7318 [00:15<02:26, 44.27it/s]\n",
            " 12%|█▏        | 871/7318 [00:17<02:28, 43.47it/s]\n",
            " 12%|█▏        | 911/7318 [00:18<02:25, 43.91it/s]\n",
            " 13%|█▎        | 950/7318 [00:18<01:47, 59.17it/s]\n",
            " 14%|█▎        | 993/7318 [00:19<01:41, 62.53it/s]\n",
            " 14%|█▍        | 1028/7318 [00:20<02:03, 51.02it/s]\n",
            " 15%|█▍        | 1073/7318 [00:21<01:49, 57.08it/s]\n",
            " 15%|█▌        | 1113/7318 [00:21<01:41, 61.43it/s]\n",
            " 16%|█▌        | 1156/7318 [00:22<01:41, 60.57it/s]\n",
            " 16%|█▋        | 1198/7318 [00:23<01:39, 61.66it/s]\n",
            " 17%|█▋        | 1241/7318 [00:23<01:34, 64.24it/s]\n",
            " 18%|█▊        | 1283/7318 [00:24<01:37, 62.04it/s]\n",
            " 18%|█▊        | 1325/7318 [00:25<01:34, 63.45it/s]\n",
            " 19%|█▊        | 1368/7318 [00:26<01:32, 64.30it/s]\n",
            " 19%|█▉        | 1402/7318 [00:26<01:37, 60.79it/s]\n",
            " 20%|█▉        | 1452/7318 [00:27<01:33, 62.48it/s]\n",
            " 20%|██        | 1500/7318 [00:28<02:08, 45.13it/s]\n",
            " 21%|██        | 1545/7318 [00:29<02:16, 42.20it/s]\n",
            " 22%|██▏       | 1591/7318 [00:30<02:05, 45.72it/s]\n",
            " 22%|██▏       | 1637/7318 [00:31<02:15, 42.02it/s]\n",
            " 23%|██▎       | 1682/7318 [00:32<02:14, 41.86it/s]\n",
            " 24%|██▎       | 1727/7318 [00:33<02:10, 42.82it/s]\n",
            " 24%|██▍       | 1764/7318 [00:34<01:48, 51.32it/s]\n",
            " 25%|██▍       | 1806/7318 [00:35<01:31, 60.20it/s]\n",
            " 25%|██▌       | 1848/7318 [00:36<01:26, 62.92it/s]\n",
            " 26%|██▌       | 1878/7318 [00:36<01:26, 62.77it/s]\n",
            "100%|██████████| 69/69 [00:58<00:00,  1.18it/s]\n",
            "\n",
            " 26%|██▌       | 1893/7318 [00:36<01:30, 59.62it/s]\n",
            " 26%|██▌       | 1907/7318 [00:37<01:28, 61.35it/s]\n",
            " 26%|██▋       | 1922/7318 [00:37<01:22, 65.40it/s]\n",
            " 27%|██▋       | 1944/7318 [00:37<01:18, 68.19it/s]\n",
            " 27%|██▋       | 1958/7318 [00:37<01:22, 65.12it/s]\n",
            " 27%|██▋       | 1973/7318 [00:38<01:23, 63.97it/s]\n",
            " 27%|██▋       | 1987/7318 [00:38<01:21, 65.41it/s]\n",
            " 27%|██▋       | 2001/7318 [00:38<01:24, 62.81it/s]\n",
            " 28%|██▊       | 2016/7318 [00:38<01:22, 64.31it/s]\n",
            " 28%|██▊       | 2040/7318 [00:39<01:18, 67.43it/s]\n",
            " 28%|██▊       | 2055/7318 [00:39<01:18, 66.92it/s]\n",
            " 28%|██▊       | 2070/7318 [00:39<01:17, 67.73it/s]\n",
            " 28%|██▊       | 2084/7318 [00:39<01:22, 63.46it/s]\n",
            " 29%|██▊       | 2098/7318 [00:40<01:23, 62.86it/s]\n",
            " 29%|██▉       | 2113/7318 [00:40<01:22, 63.31it/s]\n",
            " 29%|██▉       | 2120/7318 [00:40<01:26, 59.95it/s]\n",
            " 29%|██▉       | 2141/7318 [00:40<01:33, 55.62it/s]\n",
            " 29%|██▉       | 2155/7318 [00:41<01:26, 59.90it/s]\n",
            " 30%|██▉       | 2169/7318 [00:41<01:24, 61.23it/s]\n",
            " 30%|██▉       | 2183/7318 [00:41<01:23, 61.51it/s]\n",
            " 30%|███       | 2198/7318 [00:41<01:23, 61.50it/s]\n",
            " 30%|███       | 2212/7318 [00:42<01:24, 60.14it/s]\n",
            " 30%|███       | 2226/7318 [00:42<01:26, 58.98it/s]\n",
            " 31%|███       | 2245/7318 [00:42<01:24, 60.27it/s]\n",
            " 31%|███       | 2259/7318 [00:42<01:27, 57.89it/s]\n",
            " 31%|███       | 2273/7318 [00:43<01:24, 59.94it/s]\n",
            " 31%|███▏      | 2287/7318 [00:43<01:26, 58.25it/s]\n",
            " 31%|███▏      | 2301/7318 [00:43<01:24, 59.68it/s]\n",
            " 32%|███▏      | 2323/7318 [00:43<01:18, 63.81it/s]\n",
            " 32%|███▏      | 2345/7318 [00:44<01:18, 63.55it/s]\n",
            " 32%|███▏      | 2365/7318 [00:44<01:29, 55.39it/s]\n",
            " 32%|███▏      | 2377/7318 [00:45<01:43, 47.83it/s]\n",
            " 33%|███▎      | 2397/7318 [00:45<01:55, 42.49it/s]\n",
            " 33%|███▎      | 2412/7318 [00:45<02:00, 40.74it/s]\n",
            " 33%|███▎      | 2428/7318 [00:46<01:59, 41.02it/s]\n",
            " 33%|███▎      | 2443/7318 [00:46<01:57, 41.62it/s]\n",
            " 34%|███▎      | 2462/7318 [00:47<02:04, 38.90it/s]\n",
            " 34%|███▍      | 2474/7318 [00:47<02:10, 37.25it/s]\n",
            " 34%|███▍      | 2488/7318 [00:47<02:02, 39.59it/s]\n",
            " 34%|███▍      | 2504/7318 [00:48<02:06, 38.13it/s]\n",
            " 34%|███▍      | 2522/7318 [00:48<02:01, 39.53it/s]\n",
            " 35%|███▍      | 2539/7318 [00:49<02:09, 36.82it/s]\n",
            " 35%|███▍      | 2550/7318 [00:49<01:56, 40.94it/s]\n",
            " 35%|███▌      | 2565/7318 [00:49<01:55, 41.02it/s]\n",
            " 35%|███▌      | 2580/7318 [00:50<01:55, 41.10it/s]\n",
            " 36%|███▌      | 2600/7318 [00:50<01:52, 41.77it/s]\n",
            " 36%|███▌      | 2622/7318 [00:51<01:31, 51.34it/s]\n",
            " 36%|███▌      | 2633/7318 [00:51<01:52, 41.75it/s]\n",
            " 36%|███▌      | 2652/7318 [00:51<01:30, 51.75it/s]\n",
            " 36%|███▋      | 2665/7318 [00:52<01:24, 55.31it/s]\n",
            " 37%|███▋      | 2678/7318 [00:52<01:20, 57.44it/s]\n",
            " 37%|███▋      | 2698/7318 [00:52<01:18, 59.14it/s]\n",
            " 37%|███▋      | 2711/7318 [00:52<01:15, 61.04it/s]\n",
            " 37%|███▋      | 2725/7318 [00:53<01:17, 59.56it/s]\n",
            " 37%|███▋      | 2739/7318 [00:53<01:16, 59.95it/s]\n",
            " 38%|███▊      | 2761/7318 [00:53<01:13, 62.41it/s]\n",
            " 38%|███▊      | 2768/7318 [00:53<01:20, 56.82it/s]\n",
            " 38%|███▊      | 2782/7318 [00:53<01:15, 59.73it/s]\n",
            " 38%|███▊      | 2796/7318 [00:54<01:13, 61.27it/s]\n",
            " 38%|███▊      | 2809/7318 [00:54<01:19, 56.95it/s]\n",
            " 39%|███▊      | 2830/7318 [00:54<01:12, 61.93it/s]\n",
            " 39%|███▉      | 2844/7318 [00:55<01:11, 62.24it/s]\n",
            " 39%|███▉      | 2857/7318 [00:55<01:17, 57.38it/s]\n",
            " 39%|███▉      | 2875/7318 [00:55<01:25, 51.69it/s]\n",
            " 39%|███▉      | 2888/7318 [00:55<01:19, 55.87it/s]\n",
            " 40%|███▉      | 2901/7318 [00:56<01:16, 58.03it/s]\n",
            " 40%|███▉      | 2914/7318 [00:56<01:15, 57.95it/s]\n",
            " 40%|████      | 2934/7318 [00:56<01:13, 59.92it/s]\n",
            " 40%|████      | 2941/7318 [00:56<01:16, 57.13it/s]\n",
            " 40%|████      | 2960/7318 [00:57<01:14, 58.19it/s]\n",
            " 41%|████      | 2973/7318 [00:57<01:13, 58.77it/s]\n",
            " 41%|████      | 2993/7318 [00:57<01:11, 60.91it/s]\n",
            " 41%|████      | 3014/7318 [00:58<01:09, 62.13it/s]\n",
            " 41%|████▏     | 3029/7318 [00:58<01:07, 63.74it/s]\n",
            " 42%|████▏     | 3044/7318 [00:58<01:05, 64.78it/s]\n",
            " 42%|████▏     | 3058/7318 [00:58<01:08, 61.93it/s]\n",
            " 42%|████▏     | 3073/7318 [00:58<01:06, 63.66it/s]\n",
            " 42%|████▏     | 3088/7318 [00:59<01:06, 63.50it/s]\n",
            " 42%|████▏     | 3103/7318 [00:59<01:05, 63.93it/s]\n",
            " 43%|████▎     | 3117/7318 [00:59<01:07, 62.03it/s]\n",
            " 43%|████▎     | 3124/7318 [00:59<01:11, 58.26it/s]\n",
            " 43%|████▎     | 3145/7318 [01:00<01:06, 62.96it/s]\n",
            " 43%|████▎     | 3159/7318 [01:00<01:05, 63.75it/s]\n",
            " 43%|████▎     | 3173/7318 [01:00<01:08, 60.63it/s]\n",
            " 44%|████▎     | 3194/7318 [01:00<01:05, 62.80it/s]\n",
            " 44%|████▍     | 3208/7318 [01:01<01:08, 59.69it/s]\n",
            " 44%|████▍     | 3222/7318 [01:01<01:06, 61.15it/s]\n",
            " 44%|████▍     | 3229/7318 [01:01<01:10, 57.83it/s]\n",
            "100%|██████████| 88/88 [00:24<00:00,  3.54it/s]\n"
          ]
        },
        {
          "name": "stdout",
          "output_type": "stream",
          "text": [
            "loss 0.0220 - acc 0.9966 - val_loss 0.8074 - val_acc 0.7607\n",
            "Epoch [21/50]\n"
          ]
        },
        {
          "name": "stderr",
          "output_type": "stream",
          "text": [
            "\n",
            " 45%|████▍     | 3271/7318 [01:02<01:42, 39.29it/s]\n",
            " 45%|████▌     | 3314/7318 [01:03<01:49, 36.48it/s]\n",
            " 46%|████▌     | 3347/7318 [01:04<01:44, 37.99it/s]\n",
            " 46%|████▋     | 3389/7318 [01:05<01:38, 39.85it/s]\n",
            " 47%|████▋     | 3433/7318 [01:07<01:36, 40.31it/s]\n",
            " 48%|████▊     | 3478/7318 [01:08<01:28, 43.21it/s]\n",
            " 48%|████▊     | 3518/7318 [01:08<01:04, 59.03it/s]\n",
            " 49%|████▉     | 3569/7318 [01:09<01:01, 61.14it/s]\n",
            " 49%|████▉     | 3606/7318 [01:10<00:56, 65.34it/s]\n",
            " 50%|████▉     | 3658/7318 [01:11<00:59, 61.38it/s]\n",
            " 50%|█████     | 3693/7318 [01:11<01:01, 59.30it/s]\n",
            " 51%|█████     | 3733/7318 [01:12<00:59, 60.55it/s]\n",
            " 52%|█████▏    | 3782/7318 [01:13<00:54, 64.61it/s]\n",
            " 52%|█████▏    | 3818/7318 [01:13<00:56, 62.37it/s]\n",
            " 53%|█████▎    | 3860/7318 [01:14<00:54, 63.18it/s]\n",
            " 53%|█████▎    | 3899/7318 [01:15<00:56, 60.16it/s]\n",
            " 54%|█████▍    | 3941/7318 [01:15<00:53, 63.36it/s]\n",
            " 54%|█████▍    | 3983/7318 [01:16<00:52, 64.11it/s]\n",
            " 55%|█████▌    | 4025/7318 [01:17<00:52, 62.26it/s]\n",
            " 56%|█████▌    | 4067/7318 [01:18<00:56, 57.30it/s]\n",
            " 56%|█████▌    | 4113/7318 [01:19<01:12, 44.29it/s]\n",
            " 57%|█████▋    | 4166/7318 [01:20<01:15, 41.82it/s]\n",
            " 58%|█████▊    | 4213/7318 [01:21<01:09, 44.80it/s]\n",
            " 58%|█████▊    | 4258/7318 [01:22<01:09, 43.83it/s]\n",
            " 59%|█████▉    | 4303/7318 [01:23<01:06, 45.34it/s]\n",
            " 59%|█████▉    | 4348/7318 [01:24<00:55, 53.54it/s]\n",
            " 60%|█████▉    | 4390/7318 [01:25<00:51, 56.69it/s]\n",
            " 61%|██████    | 4432/7318 [01:26<00:45, 63.97it/s]\n",
            " 61%|██████    | 4475/7318 [01:27<00:44, 63.20it/s]\n",
            " 62%|██████▏   | 4509/7318 [01:27<00:50, 55.58it/s]\n",
            " 62%|██████▏   | 4549/7318 [01:28<00:45, 61.35it/s]\n",
            " 63%|██████▎   | 4587/7318 [01:29<00:43, 62.21it/s]\n",
            " 63%|██████▎   | 4630/7318 [01:29<00:42, 63.86it/s]\n",
            " 64%|██████▍   | 4680/7318 [01:30<00:40, 65.56it/s]\n",
            " 65%|██████▍   | 4722/7318 [01:31<00:41, 63.14it/s]\n",
            " 65%|██████▌   | 4764/7318 [01:31<00:40, 62.84it/s]\n",
            " 66%|██████▌   | 4806/7318 [01:32<00:42, 58.99it/s]\n",
            " 66%|██████▌   | 4847/7318 [01:33<00:38, 64.44it/s]\n",
            " 67%|██████▋   | 4890/7318 [01:34<00:36, 66.25it/s]\n",
            " 67%|██████▋   | 4929/7318 [01:34<00:46, 50.98it/s]\n",
            " 68%|██████▊   | 4970/7318 [01:35<01:00, 38.93it/s]\n",
            " 68%|██████▊   | 5012/7318 [01:37<00:53, 43.08it/s]\n",
            " 69%|██████▉   | 5058/7318 [01:38<00:51, 43.83it/s]\n",
            " 70%|██████▉   | 5104/7318 [01:39<00:48, 45.47it/s]\n",
            " 70%|███████   | 5149/7318 [01:40<00:50, 43.21it/s]\n",
            " 71%|███████   | 5184/7318 [01:41<00:51, 41.72it/s]\n",
            " 71%|███████▏  | 5222/7318 [01:41<00:38, 54.51it/s]\n",
            " 72%|███████▏  | 5264/7318 [01:42<00:32, 63.60it/s]\n",
            " 72%|███████▏  | 5303/7318 [01:43<00:33, 60.02it/s]\n",
            " 73%|███████▎  | 5345/7318 [01:44<00:33, 59.28it/s]\n",
            " 74%|███████▎  | 5389/7318 [01:44<00:30, 63.33it/s]\n",
            " 74%|███████▍  | 5431/7318 [01:45<00:30, 61.13it/s]\n",
            " 75%|███████▍  | 5467/7318 [01:46<00:30, 61.16it/s]\n",
            " 75%|███████▌  | 5508/7318 [01:46<00:29, 61.95it/s]\n",
            " 76%|███████▌  | 5550/7318 [01:47<00:29, 59.85it/s]\n",
            " 76%|███████▋  | 5590/7318 [01:48<00:28, 61.51it/s]\n",
            " 77%|███████▋  | 5633/7318 [01:49<00:25, 65.49it/s]\n",
            " 78%|███████▊  | 5674/7318 [01:49<00:28, 58.37it/s]\n",
            " 78%|███████▊  | 5718/7318 [01:50<00:24, 64.10it/s]\n",
            " 79%|███████▊  | 5762/7318 [01:51<00:26, 57.67it/s]\n",
            " 79%|███████▉  | 5815/7318 [01:52<00:32, 46.41it/s]\n",
            " 80%|████████  | 5857/7318 [01:53<00:41, 35.13it/s]\n",
            " 81%|████████  | 5912/7318 [01:54<00:30, 45.98it/s]\n",
            " 81%|████████▏ | 5955/7318 [01:56<00:36, 37.57it/s]\n",
            " 82%|████████▏ | 5999/7318 [01:57<00:30, 42.59it/s]\n",
            " 82%|████████▏ | 6035/7318 [01:58<00:25, 50.31it/s]\n",
            " 83%|████████▎ | 6074/7318 [01:58<00:20, 59.56it/s]\n",
            " 84%|████████▎ | 6115/7318 [01:59<00:19, 61.23it/s]\n",
            " 84%|████████▍ | 6144/7318 [01:59<00:20, 58.37it/s]\n",
            "100%|██████████| 69/69 [00:58<00:00,  1.18it/s]\n",
            "\n",
            " 84%|████████▍ | 6159/7318 [02:00<00:19, 58.45it/s]\n",
            " 84%|████████▍ | 6181/7318 [02:00<00:17, 64.96it/s]\n",
            " 85%|████████▍ | 6196/7318 [02:00<00:16, 68.04it/s]\n",
            " 85%|████████▍ | 6210/7318 [02:01<00:17, 63.62it/s]\n",
            " 85%|████████▌ | 6231/7318 [02:01<00:16, 66.45it/s]\n",
            " 85%|████████▌ | 6245/7318 [02:01<00:17, 62.69it/s]\n",
            " 86%|████████▌ | 6260/7318 [02:01<00:16, 63.91it/s]\n",
            " 86%|████████▌ | 6275/7318 [02:02<00:15, 66.13it/s]\n",
            " 86%|████████▌ | 6290/7318 [02:02<00:15, 65.01it/s]\n",
            " 86%|████████▌ | 6311/7318 [02:02<00:15, 65.26it/s]\n",
            " 86%|████████▋ | 6326/7318 [02:02<00:14, 66.61it/s]\n",
            " 87%|████████▋ | 6340/7318 [02:03<00:16, 61.06it/s]\n",
            " 87%|████████▋ | 6355/7318 [02:03<00:14, 64.21it/s]\n",
            " 87%|████████▋ | 6370/7318 [02:03<00:14, 65.81it/s]\n",
            " 87%|████████▋ | 6393/7318 [02:03<00:14, 65.39it/s]\n",
            " 88%|████████▊ | 6408/7318 [02:04<00:13, 66.69it/s]\n",
            " 88%|████████▊ | 6422/7318 [02:04<00:13, 64.23it/s]\n",
            " 88%|████████▊ | 6437/7318 [02:04<00:14, 62.53it/s]\n",
            " 88%|████████▊ | 6451/7318 [02:04<00:14, 61.83it/s]\n",
            " 88%|████████▊ | 6473/7318 [02:05<00:13, 63.18it/s]\n",
            " 89%|████████▊ | 6487/7318 [02:05<00:13, 61.71it/s]\n",
            " 89%|████████▉ | 6501/7318 [02:05<00:13, 60.93it/s]\n",
            " 89%|████████▉ | 6516/7318 [02:05<00:12, 64.36it/s]\n",
            " 89%|████████▉ | 6530/7318 [02:06<00:12, 63.88it/s]\n",
            " 90%|████████▉ | 6551/7318 [02:06<00:11, 64.87it/s]\n",
            " 90%|████████▉ | 6565/7318 [02:06<00:11, 64.25it/s]\n",
            " 90%|████████▉ | 6579/7318 [02:06<00:11, 62.37it/s]\n",
            " 90%|█████████ | 6593/7318 [02:07<00:11, 62.33it/s]\n",
            " 90%|█████████ | 6622/7318 [02:07<00:10, 64.74it/s]\n",
            " 91%|█████████ | 6636/7318 [02:07<00:13, 51.08it/s]\n",
            " 91%|█████████ | 6648/7318 [02:08<00:13, 50.28it/s]\n",
            " 91%|█████████ | 6664/7318 [02:08<00:15, 42.76it/s]\n",
            " 91%|█████████▏| 6679/7318 [02:08<00:15, 40.99it/s]\n",
            " 92%|█████████▏| 6698/7318 [02:09<00:15, 40.10it/s]\n",
            " 92%|█████████▏| 6713/7318 [02:09<00:14, 40.83it/s]\n",
            " 92%|█████████▏| 6733/7318 [02:10<00:14, 41.31it/s]\n",
            " 92%|█████████▏| 6748/7318 [02:10<00:13, 41.89it/s]\n",
            " 92%|█████████▏| 6765/7318 [02:11<00:12, 45.61it/s]\n",
            " 93%|█████████▎| 6780/7318 [02:11<00:12, 42.52it/s]\n",
            " 93%|█████████▎| 6800/7318 [02:11<00:12, 41.49it/s]\n",
            " 93%|█████████▎| 6815/7318 [02:12<00:12, 40.32it/s]\n",
            " 93%|█████████▎| 6830/7318 [02:12<00:12, 40.08it/s]\n",
            " 94%|█████████▎| 6845/7318 [02:13<00:11, 39.81it/s]\n",
            " 94%|█████████▍| 6864/7318 [02:13<00:11, 39.97it/s]\n",
            " 94%|█████████▍| 6880/7318 [02:13<00:10, 42.73it/s]\n",
            " 94%|█████████▍| 6895/7318 [02:14<00:10, 41.10it/s]\n",
            " 94%|█████████▍| 6910/7318 [02:14<00:10, 40.58it/s]\n",
            " 95%|█████████▍| 6922/7318 [02:14<00:08, 46.10it/s]\n",
            " 95%|█████████▍| 6941/7318 [02:15<00:06, 55.88it/s]\n",
            " 95%|█████████▌| 6954/7318 [02:15<00:06, 57.84it/s]\n",
            " 95%|█████████▌| 6967/7318 [02:15<00:06, 57.47it/s]\n",
            " 95%|█████████▌| 6982/7318 [02:15<00:05, 61.77it/s]\n",
            " 96%|█████████▌| 7003/7318 [02:16<00:05, 61.49it/s]\n",
            " 96%|█████████▌| 7017/7318 [02:16<00:04, 61.80it/s]\n",
            " 96%|█████████▌| 7031/7318 [02:16<00:04, 58.79it/s]\n",
            " 96%|█████████▋| 7045/7318 [02:17<00:04, 56.53it/s]\n",
            " 96%|█████████▋| 7058/7318 [02:17<00:04, 57.58it/s]\n",
            " 97%|█████████▋| 7071/7318 [02:17<00:04, 56.93it/s]\n",
            " 97%|█████████▋| 7084/7318 [02:17<00:03, 59.62it/s]\n",
            " 97%|█████████▋| 7098/7318 [02:17<00:03, 58.70it/s]\n",
            " 97%|█████████▋| 7118/7318 [02:18<00:03, 59.44it/s]\n",
            " 97%|█████████▋| 7132/7318 [02:18<00:02, 62.05it/s]\n",
            " 98%|█████████▊| 7146/7318 [02:18<00:02, 61.24it/s]\n",
            " 98%|█████████▊| 7167/7318 [02:19<00:02, 62.13it/s]\n",
            " 98%|█████████▊| 7181/7318 [02:19<00:02, 61.42it/s]\n",
            " 98%|█████████▊| 7195/7318 [02:19<00:02, 61.07it/s]\n",
            " 99%|█████████▊| 7209/7318 [02:19<00:01, 62.43it/s]\n",
            " 99%|█████████▉| 7230/7318 [02:20<00:01, 59.88it/s]\n",
            " 99%|█████████▉| 7244/7318 [02:20<00:01, 60.90it/s]\n",
            " 99%|█████████▉| 7265/7318 [02:20<00:00, 62.56it/s]\n",
            " 99%|█████████▉| 7279/7318 [02:21<00:00, 60.34it/s]\n",
            "100%|█████████▉| 7300/7318 [02:21<00:00, 62.47it/s]\n",
            "100%|█████████▉| 7314/7318 [02:21<00:00, 62.69it/s]\n",
            "100%|██████████| 7318/7318 [02:21<00:00, 51.66it/s]\n",
            "\n",
            " 84%|████████▍ | 74/88 [00:21<00:03,  3.96it/s]\u001b[A\n",
            " 85%|████████▌ | 75/88 [00:21<00:02,  4.55it/s]\u001b[A\n",
            " 86%|████████▋ | 76/88 [00:22<00:02,  4.99it/s]\u001b[A\n",
            " 88%|████████▊ | 77/88 [00:22<00:02,  5.33it/s]\u001b[A\n",
            " 89%|████████▊ | 78/88 [00:22<00:01,  5.55it/s]\u001b[A\n",
            " 90%|████████▉ | 79/88 [00:22<00:01,  5.20it/s]\u001b[A\n",
            " 91%|█████████ | 80/88 [00:22<00:01,  5.03it/s]\u001b[A\n",
            " 92%|█████████▏| 81/88 [00:22<00:01,  4.95it/s]\u001b[A\n",
            " 93%|█████████▎| 82/88 [00:23<00:01,  4.91it/s]\u001b[A\n",
            " 94%|█████████▍| 83/88 [00:23<00:00,  5.22it/s]\u001b[A\n",
            " 95%|█████████▌| 84/88 [00:23<00:00,  5.43it/s]\u001b[A"
          ]
        },
        {
          "data": {
            "application/vnd.jupyter.widget-view+json": {
              "model_id": "d9b246d1911a4c6cba0d8221733d217d",
              "version_major": 2,
              "version_minor": 0
            },
            "text/plain": [
              "VBox(children=(Label(value='0.001 MB of 0.011 MB uploaded\\r'), FloatProgress(value=0.10760203641384071, max=1.…"
            ]
          },
          "metadata": {},
          "output_type": "display_data"
        },
        {
          "name": "stderr",
          "output_type": "stream",
          "text": [
            "\n",
            " 97%|█████████▋| 85/88 [00:23<00:00,  5.22it/s]\u001b[A\n",
            " 98%|█████████▊| 86/88 [00:23<00:00,  5.46it/s]\u001b[A\n",
            "100%|██████████| 88/88 [00:24<00:00,  3.65it/s]\n"
          ]
        },
        {
          "name": "stdout",
          "output_type": "stream",
          "text": [
            "loss 0.0216 - acc 0.9947 - val_loss 0.8526 - val_acc 0.7574\n",
            "Epoch [22/50]\n"
          ]
        },
        {
          "name": "stderr",
          "output_type": "stream",
          "text": [
            "  1%|▏         | 1/69 [00:00<00:31,  2.18it/s]"
          ]
        },
        {
          "data": {
            "text/html": [
              "<style>\n",
              "    table.wandb td:nth-child(1) { padding: 0 10px; text-align: left ; width: auto;} td:nth-child(2) {text-align: left ; width: 100%}\n",
              "    .wandb-row { display: flex; flex-direction: row; flex-wrap: wrap; justify-content: flex-start; width: 100% }\n",
              "    .wandb-col { display: flex; flex-direction: column; flex-basis: 100%; flex: 1; padding: 10px; }\n",
              "    </style>\n",
              "<div class=\"wandb-row\"><div class=\"wandb-col\"><h3>Run history:</h3><br/><table class=\"wandb\"><tr><td>train_acc</td><td>▄▁▄▂▄▄▄▅▄▆▄▆▄▆▄▆▄▇▄▇▄▇▅▇▅▇▅▇▅█▅█▅█▅█▅█▅█</td></tr><tr><td>train_loss</td><td>▅█▅▇▅▅▅▄▅▃▅▃▅▃▅▂▅▂▅▂▅▂▄▂▄▂▄▂▄▁▄▁▄▁▄▁▄▁▄▁</td></tr><tr><td>val_acc</td><td>▂▁▃▆▁▇▅▇▇▇▁▆▆█▂▇▆▆▆▇▆▇▆▇▆▅▆▇▆▇▆▇▆▇▆▇▆▇▇▇</td></tr><tr><td>val_loss</td><td>▂▄▃▂▇▃▂▂▂▄▄▃▃▃▄▃▁▄▁▃▁▄▁▄▁█▁▃▂▃▂▄▁▄▂▄▁▄▁▄</td></tr></table><br/></div><div class=\"wandb-col\"><h3>Run summary:</h3><br/><table class=\"wandb\"><tr><td>test_acc</td><td>acc</td></tr><tr><td>test_loss</td><td>loss</td></tr><tr><td>train_acc</td><td>0.99657</td></tr><tr><td>train_loss</td><td>0.02198</td></tr><tr><td>val_acc</td><td>0.76066</td></tr><tr><td>val_loss</td><td>0.80737</td></tr></table><br/></div></div>"
            ],
            "text/plain": [
              "<IPython.core.display.HTML object>"
            ]
          },
          "metadata": {},
          "output_type": "display_data"
        },
        {
          "data": {
            "text/html": [
              " View run <strong style=\"color:#cdcd00\">mild-sweep-1</strong> at: <a href='https://wandb.ai/bounteam/CMPE49T/runs/nxssyfn6' target=\"_blank\">https://wandb.ai/bounteam/CMPE49T/runs/nxssyfn6</a><br/>Synced 4 W&B file(s), 0 media file(s), 0 artifact file(s) and 0 other file(s)"
            ],
            "text/plain": [
              "<IPython.core.display.HTML object>"
            ]
          },
          "metadata": {},
          "output_type": "display_data"
        },
        {
          "data": {
            "text/html": [
              "Find logs at: <code>./wandb/run-20231207_112743-nxssyfn6/logs</code>"
            ],
            "text/plain": [
              "<IPython.core.display.HTML object>"
            ]
          },
          "metadata": {},
          "output_type": "display_data"
        },
        {
          "name": "stderr",
          "output_type": "stream",
          "text": [
            "100%|██████████| 69/69 [00:34<00:00,  2.02it/s]\n",
            "100%|██████████| 88/88 [00:14<00:00,  6.00it/s]\n",
            "\u001b[34m\u001b[1mwandb\u001b[0m: \u001b[32m\u001b[41mERROR\u001b[0m Run nxssyfn6 errored: Error('You must call wandb.init() before wandb.log()')\n"
          ]
        },
        {
          "name": "stdout",
          "output_type": "stream",
          "text": [
            "loss 0.0185 - acc 0.9977 - val_loss 0.8190 - val_acc 0.7564\n"
          ]
        },
        {
          "name": "stderr",
          "output_type": "stream",
          "text": [
            "\u001b[34m\u001b[1mwandb\u001b[0m: Agent Starting Run: lznr3pzi with config:\n",
            "\u001b[34m\u001b[1mwandb\u001b[0m: \tactivation: leaky_relu\n",
            "\u001b[34m\u001b[1mwandb\u001b[0m: \tdrop_rate: 0.7936483813027613\n",
            "\u001b[34m\u001b[1mwandb\u001b[0m: \tl2_reg: 0.020742987475364596\n",
            "\u001b[34m\u001b[1mwandb\u001b[0m: \tlearning_rate: 0.0814385274884265\n",
            "\u001b[34m\u001b[1mwandb\u001b[0m: \toptimizer: SGD\n"
          ]
        },
        {
          "data": {
            "text/html": [
              "Tracking run with wandb version 0.16.1"
            ],
            "text/plain": [
              "<IPython.core.display.HTML object>"
            ]
          },
          "metadata": {},
          "output_type": "display_data"
        },
        {
          "data": {
            "text/html": [
              "Run data is saved locally in <code>/content/wandb/run-20231207_115726-lznr3pzi</code>"
            ],
            "text/plain": [
              "<IPython.core.display.HTML object>"
            ]
          },
          "metadata": {},
          "output_type": "display_data"
        },
        {
          "data": {
            "text/html": [
              "Syncing run <strong><a href='https://wandb.ai/bounteam/CMPE49T/runs/lznr3pzi' target=\"_blank\">twilight-sweep-2</a></strong> to <a href='https://wandb.ai/bounteam/CMPE49T' target=\"_blank\">Weights & Biases</a> (<a href='https://wandb.me/run' target=\"_blank\">docs</a>)<br/>Sweep page: <a href='https://wandb.ai/bounteam/CMPE49T/sweeps/m0v9l18v' target=\"_blank\">https://wandb.ai/bounteam/CMPE49T/sweeps/m0v9l18v</a>"
            ],
            "text/plain": [
              "<IPython.core.display.HTML object>"
            ]
          },
          "metadata": {},
          "output_type": "display_data"
        },
        {
          "data": {
            "text/html": [
              " View project at <a href='https://wandb.ai/bounteam/CMPE49T' target=\"_blank\">https://wandb.ai/bounteam/CMPE49T</a>"
            ],
            "text/plain": [
              "<IPython.core.display.HTML object>"
            ]
          },
          "metadata": {},
          "output_type": "display_data"
        },
        {
          "data": {
            "text/html": [
              " View sweep at <a href='https://wandb.ai/bounteam/CMPE49T/sweeps/m0v9l18v' target=\"_blank\">https://wandb.ai/bounteam/CMPE49T/sweeps/m0v9l18v</a>"
            ],
            "text/plain": [
              "<IPython.core.display.HTML object>"
            ]
          },
          "metadata": {},
          "output_type": "display_data"
        },
        {
          "data": {
            "text/html": [
              " View run at <a href='https://wandb.ai/bounteam/CMPE49T/runs/lznr3pzi' target=\"_blank\">https://wandb.ai/bounteam/CMPE49T/runs/lznr3pzi</a>"
            ],
            "text/plain": [
              "<IPython.core.display.HTML object>"
            ]
          },
          "metadata": {},
          "output_type": "display_data"
        },
        {
          "name": "stdout",
          "output_type": "stream",
          "text": [
            "Epoch [1/50]\n"
          ]
        },
        {
          "name": "stderr",
          "output_type": "stream",
          "text": [
            "100%|██████████| 69/69 [00:33<00:00,  2.03it/s]\n",
            "100%|██████████| 88/88 [00:15<00:00,  5.75it/s]\n"
          ]
        },
        {
          "name": "stdout",
          "output_type": "stream",
          "text": [
            "loss 0.8705 - acc 0.6598 - val_loss 0.6759 - val_acc 0.6621\n",
            "=> saved best model\n",
            "Epoch [2/50]\n"
          ]
        },
        {
          "name": "stderr",
          "output_type": "stream",
          "text": [
            "100%|██████████| 69/69 [00:33<00:00,  2.04it/s]\n",
            "100%|██████████| 88/88 [00:15<00:00,  5.80it/s]\n"
          ]
        },
        {
          "name": "stdout",
          "output_type": "stream",
          "text": [
            "loss 0.5133 - acc 0.7626 - val_loss 0.6550 - val_acc 0.6883\n",
            "=> saved best model\n",
            "Epoch [3/50]\n"
          ]
        },
        {
          "name": "stderr",
          "output_type": "stream",
          "text": [
            "100%|██████████| 69/69 [00:33<00:00,  2.04it/s]\n",
            "100%|██████████| 88/88 [00:15<00:00,  5.73it/s]\n"
          ]
        },
        {
          "name": "stdout",
          "output_type": "stream",
          "text": [
            "loss 0.4232 - acc 0.8129 - val_loss 0.5342 - val_acc 0.7510\n",
            "=> saved best model\n",
            "Epoch [4/50]\n"
          ]
        },
        {
          "name": "stderr",
          "output_type": "stream",
          "text": [
            "100%|██████████| 69/69 [00:33<00:00,  2.05it/s]\n",
            "100%|██████████| 88/88 [00:15<00:00,  5.83it/s]\n"
          ]
        },
        {
          "name": "stdout",
          "output_type": "stream",
          "text": [
            "loss 0.3624 - acc 0.8467 - val_loss 0.5763 - val_acc 0.7324\n",
            "Epoch [5/50]\n"
          ]
        },
        {
          "name": "stderr",
          "output_type": "stream",
          "text": [
            "100%|██████████| 69/69 [00:33<00:00,  2.05it/s]\n",
            "100%|██████████| 88/88 [00:15<00:00,  5.81it/s]\n"
          ]
        },
        {
          "name": "stdout",
          "output_type": "stream",
          "text": [
            "loss 0.3218 - acc 0.8727 - val_loss 0.6826 - val_acc 0.7241\n",
            "Epoch [6/50]\n"
          ]
        },
        {
          "name": "stderr",
          "output_type": "stream",
          "text": [
            "100%|██████████| 69/69 [00:33<00:00,  2.05it/s]\n",
            "100%|██████████| 88/88 [00:15<00:00,  5.79it/s]\n"
          ]
        },
        {
          "name": "stdout",
          "output_type": "stream",
          "text": [
            "loss 0.2902 - acc 0.8871 - val_loss 0.7341 - val_acc 0.7073\n",
            "Epoch [7/50]\n"
          ]
        },
        {
          "name": "stderr",
          "output_type": "stream",
          "text": [
            "100%|██████████| 69/69 [00:33<00:00,  2.04it/s]\n",
            "100%|██████████| 88/88 [00:15<00:00,  5.75it/s]\n"
          ]
        },
        {
          "name": "stdout",
          "output_type": "stream",
          "text": [
            "loss 0.2676 - acc 0.8956 - val_loss 0.6925 - val_acc 0.7162\n",
            "Epoch [8/50]\n"
          ]
        },
        {
          "name": "stderr",
          "output_type": "stream",
          "text": [
            "100%|██████████| 69/69 [00:34<00:00,  2.02it/s]\n",
            "100%|██████████| 88/88 [00:15<00:00,  5.75it/s]\n"
          ]
        },
        {
          "name": "stdout",
          "output_type": "stream",
          "text": [
            "loss 0.2362 - acc 0.9056 - val_loss 0.6369 - val_acc 0.7241\n",
            "Epoch [9/50]\n"
          ]
        },
        {
          "name": "stderr",
          "output_type": "stream",
          "text": [
            "100%|██████████| 69/69 [00:34<00:00,  2.00it/s]\n",
            "100%|██████████| 88/88 [00:14<00:00,  5.92it/s]\n"
          ]
        },
        {
          "name": "stdout",
          "output_type": "stream",
          "text": [
            "loss 0.2303 - acc 0.9045 - val_loss 0.6161 - val_acc 0.7410\n",
            "Epoch [10/50]\n"
          ]
        },
        {
          "name": "stderr",
          "output_type": "stream",
          "text": [
            "100%|██████████| 69/69 [00:34<00:00,  1.98it/s]\n",
            "100%|██████████| 88/88 [00:15<00:00,  5.84it/s]\n"
          ]
        },
        {
          "name": "stdout",
          "output_type": "stream",
          "text": [
            "loss 0.2043 - acc 0.9166 - val_loss 0.7884 - val_acc 0.6915\n",
            "Epoch [11/50]\n"
          ]
        },
        {
          "name": "stderr",
          "output_type": "stream",
          "text": [
            "100%|██████████| 69/69 [00:34<00:00,  2.01it/s]\n",
            "100%|██████████| 88/88 [00:14<00:00,  5.93it/s]\n"
          ]
        },
        {
          "name": "stdout",
          "output_type": "stream",
          "text": [
            "loss 0.1795 - acc 0.9278 - val_loss 0.6607 - val_acc 0.7660\n",
            "=> saved best model\n",
            "Epoch [12/50]\n"
          ]
        },
        {
          "name": "stderr",
          "output_type": "stream",
          "text": [
            "100%|██████████| 69/69 [00:34<00:00,  1.98it/s]\n",
            "100%|██████████| 88/88 [00:15<00:00,  5.85it/s]\n"
          ]
        },
        {
          "name": "stdout",
          "output_type": "stream",
          "text": [
            "loss 0.1640 - acc 0.9331 - val_loss 0.5491 - val_acc 0.7725\n",
            "Epoch [13/50]\n"
          ]
        },
        {
          "name": "stderr",
          "output_type": "stream",
          "text": [
            "100%|██████████| 69/69 [00:34<00:00,  2.03it/s]\n",
            "100%|██████████| 88/88 [00:14<00:00,  5.92it/s]\n"
          ]
        },
        {
          "name": "stdout",
          "output_type": "stream",
          "text": [
            "loss 0.1616 - acc 0.9367 - val_loss 0.6845 - val_acc 0.7252\n",
            "Epoch [14/50]\n"
          ]
        },
        {
          "name": "stderr",
          "output_type": "stream",
          "text": [
            "100%|██████████| 69/69 [00:34<00:00,  2.02it/s]\n",
            "100%|██████████| 88/88 [00:15<00:00,  5.77it/s]\n"
          ]
        },
        {
          "name": "stdout",
          "output_type": "stream",
          "text": [
            "Epoch 00014: reducing learning rate of group 0 to 8.1439e-03.\n",
            "loss 0.1385 - acc 0.9470 - val_loss 0.6596 - val_acc 0.7474\n",
            "Epoch [15/50]\n"
          ]
        },
        {
          "name": "stderr",
          "output_type": "stream",
          "text": [
            "100%|██████████| 69/69 [00:33<00:00,  2.04it/s]\n",
            "100%|██████████| 88/88 [00:15<00:00,  5.73it/s]\n"
          ]
        },
        {
          "name": "stdout",
          "output_type": "stream",
          "text": [
            "loss 0.1008 - acc 0.9666 - val_loss 0.7124 - val_acc 0.7306\n",
            "Epoch [16/50]\n"
          ]
        },
        {
          "name": "stderr",
          "output_type": "stream",
          "text": [
            "100%|██████████| 69/69 [00:34<00:00,  1.97it/s]\n",
            "100%|██████████| 88/88 [00:15<00:00,  5.50it/s]\n"
          ]
        },
        {
          "name": "stdout",
          "output_type": "stream",
          "text": [
            "loss 0.0727 - acc 0.9799 - val_loss 0.7450 - val_acc 0.7288\n",
            "Epoch [17/50]\n"
          ]
        },
        {
          "name": "stderr",
          "output_type": "stream",
          "text": [
            "100%|██████████| 69/69 [00:35<00:00,  1.92it/s]\n",
            "100%|██████████| 88/88 [00:16<00:00,  5.40it/s]\n"
          ]
        },
        {
          "name": "stdout",
          "output_type": "stream",
          "text": [
            "loss 0.0593 - acc 0.9851 - val_loss 0.7772 - val_acc 0.7227\n",
            "Epoch [18/50]\n"
          ]
        },
        {
          "name": "stderr",
          "output_type": "stream",
          "text": [
            "100%|██████████| 69/69 [00:34<00:00,  1.98it/s]\n",
            "100%|██████████| 88/88 [00:15<00:00,  5.75it/s]\n"
          ]
        },
        {
          "name": "stdout",
          "output_type": "stream",
          "text": [
            "loss 0.0492 - acc 0.9893 - val_loss 0.7919 - val_acc 0.7209\n",
            "Epoch [19/50]\n"
          ]
        },
        {
          "name": "stderr",
          "output_type": "stream",
          "text": [
            "100%|██████████| 69/69 [00:33<00:00,  2.03it/s]\n",
            "100%|██████████| 88/88 [00:15<00:00,  5.81it/s]\n"
          ]
        },
        {
          "name": "stdout",
          "output_type": "stream",
          "text": [
            "loss 0.0434 - acc 0.9899 - val_loss 0.8229 - val_acc 0.7191\n",
            "Epoch [20/50]\n"
          ]
        },
        {
          "name": "stderr",
          "output_type": "stream",
          "text": [
            "100%|██████████| 69/69 [00:33<00:00,  2.05it/s]\n",
            "100%|██████████| 88/88 [00:15<00:00,  5.84it/s]\n"
          ]
        },
        {
          "name": "stdout",
          "output_type": "stream",
          "text": [
            "loss 0.0384 - acc 0.9911 - val_loss 0.8257 - val_acc 0.7155\n",
            "Epoch [21/50]\n"
          ]
        },
        {
          "name": "stderr",
          "output_type": "stream",
          "text": [
            "100%|██████████| 69/69 [00:33<00:00,  2.04it/s]\n",
            "100%|██████████| 88/88 [00:15<00:00,  5.76it/s]\n"
          ]
        },
        {
          "name": "stdout",
          "output_type": "stream",
          "text": [
            "loss 0.0357 - acc 0.9922 - val_loss 0.8680 - val_acc 0.7069\n",
            "Epoch [22/50]\n"
          ]
        },
        {
          "name": "stderr",
          "output_type": "stream",
          "text": [
            "100%|██████████| 69/69 [00:34<00:00,  2.02it/s]\n",
            "100%|██████████| 88/88 [00:15<00:00,  5.63it/s]\n"
          ]
        },
        {
          "name": "stdout",
          "output_type": "stream",
          "text": [
            "loss 0.0338 - acc 0.9943 - val_loss 0.8471 - val_acc 0.7148\n",
            "Epoch [23/50]\n"
          ]
        },
        {
          "name": "stderr",
          "output_type": "stream",
          "text": [
            "100%|██████████| 69/69 [00:35<00:00,  1.94it/s]\n",
            "100%|██████████| 88/88 [00:16<00:00,  5.44it/s]\n"
          ]
        },
        {
          "name": "stdout",
          "output_type": "stream",
          "text": [
            "loss 0.0335 - acc 0.9936 - val_loss 0.8433 - val_acc 0.7295\n",
            "Epoch [24/50]\n"
          ]
        },
        {
          "name": "stderr",
          "output_type": "stream",
          "text": [
            "100%|██████████| 69/69 [00:35<00:00,  1.92it/s]\n",
            "100%|██████████| 88/88 [00:15<00:00,  5.69it/s]\n"
          ]
        },
        {
          "name": "stdout",
          "output_type": "stream",
          "text": [
            "loss 0.0276 - acc 0.9961 - val_loss 0.8646 - val_acc 0.7173\n",
            "Epoch [25/50]\n"
          ]
        },
        {
          "name": "stderr",
          "output_type": "stream",
          "text": [
            "100%|██████████| 69/69 [00:34<00:00,  2.01it/s]\n",
            "100%|██████████| 88/88 [00:14<00:00,  5.97it/s]\n"
          ]
        },
        {
          "name": "stdout",
          "output_type": "stream",
          "text": [
            "Epoch 00025: reducing learning rate of group 0 to 8.1439e-04.\n",
            "loss 0.0263 - acc 0.9961 - val_loss 0.8242 - val_acc 0.7338\n",
            "Epoch [26/50]\n"
          ]
        },
        {
          "name": "stderr",
          "output_type": "stream",
          "text": [
            "100%|██████████| 69/69 [00:34<00:00,  2.02it/s]\n",
            "100%|██████████| 88/88 [00:14<00:00,  5.97it/s]\n"
          ]
        },
        {
          "name": "stdout",
          "output_type": "stream",
          "text": [
            "loss 0.0281 - acc 0.9957 - val_loss 0.8102 - val_acc 0.7438\n",
            "=> early stopping\n"
          ]
        },
        {
          "name": "stderr",
          "output_type": "stream",
          "text": [
            "100%|██████████| 7318/7318 [01:13<00:00, 99.40it/s] \n"
          ]
        },
        {
          "data": {
            "application/vnd.jupyter.widget-view+json": {
              "model_id": "5fb692ebfa7d486e9e550d08d458a659",
              "version_major": 2,
              "version_minor": 0
            },
            "text/plain": [
              "VBox(children=(Label(value='0.001 MB of 0.001 MB uploaded\\r'), FloatProgress(value=1.0, max=1.0)))"
            ]
          },
          "metadata": {},
          "output_type": "display_data"
        },
        {
          "data": {
            "text/html": [
              "<style>\n",
              "    table.wandb td:nth-child(1) { padding: 0 10px; text-align: left ; width: auto;} td:nth-child(2) {text-align: left ; width: 100%}\n",
              "    .wandb-row { display: flex; flex-direction: row; flex-wrap: wrap; justify-content: flex-start; width: 100% }\n",
              "    .wandb-col { display: flex; flex-direction: column; flex-basis: 100%; flex: 1; padding: 10px; }\n",
              "    </style>\n",
              "<div class=\"wandb-row\"><div class=\"wandb-col\"><h3>Run history:</h3><br/><table class=\"wandb\"><tr><td>train_acc</td><td>▁▃▄▅▅▆▆▆▆▆▇▇▇▇▇███████████</td></tr><tr><td>train_loss</td><td>█▅▄▄▃▃▃▃▃▂▂▂▂▂▂▁▁▁▁▁▁▁▁▁▁▁</td></tr><tr><td>val_acc</td><td>▁▃▇▅▅▄▄▅▆▃██▅▆▅▅▅▅▅▄▄▄▅▄▆▆</td></tr><tr><td>val_loss</td><td>▄▄▁▂▄▅▄▃▃▆▄▁▄▄▅▅▆▆▇▇██▇█▇▇</td></tr></table><br/></div><div class=\"wandb-col\"><h3>Run summary:</h3><br/><table class=\"wandb\"><tr><td>test_acc</td><td>acc</td></tr><tr><td>test_loss</td><td>loss</td></tr><tr><td>train_acc</td><td>0.99566</td></tr><tr><td>train_loss</td><td>0.02806</td></tr><tr><td>val_acc</td><td>0.74382</td></tr><tr><td>val_loss</td><td>0.81019</td></tr></table><br/></div></div>"
            ],
            "text/plain": [
              "<IPython.core.display.HTML object>"
            ]
          },
          "metadata": {},
          "output_type": "display_data"
        },
        {
          "data": {
            "text/html": [
              " View run <strong style=\"color:#cdcd00\">twilight-sweep-2</strong> at: <a href='https://wandb.ai/bounteam/CMPE49T/runs/lznr3pzi' target=\"_blank\">https://wandb.ai/bounteam/CMPE49T/runs/lznr3pzi</a><br/>Synced 5 W&B file(s), 0 media file(s), 0 artifact file(s) and 0 other file(s)"
            ],
            "text/plain": [
              "<IPython.core.display.HTML object>"
            ]
          },
          "metadata": {},
          "output_type": "display_data"
        },
        {
          "data": {
            "text/html": [
              "Find logs at: <code>./wandb/run-20231207_115726-lznr3pzi/logs</code>"
            ],
            "text/plain": [
              "<IPython.core.display.HTML object>"
            ]
          },
          "metadata": {},
          "output_type": "display_data"
        },
        {
          "name": "stderr",
          "output_type": "stream",
          "text": [
            "\u001b[34m\u001b[1mwandb\u001b[0m: Sweep Agent: Waiting for job.\n",
            "\u001b[34m\u001b[1mwandb\u001b[0m: Job received.\n",
            "\u001b[34m\u001b[1mwandb\u001b[0m: Agent Starting Run: 38vl91f0 with config:\n",
            "\u001b[34m\u001b[1mwandb\u001b[0m: \tactivation: leaky_relu\n",
            "\u001b[34m\u001b[1mwandb\u001b[0m: \tdrop_rate: 0.8153947030108164\n",
            "\u001b[34m\u001b[1mwandb\u001b[0m: \tl2_reg: 0.03759697989277727\n",
            "\u001b[34m\u001b[1mwandb\u001b[0m: \tlearning_rate: 0.05360452129420215\n",
            "\u001b[34m\u001b[1mwandb\u001b[0m: \toptimizer: SGD\n"
          ]
        },
        {
          "data": {
            "text/html": [
              "Tracking run with wandb version 0.16.1"
            ],
            "text/plain": [
              "<IPython.core.display.HTML object>"
            ]
          },
          "metadata": {},
          "output_type": "display_data"
        },
        {
          "data": {
            "text/html": [
              "Run data is saved locally in <code>/content/wandb/run-20231207_122032-38vl91f0</code>"
            ],
            "text/plain": [
              "<IPython.core.display.HTML object>"
            ]
          },
          "metadata": {},
          "output_type": "display_data"
        },
        {
          "data": {
            "text/html": [
              "Syncing run <strong><a href='https://wandb.ai/bounteam/CMPE49T/runs/38vl91f0' target=\"_blank\">stellar-sweep-3</a></strong> to <a href='https://wandb.ai/bounteam/CMPE49T' target=\"_blank\">Weights & Biases</a> (<a href='https://wandb.me/run' target=\"_blank\">docs</a>)<br/>Sweep page: <a href='https://wandb.ai/bounteam/CMPE49T/sweeps/m0v9l18v' target=\"_blank\">https://wandb.ai/bounteam/CMPE49T/sweeps/m0v9l18v</a>"
            ],
            "text/plain": [
              "<IPython.core.display.HTML object>"
            ]
          },
          "metadata": {},
          "output_type": "display_data"
        },
        {
          "data": {
            "text/html": [
              " View project at <a href='https://wandb.ai/bounteam/CMPE49T' target=\"_blank\">https://wandb.ai/bounteam/CMPE49T</a>"
            ],
            "text/plain": [
              "<IPython.core.display.HTML object>"
            ]
          },
          "metadata": {},
          "output_type": "display_data"
        },
        {
          "data": {
            "text/html": [
              " View sweep at <a href='https://wandb.ai/bounteam/CMPE49T/sweeps/m0v9l18v' target=\"_blank\">https://wandb.ai/bounteam/CMPE49T/sweeps/m0v9l18v</a>"
            ],
            "text/plain": [
              "<IPython.core.display.HTML object>"
            ]
          },
          "metadata": {},
          "output_type": "display_data"
        },
        {
          "data": {
            "text/html": [
              " View run at <a href='https://wandb.ai/bounteam/CMPE49T/runs/38vl91f0' target=\"_blank\">https://wandb.ai/bounteam/CMPE49T/runs/38vl91f0</a>"
            ],
            "text/plain": [
              "<IPython.core.display.HTML object>"
            ]
          },
          "metadata": {},
          "output_type": "display_data"
        },
        {
          "name": "stdout",
          "output_type": "stream",
          "text": [
            "Epoch [1/50]\n"
          ]
        },
        {
          "name": "stderr",
          "output_type": "stream",
          "text": [
            "100%|██████████| 69/69 [00:36<00:00,  1.88it/s]\n",
            "100%|██████████| 88/88 [00:15<00:00,  5.78it/s]\n"
          ]
        },
        {
          "name": "stdout",
          "output_type": "stream",
          "text": [
            "loss 0.8115 - acc 0.7037 - val_loss 0.7286 - val_acc 0.3733\n",
            "=> saved best model\n",
            "Epoch [2/50]\n"
          ]
        },
        {
          "name": "stderr",
          "output_type": "stream",
          "text": [
            "100%|██████████| 69/69 [00:33<00:00,  2.05it/s]\n",
            "100%|██████████| 88/88 [00:15<00:00,  5.84it/s]\n"
          ]
        },
        {
          "name": "stdout",
          "output_type": "stream",
          "text": [
            "loss 0.7070 - acc 0.7640 - val_loss 0.6241 - val_acc 0.7066\n",
            "=> saved best model\n",
            "Epoch [3/50]\n"
          ]
        },
        {
          "name": "stderr",
          "output_type": "stream",
          "text": [
            "100%|██████████| 69/69 [00:33<00:00,  2.04it/s]\n",
            "100%|██████████| 88/88 [00:15<00:00,  5.85it/s]\n"
          ]
        },
        {
          "name": "stdout",
          "output_type": "stream",
          "text": [
            "loss 0.3922 - acc 0.8305 - val_loss 0.6103 - val_acc 0.6786\n",
            "Epoch [4/50]\n"
          ]
        },
        {
          "name": "stderr",
          "output_type": "stream",
          "text": [
            "100%|██████████| 69/69 [00:33<00:00,  2.06it/s]\n",
            "100%|██████████| 88/88 [00:15<00:00,  5.73it/s]\n"
          ]
        },
        {
          "name": "stdout",
          "output_type": "stream",
          "text": [
            "loss 0.3335 - acc 0.8641 - val_loss 0.5531 - val_acc 0.7187\n",
            "=> saved best model\n",
            "Epoch [5/50]\n"
          ]
        },
        {
          "name": "stderr",
          "output_type": "stream",
          "text": [
            "100%|██████████| 69/69 [00:33<00:00,  2.05it/s]\n",
            "100%|██████████| 88/88 [00:15<00:00,  5.77it/s]\n"
          ]
        },
        {
          "name": "stdout",
          "output_type": "stream",
          "text": [
            "loss 0.2863 - acc 0.8844 - val_loss 0.6299 - val_acc 0.6933\n",
            "Epoch [6/50]\n"
          ]
        },
        {
          "name": "stderr",
          "output_type": "stream",
          "text": [
            "100%|██████████| 69/69 [00:33<00:00,  2.04it/s]\n",
            "100%|██████████| 88/88 [00:15<00:00,  5.80it/s]\n"
          ]
        },
        {
          "name": "stdout",
          "output_type": "stream",
          "text": [
            "loss 0.2542 - acc 0.9013 - val_loss 0.5558 - val_acc 0.7392\n",
            "=> saved best model\n",
            "Epoch [7/50]\n"
          ]
        },
        {
          "name": "stderr",
          "output_type": "stream",
          "text": [
            "100%|██████████| 69/69 [00:33<00:00,  2.07it/s]\n",
            "100%|██████████| 88/88 [00:15<00:00,  5.86it/s]\n"
          ]
        },
        {
          "name": "stdout",
          "output_type": "stream",
          "text": [
            "loss 0.2256 - acc 0.9070 - val_loss 0.5440 - val_acc 0.7796\n",
            "=> saved best model\n",
            "Epoch [8/50]\n"
          ]
        },
        {
          "name": "stderr",
          "output_type": "stream",
          "text": [
            "100%|██████████| 69/69 [00:33<00:00,  2.04it/s]\n",
            "100%|██████████| 88/88 [00:15<00:00,  5.82it/s]\n"
          ]
        },
        {
          "name": "stdout",
          "output_type": "stream",
          "text": [
            "loss 0.2042 - acc 0.9159 - val_loss 0.8084 - val_acc 0.7173\n",
            "Epoch [9/50]\n"
          ]
        },
        {
          "name": "stderr",
          "output_type": "stream",
          "text": [
            "100%|██████████| 69/69 [00:33<00:00,  2.03it/s]\n",
            "100%|██████████| 88/88 [00:15<00:00,  5.78it/s]\n"
          ]
        },
        {
          "name": "stdout",
          "output_type": "stream",
          "text": [
            "loss 0.2021 - acc 0.9166 - val_loss 0.5516 - val_acc 0.7542\n",
            "Epoch [10/50]\n"
          ]
        },
        {
          "name": "stderr",
          "output_type": "stream",
          "text": [
            "100%|██████████| 69/69 [00:33<00:00,  2.07it/s]\n",
            "100%|██████████| 88/88 [00:15<00:00,  5.85it/s]\n"
          ]
        },
        {
          "name": "stdout",
          "output_type": "stream",
          "text": [
            "loss 0.1801 - acc 0.9299 - val_loss 0.5601 - val_acc 0.7732\n",
            "Epoch [11/50]\n"
          ]
        },
        {
          "name": "stderr",
          "output_type": "stream",
          "text": [
            "100%|██████████| 69/69 [00:34<00:00,  1.99it/s]\n",
            "100%|██████████| 88/88 [00:15<00:00,  5.67it/s]\n"
          ]
        },
        {
          "name": "stdout",
          "output_type": "stream",
          "text": [
            "loss 0.1717 - acc 0.9315 - val_loss 0.5700 - val_acc 0.7614\n",
            "Epoch [12/50]\n"
          ]
        },
        {
          "name": "stderr",
          "output_type": "stream",
          "text": [
            "100%|██████████| 69/69 [00:34<00:00,  2.01it/s]\n",
            "100%|██████████| 88/88 [00:14<00:00,  6.08it/s]\n"
          ]
        },
        {
          "name": "stdout",
          "output_type": "stream",
          "text": [
            "loss 0.1576 - acc 0.9427 - val_loss 0.5867 - val_acc 0.7850\n",
            "Epoch [13/50]\n"
          ]
        },
        {
          "name": "stderr",
          "output_type": "stream",
          "text": [
            "100%|██████████| 69/69 [00:32<00:00,  2.10it/s]\n",
            "100%|██████████| 88/88 [00:14<00:00,  6.04it/s]\n"
          ]
        },
        {
          "name": "stdout",
          "output_type": "stream",
          "text": [
            "loss 0.1563 - acc 0.9445 - val_loss 0.5224 - val_acc 0.7976\n",
            "=> saved best model\n",
            "Epoch [14/50]\n"
          ]
        },
        {
          "name": "stderr",
          "output_type": "stream",
          "text": [
            "100%|██████████| 69/69 [00:32<00:00,  2.11it/s]\n",
            "100%|██████████| 88/88 [00:14<00:00,  6.05it/s]\n"
          ]
        },
        {
          "name": "stdout",
          "output_type": "stream",
          "text": [
            "loss 0.1621 - acc 0.9420 - val_loss 0.8474 - val_acc 0.6313\n",
            "Epoch [15/50]\n"
          ]
        },
        {
          "name": "stderr",
          "output_type": "stream",
          "text": [
            "100%|██████████| 69/69 [00:32<00:00,  2.12it/s]\n",
            "100%|██████████| 88/88 [00:14<00:00,  5.93it/s]\n"
          ]
        },
        {
          "name": "stdout",
          "output_type": "stream",
          "text": [
            "loss 0.1650 - acc 0.9422 - val_loss 0.6687 - val_acc 0.7187\n",
            "Epoch [16/50]\n"
          ]
        },
        {
          "name": "stderr",
          "output_type": "stream",
          "text": [
            "100%|██████████| 69/69 [00:33<00:00,  2.08it/s]\n",
            "100%|██████████| 88/88 [00:14<00:00,  5.98it/s]\n"
          ]
        },
        {
          "name": "stdout",
          "output_type": "stream",
          "text": [
            "loss 0.1531 - acc 0.9493 - val_loss 0.5723 - val_acc 0.7420\n",
            "Epoch [17/50]\n"
          ]
        },
        {
          "name": "stderr",
          "output_type": "stream",
          "text": [
            "100%|██████████| 69/69 [00:32<00:00,  2.10it/s]\n",
            "100%|██████████| 88/88 [00:14<00:00,  6.00it/s]\n"
          ]
        },
        {
          "name": "stdout",
          "output_type": "stream",
          "text": [
            "loss 0.1611 - acc 0.9449 - val_loss 0.5692 - val_acc 0.7582\n",
            "Epoch [18/50]\n"
          ]
        },
        {
          "name": "stderr",
          "output_type": "stream",
          "text": [
            "100%|██████████| 69/69 [00:33<00:00,  2.06it/s]\n",
            "100%|██████████| 88/88 [00:15<00:00,  5.80it/s]\n"
          ]
        },
        {
          "name": "stdout",
          "output_type": "stream",
          "text": [
            "loss 0.1468 - acc 0.9552 - val_loss 0.5293 - val_acc 0.7800\n",
            "Epoch [19/50]\n"
          ]
        },
        {
          "name": "stderr",
          "output_type": "stream",
          "text": [
            "100%|██████████| 69/69 [00:34<00:00,  2.01it/s]\n",
            "100%|██████████| 88/88 [00:14<00:00,  5.96it/s]\n"
          ]
        },
        {
          "name": "stdout",
          "output_type": "stream",
          "text": [
            "loss 0.1432 - acc 0.9552 - val_loss 0.5608 - val_acc 0.7800\n",
            "Epoch [20/50]\n"
          ]
        },
        {
          "name": "stderr",
          "output_type": "stream",
          "text": [
            "100%|██████████| 69/69 [00:33<00:00,  2.05it/s]\n",
            "100%|██████████| 88/88 [00:14<00:00,  6.00it/s]\n"
          ]
        },
        {
          "name": "stdout",
          "output_type": "stream",
          "text": [
            "loss 0.1447 - acc 0.9541 - val_loss 0.6602 - val_acc 0.6919\n",
            "Epoch [21/50]\n"
          ]
        },
        {
          "name": "stderr",
          "output_type": "stream",
          "text": [
            "100%|██████████| 69/69 [00:32<00:00,  2.13it/s]\n",
            "100%|██████████| 88/88 [00:14<00:00,  5.98it/s]\n"
          ]
        },
        {
          "name": "stdout",
          "output_type": "stream",
          "text": [
            "loss 0.1659 - acc 0.9449 - val_loss 0.5895 - val_acc 0.7356\n",
            "Epoch [22/50]\n"
          ]
        },
        {
          "name": "stderr",
          "output_type": "stream",
          "text": [
            "100%|██████████| 69/69 [00:32<00:00,  2.12it/s]\n",
            "100%|██████████| 88/88 [00:14<00:00,  5.98it/s]\n"
          ]
        },
        {
          "name": "stdout",
          "output_type": "stream",
          "text": [
            "loss 0.1650 - acc 0.9481 - val_loss 0.5218 - val_acc 0.7635\n",
            "Epoch [23/50]\n"
          ]
        },
        {
          "name": "stderr",
          "output_type": "stream",
          "text": [
            "100%|██████████| 69/69 [00:32<00:00,  2.11it/s]\n",
            "100%|██████████| 88/88 [00:14<00:00,  6.05it/s]\n"
          ]
        },
        {
          "name": "stdout",
          "output_type": "stream",
          "text": [
            "loss 0.1870 - acc 0.9379 - val_loss 0.6324 - val_acc 0.7227\n",
            "Epoch [24/50]\n"
          ]
        },
        {
          "name": "stderr",
          "output_type": "stream",
          "text": [
            "100%|██████████| 69/69 [00:33<00:00,  2.04it/s]\n",
            "100%|██████████| 88/88 [00:14<00:00,  5.91it/s]\n"
          ]
        },
        {
          "name": "stdout",
          "output_type": "stream",
          "text": [
            "Epoch 00024: reducing learning rate of group 0 to 5.3605e-03.\n",
            "loss 0.1503 - acc 0.9564 - val_loss 0.6286 - val_acc 0.7134\n",
            "Epoch [25/50]\n"
          ]
        },
        {
          "name": "stderr",
          "output_type": "stream",
          "text": [
            "100%|██████████| 69/69 [00:32<00:00,  2.10it/s]\n",
            "100%|██████████| 88/88 [00:14<00:00,  5.99it/s]\n"
          ]
        },
        {
          "name": "stdout",
          "output_type": "stream",
          "text": [
            "loss 0.1277 - acc 0.9698 - val_loss 0.5243 - val_acc 0.7800\n",
            "Epoch [26/50]\n"
          ]
        },
        {
          "name": "stderr",
          "output_type": "stream",
          "text": [
            "100%|██████████| 69/69 [00:32<00:00,  2.11it/s]\n",
            "100%|██████████| 88/88 [00:14<00:00,  6.04it/s]\n"
          ]
        },
        {
          "name": "stdout",
          "output_type": "stream",
          "text": [
            "loss 0.0963 - acc 0.9874 - val_loss 0.5361 - val_acc 0.7746\n",
            "Epoch [27/50]\n"
          ]
        },
        {
          "name": "stderr",
          "output_type": "stream",
          "text": [
            "100%|██████████| 69/69 [00:32<00:00,  2.10it/s]\n",
            "100%|██████████| 88/88 [00:14<00:00,  6.04it/s]\n"
          ]
        },
        {
          "name": "stdout",
          "output_type": "stream",
          "text": [
            "loss 0.0857 - acc 0.9904 - val_loss 0.5586 - val_acc 0.7689\n",
            "Epoch [28/50]\n"
          ]
        },
        {
          "name": "stderr",
          "output_type": "stream",
          "text": [
            "100%|██████████| 69/69 [00:33<00:00,  2.04it/s]\n",
            "100%|██████████| 88/88 [00:14<00:00,  6.00it/s]\n"
          ]
        },
        {
          "name": "stdout",
          "output_type": "stream",
          "text": [
            "loss 0.0839 - acc 0.9895 - val_loss 0.5489 - val_acc 0.7739\n",
            "=> early stopping\n"
          ]
        },
        {
          "name": "stderr",
          "output_type": "stream",
          "text": [
            "100%|██████████| 7318/7318 [01:10<00:00, 103.40it/s]\n"
          ]
        },
        {
          "data": {
            "application/vnd.jupyter.widget-view+json": {
              "model_id": "7df073461137421582e59da418f164d7",
              "version_major": 2,
              "version_minor": 0
            },
            "text/plain": [
              "VBox(children=(Label(value='0.001 MB of 0.001 MB uploaded\\r'), FloatProgress(value=1.0, max=1.0)))"
            ]
          },
          "metadata": {},
          "output_type": "display_data"
        },
        {
          "data": {
            "text/html": [
              "<style>\n",
              "    table.wandb td:nth-child(1) { padding: 0 10px; text-align: left ; width: auto;} td:nth-child(2) {text-align: left ; width: 100%}\n",
              "    .wandb-row { display: flex; flex-direction: row; flex-wrap: wrap; justify-content: flex-start; width: 100% }\n",
              "    .wandb-col { display: flex; flex-direction: column; flex-basis: 100%; flex: 1; padding: 10px; }\n",
              "    </style>\n",
              "<div class=\"wandb-row\"><div class=\"wandb-col\"><h3>Run history:</h3><br/><table class=\"wandb\"><tr><td>train_acc</td><td>▁▂▄▅▅▆▆▆▆▇▇▇▇▇▇▇▇▇▇▇▇▇▇▇▇███</td></tr><tr><td>train_loss</td><td>█▇▄▃▃▃▂▂▂▂▂▂▂▂▂▂▂▂▂▂▂▂▂▂▁▁▁▁</td></tr><tr><td>val_acc</td><td>▁▆▆▇▆▇█▇▇█▇██▅▇▇▇██▆▇▇▇▇████</td></tr><tr><td>val_loss</td><td>▅▃▃▂▃▂▁▇▂▂▂▂▁█▄▂▂▁▂▄▂▁▃▃▁▁▂▂</td></tr></table><br/></div><div class=\"wandb-col\"><h3>Run summary:</h3><br/><table class=\"wandb\"><tr><td>test_acc</td><td>acc</td></tr><tr><td>test_loss</td><td>loss</td></tr><tr><td>train_acc</td><td>0.98949</td></tr><tr><td>train_loss</td><td>0.08387</td></tr><tr><td>val_acc</td><td>0.77392</td></tr><tr><td>val_loss</td><td>0.54891</td></tr></table><br/></div></div>"
            ],
            "text/plain": [
              "<IPython.core.display.HTML object>"
            ]
          },
          "metadata": {},
          "output_type": "display_data"
        },
        {
          "data": {
            "text/html": [
              " View run <strong style=\"color:#cdcd00\">stellar-sweep-3</strong> at: <a href='https://wandb.ai/bounteam/CMPE49T/runs/38vl91f0' target=\"_blank\">https://wandb.ai/bounteam/CMPE49T/runs/38vl91f0</a><br/>Synced 5 W&B file(s), 0 media file(s), 0 artifact file(s) and 0 other file(s)"
            ],
            "text/plain": [
              "<IPython.core.display.HTML object>"
            ]
          },
          "metadata": {},
          "output_type": "display_data"
        },
        {
          "data": {
            "text/html": [
              "Find logs at: <code>./wandb/run-20231207_122032-38vl91f0/logs</code>"
            ],
            "text/plain": [
              "<IPython.core.display.HTML object>"
            ]
          },
          "metadata": {},
          "output_type": "display_data"
        },
        {
          "name": "stderr",
          "output_type": "stream",
          "text": [
            "\u001b[34m\u001b[1mwandb\u001b[0m: Agent Starting Run: zk9sf808 with config:\n",
            "\u001b[34m\u001b[1mwandb\u001b[0m: \tactivation: leaky_relu\n",
            "\u001b[34m\u001b[1mwandb\u001b[0m: \tdrop_rate: 0.6290841710224161\n",
            "\u001b[34m\u001b[1mwandb\u001b[0m: \tl2_reg: 0.033151126354253185\n",
            "\u001b[34m\u001b[1mwandb\u001b[0m: \tlearning_rate: 0.06651001000590356\n",
            "\u001b[34m\u001b[1mwandb\u001b[0m: \toptimizer: SGD\n"
          ]
        },
        {
          "data": {
            "text/html": [
              "Tracking run with wandb version 0.16.1"
            ],
            "text/plain": [
              "<IPython.core.display.HTML object>"
            ]
          },
          "metadata": {},
          "output_type": "display_data"
        },
        {
          "data": {
            "text/html": [
              "Run data is saved locally in <code>/content/wandb/run-20231207_124435-zk9sf808</code>"
            ],
            "text/plain": [
              "<IPython.core.display.HTML object>"
            ]
          },
          "metadata": {},
          "output_type": "display_data"
        },
        {
          "data": {
            "text/html": [
              "Syncing run <strong><a href='https://wandb.ai/bounteam/CMPE49T/runs/zk9sf808' target=\"_blank\">unique-sweep-4</a></strong> to <a href='https://wandb.ai/bounteam/CMPE49T' target=\"_blank\">Weights & Biases</a> (<a href='https://wandb.me/run' target=\"_blank\">docs</a>)<br/>Sweep page: <a href='https://wandb.ai/bounteam/CMPE49T/sweeps/m0v9l18v' target=\"_blank\">https://wandb.ai/bounteam/CMPE49T/sweeps/m0v9l18v</a>"
            ],
            "text/plain": [
              "<IPython.core.display.HTML object>"
            ]
          },
          "metadata": {},
          "output_type": "display_data"
        },
        {
          "data": {
            "text/html": [
              " View project at <a href='https://wandb.ai/bounteam/CMPE49T' target=\"_blank\">https://wandb.ai/bounteam/CMPE49T</a>"
            ],
            "text/plain": [
              "<IPython.core.display.HTML object>"
            ]
          },
          "metadata": {},
          "output_type": "display_data"
        },
        {
          "data": {
            "text/html": [
              " View sweep at <a href='https://wandb.ai/bounteam/CMPE49T/sweeps/m0v9l18v' target=\"_blank\">https://wandb.ai/bounteam/CMPE49T/sweeps/m0v9l18v</a>"
            ],
            "text/plain": [
              "<IPython.core.display.HTML object>"
            ]
          },
          "metadata": {},
          "output_type": "display_data"
        },
        {
          "data": {
            "text/html": [
              " View run at <a href='https://wandb.ai/bounteam/CMPE49T/runs/zk9sf808' target=\"_blank\">https://wandb.ai/bounteam/CMPE49T/runs/zk9sf808</a>"
            ],
            "text/plain": [
              "<IPython.core.display.HTML object>"
            ]
          },
          "metadata": {},
          "output_type": "display_data"
        },
        {
          "name": "stdout",
          "output_type": "stream",
          "text": [
            "Epoch [1/50]\n"
          ]
        },
        {
          "name": "stderr",
          "output_type": "stream",
          "text": [
            "100%|██████████| 69/69 [00:32<00:00,  2.11it/s]\n",
            "100%|██████████| 88/88 [00:14<00:00,  5.98it/s]\n"
          ]
        },
        {
          "name": "stdout",
          "output_type": "stream",
          "text": [
            "loss 0.5997 - acc 0.7233 - val_loss 0.6008 - val_acc 0.6779\n",
            "=> saved best model\n",
            "Epoch [2/50]\n"
          ]
        },
        {
          "name": "stderr",
          "output_type": "stream",
          "text": [
            "100%|██████████| 69/69 [00:33<00:00,  2.08it/s]\n",
            "100%|██████████| 88/88 [00:14<00:00,  6.03it/s]\n"
          ]
        },
        {
          "name": "stdout",
          "output_type": "stream",
          "text": [
            "loss 0.4115 - acc 0.8191 - val_loss 0.5694 - val_acc 0.7682\n",
            "=> saved best model\n",
            "Epoch [3/50]\n"
          ]
        },
        {
          "name": "stderr",
          "output_type": "stream",
          "text": [
            "100%|██████████| 69/69 [00:33<00:00,  2.09it/s]\n",
            "100%|██████████| 88/88 [00:14<00:00,  6.03it/s]\n"
          ]
        },
        {
          "name": "stdout",
          "output_type": "stream",
          "text": [
            "loss 0.3213 - acc 0.8650 - val_loss 0.5055 - val_acc 0.7994\n",
            "=> saved best model\n",
            "Epoch [4/50]\n"
          ]
        },
        {
          "name": "stderr",
          "output_type": "stream",
          "text": [
            "100%|██████████| 69/69 [00:32<00:00,  2.12it/s]\n",
            "100%|██████████| 88/88 [00:14<00:00,  6.05it/s]\n"
          ]
        },
        {
          "name": "stdout",
          "output_type": "stream",
          "text": [
            "loss 0.2708 - acc 0.8871 - val_loss 0.5138 - val_acc 0.8133\n",
            "=> saved best model\n",
            "Epoch [5/50]\n"
          ]
        },
        {
          "name": "stderr",
          "output_type": "stream",
          "text": [
            "100%|██████████| 69/69 [00:32<00:00,  2.13it/s]\n",
            "100%|██████████| 88/88 [00:14<00:00,  6.06it/s]\n"
          ]
        },
        {
          "name": "stdout",
          "output_type": "stream",
          "text": [
            "loss 0.2323 - acc 0.9011 - val_loss 0.5830 - val_acc 0.7804\n",
            "Epoch [6/50]\n"
          ]
        },
        {
          "name": "stderr",
          "output_type": "stream",
          "text": [
            "100%|██████████| 69/69 [00:32<00:00,  2.10it/s]\n",
            "100%|██████████| 88/88 [00:14<00:00,  5.97it/s]\n"
          ]
        },
        {
          "name": "stdout",
          "output_type": "stream",
          "text": [
            "loss 0.2105 - acc 0.9109 - val_loss 0.5725 - val_acc 0.7800\n",
            "Epoch [7/50]\n"
          ]
        },
        {
          "name": "stderr",
          "output_type": "stream",
          "text": [
            "100%|██████████| 69/69 [00:33<00:00,  2.07it/s]\n",
            "100%|██████████| 88/88 [00:14<00:00,  6.08it/s]\n"
          ]
        },
        {
          "name": "stdout",
          "output_type": "stream",
          "text": [
            "loss 0.1807 - acc 0.9235 - val_loss 0.6195 - val_acc 0.7839\n",
            "Epoch [8/50]\n"
          ]
        },
        {
          "name": "stderr",
          "output_type": "stream",
          "text": [
            "100%|██████████| 69/69 [00:32<00:00,  2.11it/s]\n",
            "100%|██████████| 88/88 [00:14<00:00,  6.01it/s]\n"
          ]
        },
        {
          "name": "stdout",
          "output_type": "stream",
          "text": [
            "loss 0.1723 - acc 0.9296 - val_loss 0.6773 - val_acc 0.7524\n",
            "Epoch [9/50]\n"
          ]
        },
        {
          "name": "stderr",
          "output_type": "stream",
          "text": [
            "100%|██████████| 69/69 [00:32<00:00,  2.13it/s]\n",
            "100%|██████████| 88/88 [00:14<00:00,  5.99it/s]\n"
          ]
        },
        {
          "name": "stdout",
          "output_type": "stream",
          "text": [
            "loss 0.1581 - acc 0.9411 - val_loss 1.1028 - val_acc 0.6252\n",
            "Epoch [10/50]\n"
          ]
        },
        {
          "name": "stderr",
          "output_type": "stream",
          "text": [
            "100%|██████████| 69/69 [00:32<00:00,  2.10it/s]\n",
            "100%|██████████| 88/88 [00:14<00:00,  6.06it/s]\n"
          ]
        },
        {
          "name": "stdout",
          "output_type": "stream",
          "text": [
            "loss 0.1917 - acc 0.9257 - val_loss 0.6315 - val_acc 0.7972\n",
            "Epoch [11/50]\n"
          ]
        },
        {
          "name": "stderr",
          "output_type": "stream",
          "text": [
            "100%|██████████| 69/69 [00:33<00:00,  2.06it/s]\n",
            "100%|██████████| 88/88 [00:14<00:00,  6.01it/s]\n"
          ]
        },
        {
          "name": "stdout",
          "output_type": "stream",
          "text": [
            "loss 0.1506 - acc 0.9424 - val_loss 0.5323 - val_acc 0.7822\n",
            "Epoch [12/50]\n"
          ]
        },
        {
          "name": "stderr",
          "output_type": "stream",
          "text": [
            "100%|██████████| 69/69 [00:33<00:00,  2.08it/s]\n",
            "100%|██████████| 88/88 [00:14<00:00,  6.00it/s]\n"
          ]
        },
        {
          "name": "stdout",
          "output_type": "stream",
          "text": [
            "loss 0.1523 - acc 0.9452 - val_loss 0.6457 - val_acc 0.7488\n",
            "Epoch [13/50]\n"
          ]
        },
        {
          "name": "stderr",
          "output_type": "stream",
          "text": [
            "100%|██████████| 69/69 [00:33<00:00,  2.09it/s]\n",
            "100%|██████████| 88/88 [00:15<00:00,  5.74it/s]\n"
          ]
        },
        {
          "name": "stdout",
          "output_type": "stream",
          "text": [
            "loss 0.1307 - acc 0.9575 - val_loss 0.6062 - val_acc 0.7786\n",
            "Epoch [14/50]\n"
          ]
        },
        {
          "name": "stderr",
          "output_type": "stream",
          "text": [
            "100%|██████████| 69/69 [00:34<00:00,  2.02it/s]\n",
            "100%|██████████| 88/88 [00:14<00:00,  5.96it/s]\n"
          ]
        },
        {
          "name": "stdout",
          "output_type": "stream",
          "text": [
            "Epoch 00014: reducing learning rate of group 0 to 6.6510e-03.\n",
            "loss 0.1318 - acc 0.9541 - val_loss 0.5940 - val_acc 0.7503\n",
            "Epoch [15/50]\n"
          ]
        },
        {
          "name": "stderr",
          "output_type": "stream",
          "text": [
            "100%|██████████| 69/69 [00:33<00:00,  2.08it/s]\n",
            "100%|██████████| 88/88 [00:14<00:00,  6.03it/s]\n"
          ]
        },
        {
          "name": "stdout",
          "output_type": "stream",
          "text": [
            "loss 0.0919 - acc 0.9760 - val_loss 0.5767 - val_acc 0.7804\n",
            "Epoch [16/50]\n"
          ]
        },
        {
          "name": "stderr",
          "output_type": "stream",
          "text": [
            "100%|██████████| 69/69 [00:32<00:00,  2.12it/s]\n",
            "100%|██████████| 88/88 [00:14<00:00,  6.02it/s]\n"
          ]
        },
        {
          "name": "stdout",
          "output_type": "stream",
          "text": [
            "loss 0.0647 - acc 0.9890 - val_loss 0.5888 - val_acc 0.7753\n",
            "Epoch [17/50]\n"
          ]
        },
        {
          "name": "stderr",
          "output_type": "stream",
          "text": [
            " 30%|███       | 21/69 [00:10<00:23,  2.01it/s]"
          ]
        }
      ],
      "source": [
        "wandb.agent(sweep_id, function=main)"
      ]
    }
  ],
  "metadata": {
    "accelerator": "GPU",
    "colab": {
      "collapsed_sections": [
        "HUzFO3Za-AU4",
        "QMKxclhvd9fz",
        "j1LyhJcvl70h",
        "wEN_w6q3tbZM"
      ],
      "provenance": []
    },
    "gpuClass": "standard",
    "kernelspec": {
      "display_name": "Python 3",
      "name": "python3"
    },
    "language_info": {
      "name": "python"
    },
    "widgets": {
      "application/vnd.jupyter.widget-state+json": {
        "0a029fc4413d45628c57546982481eef": {
          "model_module": "@jupyter-widgets/base",
          "model_module_version": "1.2.0",
          "model_name": "LayoutModel",
          "state": {
            "_model_module": "@jupyter-widgets/base",
            "_model_module_version": "1.2.0",
            "_model_name": "LayoutModel",
            "_view_count": null,
            "_view_module": "@jupyter-widgets/base",
            "_view_module_version": "1.2.0",
            "_view_name": "LayoutView",
            "align_content": null,
            "align_items": null,
            "align_self": null,
            "border": null,
            "bottom": null,
            "display": null,
            "flex": null,
            "flex_flow": null,
            "grid_area": null,
            "grid_auto_columns": null,
            "grid_auto_flow": null,
            "grid_auto_rows": null,
            "grid_column": null,
            "grid_gap": null,
            "grid_row": null,
            "grid_template_areas": null,
            "grid_template_columns": null,
            "grid_template_rows": null,
            "height": null,
            "justify_content": null,
            "justify_items": null,
            "left": null,
            "margin": null,
            "max_height": null,
            "max_width": null,
            "min_height": null,
            "min_width": null,
            "object_fit": null,
            "object_position": null,
            "order": null,
            "overflow": null,
            "overflow_x": null,
            "overflow_y": null,
            "padding": null,
            "right": null,
            "top": null,
            "visibility": null,
            "width": null
          }
        },
        "0a1253cbece64d3e828b86c3bbf06f75": {
          "model_module": "@jupyter-widgets/base",
          "model_module_version": "1.2.0",
          "model_name": "LayoutModel",
          "state": {
            "_model_module": "@jupyter-widgets/base",
            "_model_module_version": "1.2.0",
            "_model_name": "LayoutModel",
            "_view_count": null,
            "_view_module": "@jupyter-widgets/base",
            "_view_module_version": "1.2.0",
            "_view_name": "LayoutView",
            "align_content": null,
            "align_items": null,
            "align_self": null,
            "border": null,
            "bottom": null,
            "display": null,
            "flex": null,
            "flex_flow": null,
            "grid_area": null,
            "grid_auto_columns": null,
            "grid_auto_flow": null,
            "grid_auto_rows": null,
            "grid_column": null,
            "grid_gap": null,
            "grid_row": null,
            "grid_template_areas": null,
            "grid_template_columns": null,
            "grid_template_rows": null,
            "height": null,
            "justify_content": null,
            "justify_items": null,
            "left": null,
            "margin": null,
            "max_height": null,
            "max_width": null,
            "min_height": null,
            "min_width": null,
            "object_fit": null,
            "object_position": null,
            "order": null,
            "overflow": null,
            "overflow_x": null,
            "overflow_y": null,
            "padding": null,
            "right": null,
            "top": null,
            "visibility": null,
            "width": null
          }
        },
        "1216887249894b239ba9c1cd59cb8632": {
          "model_module": "@jupyter-widgets/controls",
          "model_module_version": "1.5.0",
          "model_name": "LabelModel",
          "state": {
            "_dom_classes": [],
            "_model_module": "@jupyter-widgets/controls",
            "_model_module_version": "1.5.0",
            "_model_name": "LabelModel",
            "_view_count": null,
            "_view_module": "@jupyter-widgets/controls",
            "_view_module_version": "1.5.0",
            "_view_name": "LabelView",
            "description": "",
            "description_tooltip": null,
            "layout": "IPY_MODEL_fd2a6ece8bc54230a37858c5e3b6e83f",
            "placeholder": "​",
            "style": "IPY_MODEL_a8e90a820f2f441c876f7a6c76f04568",
            "value": "0.011 MB of 0.011 MB uploaded\r"
          }
        },
        "1ce2c413d7a84c11a9fc6ff5b38166b0": {
          "model_module": "@jupyter-widgets/controls",
          "model_module_version": "1.5.0",
          "model_name": "FloatProgressModel",
          "state": {
            "_dom_classes": [],
            "_model_module": "@jupyter-widgets/controls",
            "_model_module_version": "1.5.0",
            "_model_name": "FloatProgressModel",
            "_view_count": null,
            "_view_module": "@jupyter-widgets/controls",
            "_view_module_version": "1.5.0",
            "_view_name": "ProgressView",
            "bar_style": "",
            "description": "",
            "description_tooltip": null,
            "layout": "IPY_MODEL_0a029fc4413d45628c57546982481eef",
            "max": 1,
            "min": 0,
            "orientation": "horizontal",
            "style": "IPY_MODEL_7d1fea81898043f0a506a74cf4f5fd17",
            "value": 1
          }
        },
        "1e5196949458400193d0f27f933a2cc4": {
          "model_module": "@jupyter-widgets/base",
          "model_module_version": "1.2.0",
          "model_name": "LayoutModel",
          "state": {
            "_model_module": "@jupyter-widgets/base",
            "_model_module_version": "1.2.0",
            "_model_name": "LayoutModel",
            "_view_count": null,
            "_view_module": "@jupyter-widgets/base",
            "_view_module_version": "1.2.0",
            "_view_name": "LayoutView",
            "align_content": null,
            "align_items": null,
            "align_self": null,
            "border": null,
            "bottom": null,
            "display": null,
            "flex": null,
            "flex_flow": null,
            "grid_area": null,
            "grid_auto_columns": null,
            "grid_auto_flow": null,
            "grid_auto_rows": null,
            "grid_column": null,
            "grid_gap": null,
            "grid_row": null,
            "grid_template_areas": null,
            "grid_template_columns": null,
            "grid_template_rows": null,
            "height": null,
            "justify_content": null,
            "justify_items": null,
            "left": null,
            "margin": null,
            "max_height": null,
            "max_width": null,
            "min_height": null,
            "min_width": null,
            "object_fit": null,
            "object_position": null,
            "order": null,
            "overflow": null,
            "overflow_x": null,
            "overflow_y": null,
            "padding": null,
            "right": null,
            "top": null,
            "visibility": null,
            "width": null
          }
        },
        "5709304855974685b7aa6dbd300ea2bb": {
          "model_module": "@jupyter-widgets/base",
          "model_module_version": "1.2.0",
          "model_name": "LayoutModel",
          "state": {
            "_model_module": "@jupyter-widgets/base",
            "_model_module_version": "1.2.0",
            "_model_name": "LayoutModel",
            "_view_count": null,
            "_view_module": "@jupyter-widgets/base",
            "_view_module_version": "1.2.0",
            "_view_name": "LayoutView",
            "align_content": null,
            "align_items": null,
            "align_self": null,
            "border": null,
            "bottom": null,
            "display": null,
            "flex": null,
            "flex_flow": null,
            "grid_area": null,
            "grid_auto_columns": null,
            "grid_auto_flow": null,
            "grid_auto_rows": null,
            "grid_column": null,
            "grid_gap": null,
            "grid_row": null,
            "grid_template_areas": null,
            "grid_template_columns": null,
            "grid_template_rows": null,
            "height": null,
            "justify_content": null,
            "justify_items": null,
            "left": null,
            "margin": null,
            "max_height": null,
            "max_width": null,
            "min_height": null,
            "min_width": null,
            "object_fit": null,
            "object_position": null,
            "order": null,
            "overflow": null,
            "overflow_x": null,
            "overflow_y": null,
            "padding": null,
            "right": null,
            "top": null,
            "visibility": null,
            "width": null
          }
        },
        "5fb692ebfa7d486e9e550d08d458a659": {
          "model_module": "@jupyter-widgets/controls",
          "model_module_version": "1.5.0",
          "model_name": "VBoxModel",
          "state": {
            "_dom_classes": [],
            "_model_module": "@jupyter-widgets/controls",
            "_model_module_version": "1.5.0",
            "_model_name": "VBoxModel",
            "_view_count": null,
            "_view_module": "@jupyter-widgets/controls",
            "_view_module_version": "1.5.0",
            "_view_name": "VBoxView",
            "box_style": "",
            "children": [
              "IPY_MODEL_bbde38dc100e4522826cf08031ba67a4",
              "IPY_MODEL_f84b108df3854a058efbc4495ca7041f"
            ],
            "layout": "IPY_MODEL_951df331c36342388214dba3481246d3"
          }
        },
        "6d5c325bae88438eb07fc05ed05b1c7c": {
          "model_module": "@jupyter-widgets/controls",
          "model_module_version": "1.5.0",
          "model_name": "DescriptionStyleModel",
          "state": {
            "_model_module": "@jupyter-widgets/controls",
            "_model_module_version": "1.5.0",
            "_model_name": "DescriptionStyleModel",
            "_view_count": null,
            "_view_module": "@jupyter-widgets/base",
            "_view_module_version": "1.2.0",
            "_view_name": "StyleView",
            "description_width": ""
          }
        },
        "6d956c9c23a046319931163a50342a82": {
          "model_module": "@jupyter-widgets/controls",
          "model_module_version": "1.5.0",
          "model_name": "ProgressStyleModel",
          "state": {
            "_model_module": "@jupyter-widgets/controls",
            "_model_module_version": "1.5.0",
            "_model_name": "ProgressStyleModel",
            "_view_count": null,
            "_view_module": "@jupyter-widgets/base",
            "_view_module_version": "1.2.0",
            "_view_name": "StyleView",
            "bar_color": null,
            "description_width": ""
          }
        },
        "7d1fea81898043f0a506a74cf4f5fd17": {
          "model_module": "@jupyter-widgets/controls",
          "model_module_version": "1.5.0",
          "model_name": "ProgressStyleModel",
          "state": {
            "_model_module": "@jupyter-widgets/controls",
            "_model_module_version": "1.5.0",
            "_model_name": "ProgressStyleModel",
            "_view_count": null,
            "_view_module": "@jupyter-widgets/base",
            "_view_module_version": "1.2.0",
            "_view_name": "StyleView",
            "bar_color": null,
            "description_width": ""
          }
        },
        "951df331c36342388214dba3481246d3": {
          "model_module": "@jupyter-widgets/base",
          "model_module_version": "1.2.0",
          "model_name": "LayoutModel",
          "state": {
            "_model_module": "@jupyter-widgets/base",
            "_model_module_version": "1.2.0",
            "_model_name": "LayoutModel",
            "_view_count": null,
            "_view_module": "@jupyter-widgets/base",
            "_view_module_version": "1.2.0",
            "_view_name": "LayoutView",
            "align_content": null,
            "align_items": null,
            "align_self": null,
            "border": null,
            "bottom": null,
            "display": null,
            "flex": null,
            "flex_flow": null,
            "grid_area": null,
            "grid_auto_columns": null,
            "grid_auto_flow": null,
            "grid_auto_rows": null,
            "grid_column": null,
            "grid_gap": null,
            "grid_row": null,
            "grid_template_areas": null,
            "grid_template_columns": null,
            "grid_template_rows": null,
            "height": null,
            "justify_content": null,
            "justify_items": null,
            "left": null,
            "margin": null,
            "max_height": null,
            "max_width": null,
            "min_height": null,
            "min_width": null,
            "object_fit": null,
            "object_position": null,
            "order": null,
            "overflow": null,
            "overflow_x": null,
            "overflow_y": null,
            "padding": null,
            "right": null,
            "top": null,
            "visibility": null,
            "width": null
          }
        },
        "a8e90a820f2f441c876f7a6c76f04568": {
          "model_module": "@jupyter-widgets/controls",
          "model_module_version": "1.5.0",
          "model_name": "DescriptionStyleModel",
          "state": {
            "_model_module": "@jupyter-widgets/controls",
            "_model_module_version": "1.5.0",
            "_model_name": "DescriptionStyleModel",
            "_view_count": null,
            "_view_module": "@jupyter-widgets/base",
            "_view_module_version": "1.2.0",
            "_view_name": "StyleView",
            "description_width": ""
          }
        },
        "bbde38dc100e4522826cf08031ba67a4": {
          "model_module": "@jupyter-widgets/controls",
          "model_module_version": "1.5.0",
          "model_name": "LabelModel",
          "state": {
            "_dom_classes": [],
            "_model_module": "@jupyter-widgets/controls",
            "_model_module_version": "1.5.0",
            "_model_name": "LabelModel",
            "_view_count": null,
            "_view_module": "@jupyter-widgets/controls",
            "_view_module_version": "1.5.0",
            "_view_name": "LabelView",
            "description": "",
            "description_tooltip": null,
            "layout": "IPY_MODEL_5709304855974685b7aa6dbd300ea2bb",
            "placeholder": "​",
            "style": "IPY_MODEL_6d5c325bae88438eb07fc05ed05b1c7c",
            "value": "0.018 MB of 0.018 MB uploaded\r"
          }
        },
        "d9b246d1911a4c6cba0d8221733d217d": {
          "model_module": "@jupyter-widgets/controls",
          "model_module_version": "1.5.0",
          "model_name": "VBoxModel",
          "state": {
            "_dom_classes": [],
            "_model_module": "@jupyter-widgets/controls",
            "_model_module_version": "1.5.0",
            "_model_name": "VBoxModel",
            "_view_count": null,
            "_view_module": "@jupyter-widgets/controls",
            "_view_module_version": "1.5.0",
            "_view_name": "VBoxView",
            "box_style": "",
            "children": [
              "IPY_MODEL_1216887249894b239ba9c1cd59cb8632",
              "IPY_MODEL_1ce2c413d7a84c11a9fc6ff5b38166b0"
            ],
            "layout": "IPY_MODEL_0a1253cbece64d3e828b86c3bbf06f75"
          }
        },
        "f84b108df3854a058efbc4495ca7041f": {
          "model_module": "@jupyter-widgets/controls",
          "model_module_version": "1.5.0",
          "model_name": "FloatProgressModel",
          "state": {
            "_dom_classes": [],
            "_model_module": "@jupyter-widgets/controls",
            "_model_module_version": "1.5.0",
            "_model_name": "FloatProgressModel",
            "_view_count": null,
            "_view_module": "@jupyter-widgets/controls",
            "_view_module_version": "1.5.0",
            "_view_name": "ProgressView",
            "bar_style": "",
            "description": "",
            "description_tooltip": null,
            "layout": "IPY_MODEL_1e5196949458400193d0f27f933a2cc4",
            "max": 1,
            "min": 0,
            "orientation": "horizontal",
            "style": "IPY_MODEL_6d956c9c23a046319931163a50342a82",
            "value": 1
          }
        },
        "fd2a6ece8bc54230a37858c5e3b6e83f": {
          "model_module": "@jupyter-widgets/base",
          "model_module_version": "1.2.0",
          "model_name": "LayoutModel",
          "state": {
            "_model_module": "@jupyter-widgets/base",
            "_model_module_version": "1.2.0",
            "_model_name": "LayoutModel",
            "_view_count": null,
            "_view_module": "@jupyter-widgets/base",
            "_view_module_version": "1.2.0",
            "_view_name": "LayoutView",
            "align_content": null,
            "align_items": null,
            "align_self": null,
            "border": null,
            "bottom": null,
            "display": null,
            "flex": null,
            "flex_flow": null,
            "grid_area": null,
            "grid_auto_columns": null,
            "grid_auto_flow": null,
            "grid_auto_rows": null,
            "grid_column": null,
            "grid_gap": null,
            "grid_row": null,
            "grid_template_areas": null,
            "grid_template_columns": null,
            "grid_template_rows": null,
            "height": null,
            "justify_content": null,
            "justify_items": null,
            "left": null,
            "margin": null,
            "max_height": null,
            "max_width": null,
            "min_height": null,
            "min_width": null,
            "object_fit": null,
            "object_position": null,
            "order": null,
            "overflow": null,
            "overflow_x": null,
            "overflow_y": null,
            "padding": null,
            "right": null,
            "top": null,
            "visibility": null,
            "width": null
          }
        }
      }
    }
  },
  "nbformat": 4,
  "nbformat_minor": 0
}